{
  "nbformat": 4,
  "nbformat_minor": 0,
  "metadata": {
    "colab": {
      "name": "MLP with GloVE on all DataSets.ipynb",
      "provenance": [],
      "collapsed_sections": [],
      "machine_shape": "hm",
      "authorship_tag": "ABX9TyN4gtDGs8x27/cO//uoTjvZ",
      "include_colab_link": true
    },
    "kernelspec": {
      "name": "python3",
      "display_name": "Python 3"
    },
    "language_info": {
      "name": "python"
    },
    "accelerator": "GPU"
  },
  "cells": [
    {
      "cell_type": "markdown",
      "metadata": {
        "id": "view-in-github",
        "colab_type": "text"
      },
      "source": [
        "<a href=\"https://colab.research.google.com/github/abhinivesh-s/Semi-Supervised-Text/blob/main/MLP_with_GloVE_on_all_DataSets.ipynb\" target=\"_parent\"><img src=\"https://colab.research.google.com/assets/colab-badge.svg\" alt=\"Open In Colab\"/></a>"
      ]
    },
    {
      "cell_type": "markdown",
      "metadata": {
        "id": "QDiOFPhZQRT8"
      },
      "source": [
        "# IMDB\n",
        "\n",
        "\n",
        "1.   MLP\n",
        "\n"
      ]
    },
    {
      "cell_type": "code",
      "metadata": {
        "id": "C_pmDcpcfyaM"
      },
      "source": [
        "import numpy as np\n",
        "import pandas as pd\n",
        "import torch\n",
        "from torch.utils.data import Dataset\n",
        "import torch.utils.data as Data\n",
        "import pickle\n",
        "# TensorFlow and tf.keras\n",
        "import tensorflow as tf\n",
        "from tensorflow import keras"
      ],
      "execution_count": 1,
      "outputs": []
    },
    {
      "cell_type": "code",
      "metadata": {
        "colab": {
          "base_uri": "https://localhost:8080/"
        },
        "id": "_CINtLiQgPlK",
        "outputId": "1b5827fa-5d61-499e-a9f0-7c5ef1a59e5c"
      },
      "source": [
        "from google.colab import drive\n",
        "drive.mount('/content/drive')"
      ],
      "execution_count": 2,
      "outputs": [
        {
          "output_type": "stream",
          "text": [
            "Mounted at /content/drive\n"
          ],
          "name": "stdout"
        }
      ]
    },
    {
      "cell_type": "code",
      "metadata": {
        "colab": {
          "base_uri": "https://localhost:8080/",
          "height": 429
        },
        "id": "7epwVF9xRFok",
        "outputId": "a064d9d5-9048-48e7-f1ee-f7ea0bc626e0"
      },
      "source": [
        "!pip install numpy==1.16.2\n",
        "import numpy as np"
      ],
      "execution_count": 3,
      "outputs": [
        {
          "output_type": "stream",
          "text": [
            "Collecting numpy==1.16.2\n",
            "\u001b[?25l  Downloading https://files.pythonhosted.org/packages/91/e7/6c780e612d245cca62bc3ba8e263038f7c144a96a54f877f3714a0e8427e/numpy-1.16.2-cp37-cp37m-manylinux1_x86_64.whl (17.3MB)\n",
            "\u001b[K     |████████████████████████████████| 17.3MB 1.5MB/s \n",
            "\u001b[31mERROR: xarray 0.18.2 has requirement numpy>=1.17, but you'll have numpy 1.16.2 which is incompatible.\u001b[0m\n",
            "\u001b[31mERROR: tensorflow 2.5.0 has requirement numpy~=1.19.2, but you'll have numpy 1.16.2 which is incompatible.\u001b[0m\n",
            "\u001b[31mERROR: pyerfa 2.0.0 has requirement numpy>=1.17, but you'll have numpy 1.16.2 which is incompatible.\u001b[0m\n",
            "\u001b[31mERROR: pyarrow 3.0.0 has requirement numpy>=1.16.6, but you'll have numpy 1.16.2 which is incompatible.\u001b[0m\n",
            "\u001b[31mERROR: kapre 0.3.5 has requirement numpy>=1.18.5, but you'll have numpy 1.16.2 which is incompatible.\u001b[0m\n",
            "\u001b[31mERROR: datascience 0.10.6 has requirement folium==0.2.1, but you'll have folium 0.8.3 which is incompatible.\u001b[0m\n",
            "\u001b[31mERROR: cupy-cuda101 9.1.0 has requirement numpy>=1.17, but you'll have numpy 1.16.2 which is incompatible.\u001b[0m\n",
            "\u001b[31mERROR: astropy 4.2.1 has requirement numpy>=1.17, but you'll have numpy 1.16.2 which is incompatible.\u001b[0m\n",
            "\u001b[31mERROR: albumentations 0.1.12 has requirement imgaug<0.2.7,>=0.2.5, but you'll have imgaug 0.2.9 which is incompatible.\u001b[0m\n",
            "\u001b[?25hInstalling collected packages: numpy\n",
            "  Found existing installation: numpy 1.19.5\n",
            "    Uninstalling numpy-1.19.5:\n",
            "      Successfully uninstalled numpy-1.19.5\n",
            "Successfully installed numpy-1.16.2\n"
          ],
          "name": "stdout"
        },
        {
          "output_type": "display_data",
          "data": {
            "application/vnd.colab-display-data+json": {
              "pip_warning": {
                "packages": [
                  "numpy"
                ]
              }
            }
          },
          "metadata": {
            "tags": []
          }
        }
      ]
    },
    {
      "cell_type": "code",
      "metadata": {
        "id": "ueImsZ8KKQKo",
        "colab": {
          "base_uri": "https://localhost:8080/"
        },
        "outputId": "09c1df26-a554-4ddb-eea7-eb66ec2d361d"
      },
      "source": [
        "!pip install --upgrade scikit-learn  # Do this to use sklearn SelfTrainingClassifier"
      ],
      "execution_count": 4,
      "outputs": [
        {
          "output_type": "stream",
          "text": [
            "Collecting scikit-learn\n",
            "\u001b[?25l  Downloading https://files.pythonhosted.org/packages/a8/eb/a48f25c967526b66d5f1fa7a984594f0bf0a5afafa94a8c4dbc317744620/scikit_learn-0.24.2-cp37-cp37m-manylinux2010_x86_64.whl (22.3MB)\n",
            "\u001b[K     |████████████████████████████████| 22.3MB 76.3MB/s \n",
            "\u001b[?25hRequirement already satisfied, skipping upgrade: scipy>=0.19.1 in /usr/local/lib/python3.7/dist-packages (from scikit-learn) (1.4.1)\n",
            "Requirement already satisfied, skipping upgrade: joblib>=0.11 in /usr/local/lib/python3.7/dist-packages (from scikit-learn) (1.0.1)\n",
            "Requirement already satisfied, skipping upgrade: numpy>=1.13.3 in /usr/local/lib/python3.7/dist-packages (from scikit-learn) (1.16.2)\n",
            "Collecting threadpoolctl>=2.0.0\n",
            "  Downloading https://files.pythonhosted.org/packages/f7/12/ec3f2e203afa394a149911729357aa48affc59c20e2c1c8297a60f33f133/threadpoolctl-2.1.0-py3-none-any.whl\n",
            "\u001b[31mERROR: kapre 0.3.5 has requirement numpy>=1.18.5, but you'll have numpy 1.16.2 which is incompatible.\u001b[0m\n",
            "Installing collected packages: threadpoolctl, scikit-learn\n",
            "  Found existing installation: scikit-learn 0.22.2.post1\n",
            "    Uninstalling scikit-learn-0.22.2.post1:\n",
            "      Successfully uninstalled scikit-learn-0.22.2.post1\n",
            "Successfully installed scikit-learn-0.24.2 threadpoolctl-2.1.0\n"
          ],
          "name": "stdout"
        }
      ]
    },
    {
      "cell_type": "code",
      "metadata": {
        "colab": {
          "base_uri": "https://localhost:8080/"
        },
        "id": "Aa3rhWCfRR_v",
        "outputId": "f4b90aa6-4b91-4454-b13c-d0b9c0802fec"
      },
      "source": [
        "print(np.__version__)\n",
        "import sklearn\n",
        "print(sklearn.__version__)"
      ],
      "execution_count": 2,
      "outputs": [
        {
          "output_type": "stream",
          "text": [
            "1.16.2\n",
            "0.24.2\n"
          ],
          "name": "stdout"
        }
      ]
    },
    {
      "cell_type": "code",
      "metadata": {
        "id": "WMut3gWbQUxB"
      },
      "source": [
        "max_words = 30000"
      ],
      "execution_count": 3,
      "outputs": []
    },
    {
      "cell_type": "code",
      "metadata": {
        "id": "12jLs2ghs3Wm"
      },
      "source": [
        ""
      ],
      "execution_count": 3,
      "outputs": []
    },
    {
      "cell_type": "code",
      "metadata": {
        "colab": {
          "base_uri": "https://localhost:8080/"
        },
        "id": "feLsjKVQg-mk",
        "outputId": "7f701b7c-ed19-41d1-ce81-31c038626f57"
      },
      "source": [
        "%cd \"/content/drive/My Drive/Colab Notebooks/MixText-master\"\n",
        "!ls"
      ],
      "execution_count": 4,
      "outputs": [
        {
          "output_type": "stream",
          "text": [
            "/content/drive/My Drive/Colab Notebooks/MixText-master\n",
            " code\t\t     README.md\n",
            " data\t\t     rf_imdb.xlsx\n",
            " data_temp\t     rf_ng.xlsx\n",
            " enron_mlp.xlsx     'Running MixText v3.ipynb'\n",
            " enron_sgd.xlsx     'Running MixText v5 ISIS Data.ipynb'\n",
            " glove.6B.100d.txt  'Semi-Supervised sklearn v2.ipynb'\n",
            " glove.6B.200d.txt   sgd_imdb.xlsx\n",
            " glove.6B.300d.txt   sgd_ng.xlsx\n",
            " glove.6B.50d.txt    tf-mlp_imdb_GloVE.xlsx\n",
            " glove.6B.zip\t     tf-mlp_imdb.xlsx\n",
            " LICENSE\t     tf-mlp_ng_GloVE.xlsx\n",
            " lstm_imdb.xlsx      tf-mlp_ng.xlsx\n",
            " nb_imdb.xlsx\t     word2vec_model.bin\n",
            " nb_ng.xlsx\n"
          ],
          "name": "stdout"
        }
      ]
    },
    {
      "cell_type": "code",
      "metadata": {
        "id": "QMUWFZuielQN",
        "colab": {
          "base_uri": "https://localhost:8080/"
        },
        "outputId": "9afbe644-469a-4b81-a7a6-18744015e694"
      },
      "source": [
        "from nltk.stem import WordNetLemmatizer\n",
        "from nltk.tokenize import word_tokenize\n",
        "import nltk\n",
        "nltk.download('punkt')\n",
        "\n",
        "# SENT_DETECTOR = nltk.data.load('tokenizers/punkt/english.pickle')\n",
        "def train_val_split(labels, n_labeled_per_class, unlabeled_per_class, n_labels, seed=0):\n",
        "    \"\"\"Split the original training set into labeled training set, unlabeled training set, development set\n",
        "\n",
        "    Arguments:\n",
        "        labels {list} -- List of labeles for original training set\n",
        "        n_labeled_per_class {int} -- Number of labeled data per class\n",
        "        unlabeled_per_class {int} -- Number of unlabeled data per class\n",
        "        n_labels {int} -- The number of classes\n",
        "\n",
        "    Keyword Arguments:\n",
        "        seed {int} -- [random seed of np.shuffle] (default: {0})\n",
        "\n",
        "    Returns:\n",
        "        [list] -- idx for labeled training set, unlabeled training set, development set\n",
        "    \"\"\"\n",
        "    np.random.seed(seed)\n",
        "    labels = np.array(labels)\n",
        "    train_labeled_idxs = []\n",
        "    train_unlabeled_idxs = []\n",
        "    val_idxs = []\n",
        "\n",
        "    for i in range(n_labels):\n",
        "        idxs = np.where(labels == i)[0]\n",
        "        np.random.shuffle(idxs)\n",
        "        if n_labels == 2:\n",
        "            # IMDB\n",
        "            \n",
        "            \n",
        "            \n",
        "            n_unlabeled_per_class = unlabeled_per_class   #10, 100, 500, 1000, 2500\n",
        "            train_pool = np.concatenate((idxs[:500], idxs[5500:-2000]))\n",
        "            train_labeled_idxs.extend(train_pool[:n_labeled_per_class])\n",
        "            train_unlabeled_idxs.extend(idxs[500: 500 + n_unlabeled_per_class])\n",
        "            val_idxs.extend(idxs[-2000:])\n",
        "        \n",
        "        \n",
        "        \n",
        "            # train_pool = np.concatenate((idxs[:500], idxs[5500:-2000]))\n",
        "            # train_labeled_idxs.extend(train_pool[:n_labeled_per_class])\n",
        "            # train_unlabeled_idxs.extend(\n",
        "            #     idxs[500: 500 + 5000])\n",
        "            # val_idxs.extend(idxs[-2000:])\n",
        "            \n",
        "\n",
        "    return train_labeled_idxs, train_unlabeled_idxs, val_idxs\n",
        "\n",
        "\n",
        "\n",
        "import re\n",
        "#Removes Punctuations\n",
        "def remove_punctuations(data):\n",
        "    punct_tag=re.compile(r'[^\\w\\s]')\n",
        "    data=punct_tag.sub(r'',data)\n",
        "    return data\n",
        "\n",
        "#Removes HTML syntaxes\n",
        "def remove_html(data):\n",
        "    html_tag=re.compile(r'<.*?>')\n",
        "    data=html_tag.sub(r'',data)\n",
        "    return data\n",
        "\n",
        "#Removes URL data\n",
        "def remove_url(data):\n",
        "    url_clean= re.compile(r\"https://\\S+|www\\.\\S+\")\n",
        "    data=url_clean.sub(r'',data)\n",
        "    return data\n",
        "\n",
        "\n",
        "\n",
        "def clean(train_df):\n",
        "    \n",
        "    train_df['review']=train_df['review'].apply(lambda z: remove_punctuations(z))\n",
        "    train_df['review']=train_df['review'].apply(lambda z: remove_html(z))\n",
        "    train_df['review']=train_df['review'].apply(lambda z: remove_url(z))\n",
        "    # train_df['review']=train_df['review'].apply(lambda z: remove_emoji(z))\n",
        "    \n",
        "    train_df['review']=train_df['review'].apply(lambda z: word_tokenize(z))\n",
        "    \n",
        "    # lemmatizer = WordNetLemmatizer()\n",
        "    # train_df['review']=train_df['review'].apply(lambda x: [lemmatizer.lemmatize(word) for word in x])\n",
        "    train_df['review']=train_df['review'].apply(lambda x: ' '.join(x))\n",
        "    \n",
        "    return train_df"
      ],
      "execution_count": 5,
      "outputs": [
        {
          "output_type": "stream",
          "text": [
            "[nltk_data] Downloading package punkt to /root/nltk_data...\n",
            "[nltk_data]   Unzipping tokenizers/punkt.zip.\n"
          ],
          "name": "stdout"
        }
      ]
    },
    {
      "cell_type": "code",
      "metadata": {
        "id": "K6GvmQwA0-gz"
      },
      "source": [
        "#------------------For GloVE---------------------#\n",
        "embedding_dim = 300\n",
        "maxlen = 500\n",
        "\n",
        "\n",
        "def get_embed_matrix(word_index):\n",
        "\n",
        "    hits = 0\n",
        "    misses = 0\n",
        "\n",
        "    hit_words = []\n",
        "    missed_words = []\n",
        "    # Prepare embedding matrix\n",
        "    \n",
        "\n",
        "    embedding_matrix = np.zeros((max_words, embedding_dim)) # embedding_matrix.shape (max_words, 100)\n",
        "    for word, i in word_index.items():\n",
        "        if i < max_words:\n",
        "            embedding_vector = embeddings_index.get(word) # embedding_vector.shape (100,)\n",
        "            if embedding_vector is not None:\n",
        "                embedding_matrix[i] = embedding_vector # Words not found in the mebedding index will all be zeros\n",
        "                hits += 1\n",
        "                hit_words.append(word)\n",
        "            else:\n",
        "                misses += 1\n",
        "                missed_words.append(word)  \n",
        "\n",
        "\n",
        "                \n",
        "    print(\"Converted %d words (%d misses)\" % (hits, misses))\n",
        "\n",
        "    print(\"Missed words: \", missed_words)\n",
        "\n",
        "    return embedding_matrix\n",
        "\n",
        "\n",
        "    #------------------For GloVE---------------------#"
      ],
      "execution_count": 13,
      "outputs": []
    },
    {
      "cell_type": "code",
      "metadata": {
        "id": "Wrxr2IasgkE6"
      },
      "source": [
        "from keras.wrappers.scikit_learn import KerasClassifier\n",
        "\n",
        "tf.random.set_seed(0)\n",
        "def create_model(word_index):\n",
        "\n",
        "    # int_sequences_input = keras.Input(shape=(None,), dtype=\"int64\")\n",
        "    # embedded_sequences = embedding_layer(int_sequences_input)\n",
        "    model = tf.keras.Sequential([\n",
        "        tf.keras.layers.Embedding(max_words, embedding_dim, input_length = maxlen),\n",
        "        tf.keras.layers.Flatten(),\n",
        "        tf.keras.layers.Dense(100, activation='relu'),\n",
        "        tf.keras.layers.Dense(50),\n",
        "    ])\n",
        "\n",
        "    embedding_matrix = get_embed_matrix(word_index)\n",
        "    model.layers[0].set_weights([embedding_matrix])\n",
        "    model.layers[0].trainable = False\n",
        "\n",
        "    model.compile(optimizer='adam',\n",
        "                  loss=tf.keras.losses.SparseCategoricalCrossentropy(from_logits=True),\n",
        "                  # loss='categorical_crossentropy',\n",
        "                  metrics=['accuracy'])\n",
        "    \n",
        "    return model\n"
      ],
      "execution_count": 14,
      "outputs": []
    },
    {
      "cell_type": "code",
      "metadata": {
        "id": "BJ8OCqGFirni"
      },
      "source": [
        "import os\n",
        "\n",
        "import numpy as np\n",
        "\n",
        "from sklearn.datasets import fetch_20newsgroups\n",
        "from sklearn.feature_extraction.text import CountVectorizer\n",
        "from sklearn.feature_extraction.text import TfidfTransformer\n",
        "from sklearn.preprocessing import FunctionTransformer\n",
        "from sklearn.linear_model import SGDClassifier\n",
        "from sklearn.model_selection import train_test_split\n",
        "from sklearn.pipeline import Pipeline\n",
        "from sklearn.semi_supervised import SelfTrainingClassifier\n",
        "from sklearn.semi_supervised import LabelSpreading\n",
        "from sklearn.metrics import f1_score\n",
        "from sklearn.metrics import accuracy_score\n",
        "from sklearn.svm import SVC\n",
        "from sklearn.metrics import classification_report\n",
        "\n",
        "\n",
        "\n",
        "# Parameters\n",
        "sdg_params = dict(alpha=1e-5, penalty='l2', loss='log', random_state=0)\n",
        "vectorizer_params = dict(ngram_range=(1, 2), min_df=5, max_df=0.8)\n",
        "\n",
        "# Supervised Pipeline\n",
        "pipeline = Pipeline([\n",
        "    ('vect', CountVectorizer(**vectorizer_params)),\n",
        "    ('tfidf', TfidfTransformer()),\n",
        "    ('clf', SGDClassifier(**sdg_params)),\n",
        "])\n",
        "\n",
        "# # Supervised Pipeline\n",
        "# pipeline = Pipeline([\n",
        "#     ('vect', CountVectorizer(**vectorizer_params)),\n",
        "#     ('tfidf', TfidfTransformer()),\n",
        "#     ('clf', SVC(probability=True, gamma=\"auto\")),\n",
        "# ])\n",
        "\n",
        "# SelfTraining Pipeline\n",
        "st_pipeline = Pipeline([\n",
        "    ('vect', CountVectorizer(**vectorizer_params)),\n",
        "    ('tfidf', TfidfTransformer()),\n",
        "    ('clf', SelfTrainingClassifier(SGDClassifier(**sdg_params), verbose=True)),\n",
        "])\n",
        "\n",
        "# # SelfTraining Pipeline\n",
        "# st_pipeline = Pipeline([\n",
        "#     ('vect', CountVectorizer(**vectorizer_params)),\n",
        "#     ('tfidf', TfidfTransformer()),\n",
        "#     ('clf', SelfTrainingClassifier(SVC(probability=True, gamma=\"auto\") )),\n",
        "# ])\n",
        "\n",
        "\n",
        "\n",
        "\n",
        "\n",
        "# LabelSpreading Pipeline\n",
        "ls_pipeline = Pipeline([\n",
        "    ('vect', CountVectorizer(**vectorizer_params)),\n",
        "    ('tfidf', TfidfTransformer()),\n",
        "    # LabelSpreading does not support dense matrices\n",
        "    ('todense', FunctionTransformer(lambda x: x.todense())),\n",
        "    ('clf', LabelSpreading()),\n",
        "])\n",
        "\n",
        "\n",
        "def eval_and_print_metrics(clf, X_train, y_train, X_test, y_test):\n",
        "    print(\"Number of training samples:\", len(X_train))\n",
        "    print(\"Unlabeled samples in training set:\",\n",
        "          sum(1 for x in y_train if x == -1))\n",
        "    \n",
        "\n",
        "    clf.fit(X_train, y_train)\n",
        "    y_pred = clf.predict(X_test)\n",
        "\n",
        "    # if -1 in y_train:\n",
        "    #   print(\"Y-PRED-PROBA\", clf.predict_proba(X_train))\n",
        "\n",
        "    print(\"Micro-averaged F1 score on test set: \"\n",
        "          \"%0.3f\" % f1_score(y_test, y_pred, average='micro'))\n",
        "    print(\"Accuracy Score: \", accuracy_score(y_test, y_pred))\n",
        "    print(\"Classification Report: \\n\", classification_report(y_test, y_pred))\n",
        "    print(\"-\" * 10)\n",
        "    print()\n",
        "\n",
        "\n",
        "from sklearn.metrics import precision_score\n",
        "from sklearn.metrics import roc_auc_score\n",
        "from sklearn.metrics import recall_score\n",
        "from sklearn.metrics import f1_score\n",
        "from tensorflow.keras.layers.experimental.preprocessing import TextVectorization\n",
        "\n",
        "from tensorflow.keras.layers import Embedding\n",
        "\n",
        "def eval_and_print_metrics_df(clf, X_train, y_train, X_test, y_test, thresh = None, kbest = None):\n",
        "\n",
        "    dict1 = {}\n",
        "\n",
        "    print(\"Number of training samples:\", len(X_train))\n",
        "    print(\"Unlabeled samples in training set:\",\n",
        "          sum(1 for x in y_train if x == -1))\n",
        "    \n",
        "    dict1['Labeled'] = len(X_train) - sum(1 for x in y_train if x == -1)\n",
        "    dict1['UnLabeled'] = sum(1 for x in y_train if x == -1)\n",
        "\n",
        "\n",
        "       \n",
        "    # if sum(1 for x in y_train if x == -1) == 0:\n",
        "    #     dict1['type'] = 'Supervised'\n",
        "    # else:\n",
        "    #     dict1['type'] = 'Semi-Supervised'\n",
        "\n",
        "    dict1['Threshold'] = thresh\n",
        "    dict1['K-Best'] = kbest\n",
        "\n",
        "    \n",
        "\n",
        "\n",
        "    # print('y_train:', y_train)\n",
        "    with tf.device('/device:GPU:0'):\n",
        "      clf.fit(X_train, y_train)\n",
        "      y_pred = np.array(clf.predict(X_test))\n",
        "      \n",
        "    print(\"Micro-averaged F1 score on test set: \"\n",
        "          \"%0.3f\" % f1_score(y_test, y_pred, average='micro'))\n",
        "    print(\"Accuracy Score: \", accuracy_score(y_test, y_pred))\n",
        "\n",
        "    dict1['Accuracy'] = accuracy_score(y_test, y_pred)\n",
        "    dict1['roc-auc'] = roc_auc_score(y_test, y_pred)\n",
        "    dict1['precision'] = precision_score(y_test, y_pred)\n",
        "    dict1['recall'] = recall_score(y_test, y_pred)\n",
        "    dict1['f1'] = f1_score(y_test, y_pred)\n",
        "\n",
        "    print(\"-\" * 10)\n",
        "    print()\n",
        "\n",
        "    return dict1"
      ],
      "execution_count": 15,
      "outputs": []
    },
    {
      "cell_type": "code",
      "metadata": {
        "colab": {
          "base_uri": "https://localhost:8080/"
        },
        "id": "qM1anuRRbDs3",
        "outputId": "c978d064-9202-4cdf-c2e6-aa8310eb2620"
      },
      "source": [
        "%%time\n",
        "path_to_glove_file =  \"glove.6B.\"+str(embedding_dim)+\"d.txt\"\n",
        "embeddings_index = {}\n",
        "with open(path_to_glove_file) as f:\n",
        "    for line in f:\n",
        "        word, coefs = line.split(maxsplit=1)\n",
        "        coefs = np.fromstring(coefs, \"f\", sep=\" \")\n",
        "        embeddings_index[word] = coefs\n",
        "\n",
        "print(\"Found %s word vectors.\" % len(embeddings_index))"
      ],
      "execution_count": 16,
      "outputs": [
        {
          "output_type": "stream",
          "text": [
            "Found 400000 word vectors.\n",
            "CPU times: user 16.3 s, sys: 715 ms, total: 17 s\n",
            "Wall time: 16.9 s\n"
          ],
          "name": "stdout"
        }
      ]
    },
    {
      "cell_type": "code",
      "metadata": {
        "id": "vJbPC72BjeZ4",
        "colab": {
          "base_uri": "https://localhost:8080/",
          "height": 1000
        },
        "outputId": "764b83fb-cd8d-42d7-d17d-e748f466bc93"
      },
      "source": [
        "# MLP for IMDB\n",
        "# Parameters\n",
        "# mnb_params = \n",
        "\n",
        "from keras.preprocessing.text import Tokenizer\n",
        "from keras.preprocessing. sequence import pad_sequences\n",
        "\n",
        "\n",
        "mlp_params = dict(hidden_layer_sizes=(100,50), max_iter=50,activation = 'relu',solver='adam',random_state=1)\n",
        "vectorizer_params = dict(ngram_range=(1, 2), min_df=5, max_df=0.8, max_features=30000)\n",
        "\n",
        "\n",
        "if __name__ == \"__main__\":\n",
        "\n",
        "    df_mlp_imdb_2k = pd.DataFrame()\n",
        "\n",
        "    n_list = [10, 50, 200, 500, 1000]\n",
        "    kbest_list=[4, 5, 6, 7, 8]\n",
        "    threshold=[0.4, 0.5, 0.6, 0.7, 0.8]\n",
        "\n",
        "for n in n_list:\n",
        "      print(\"~~~~~~~~~~~~~~~~~~~~~~~~~~~~~~~~~IMDB DATA with n_labeled = \"+str(2*n)+\"~~~~~~~~~~~~~~~~~~~~~~~~~~~~~~~~~\")\n",
        "      tf.keras.backend.clear_session()\n",
        "\n",
        "      \n",
        "\n",
        "      n_labeled_per_class = n       #10, 200, 500, 1000, 2400\n",
        "      unlabeled_per_class = 1000\n",
        "\n",
        "      data_path = './data/imdb_data/'\n",
        "      train_df = pd.read_csv(data_path+'train.csv', header=None)\n",
        "      test_df = pd.read_csv(data_path+'test.csv', header=None)\n",
        "\n",
        "      train_labels = np.array([v for v in train_df[1]])\n",
        "      train_text = np.array([v for v in train_df[0]])\n",
        "      test_labels = np.array([u for u in test_df[1]])\n",
        "      test_text = np.array([v for v in test_df[0]])\n",
        "\n",
        "\n",
        "\n",
        "\n",
        "      n_labels = 2\n",
        "      # Split the labeled training set, unlabeled training set, development set\n",
        "      train_labeled_idxs, train_unlabeled_idxs, val_idxs = train_val_split(\n",
        "          train_labels, n_labeled_per_class, unlabeled_per_class, n_labels)\n",
        "\n",
        "      # print(\"#Labeled: {}, Unlabeled {}, Val {}, Test {}\".format(len(\n",
        "      #     train_labeled_idxs), len(train_unlabeled_idxs), len(val_idxs), len(test_labels)))\n",
        "\n",
        "      df_train = pd.DataFrame({'review':train_text[train_labeled_idxs], 'sentiment':train_labels[train_labeled_idxs]})\n",
        "      # print(df_train.shape)\n",
        "      # df_train.head()\n",
        "\n",
        "      df_test = pd.DataFrame({'review':test_text, 'sentiment':test_labels})\n",
        "      # print(df_test.shape)\n",
        "\n",
        "\n",
        "\n",
        "      df_unlabeled = pd.DataFrame({'review':train_text[train_unlabeled_idxs], 'sentiment':train_labels[train_unlabeled_idxs]})\n",
        "      # print(df_unlabeled.shape)\n",
        "      # df_unlabeled.head()\n",
        "\n",
        "      clean_train_df = clean(df_train)\n",
        "      clean_test_df = clean(df_test)\n",
        "      clean_unlabeled_df = clean(df_unlabeled)\n",
        "\n",
        "      texts = np.array((clean_train_df['review'].append(clean_unlabeled_df['review'], ignore_index=True)))\n",
        "\n",
        "\n",
        "      labels = np.array([i for i in list(df_train.sentiment)]+[-1 for i in list(df_unlabeled.sentiment)])\n",
        "\n",
        "      X_test = np.array(clean_test_df.review)\n",
        "      y_test = np.array(clean_test_df.sentiment)\n",
        "\n",
        "      X_train = texts\n",
        "      y_train = labels  \n",
        "\n",
        "      tokenizer = Tokenizer(num_words=max_words)\n",
        "      tokenizer.fit_on_texts(np.concatenate((X_train, X_test)))\n",
        "      sequences = tokenizer.texts_to_sequences(np.concatenate((X_train, X_test)))\n",
        "      word_index = tokenizer.word_index                   \n",
        "      print(\"Found %s unique tokens.\" % len(word_index)) \n",
        "\n",
        "      data = pad_sequences(sequences, maxlen=maxlen)\n",
        "\n",
        "      X_train, X_test = data[:len(X_train)], data[len(X_train):]\n",
        "\n",
        "      # print(\"Shape of X_test: \", len(X_test)) \n",
        "\n",
        "\n",
        "\n",
        "\n",
        "      # print(\"Y-TYPE: \", type(labels[0]))  \n",
        "      \n",
        "\n",
        "\n",
        "      # X, y = data.data, data.target\n",
        "      # X_train, X_test, y_train, y_test = train_test_split(X, y)\n",
        "\n",
        "      # print(\"Supervised SGDClassifier on 100% of the data:\")\n",
        "      # eval_and_print_metrics(pipeline, X_train, y_train, X_test, y_test)\n",
        "\n",
        "      np.random.seed(0)\n",
        "\n",
        "      # X_20 and y_20 are the subset of the train dataset indicated by the mask\n",
        "      X_20, y_20 = X_train[:2*n], labels[:2*n]\n",
        "      print(\"Supervised MLPClassifier on \"+str(n)+\"% of the training data:\")\n",
        "\n",
        "      model = KerasClassifier(build_fn=lambda: create_model(word_index), epochs=20, verbose=0)\n",
        "      # Supervised Pipeline\n",
        "      pipeline = Pipeline([\n",
        "          # ('vect', CountVectorizer(**vectorizer_params)),\n",
        "          # ('tfidf', TfidfTransformer()), \n",
        "          # # ('kbest', MySelectKBest(f_classif, k=20000)),         \n",
        "          # ('dense', FunctionTransformer(lambda x: x.toarray(), accept_sparse=True)),\n",
        "          ('clf', model)\n",
        "      ])\n",
        "\n",
        "      \n",
        "      temp = eval_and_print_metrics_df(pipeline, X_20, y_20, X_test, y_test, thresh = None, kbest = None)\n",
        "      df_mlp_imdb_2k = df_mlp_imdb_2k.append(temp, ignore_index=True)\n",
        "\n",
        "      # set the non-masked subset to be unlabeled\n",
        "      # set only 50% of data to be unlabeled in every iteration of training.\n",
        "      print(\"SelfTrainingClassifier on \"+str(n)+\"% of the training data (rest \"\n",
        "            \"is unlabeled):\")\n",
        "      for t in threshold:\n",
        "        print(\"---------------------------------Threshold = \", t,\"---------------------------------\")\n",
        "        tf.keras.backend.clear_session()\n",
        "      \n",
        "      # X_50, y_50 = map(list, zip(*((x, y)\n",
        "      #                 for x, y, m in zip(X_train, y_train, y_mask) if m)))\n",
        "        # SelfTraining Pipeline\n",
        "        model = KerasClassifier(build_fn=lambda: create_model(word_index), epochs=20, verbose=0)\n",
        "        st_pipeline = Pipeline([\n",
        "            # ('vect', CountVectorizer(**vectorizer_params)),\n",
        "            # ('tfidf', TfidfTransformer()),\n",
        "            # # ('kbest', MySelectKBest(f_classif, k=20000)),\n",
        "            # ('dense', FunctionTransformer(lambda x: x.toarray(), accept_sparse=True)),\n",
        "            ('clf', SelfTrainingClassifier(model, criterion = 'threshold', threshold = t, verbose=True)),\n",
        "        ])\n",
        "        temp = eval_and_print_metrics_df(st_pipeline, X_train, y_train, X_test, y_test, thresh = t, kbest = None)\n",
        "        df_mlp_imdb_2k = df_mlp_imdb_2k.append(temp, ignore_index=True)"
      ],
      "execution_count": 17,
      "outputs": [
        {
          "output_type": "stream",
          "text": [
            "~~~~~~~~~~~~~~~~~~~~~~~~~~~~~~~~~IMDB DATA with n_labeled = 20~~~~~~~~~~~~~~~~~~~~~~~~~~~~~~~~~\n",
            "Found 91511 unique tokens.\n",
            "Supervised MLPClassifier on 10% of the training data:\n",
            "Number of training samples: 20\n",
            "Unlabeled samples in training set: 0\n",
            "Converted 26818 words (3181 misses)\n",
            "Missed words:  ['itbr', 'moviebr', 'filmbr', 'youve', 'werent', 'timebr', 'shouldnt', 'thembr', 'hadnt', 'lowbudget', 'himbr', 'theyve', 'onebr', 'thatbr', 'thisbr', 'mebr', 'storybr', 'bmovie', 'herebr', 'wellbr', 'allbr', 'goodbr', 'couldve', 'overthetop', 'onbr', 'wouldve', 'endbr', 'isbr', 'waybr', 'lifebr', 'againbr', 'outbr', 'theyd', 'therebr', 'reallife', 'writerdirector', 'betterbr', 'moviesbr', 'youbr', 'watchbr', 'badbr', 'filmsbr', 'toobr', 'herbr', 'theyll', 'upbr', 'oneliners', 'hitchcocks', 'spoilersbr', 'charactersbr', 'itll', 'mustsee', 'scenebr', 'peoplebr', 'screenbr', 'workbr', 'bebr', 'morebr', 'seenbr', 'showbr', 'everyones', 'funnybr', 'worldbr', 'etcbr', 'timesbr', 'inbr', 'madefortv', 'thoughtprovoking', 'wifes', 'otherbr', 'onedimensional', 'rolebr', 'notbr', 'daybr', 'aboutbr', 'awaybr', 'middleaged', 'funbr', 'anyones', 'eitherbr', 'yearsbr', 'cinemabr', 'familys', 'tobr', 'wasbr', 'muchbr', 'wrongbr', 'plotbr', 'otoole', 'scenesbr', 'characterbr', 'anywaybr', 'dobr', 'pg13', 'offbr', 'everbr', 'comedybr', 'forbr', 'pointbr', 'historybr', 'wellmade', 'shouldve', 'manbr', 'seriesbr', 'withbr', 'performancebr', 'gypo', 'overbr', 'oldfashioned', 'backbr', 'thingbr', 'thoughbr', 'itselfbr', 'fastpaced', 'beforebr', 'placebr', 'bmovies', 'moviei', 'togetherbr', 'endingbr', 'firstrate', 'boringbr', 'drivein', 'thingsbr', 'throughbr', 'mindbr', 'bookbr', 'africanamerican', 'musicbr', 'experiencebr', 'nowbr', 'awfulbr', '10br', 'audiencebr', 'sobr', 'actingbr', 'scriptbr', 'familybr', 'actorsbr', 'somethingbr', 'downbr', 'knowbr', 'castbr', 'disappointedbr', 'donebr', 'seebr', 'worsebr', 'wellwritten', 'sensebr', 'welldone', 'kubricks', 'laterbr', 'yearold', 'madebr', 'rightbr', 'bestbr', 'warbr', 'lovebr', 'daysbr', 'elsebr', 'nothingbr', 'xfiles', 'minutesbr', 'moneybr', 'crapbr', 'stuffbr', 'deathbr', 'didbr', 'austens', 'selfindulgent', 'tongueincheek', 'jobbr', 'whove', 'liveaction', 'spoilerbr', 'entertainingbr', 'himselfbr', 'partbr', 'rolesbr', 'ideabr', 'happenbr', 'originalbr', 'hisher', 'facebr', 'flickbr', 'possiblebr', 'enoughbr', 'directtovideo', 'eastwoods', 'goodlooking', 'greatbr', 'fulcis', 'halfhour', 'fulllength', 'reasonbr', 'interestingbr', 'chaplins', 'linebr', 'whod', 'precode', 'todaybr', 'sg1', 'classicbr', 'exwife', 'mustve', 'selfcentered', 'alonebr', 'eyesbr', 'casebr', 'wellacted', 'sciencefiction', 'homebr', 'actorbr', 'selfabsorbed', 'thatll', 'throughoutbr', 'starsbr', 'yourselfbr', 'stupidbr', 'believablebr', 'dvdbr', 'yearbr', 'othersbr', 'performancesbr', 'childrenbr', 'rosemarys', 'talentbr', 'goodnatured', 'insteadbr', 'nightbr', 'whybr', 'thinkbr', 'straighttovideo', 'ownbr', 'frombr', 'actionbr', 'zelah', 'genrebr', 'dramabr', 'altmans', 'firsttime', 'seagals', 'actorsactresses', 'imho', 'watchingbr', 'aroundbr', 'dialoguebr', 'onesided', 'societys', 'differentbr', 'levelbr', 'blackandwhite', 'saybr', 'directorwriter', 'slowmotion', 'lotbr', 'allamerican', 'slowmoving', 'pacinos', 'arebr', 'qualitybr', 'brilliantbr', 'anotherbr', 'starbr', 'truebr', 'livesbr', 'themselvesbr', 'picturebr', 'whilebr', 'miikes', 'directorbr', 'argentos', 'laughbr', 'premingers', 'lynchs', 'momentbr', 'productionbr', 'ofbr', 'beginningbr', 'involvedbr', 'longbr', 'masterpiecebr', 'messbr', 'laughsbr', 'oscarwinning', 'versionbr', 'selfconscious', 'playbr', 'songbr', 'girlbr', 'excellentbr', 'gamebr', 'exgirlfriend', 'anythingbr', 'featurelength', 'buddys', 'canbr', 'carface', 'doesbr', 'episodebr', 'coursebr', 'momentsbr', 'cmon', 'yetbr', 'nextbr', 'movieand', 'twodimensional', 'ladys', 'tvbr', 'likebr', 'keatons', 'motherbr', 'doodlebops', 'filmand', 'hilariousbr', 'downtoearth', 'checkbr', 'scoobydoo', 'materialbr', 'namebr', 'crimebr', 'camerabr', 'linesbr', 'budgetbr', 'spielbergs', 'bgrade', 'bigbudget', 'meanspirited', 'porkys', 'creditsbr', 'kidsbr', 'followbr', 'opinionbr', 'patheticbr', 'cringeworthy', 'chancebr', 'terriblebr', 'gobr', 'artbr', 'sexbr', 'carreys', 'excon', 'spoton', 'stopmotion', 'countrybr', 'effectbr', 'wellcrafted', 'modernday', 'reasonsbr', 'lostbr', 'pleasebr', 'custers', 'brotherinlaw', 'fatherbr', 'imdbs', 'rrated', 'entertainmentbr', 'schoolbr', 'leastbr', 'flesheating', 'anyonebr', 'titlebr', 'oscarnominated', 'runofthemill', 'illfated', 'grossout', 'shotbr', 'hustons', 'onesbr', 'reviewbr', 'doorbr', 'meanbr', 'conclusionbr', 'nononsense', 'thebr', 'fishmen', 'wellmeaning', 'superbbr', 'fansbr', 'connerys', 'aheadbr', 'situationbr', 'samebr', 'ridiculousbr', 'viewingbr', 'childbr', 'slowpaced', 'sotnikov', 'roombr', 'xmen', 'actbr', 'agobr', 'hollywoodbr', 'branaghs', 'secondrate', 'mistakebr', 'oncebr', 'animationbr', 'finishbr', '2br', 'comparisonbr', 'guysbr', 'bosss', 'erabr', 'gilligans', 'latebr', 'reallybr', 'tvmovie', 'citybr', 'okbr', 'havebr', 'screenplaybr', 'surprisebr', 'filmthe', 'actressbr', 'piecebr', 'thrillerbr', 'heartbr', 'amazingbr', '810br', 'wholebr', 'gentlemans', 'thenbr', 'eyebr', 'itthe', '710br', 'viewerbr', 'interestbr', 'awardwinning', 'garbagebr', 'womenbr', 'frankies', 'nobudget', 'elviras', 'enjoybr', 'careerbr', 'largerthanlife', 'showsbr', 'survivebr', 'futurebr', 'lessbr', 'housebr', 'personbr', 'effectsbr', 'willbr', 'hadbr', 'revengebr', 'rollbr', 'realbr', 'alices', 'seeingbr', 'billys', 'humorbr', 'hardbr', 'violencebr', 'americabr', 'comingofage', 'scorseses', 'diesbr', 'twobr', 'sevenbr', 'soapopera', 'viewbr', 'atmospherebr', 'deadbr', 'examplebr', 'moviethe', 'hellbr', 'fastforward', 'friendsbr', 'filmnoir', 'mightve', 'murderbr', 'jeanluc', 'effortbr', 'developmentbr', 'cusacks', 'killerbr', 'goodthe', 'dialogbr', 'televisionbr', 'periodbr', 'harlins', 'andbr', 'coolbr', 'matterbr', 'realitybr', 'miyazakis', 'guybr', 'elinore', 'eightbr', 'gorehounds', 'sequelbr', 'wastedbr', 'spocks', 'offerbr', 'everybodys', 'anybodys', 'enjoyablebr', 'dexters', 'headbr', 'storiesbr', 'topbr', 'finalebr', 'halfbaked', 'disappointmentbr', 'neednt', 'selfdestructive', 'seriouslybr', 'nc17', 'daylewis', 'shinae', 'carells', 'itit', 'cheezy', 'problembr', 'centurybr', 'wifebr', 'khouris', 'pastbr', 'mindnumbing', 'friendbr', 'maléfique', 'noname', 'firstbr', 'tarantinos', 'fatherson', 'matuschek', 'farbr', 'nsna', 'beattys', 'getbr', 'womanbr', 'allout', 'powerbr', 'foxs', 'movieit', 'neros', 'bhorror', 'stylebr', 'hamfisted', 'matchbr', 'noroi', 'carebr', 'directionbr', 'osullivan', 'kurtzs', 'bloodbr', 'earlierbr', 'standardsbr', 'dreambr', 'brandos', 'sadbr', 'oldschool', 'goingson', 'didntbr', 'everythingbr', 'icet', 'threebr', 'everyonebr', 'rochesters', 'rubbishbr', 'annoyingbr', 'foxxs', 'alivebr', 'storywise', 'allaround', 'guessbr', 'alongbr', 'rohmers', 'closebr', 'hoursbr', 'imdbcom', 'lovehate', 'releasebr', 'newbr', 'walshs', 'mordrid', 'shortbr', 'comebr', 'dammes', 'myselfbr', 'scarybr', 'freddys', 'townbr', 'welldeveloped', 'classbr', 'injokes', '1010br', 'kurosawas', 'selfrespect', 'commentbr', 'alisons', 'nicebr', 'goldsworthys', 'characterdriven', 'eyecandy', 'chanwook', 'seasonbr', 'rotj', 'godbr', 'helpbr', 'partsbr', 'railly', 'fellinis', 'selfesteem', 'jokebr', 'expectationsbr', 'hohum', 'bronsons', '8510', 'doingbr', 'fantasticbr', 'gilleys', 'recommendedbr', 'nobr', 'bluebeards', 'messagebr', 'daughterbr', 'apartbr', 'atbr', 'fassbinders', 'hoechlin', 'paperhouse', 'draculas', 'mindnumbingly', 'rififi1955', 'bakshis', 'mgms', 'bythenumbers', 'oneliner', 'offthewall', 'kickass', 'catandmouse', 'nonebr', 'soonbr', 'wellintentioned', 'littlebr', 'kahns', 'beenbr', 'culturebr', 'ensuesbr', 'lowrent', 'worstbr', 'woodys', 'paperthin', 'costsbr', 'nancys', 'ollies', 'relationshipbr', 'openminded', 'diebr', 'horrorcomedy', 'sincebr', 'restbr', 'businessbr', 'everythings', 'drawnout', 'laughablebr', 'expectbr', 'tearjerking', 'indeedbr', 'clothesbr', 'amazoncom', 'truthbr', 'dereks', 'exceptionbr', 'societybr', 'wererabbit', 'walkens', 'daytoday', 'perfectionbr', 'firstperson', 'listbr', 'existbr', 'treatbr', 'jeanpierre', 'anansa', 'soundtrackbr', 'wholl', 'motherinlaw', 'oldbr', 'starewicz', 'husbandbr', 'nowadaysbr', 'dullbr', 'scorebr', 'omalley', 'laughoutloud', 'verhoevens', 'alterego', 'naturebr', 'bitbr', 'memorybr', 'jawdropping', 'mcphillip', 'surebr', 'earthbr', 'hasbr', 'blacksnake', 'jeanclaude', 'subtitlesbr', 'actedbr', 'videobr', 'episodesbr', '1br', 'wideeyed', 'jimis', 'makingbr', 'longsuffering', 'worksbr', 'comingbr', 'gordonlevitt', 'fashionbr', 'filmingbr', 'inyourface', 'kidmans', 'erendira', 'whatsoeverbr', 'erics', 'bothbr', 'streeps', 'narvo', 'tmtm', 'brinke', 'gilliams', 'mysterybr', 'markbr', 'backgroundbr', 'fourbr', 'twothirds', 'melvilles', 'intobr', 'whatbr', 'streisands', 'makebr', 'racebr', 'formbr', 'horriblebr', 'novelbr', 'storylinebr', 'getgo', 'projectbr', 'bodybr', 'languagebr', 'mannerbr', 'troublebr', 'polanskis', 'eisensteins', 'fastbr', 'menbr', 'pointlessbr', 'sakebr', 'ff7', 'subjectbr', 'accentbr', 'flatbr', 'belowbr', 'zombiesbr', 'himand', 'oclock', 'lolbr', 'detailsbr', 'endsbr', 'watchablebr', 'workedbr', 'happybr', 'englishlanguage', 'beautifulbr', 'brunos', 'eventbr', 'effortsbr', 'shamebr', 'perspectivebr', 'itbut', 'hollys', 'foreverbr', 'perfectbr', 'perfectlybr', 'twentyfive', 'viscontis', 'respectbr', 'toxie', 'agebr', 'tragedybr', 'tarzans', 'itand', 'actionpacked', 'spacebr', 'cagneys', 'bunuels', 'winnerbr', 'jabbas', 'herselfbr', 'aboveaverage', 'longlost', 'ateam', 'startbr', 'finebr', 'antiamerican', 'happeningbr', 'anymorebr', 'alsobr', 'forgetbr', 'roegs', 'illconceived', 'predictablebr', 'coppolas', 'missionbr', 'kpax', 'littleknown', 'happenedbr', 'redfords', 'ossessione', 'oneofakind', 'exboyfriend', 'washedup', 'otherwisebr', 'feelbr', 'mccools', 'oneman', 'alertbr', 'zboys', 'isntbr', 'somebodys', 'sidneys', 'trybr', 'fanbr', 'babettes', 'danglard', 'cronenbergs', 'forgettablebr', 'aweinspiring', 'fanda', 'demilles', 'clouzots', 'radzoff', 'deadon', 'surprisedbr', 'julias', 'laughterbr', 'availablebr', 'videodvd', 'imdbbr', 'tshirt', 'fingersmith', 'tvseries', 'vadar', 'bazza', 'allthe', 'beethovens', 'marykate', 'pointsbr', 'writingbr', 'rememberbr', 'brynners', 'breakbr', 'latterbr', 'collectionbr', 'selfindulgence', 'actionadventure', 'joness', 'brotherbr', 'disturbingbr', 'booksbr', 'batmans', 'welldirected', 'happygolucky', 'offkilter', 'problemsbr', 'filmit', 'madeup', 'changedbr', 'yknow', 'clichéridden', 'handbr', 'weekbr', 'getsbr', 'anticsbr', 'tshirts', 'choicebr', 'oshea', 'moviebut', 'moviethis', 'unisol', 'unbelievablebr', 'gravebr', 'necessarybr', 'halfassed', 'adaptationbr', 'eventsbr', 'lowgrade', 'slowmo', 'comedys', 'nonsensebr', 'convincingbr', 'onebyone', 'belushis', 'happensbr', 'saidbr', 'heshe', 'theaterbr', 'whateverbr', 'festivalbr', 'selfloathing', 'tripbr', 'yesbr', 'kindbr', 'jackies', 'killedbr', 'selfcontained', 'documentarybr', 'ahole', 'herobr', 'justicebr', 'worldweary', 'chainsmoking', 'kazans', 'dassins', 'soontobe', 'waterbr', 'therere', 'awardbr', 'imaginebr', 'timei', 'boybr', 'okaybr', 'dealbr', 'neededbr', 'geniusbr', 'selfserving', 'upandcoming', 'handsbr', 'highpitched', 'murdererbr', 'antonionis', 'taipe', 'sleepbr', 'selfconsciously', 'alist', 'jokesbr', 'attentionbr', 'tellbr', 'felixs', 'tieh', 'dialouge', 'outofplace', 'sisterbr', 'trelkovsky', 'carlys', 'goauld', 'sliceoflife', 'cormans', 'lematt', 'hitchs', 'successbr', 'effectivebr', 'itits', 'chickflick', 'understandbr', 'valuebr', 'trainbr', '7510', 'karloffs', 'garbos', 'spacecamp', 'sheeta', 'wellcast', 'carlas', '12yearold', 'niros', 'selfpity', 'groundbr', 'soderberghs', 'workingclass', 'premisebr', 'threeway', 'gymkata', 'carltonbrowne', 'feinstone', 'fatebr', 'stanwycks', 'filone', 'gaglia', 'horrorbr', 'categorybr', 'manybr', 'rossitto', '14yearold', 'filmaking', 'washedout', 'quicklybr', 'walts', 'leadbr', 'bottomofthebarrel', 'highclass', 'worthwhilebr', 'flicksbr', 'specialbr', 'poorbr', 'climaxbr', 'circumstancesbr', 'changebr', 'tediousbr', 'thrillerhorror', 'jennifers', 'sandras', 'blandbr', 'consequencesbr', 'companybr', 'lubitschs', 'moocow', 'missedbr', 'planetbr', 'okeeffe', 'unisols', 'universebr', 'selfrespecting', 'sidebr', 'emotionbr', 'gamesbr', 'pointofview', 'seatbr', 'thered', 'terrythomas', 'painbr', 'tripebr', 'beginbr', 'waysbr', 'marions', 'hickland', 'behindbr', 'catbr', 'songsbr', 'lamebr', 'remakebr', 'motherdaughter', 'fastmoving', 'wonderfulbr', 'cultclassic', 'matteroffact', 'hopebr', 'oscarworthy', 'reccomend', 'thoughtbr', 'raisuli', 'shirleys', 'bogosians', 'zgrade', 'hotbr', 'bourvil', 'movingbr', 'warningbr', 'earthshattering', 'suspensebr', 'cleverbr', 'situationsbr', 'howeverbr', 'justforkix', 'druginduced', 'flawsbr', 'importantbr', 'dannys', 'behindthescenes', 'rukhs', 'scalebr', 'sampredo', 'classicsbr', 'officebr', 'releasedbr', 'bogarts', 'werebr', 'morningbr', 'threedimensional', 'latterday', 'pacebr', 'sondheims', 'skammen', 'firstclass', 'bluray', 'wheelchairbound', 'garfields', 'tommys', 'ridebr', 'sharkys', 'duchovney', 'stephanois', 'fantasybr', 'soulbr', 'bigscreen', 'churchbr', 'jeanpaul', 'welldeserved', 'girlsbr', 'thosebr', 'nowherebr', 'btch', 'butbr', 'succeedbr', 'jox', 'kapoors', 'resultbr', 'questionsbr', 'beautybr', 'lengthbr', 'anglosaxon', 'hundstage', 'hardedged', 'ramars', '7yearold', 'goingbr', 'tenbr', 'fullon', 'feelingbr', 'passworthy', 'bossbr', 'viewersbr', 'completelybr', 'playerbr', 'pazu', 'taime', 'pricelessbr', 'animalsbr', 'chabrols', 'noahs', 'datebr', 'selfrighteous', 'powerfulbr', 'livebr', 'secondbr', 'englishbr', 'cartoonbr', 'cheesey', 'personalitybr', 'processbr', 'comedydrama', '10yearold', 'truffauts', 'zetajones', 'editingbr', 'tachiguishi', 'lelands', 'kiplings', 'todesking', 'victimsbr', 'boredombr', 'janmichael', 'langdons', 'starstudded', 'oneil', 'lawbr', 'ourselvesbr', 'wonderbird', 'xica', 'eunjoo', 'disappointingbr', 'cheadles', 'crapfest', 'dekalog', '40yearold', 'thalluri', 'champlains', 'soultaker', 'molloch', 'lesseos', 'sequelsbr', 'cameramans', 'waitbr', 'abovebr', 'schizophreniac', 'scenesthe', 'belowpar', 'pukebr', 'sequencesbr', 'victimbr', 'horsebr', 'zizeks', 'synopsisbr', 'threequarters', 'peacebr', 'selfinflicted', 'strongwilled', 'cheapbr', 'kristoffersons', 'aspectsbr', 'naschys', '310br', 'whitebr', 'extremebr', 'brated', 'crybr', 'windowbr', 'horrormovie', 'ratingsbr', '100br', 'alwaysbr', 'soundbr', 'codirected', 'wellfilmed', 'exhusband', 'worldweariness', 'believedbr', 'koontzs', 'directorsbr', 'lugosis', 'suitbr', 'altogetherbr', 'paltrows', 'sucksbr', 'onejoke', 'nonethelessbr', 'voicebr', 'channelbr', 'kidbr', 'realisticbr', 'dumbbr', 'putupon', 'resultsbr', 'forwardbr', 'firebr', 'memorablebr', 'mabels', 'mouthbr', 'swordfights', 'tensionbr', 'productbr', 'kittys', 'filmbut', 'sobaditsgood', 'turkeybr', 'falks', 'failsbr', 'unscary', 'animes', 'charmbr', 'fatherinlaw', 'stallones', 'actings', 'selfproclaimed', 'louque', 'nonchristians', 'capotes', 'oscarcaliber', 'rapidfire', 'expectedbr', 'bressart', 'kinskis', 'dadbr', 'presentday', 'dieing', 'costellos', 'settingbr', 'welltold', 'badguy', 'oncamera', 'kangho', 'monsterbr', 'diseasebr', 'pedecaris', 'stopbr', 'streetbr', 'jawdroppingly', 'cakebr', 'moviethere', 'westernbr', 'brilliancebr', 'documentarystyle', 'networkbr', 'couldbr', 'andwell', 'sinuhes', 'publicbr', 'golddigging', 'suicidebr', 'amrapurkar', 'gauris', 'otooles', 'overthehill', 'wallbr', 'unnecessarybr', 'mindbending', 'moviea', 'videostore', 'duvalls', 'memoriesbr', 'hourbr', 'factbr', '2the', 'actoractress', 'tourdeforce', 'progressesbr', '30something', 'bolkan', 'madnessbr', 'writerbr', 'twohour', 'polarisdib', 'badlybr', 'oss117', 'waythe', 'badit', 'lianchu', 'gwizdo', 'simplebr', 'blackwhite', 'brideless', 'communitybr', 'xrated', 'documentarylike', 'youngbr', 'pseudointellectual', 'englandbr', 'hardhitting', 'sayingbr', '5year', 'asbr', 'wasis', 'selfdestruction', 'mst3000', 'burakov', 'depthbr', 'anouska', 'awardsbr', 'moviein', 'herzogs', 'leguizamos', 'forgivenbr', 'timetravel', 'jeanlouis', 'mindsbr', 'recomend', 'talebr', 'fword', 'sortof', 'fishoutofwater', 'murdermystery', 'assbr', 'teambr', 'girlfriendbr', 'alreadybr', 'returnbr', 'beliefbr', 'couplebr', 'fightbr', 'sonbr', 'cleancut', 'openended', 'stereotypesbr', 'movieits', 'findbr', 'fallons', 'humourbr', 'thinkingbr', 'himhe', 'romcom', 'pathbr', 'pseudodocumentary', 'hawkings', 'gorebr', 'bandbr', 'plotholes', 'cameosbr', 'completist', 'christines', 'horrorthriller', 'thereand', 'welldrawn', 'turnbr', 'cassavettes', 'actionsbr', 'crichtons', 'beatup', 'imaginationbr', 'ageold', 'sakall', 'portrayalbr', 'bluesbr', 'surprisesbr', 'illadvised', 'mostbr', 'usualbr', 'stepbystep', 'allinall', 'raveenas', 'timmys', 'createdbr', 'gespenster', 'exmrs', 'dumbeddown', 'ggirl', 'iibr', '2dimensional', 'freshfaced', 'chappelles', 'halfdecent', 'marsillach', 'itthey', 'dellorco', 'dahls', 'abilitybr', 'secondsbr', 'freespirited', 'trashbr', 'intendedbr', 'storythe', 'watchedbr', 'postworld', 'devitos', 'noirbr', 'wurb', '3br', 'wellpaced', 'crazybr', 'slomo', 'selfreference', 'shakespearebr', 'teacherbr', 'mid90s', 'kingbr', 'hackenstein', 'environmentbr', 'venantini', 'martys', 'hahaha', 'sunnys', 'agentbr', 'wowbr', 'setsbr', 'thatd', 'martialarts', 'sebergs', 'mitchums', 'loversbr', 'zabalza', 'accidentbr', 'tolkiens', 'alikebr', 'daninsky', 'gadgetmobile', 'sauras', 'lv2', 'lv1', 'randys', 'epods', 'sevenups', 'sharpes', 'hasbeen', 'sickbr', 'martinos', 'satirebr', 'winbr', '90minute', '7eventy', 'themand', 'guntoting', 'alqaeda', 'writerdirectors', 'filmschool', 'selfconfidence', 'marlows', 'halfbrother', 'shatners', 'miserybr', 'endedbr', 'matrixbr', 'onlocation', 'middlebr', 'wellplayed', 'wellworn', 'rulebr', 'lowbudgeted', 'eurohorror', 'playingbr', 'artistbr', 'mid70s', 'pricebr', 'drek', 'dreckbr', 'salmans', 'secretbr', 'longerbr', 'skillsbr', 'torturebr', '1970sbr', 'germanybr', 'sadsack', 'dialoge', 'huhbr', 'onlybr', 'funnierbr', 'commentsbr', 'noticebr', 'dontbr', 'endthe', 'numbersbr', 'gormless', 'lifethe', 'freebr', 'badmovie', 'uboat', 'joshs', 'moviesbut', 'rememberedbr', 'carbr', 'scifibr', 'seabr', 'moviejust', 'wantbr', 'closeknit', 'hardearned', 'afterbr', 'producerdirector', 'hillarious', 'kermits', 'hensons', 'raimis', 'excitementbr', 'amateurishbr', 'goodbut', 'spotbr', 'triggerhappy', 'almodovars', 'generationbr', 'directingbr', 'selfimportant', 'odonnell', 'boormans', 'husbandwife', 'livein', 'villainbr', 'stoppedbr', 'jailbr', 'impressivebr', '3the', 'allit', 'partybr', 'lesserknown', 'advicebr', 'ghosthouse', 'blackbr', 'yawnbr', 'hijinx', 'monstersbr', 'scenerychewing', 'disgustingbr', 'beingsbr', 'rentalbr', 'douchebag', 'taskbr', 'embr', 'rhysdavies', 'overallbr', 'orderbr', 'epicbr', 'followingbr', 'semiserious', 'milyang', 'digicorp', 'sjöströms', 'körkarlen', 'mustnt', 'downandout', 'funfilled', 'followsbr', 'excitingbr', 'moronie', 'adultsbr', 'readbr', 'readingbr', 'welli', 'annmargret', 'livingbr', 'commentarybr', 'piecesbr', 'selfmade', 'answerbr', 'fishburnes', 'wellthought', 'tarrantino', 'rewatching', '5br', 'unlikelybr', '2007br', 'fasttalking', 'approachbr', 'presentbr', 'professionbr', 'mahlers', 'thisand', 'deservedbr', 'edgeoftheseat', 'boxbr', 'tromas', 'awesomebr', 'filmmakingbr', 'godell', 'anythings', 'darvi', 'knowitall', 'insanitybr', 'moonbr', 'setbr', 'legendbr', 'governmentbr', 'moviesthe', 'sharkman', 'madefortelevision', 'coulardeau', 'handtohand', 'leaderbr', 'respectivelybr', 'ratebr', 'actioncomedy', 'buildingbr', 'confusingbr', 'mishimas', 'kazihiro', 'seenand', 'gelwix', 'redemptionbr', 'mclaglens', 'schwarzeneggers', 'scopebr', 'planbr', 'farcry', 'columbos', 'doubtbr', 'miseenscene', 'offkey', 'gungho', 'encounterbr', 'historys', 'differencebr', 'bybr', 'dangerfields', 'contentbr', 'quaien', 'actioners', 'eyepopping', 'beingbr', 'courtenays', 'lizs', 'goodbad', 'ignoredbr', 'lipsync', 'twains', 'weakbr', 'lifechanging', 'nearperfect', 'believebr', 'adventurebr', 'naughtons', 'rourkes', 'selfdefense', 'hannas', 'maruschka', 'lightbr', 'dumbrille', 'voights', 'nobodys', 'briss', 'bythebook', 'endearingbr', 'lestats', 'walkon', 'deads', 'versionsbr', 'chavezs', 'mummys', '110br', 'powersbr', 'fullblown', 'cusak', 'wellthe', 'caligulas', 'controlbr', 'thoughtout', 'forthbr', 'edgebr', 'lookingbr', 'moviesand', 'thisi', 'reunionbr', 'vonneguts', 'funloving', 'selfaware', 'depardieus', 'smithbr', '210br', 'menacebr', 'algrens', 'oater', 'halfdozen', 'afroamerican', 'afroamericans', 'intensebr', 'islandbr', 'cutbr', 'gembr', 'notthe', 'storebr', 'wellexecuted', 'entertainedbr', 'evilbr', 'twistbr', 'sillybr', 'amazedbr', 'puppydog', 'fackin', 'nationbr', 'thingthe', 'knowsbr', 'folksbr', 'reviewsbr', 'hornbys', 'alja', 'triedbr', 'jeanmarc', 'shootem', 'ropey', 'maneating', 'scantilyclad', 'versioni', 'missbr', '7br', 'drybr', 'punbr', 'humanbr', 'tiein', 'footagebr', 'oneand', 'affairbr', 'surprisingbr', 'bassenger', 'compellingbr', 'silencebr', 'succeededbr', 'exitingfunnydramatic', 'iswas', 'sarahs', 'dresslers', 'lastbr', 'barbr', 'bangup', 'disasterbr', 'screwfly', 'clooneys', 'doesntbr', 'wellhandled', 'beginsbr', 'holmess', 'dogooder', 'servillo', 'toyoji', 'lucass', 'larraz', 'purposebr', 'darkwolf', 'statesbr', 'stagebr', 'surov', 'neonoir', 'novaks', 'kennicut', 'sallys', '500000', 'maughams', 'techniquesbr', 'tonebr', 'ariauna', 'starewiczs', 'nobrainer', 'gutwrenching', 'twentytwo', 'moviesthis', 'btas', 'lenos', 'lewiss', 'watereddown', 'heavenbr', 'producedbr', 'shockbr', 'callgirl', 'dominoe', 'realismbr', 'straightlaced', 'goesbr', 'beethovan', 'fewbr', 'hairbrained', 'crosseyed', 'toughguy', 'suckedbr', 'lookbr', 'screambr', 'blahbr', 'hotelbr', 'factorbr', 's2t', 'substancebr', 'conceptbr', 'europebr', 'kannathil', 'somebr', 'afraidbr', 'ladybr', 'americanbr', 'claires', 'ratingbr', 'tomasis', 'venantino', 'actingwise', 'radiobr', 'methe', 'tennants', 'inevitablebr', 'ambr', 'avpr', 'sellecks', 'klaskycsupo', 'timeand', 'nekromantik', 'vampiros', 'deepbr', 'touchingbr', 'dondeloro', 'straightbr', 'mamets', 'clints', 'ultraorthodox', '2hour', 'mildmannered', 'ww11', 'rosss', 'hairbr', 'premminger', 'akyroyd', 'lapadite', 'sapsorrow', 'aristorcats', 'easybr', 'highprofile', 'divorcebr', 'himher', 'sebastians', 'namis', 'easebr', 'katharines', 'sasori', 'laughtrack', 'jarda', 'appolonia', 'syberberg', 'vampiress', 'kerching', 'sissis', 'addicus', 'tabonga', 'soske', 'syberbergs', 'howbr', 'diedbr', 'darkhunters', 'yearsbut', 'joannas', 'dillingers', '4br', 'timewaster', 'pofaced', 'underlit', 'ariels', 'notsogood', 'murphybr', 'twicebr', 'drugaddicted', 'sequal', 'madeforcable', 'complaintsbr', 'murdersbr', 'uselessbr', 'deneuves', 'oneline', 'richies', 'featuresbr', 'laughingbr', 'pacula', 'himbut', 'writtenbr', 'uninterestingbr', 'someonebr', 'furtherbr', 'berkowitzs', 'cluebr', 'offcamera', 'zudina', 'usabr', 'viceversabr', 'stationbr', 'bedbr', 'appealbr', 'golanglobus', 'greeneggs', 'nipar', 'badguys', 'finneys', 'hitandrun', 'individualbr', 'impressedbr', 'nouvellefrance', 'somehowbr', 'dumbs', 'worthbr', 'suckfest', 'penryjones', 'audiencesbr', 'timesthe', 'doubleedged', 'wellbut', 'snorefest', 'lengle', 'familyfriendly', 'interestedbr', 'floorbr', 'muchneeded', 'hackfords', 'toand', 'ideasbr', 'suspectbr', 'fiveminute', 'obviousbr', 'ladiesbr', 'shos', 'afterdark', 'amys', '1955br', 'jpii', 'helpedbr', 'thisa', 'elementbr', 'failbr', 'selfinvolved', 'postrevolutionary', 'rockbottom', 'prolly', 'exlover', 'touchyfeely', 'cheesebr', 'municipalians', 'cuttingedge', 'oconnors', 'offensivebr', 'masterbr', 'weirdbr', 'jessicas', 'withinbr', 'crappiness', 'ministerbr', 'itthere', 'sebastiens', 'slowbr', 'examplesbr', 'fashionatas', 'actuallybr', 'sluttish', 'wouldbr', 'directorscreenwriter', 'fascinatingbr', 'groaninducing', 'showbut', 'galaxina', 'sttng', 'panzrams', 'normalbr', 'relationshipsbr', 'stunningbr', 'selfappointed', 'spaceys', 'mid80s', 'bfilm', 'appollo', 'somewherebr', 'lifethreatening', 'usedbr', 'characterhe', 'moodbr', 'filmirage', 'wasntbr', 'corniest', 'meaningbr', 'everreliable', 'gainsbourgh', 'wellmannered', 'speakbr', 'beforeand', 'timelinebr', 'creditbr', '1980sbr', 'seemsbr', 'loessers', 'crimesbr', 'glassbr', 'hangglider', 'blankfield', 'rockbr', 'slackjawed', 'basingers', 'tillys', 'thisthe', 'investigationbr', 'laughless', 'milebr', 'unfoldsbr', 'improvementbr', 'lundgrens', 'lowbr', 'toldbr', 'hisbr', 'plusbr', 'hitbr', 'scottthomas', 'levelsbr', 'farscapes', 'romancebr', 'englishspeaking', 'burntout', 'centuryfox', '80sbr', 'hlots', 'apartmentbr', 'softfocus', 'waterss', 'createsbr', 'camerasbr', 'justins', 'lowlevel', 'malicks', 'rekert', 'seasonsbr', 'heflins', 'bennys', 'doublecrossing', 'landos', 'downonhisluck', 'desertbr', 'reliefbr', 'conartist', 'stewartmann', 'sanghyeon', 'babybr', 'dreamsbr', '9yearold', 'fearbr', 'wordsbr', 'actiondrama', 'halloweenbr', 'impactbr', 'ashenbach', 'razorsharp', 'songanddance', 'measurebr', 'silverhaired', 'shahrukhs', 'thrillbr', 'bobba', 'revealedbr', 'misleadingbr', 'unfortunatelybr', 'windbr', 'mitchs', 'excop', 'needbr', 'amandas', 'onand', 'flavorsome', 'suleimans', 'marketbr', 'completedbr', 'edelmans', 'noisebr', 'vampiresbr', 'bflick', 'figurebr', 'threehour', 'britcoms', 'ustinovs', 'dignitybr', 'blaxpoitation', 'truetolife', 'termsbr', 'doghi', 'emmas', 'activitiesbr', 'continuedbr', 'jonesbr', 'issuesbr', 'completebr', 'computergenerated', 'dimensionbr', 'wellproduced', 'anwars', 'differentlybr', 'paulas', 'chambara', 'wellstaged', 'williamsbr', 'humanitybr', 'allencompassing', 'deliverybr', 'bahranis', 'philosophybr', 'rewatched', 'jacksonbr', 'praisebr', 'superiorbr', 'popculture', 'ramóns', 'ninebr', 'grunick', 'criticsbr', 'oftenbr', 'highpowered', 'peckinpahs', 'responsibilitybr', 'optionbr', 'ritas', 'peckers', 'devilbr', 'castingbr', 'everywherebr', 'jangs', 'spiritbr', '15year', 'pixars', 'novelsbr', 'saysbr', 'dramacomedy', 'actorsthe', 'leebr', 'ohand', 'timesbut', 'digressbr', 'combinedbr', 'technicolorbr', 'stéphanois', 'survivalbr', 'wellsuited', 'missingbr', 'kuzcos', 'heartstopping', 'listenbr', 'sfhorror', '3hour', 'demonsbr', 'romebr', 'lockes', 'clichée', 'humanitys', 'grangers', 'selfreferential', 'playsbr', 'herethe', 'dropdead', 'flashbacksbr', 'sinbr', 'productionsbr', 'eveningbr', 'picturesbr', 'dallesandros', '20something', 'maxbr', 'mgmua', 'ownerbr', 'nonmainstream', 'cnnnn', 'travoltas', 'nightsbr', 'boatbr', 'properlybr', 'disappointbr', 'seriesi', 'factorybr', '3strip', 'mentallychallenged', 'camerlingo', 'allreds', 'astroesque', 'thati', 'hupperts', 'fidos', 'musicalbr', 'kiddingbr', 'venezuelas', 'streetsbr', 'contextbr', 'ananka', 'nonrelated', '910br', 'boyfriendbr', 'garlins', 'factsbr', 'juliabr', 'indahouse', 'samanthas', 'verdis', 'onhand', 'oneoff', 'craftbr', 'bestknown', 'gotbr', 'crowdbr', 'wellshot', 'witchs', 'fatherfigure', 'lifeand', 'enjoymentbr', 'hawns', 'youthbr', 'succeedsbr', 'mediabr', 'witherspoons', 'fullbodied', 'favorbr', 'catspaw', 'stickbr', 'armsbr', 'onenight', 'dancebr', 'tworeel', 'fwords', 'canoing', 'handsdown', 'fullfledged', 'embarrassingbr', 'branaugh', 'incrediblebr', 'rassimov', 'authenticlooking', 'selfdiscovery', 'coasterbr', 'wittiness', 'sawbr', 'highschoolers', 'hestons', 'mankinds', 'locationbr', 'attackbr', 'scifihorror', 'bazzoni', 'cassevetes', '15yearold', 'scuddamore', 'midlers', 'yeahbr', 'pollacks', 'alltogether', 'carfaces', 'franchisebr', 'britneys', 'maltins', 'sabus', 'wellplaced', 'unfunniest', 'destinybr', 'minebr', 'heavyduty', 'fakebr', 'wonderous', 'plottwists', 'doesent', 'toughasnails', 'pagets', 'earsbr', 'centurys', 'scenarists', 'lowerclass', 'halfbr', 'expressionbr', 'decentbr', 'hanekes', 'countbr', 'cutebr', 'detectivebr', 'scriptsbr', 'cosgroves', 'sentencebr', 'countsbr', 'ramons', 'welltimed', 'centerbr', 'twodisc', 'nonamerican', 'meand', 'softporn', 'keggs', 'astaires', 'thrillsbr', 'karwais', 'writersbr', 'runins', 'valuesbr', 'secondtier', 'nuditybr', 'africanamericans', 'crisisbr', 'drablow', 'welljudged', 'horrorfilm', 'dingalingless', 'turds', 'bavas', 'welltodo', 'mazurki', 'lumets', 'maxs', 'gomeda', 'selfassured', 'fiveyear', '2001s', 'alienbr', 'catsbr', 'californiabr', 'gaythemed', 'avoidbr', '2001br', 'awebr', 'confusionbr', 'unentertaining', 'malkovichs', 'pornbr', 'directer', 'acceptablebr', 'despairbr', 'crappiest', 'londonbr', 'post911', 'shownbr', 'messedup', 'sirks', 'gojoe', 'karlofflugosi', 'camebr', 'wellused', 'thinbr', 'nonenglish', 'sarnos', 'hahahaha', 'brancovis', 'prizzis', 'partanna', 'carrieanne', 'sagans', 'suchbr', 'bodycount', 'potbr', 'unwatchablebr', 'supportbr', 'jlb', 'solino', 'everytown', 'hmmmbr', 'irritatingbr', 'sabrinas', 'knowledgebr', 'sinisterbr', 'dansu', 'choule', 'dangerbr', 'doublefeature', 'kishibe', 'crosssection', 'actionthriller', 'corebr', 'pabsts', 'thirdworld', 'movieshe', 'toulons', 'beastbr', 'crappier', 'wynorskis', 'mfumu', 'deadend', 'sisterinlaw', 'fictionbr', 'nonactor', 'drugdealing', 'livedbr', 'nightmarebr', 'pasolinis', 'charel', 'demisebr', 'allthis', 'miyazawas', 'hotchkins', 'microbudget', 'leroys', 'alittle', 'funnyi', 'clearbr', 'allpowerful', 'diaboliques', 'steeman', 'workingbr', 'calson', 'timethe', 'absurdbr', 'byrons', 'unfunnybr', 'reshamiya', 'guinnesss', 'cgrade', 'wirey', 'shotsbr', 'wishywashy', 'fcking', 'editedbr', 'jp3', 's2rd', 'filmmakersbr', 'semifamous', 'betweenbr', 'viewsbr', 'schepisis', 'decisionbr', 'ouimets', 'loserbr', 'shtty', 'medusan', 'partnerbr', 'keiths', 'mumbojumbo', 'thatand', 'cruellas', 'impossiblebr', 'directorwriters', 'easilybr', 'lorres', 'muthamittal', 'removedbr', 'solonitsyn', 'seriousbr', 'hivaids', 'woodbr', 'buellers', '1930sbr', 'greenstreets', 'kikuno', 'miserablybr', 'revolutionbr', 'breillats', 'nazarin', 'redblooded', 'timons', 'movebr', 'waiman', 'marenghis', 'confusedbr', 'caresbr', 'bigname', 'sunways', '250000', 'fightingbr', 'lorens', 'thoughtsbr', 'sayori', 'substory', '1½', 'tapebr', 'sightbr', 'unbearablebr', 'potempkin', 'goodit', 'thembut', 'forgottenbr', 'gutbusting', 'puyn', 'backcolor', 'dosent', 'availbr', 'treasurebr', 'unforgettablebr', 'conditionbr', 'hatbr', 'wirework', 'scenerybr', 'areasbr', 'ansom', 'sacrificebr', 'prisonbr', 'movieor', 'lowcut', 'selfbr', 'coasterwaldau', 'signbr', 'cartoonsbr', 'resolutionbr', 'sciencebr', 'boobage', 'warnedbr', 'anistons', 'shouldersbr', '400000', 'tessari', 'audrie', 'vehiclebr', 'prettyboy', 'bournes', 'skinemax', 'touchbr', 'rrating', 'moovie', 'fakelooking', 'dogsbr', 'orwells', 'fortyfive', 'rickys', 'generalbr', 'suyeon', 'knightleys', 'nonexistentbr', 'catwomen', 'christys', 'timebut', 'wherebr', 'runbr', 'eyeopening', 'taejoo', 'transcendenz', 'highquality', 'webr', '1971br', 'schraders', 'expartner', 'murderedbr', 'sueli', 'generousbr', 'evelyns', 'wellconstructed', 'giovannas', 'parkbr', 'upand', 'godards', 'arnies', 'humansbr', 'photographybr', 'allenbr', 'siberling', 'neweyes', 'screweyes', 'elementsbr', 'gustavs', 'enjoyability', 'vidals', 'feinstones', '6the', 'falon', 'joybr', 'frostnixon', 'babyfaced', 'ludicrousbr', 'flagwaving', 'torgo', 'trelayne', 'nwh', 'makebelieve', 'soutendijk', 'edgeofyourseat', 'italianamerican', 'kieslowskis', 'talkbr', 'deservebr', 'zandalee', 'jiwoon', 'segals', 'bronenosets', 'potyomkin', 'guetary', 'anybr', 'jyo', 'bhoomika', 'teenslasher', 'patroni', 'costagavras', 'proamerican', 'morverns', 'goroshkov', 'bashki', 'womeninprison', 'tbirds', 'mysterythriller', 'vagone', 'letto', 'happinessbr', 'glenglenda', 'moviethat', 'tvfilm', 'belowaverage', 'nieztsche', 'malefemale', 'buchfellner', 'trents', 'erikas', 'ichikawas', 'spoorloos', 'artistsong', 'cdplayer', 'brysomme', 'tajs', 'handdrawn', 'fuckland', 'mowan', 'moroncommandos', 'overtheshoulder', 'pumpkinheaded', 'locataire', 'includedbr', 'driveins', 'hillbr', 'shootemup', 'framebr', 'cuecard', 'schemebr', '15minute', 'stevebr', 'sr71', 'f15s', 'gallactica', 'uniformbr', 'actorsthey', 'uptodate', 'megans', 'abilitiesbr', 'isand', 'selfdeprecation', 'flyonthewall', 'fullfrontal', 'abouti', 'topquality', 'griefbr', 'lipsynching', 'lousybr', 'chickenbr', 'moorebr', 'amitabhs', 'sockpuppet', 'noones', 'bigcity', 'stalebr', 'hamills', 'gazarra', 'fastmotion', 'flipflops', 'threeact', 'extentbr', 'cowboybr', 'averagebr', 'pg13br', 'dilettantish', 'convictionbr', 'flatleys', 'blablabla', 'thesebr', 'techniquebr', 'itlike', 'uhhuh', 'comedianbr', 'lacklusterbr', 'puckoon', 'placesbr', 'breathtakingbr', 'vaselino', 'postdubbed', 'archiveorg', 'clunks', 'albiet', 'bestworst', 'meanlooking', 'successfulbr', 'perverseness', 'druggedout', 'naura', 'kruschen', 'feltbr', 'nonanimated', 'polebr', 'fishbr', 'nutjob', 'sbaraglia', 'understandablebr', 'anybodybr', '14year', 'extrasbr', 'faultbr', 'wellheeled', 'fiascobr', 'comedyi', 'blueeyed', 'lohans', 'countriesbr', 'renfros', 'blondhaired', 'brookss', 'barbeaus', 'sobiesky', 'yuckbr', 'lengles', 'deliveredbr', 'campbr', 'boardbr', 'foundbr', 'basebr', 'endoftheworld', 'fujimoris', 'onebyonebr', 'highranking', 'artistsbr', 'imagebr', 'aksar', 'udita', 'parés', '1000000', 'lesters', 'mobbr', 'movieso', 'slasherhorror', 'agendabr', 'risebr', 'graboids', 'ughbr', 'braincells', 'highend', 'drivelbr', 'castmembers', 'breastsbr', 'talksbr', 'scenewhich', 'musicalcomedy', 'halfcaste', 'mcdermotts', 'studentbr', 'horribleness', 'vanne', 'stereobr', 'fourstar', 'shorterbr', 'lossbr', 'liebr', 'aliensbr', 'idiotbr', 'late60s', 'noisesbr', 'bigbr', 'birdbr', 'pollonia', 'illfitting', 'usebr', 'wildeyed', 'nonchristian', 'ffvii', 'contrivedbr', 'spotsbr', 'displaybr', 'cornerbr', 'convolute', 'producerswriters', 'wowthis', 'unerotic', 'outbut', 'directedbr', 'nonhorror', 'collegebr', 'exmodel', 'motivesbr', 'basedbr', 'secondhalf', 'keiras', 'mst3ks', 'snoozefest', 'attitudebr', 'competentbr', 'ashmith', 'stirba', 'komizu', 'goreeffects', 'appreciationbr', 'potentialbr', 'headachebr', 'kosleck', 'odins', 'battlebr', 'innercity', 'selfcentred', 'agreebr', 'runningbr', 'dressedbr', 'emilys', 'bizarrebr', 'drossbr', 'backand', 'translationbr', 'explainbr', 'nicelooking', 'hitormiss', 'hasselhoffs', 'accomplishmentbr', 'bogstandard', 'gurning', 'sucky', 'bluegray', 'bombbr', 'noticedbr', 'deafmute', 'k911', 'filmmakerbr', 'greatlooking', 'channelsurfing', 'dansons', 'poorlymade', 'poopie', 'aboundbr', 'selfparody', 'moviewell', 'neonazi', 'terriblethe', 'roddenberrys', 'waaay', 'hardbitten', 'riccis', '1997s', 'ators', 'littleseen', 'supermans', 'killsbr', 'halfwits', 'likablebr', 'wannabee', 'crudebr', 'poprock', 'virusbr', 'helltown', 'repeatbr', '19yearold', 'scifiaction', 'vomitbr', 'geilgud', 'cushings', 'payperview', 'vaugier', 'homemovie', 'charmingbr', 'elsewherebr', 'taylorcompton', 'alleybr', 'onetenth', 'laboratorybr', 'particularbr', 'offbroadway', 'convincinglybr', 'masseys', 'thoughit', 'charactersthe', 'abomb', 'theatrebr', 'toobut', 'halfanhour', 'rkos', 'pinnochio', 'sheriffbr', '1988br', 'lappartement', 'carrys', 'wallsbr', '70s80s', 'unnuanced', 'antisoviet', 'courtmartial', 'loveand', 'massacrebr', 'povertyrow', 'westbr', 'leisens', 'forewarnedbr', 'presencebr', 'imaginablebr', 'convincedbr', 'stagestruck', 'marsbr', 'characteractor', 'daddys', 'copybr', 'aroundi', 'nonsequiturs', 'depps', 'uncreditedbr', 'nolls', 'picturepostcard', 'estebans', 'gannons', 'satisfyingbr', 'jetée', 'coffinbr', 'fatherdaughter', 'lindseys', 'needsbr', 'hersbr', 'yodas', 'pottymouthed', 'pâquerette', 'cornillac', 'yelchins', 'cassinelli', 'soldierbr', 'monetero', 'mixedrace', 'pointand', 'ironybr', 'shootemups', 'betrayalbr', 'alltoo', 'herkyjerky', 'artistrybr', 'beautifullybr', 'notsosubtle', 'wildernessbr', 'topbilled', 'baketamon', 'positivebr', 'graspbr', 'appearancebr', 'panandscan', 'nicelybr', 'storydriven', 'passiveaggressive', 'patientsbr', 'subor', 'golubeva', 'everso', 'propagandabr', 'frownland', 'catastrophebr', 'limitsbr', 'overkillbr', 'terrorismbr', 'homeworkbr', 'horrorthrillers', 'giullia', 'turaqistan', 'yonica', 'highstrung', 'seans', 'complimentbr', 'costners', 'paidbr', 'subconcious', 'horrorfantasy', 'bargainbr', 'anglesbr', '4the', 'seenthe', 'evies', 'timetraveling', 'forcefed', 'outofcontrol', 'zerobudget', 'vaders', 'constantlybr', 'presentationbr', 'hungs', 'innocencebr', 'prettybr', 'malles', 'accordinglybr', 'washingtonbr', 'jäniksen', 'vuosi', 'ballsbr', 'facesbr', 'storyplot', 'renying', 'parisbr', 'truelife', 'raperevenge', 'creatorsbr', 'backtoback', 'awkwardbr', 'actordirector', 'bannisters', 'hayworths', 'wellthoughtout', 'selfconfident', 'delightbr', '4000000', '20000000', 'seungup', 'agesbr', 'hystericalbr', 'membersbr', 'lauberge', 'tvshow', 'itthis', 'desirebr', 'frameup', 'rolethe', 'tombr', 'okeefe', 'aynur', 'gencebay', 'spanishamerican', 'freemanville', 'excellentthe', 'etcand', 'neighborhoodbr', 'lavventura', 'stitchesbr', 'soooooo', 'highbr', 'litel', 'standups', 'jodorowskys', 'manawaka', 'hagars', 'selfdefeating', 'angerbr', 'onetrick', 'sexobsessed', 'wahlbergs', 'mocumentary', '1941br', 'questionmarkbr', 'selfawareness', 'thirtythree', 'managebr', 'oceanbr', 'stewartbr', 'kurts', 'areabr', 'postwwii', 'remarkablebr', 'tastebr', 'jobsbr', 'fallbr', '40sbr', 'loudbr', 'waxmans', 'wellbalanced', 'scifis', 'ulmanns', 'sizebr', 'fortunebr', 'doyeon', 'shinaes', 'behaviorbr', 'loveits', 'akshays', 'coccio', 'digicorps', 'unfoldbr', 'valettes', 'manbut', 'youit', 'glauren', 'bunnys', 'correctbr', 'tagores', 'slambang', 'chokher', 'surfacebr', 'formatbr', 'ebaybr', 'fantasticand', 'welldesigned', 'tarsems', 'doppleganger', 'unknownbr', 'dinklepuss', 'codys', 'atwills', 'hairraising', 'soninlaw', 'corsia', 'luckbr', 'dostoyevskys', 'duologue', 'pleasurebr', 'milligans', 'astairerogers', 'pagebr', 'resolvedbr', 'halfasleep', 'pitchperfect', 'guerchard', '1935s', 'rerated', 'allbut', 'halfs', 'wylers', 'mcgoverns', 'immediatelybr', 'positionbr', 'ksun', 'proudbr', 'religionbr', 'venezuelabr', 'staterun', 'completest', 'cutsbr', 'leftbr', 'securitybr', 'againand', 'oquinn', 'spanishbr', 'soonerbr', 'americanmade', 'suckbr', 'cephallonian', 'dvdr', 'tealc', 'clubbr', 'cinematographybr', 'sensesbr', 'closetbr', 'japanbr', '1975br', 'stillers', 'thumbtanic', 'knowi', 'roquevert', 'englishdubbed', 'tarrs', 'obsessivecompulsive', 'oneonone', 'enemiesbr', 'koolaid', 'bathbr', 'filmwith', 'bullettime', 'reediting', 'timeit', 'oneminute', 'studiobr', 'limitedbr', 'cuttingroom', 'darim', 'movieas', 'guidos', 'filmespecially', 'incompetencebr', 'ferbers', 'industrybr', 'eustaches', 'ohalloran', 'unthoughtful', 'lightskinned', 'depressingbr', 'skree', 'foebr', 'boynextdoor', 'quinlin', 'animalbr', 'vietnambr', 'carons', 'tralala', 'animatedbr', 'particolare', 'mussolinis', 'unsatisfyingbr', 'toneddown', 'yearsi', 'silentera', 'reactionbr', 'laughand', 'tamakwa', 'charactersbut', 'filmif', 'stagedbr', 'lorenzos', 'familiarbr', 'gangbr', 'botherbr', 'insidebr', 'selfdeprecating', 'nonchronological']\n"
          ],
          "name": "stdout"
        },
        {
          "output_type": "stream",
          "text": [
            "/usr/local/lib/python3.7/dist-packages/tensorflow/python/keras/engine/sequential.py:455: UserWarning: `model.predict_classes()` is deprecated and will be removed after 2021-01-01. Please use instead:* `np.argmax(model.predict(x), axis=-1)`,   if your model does multi-class classification   (e.g. if it uses a `softmax` last-layer activation).* `(model.predict(x) > 0.5).astype(\"int32\")`,   if your model does binary classification   (e.g. if it uses a `sigmoid` last-layer activation).\n",
            "  warnings.warn('`model.predict_classes()` is deprecated and '\n"
          ],
          "name": "stderr"
        },
        {
          "output_type": "stream",
          "text": [
            "Micro-averaged F1 score on test set: 0.532\n",
            "Accuracy Score:  0.53224\n",
            "----------\n",
            "\n",
            "SelfTrainingClassifier on 10% of the training data (rest is unlabeled):\n",
            "---------------------------------Threshold =  0.4 ---------------------------------\n",
            "Number of training samples: 2020\n",
            "Unlabeled samples in training set: 2000\n",
            "Converted 26818 words (3181 misses)\n",
            "Missed words:  ['itbr', 'moviebr', 'filmbr', 'youve', 'werent', 'timebr', 'shouldnt', 'thembr', 'hadnt', 'lowbudget', 'himbr', 'theyve', 'onebr', 'thatbr', 'thisbr', 'mebr', 'storybr', 'bmovie', 'herebr', 'wellbr', 'allbr', 'goodbr', 'couldve', 'overthetop', 'onbr', 'wouldve', 'endbr', 'isbr', 'waybr', 'lifebr', 'againbr', 'outbr', 'theyd', 'therebr', 'reallife', 'writerdirector', 'betterbr', 'moviesbr', 'youbr', 'watchbr', 'badbr', 'filmsbr', 'toobr', 'herbr', 'theyll', 'upbr', 'oneliners', 'hitchcocks', 'spoilersbr', 'charactersbr', 'itll', 'mustsee', 'scenebr', 'peoplebr', 'screenbr', 'workbr', 'bebr', 'morebr', 'seenbr', 'showbr', 'everyones', 'funnybr', 'worldbr', 'etcbr', 'timesbr', 'inbr', 'madefortv', 'thoughtprovoking', 'wifes', 'otherbr', 'onedimensional', 'rolebr', 'notbr', 'daybr', 'aboutbr', 'awaybr', 'middleaged', 'funbr', 'anyones', 'eitherbr', 'yearsbr', 'cinemabr', 'familys', 'tobr', 'wasbr', 'muchbr', 'wrongbr', 'plotbr', 'otoole', 'scenesbr', 'characterbr', 'anywaybr', 'dobr', 'pg13', 'offbr', 'everbr', 'comedybr', 'forbr', 'pointbr', 'historybr', 'wellmade', 'shouldve', 'manbr', 'seriesbr', 'withbr', 'performancebr', 'gypo', 'overbr', 'oldfashioned', 'backbr', 'thingbr', 'thoughbr', 'itselfbr', 'fastpaced', 'beforebr', 'placebr', 'bmovies', 'moviei', 'togetherbr', 'endingbr', 'firstrate', 'boringbr', 'drivein', 'thingsbr', 'throughbr', 'mindbr', 'bookbr', 'africanamerican', 'musicbr', 'experiencebr', 'nowbr', 'awfulbr', '10br', 'audiencebr', 'sobr', 'actingbr', 'scriptbr', 'familybr', 'actorsbr', 'somethingbr', 'downbr', 'knowbr', 'castbr', 'disappointedbr', 'donebr', 'seebr', 'worsebr', 'wellwritten', 'sensebr', 'welldone', 'kubricks', 'laterbr', 'yearold', 'madebr', 'rightbr', 'bestbr', 'warbr', 'lovebr', 'daysbr', 'elsebr', 'nothingbr', 'xfiles', 'minutesbr', 'moneybr', 'crapbr', 'stuffbr', 'deathbr', 'didbr', 'austens', 'selfindulgent', 'tongueincheek', 'jobbr', 'whove', 'liveaction', 'spoilerbr', 'entertainingbr', 'himselfbr', 'partbr', 'rolesbr', 'ideabr', 'happenbr', 'originalbr', 'hisher', 'facebr', 'flickbr', 'possiblebr', 'enoughbr', 'directtovideo', 'eastwoods', 'goodlooking', 'greatbr', 'fulcis', 'halfhour', 'fulllength', 'reasonbr', 'interestingbr', 'chaplins', 'linebr', 'whod', 'precode', 'todaybr', 'sg1', 'classicbr', 'exwife', 'mustve', 'selfcentered', 'alonebr', 'eyesbr', 'casebr', 'wellacted', 'sciencefiction', 'homebr', 'actorbr', 'selfabsorbed', 'thatll', 'throughoutbr', 'starsbr', 'yourselfbr', 'stupidbr', 'believablebr', 'dvdbr', 'yearbr', 'othersbr', 'performancesbr', 'childrenbr', 'rosemarys', 'talentbr', 'goodnatured', 'insteadbr', 'nightbr', 'whybr', 'thinkbr', 'straighttovideo', 'ownbr', 'frombr', 'actionbr', 'zelah', 'genrebr', 'dramabr', 'altmans', 'firsttime', 'seagals', 'actorsactresses', 'imho', 'watchingbr', 'aroundbr', 'dialoguebr', 'onesided', 'societys', 'differentbr', 'levelbr', 'blackandwhite', 'saybr', 'directorwriter', 'slowmotion', 'lotbr', 'allamerican', 'slowmoving', 'pacinos', 'arebr', 'qualitybr', 'brilliantbr', 'anotherbr', 'starbr', 'truebr', 'livesbr', 'themselvesbr', 'picturebr', 'whilebr', 'miikes', 'directorbr', 'argentos', 'laughbr', 'premingers', 'lynchs', 'momentbr', 'productionbr', 'ofbr', 'beginningbr', 'involvedbr', 'longbr', 'masterpiecebr', 'messbr', 'laughsbr', 'oscarwinning', 'versionbr', 'selfconscious', 'playbr', 'songbr', 'girlbr', 'excellentbr', 'gamebr', 'exgirlfriend', 'anythingbr', 'featurelength', 'buddys', 'canbr', 'carface', 'doesbr', 'episodebr', 'coursebr', 'momentsbr', 'cmon', 'yetbr', 'nextbr', 'movieand', 'twodimensional', 'ladys', 'tvbr', 'likebr', 'keatons', 'motherbr', 'doodlebops', 'filmand', 'hilariousbr', 'downtoearth', 'checkbr', 'scoobydoo', 'materialbr', 'namebr', 'crimebr', 'camerabr', 'linesbr', 'budgetbr', 'spielbergs', 'bgrade', 'bigbudget', 'meanspirited', 'porkys', 'creditsbr', 'kidsbr', 'followbr', 'opinionbr', 'patheticbr', 'cringeworthy', 'chancebr', 'terriblebr', 'gobr', 'artbr', 'sexbr', 'carreys', 'excon', 'spoton', 'stopmotion', 'countrybr', 'effectbr', 'wellcrafted', 'modernday', 'reasonsbr', 'lostbr', 'pleasebr', 'custers', 'brotherinlaw', 'fatherbr', 'imdbs', 'rrated', 'entertainmentbr', 'schoolbr', 'leastbr', 'flesheating', 'anyonebr', 'titlebr', 'oscarnominated', 'runofthemill', 'illfated', 'grossout', 'shotbr', 'hustons', 'onesbr', 'reviewbr', 'doorbr', 'meanbr', 'conclusionbr', 'nononsense', 'thebr', 'fishmen', 'wellmeaning', 'superbbr', 'fansbr', 'connerys', 'aheadbr', 'situationbr', 'samebr', 'ridiculousbr', 'viewingbr', 'childbr', 'slowpaced', 'sotnikov', 'roombr', 'xmen', 'actbr', 'agobr', 'hollywoodbr', 'branaghs', 'secondrate', 'mistakebr', 'oncebr', 'animationbr', 'finishbr', '2br', 'comparisonbr', 'guysbr', 'bosss', 'erabr', 'gilligans', 'latebr', 'reallybr', 'tvmovie', 'citybr', 'okbr', 'havebr', 'screenplaybr', 'surprisebr', 'filmthe', 'actressbr', 'piecebr', 'thrillerbr', 'heartbr', 'amazingbr', '810br', 'wholebr', 'gentlemans', 'thenbr', 'eyebr', 'itthe', '710br', 'viewerbr', 'interestbr', 'awardwinning', 'garbagebr', 'womenbr', 'frankies', 'nobudget', 'elviras', 'enjoybr', 'careerbr', 'largerthanlife', 'showsbr', 'survivebr', 'futurebr', 'lessbr', 'housebr', 'personbr', 'effectsbr', 'willbr', 'hadbr', 'revengebr', 'rollbr', 'realbr', 'alices', 'seeingbr', 'billys', 'humorbr', 'hardbr', 'violencebr', 'americabr', 'comingofage', 'scorseses', 'diesbr', 'twobr', 'sevenbr', 'soapopera', 'viewbr', 'atmospherebr', 'deadbr', 'examplebr', 'moviethe', 'hellbr', 'fastforward', 'friendsbr', 'filmnoir', 'mightve', 'murderbr', 'jeanluc', 'effortbr', 'developmentbr', 'cusacks', 'killerbr', 'goodthe', 'dialogbr', 'televisionbr', 'periodbr', 'harlins', 'andbr', 'coolbr', 'matterbr', 'realitybr', 'miyazakis', 'guybr', 'elinore', 'eightbr', 'gorehounds', 'sequelbr', 'wastedbr', 'spocks', 'offerbr', 'everybodys', 'anybodys', 'enjoyablebr', 'dexters', 'headbr', 'storiesbr', 'topbr', 'finalebr', 'halfbaked', 'disappointmentbr', 'neednt', 'selfdestructive', 'seriouslybr', 'nc17', 'daylewis', 'shinae', 'carells', 'itit', 'cheezy', 'problembr', 'centurybr', 'wifebr', 'khouris', 'pastbr', 'mindnumbing', 'friendbr', 'maléfique', 'noname', 'firstbr', 'tarantinos', 'fatherson', 'matuschek', 'farbr', 'nsna', 'beattys', 'getbr', 'womanbr', 'allout', 'powerbr', 'foxs', 'movieit', 'neros', 'bhorror', 'stylebr', 'hamfisted', 'matchbr', 'noroi', 'carebr', 'directionbr', 'osullivan', 'kurtzs', 'bloodbr', 'earlierbr', 'standardsbr', 'dreambr', 'brandos', 'sadbr', 'oldschool', 'goingson', 'didntbr', 'everythingbr', 'icet', 'threebr', 'everyonebr', 'rochesters', 'rubbishbr', 'annoyingbr', 'foxxs', 'alivebr', 'storywise', 'allaround', 'guessbr', 'alongbr', 'rohmers', 'closebr', 'hoursbr', 'imdbcom', 'lovehate', 'releasebr', 'newbr', 'walshs', 'mordrid', 'shortbr', 'comebr', 'dammes', 'myselfbr', 'scarybr', 'freddys', 'townbr', 'welldeveloped', 'classbr', 'injokes', '1010br', 'kurosawas', 'selfrespect', 'commentbr', 'alisons', 'nicebr', 'goldsworthys', 'characterdriven', 'eyecandy', 'chanwook', 'seasonbr', 'rotj', 'godbr', 'helpbr', 'partsbr', 'railly', 'fellinis', 'selfesteem', 'jokebr', 'expectationsbr', 'hohum', 'bronsons', '8510', 'doingbr', 'fantasticbr', 'gilleys', 'recommendedbr', 'nobr', 'bluebeards', 'messagebr', 'daughterbr', 'apartbr', 'atbr', 'fassbinders', 'hoechlin', 'paperhouse', 'draculas', 'mindnumbingly', 'rififi1955', 'bakshis', 'mgms', 'bythenumbers', 'oneliner', 'offthewall', 'kickass', 'catandmouse', 'nonebr', 'soonbr', 'wellintentioned', 'littlebr', 'kahns', 'beenbr', 'culturebr', 'ensuesbr', 'lowrent', 'worstbr', 'woodys', 'paperthin', 'costsbr', 'nancys', 'ollies', 'relationshipbr', 'openminded', 'diebr', 'horrorcomedy', 'sincebr', 'restbr', 'businessbr', 'everythings', 'drawnout', 'laughablebr', 'expectbr', 'tearjerking', 'indeedbr', 'clothesbr', 'amazoncom', 'truthbr', 'dereks', 'exceptionbr', 'societybr', 'wererabbit', 'walkens', 'daytoday', 'perfectionbr', 'firstperson', 'listbr', 'existbr', 'treatbr', 'jeanpierre', 'anansa', 'soundtrackbr', 'wholl', 'motherinlaw', 'oldbr', 'starewicz', 'husbandbr', 'nowadaysbr', 'dullbr', 'scorebr', 'omalley', 'laughoutloud', 'verhoevens', 'alterego', 'naturebr', 'bitbr', 'memorybr', 'jawdropping', 'mcphillip', 'surebr', 'earthbr', 'hasbr', 'blacksnake', 'jeanclaude', 'subtitlesbr', 'actedbr', 'videobr', 'episodesbr', '1br', 'wideeyed', 'jimis', 'makingbr', 'longsuffering', 'worksbr', 'comingbr', 'gordonlevitt', 'fashionbr', 'filmingbr', 'inyourface', 'kidmans', 'erendira', 'whatsoeverbr', 'erics', 'bothbr', 'streeps', 'narvo', 'tmtm', 'brinke', 'gilliams', 'mysterybr', 'markbr', 'backgroundbr', 'fourbr', 'twothirds', 'melvilles', 'intobr', 'whatbr', 'streisands', 'makebr', 'racebr', 'formbr', 'horriblebr', 'novelbr', 'storylinebr', 'getgo', 'projectbr', 'bodybr', 'languagebr', 'mannerbr', 'troublebr', 'polanskis', 'eisensteins', 'fastbr', 'menbr', 'pointlessbr', 'sakebr', 'ff7', 'subjectbr', 'accentbr', 'flatbr', 'belowbr', 'zombiesbr', 'himand', 'oclock', 'lolbr', 'detailsbr', 'endsbr', 'watchablebr', 'workedbr', 'happybr', 'englishlanguage', 'beautifulbr', 'brunos', 'eventbr', 'effortsbr', 'shamebr', 'perspectivebr', 'itbut', 'hollys', 'foreverbr', 'perfectbr', 'perfectlybr', 'twentyfive', 'viscontis', 'respectbr', 'toxie', 'agebr', 'tragedybr', 'tarzans', 'itand', 'actionpacked', 'spacebr', 'cagneys', 'bunuels', 'winnerbr', 'jabbas', 'herselfbr', 'aboveaverage', 'longlost', 'ateam', 'startbr', 'finebr', 'antiamerican', 'happeningbr', 'anymorebr', 'alsobr', 'forgetbr', 'roegs', 'illconceived', 'predictablebr', 'coppolas', 'missionbr', 'kpax', 'littleknown', 'happenedbr', 'redfords', 'ossessione', 'oneofakind', 'exboyfriend', 'washedup', 'otherwisebr', 'feelbr', 'mccools', 'oneman', 'alertbr', 'zboys', 'isntbr', 'somebodys', 'sidneys', 'trybr', 'fanbr', 'babettes', 'danglard', 'cronenbergs', 'forgettablebr', 'aweinspiring', 'fanda', 'demilles', 'clouzots', 'radzoff', 'deadon', 'surprisedbr', 'julias', 'laughterbr', 'availablebr', 'videodvd', 'imdbbr', 'tshirt', 'fingersmith', 'tvseries', 'vadar', 'bazza', 'allthe', 'beethovens', 'marykate', 'pointsbr', 'writingbr', 'rememberbr', 'brynners', 'breakbr', 'latterbr', 'collectionbr', 'selfindulgence', 'actionadventure', 'joness', 'brotherbr', 'disturbingbr', 'booksbr', 'batmans', 'welldirected', 'happygolucky', 'offkilter', 'problemsbr', 'filmit', 'madeup', 'changedbr', 'yknow', 'clichéridden', 'handbr', 'weekbr', 'getsbr', 'anticsbr', 'tshirts', 'choicebr', 'oshea', 'moviebut', 'moviethis', 'unisol', 'unbelievablebr', 'gravebr', 'necessarybr', 'halfassed', 'adaptationbr', 'eventsbr', 'lowgrade', 'slowmo', 'comedys', 'nonsensebr', 'convincingbr', 'onebyone', 'belushis', 'happensbr', 'saidbr', 'heshe', 'theaterbr', 'whateverbr', 'festivalbr', 'selfloathing', 'tripbr', 'yesbr', 'kindbr', 'jackies', 'killedbr', 'selfcontained', 'documentarybr', 'ahole', 'herobr', 'justicebr', 'worldweary', 'chainsmoking', 'kazans', 'dassins', 'soontobe', 'waterbr', 'therere', 'awardbr', 'imaginebr', 'timei', 'boybr', 'okaybr', 'dealbr', 'neededbr', 'geniusbr', 'selfserving', 'upandcoming', 'handsbr', 'highpitched', 'murdererbr', 'antonionis', 'taipe', 'sleepbr', 'selfconsciously', 'alist', 'jokesbr', 'attentionbr', 'tellbr', 'felixs', 'tieh', 'dialouge', 'outofplace', 'sisterbr', 'trelkovsky', 'carlys', 'goauld', 'sliceoflife', 'cormans', 'lematt', 'hitchs', 'successbr', 'effectivebr', 'itits', 'chickflick', 'understandbr', 'valuebr', 'trainbr', '7510', 'karloffs', 'garbos', 'spacecamp', 'sheeta', 'wellcast', 'carlas', '12yearold', 'niros', 'selfpity', 'groundbr', 'soderberghs', 'workingclass', 'premisebr', 'threeway', 'gymkata', 'carltonbrowne', 'feinstone', 'fatebr', 'stanwycks', 'filone', 'gaglia', 'horrorbr', 'categorybr', 'manybr', 'rossitto', '14yearold', 'filmaking', 'washedout', 'quicklybr', 'walts', 'leadbr', 'bottomofthebarrel', 'highclass', 'worthwhilebr', 'flicksbr', 'specialbr', 'poorbr', 'climaxbr', 'circumstancesbr', 'changebr', 'tediousbr', 'thrillerhorror', 'jennifers', 'sandras', 'blandbr', 'consequencesbr', 'companybr', 'lubitschs', 'moocow', 'missedbr', 'planetbr', 'okeeffe', 'unisols', 'universebr', 'selfrespecting', 'sidebr', 'emotionbr', 'gamesbr', 'pointofview', 'seatbr', 'thered', 'terrythomas', 'painbr', 'tripebr', 'beginbr', 'waysbr', 'marions', 'hickland', 'behindbr', 'catbr', 'songsbr', 'lamebr', 'remakebr', 'motherdaughter', 'fastmoving', 'wonderfulbr', 'cultclassic', 'matteroffact', 'hopebr', 'oscarworthy', 'reccomend', 'thoughtbr', 'raisuli', 'shirleys', 'bogosians', 'zgrade', 'hotbr', 'bourvil', 'movingbr', 'warningbr', 'earthshattering', 'suspensebr', 'cleverbr', 'situationsbr', 'howeverbr', 'justforkix', 'druginduced', 'flawsbr', 'importantbr', 'dannys', 'behindthescenes', 'rukhs', 'scalebr', 'sampredo', 'classicsbr', 'officebr', 'releasedbr', 'bogarts', 'werebr', 'morningbr', 'threedimensional', 'latterday', 'pacebr', 'sondheims', 'skammen', 'firstclass', 'bluray', 'wheelchairbound', 'garfields', 'tommys', 'ridebr', 'sharkys', 'duchovney', 'stephanois', 'fantasybr', 'soulbr', 'bigscreen', 'churchbr', 'jeanpaul', 'welldeserved', 'girlsbr', 'thosebr', 'nowherebr', 'btch', 'butbr', 'succeedbr', 'jox', 'kapoors', 'resultbr', 'questionsbr', 'beautybr', 'lengthbr', 'anglosaxon', 'hundstage', 'hardedged', 'ramars', '7yearold', 'goingbr', 'tenbr', 'fullon', 'feelingbr', 'passworthy', 'bossbr', 'viewersbr', 'completelybr', 'playerbr', 'pazu', 'taime', 'pricelessbr', 'animalsbr', 'chabrols', 'noahs', 'datebr', 'selfrighteous', 'powerfulbr', 'livebr', 'secondbr', 'englishbr', 'cartoonbr', 'cheesey', 'personalitybr', 'processbr', 'comedydrama', '10yearold', 'truffauts', 'zetajones', 'editingbr', 'tachiguishi', 'lelands', 'kiplings', 'todesking', 'victimsbr', 'boredombr', 'janmichael', 'langdons', 'starstudded', 'oneil', 'lawbr', 'ourselvesbr', 'wonderbird', 'xica', 'eunjoo', 'disappointingbr', 'cheadles', 'crapfest', 'dekalog', '40yearold', 'thalluri', 'champlains', 'soultaker', 'molloch', 'lesseos', 'sequelsbr', 'cameramans', 'waitbr', 'abovebr', 'schizophreniac', 'scenesthe', 'belowpar', 'pukebr', 'sequencesbr', 'victimbr', 'horsebr', 'zizeks', 'synopsisbr', 'threequarters', 'peacebr', 'selfinflicted', 'strongwilled', 'cheapbr', 'kristoffersons', 'aspectsbr', 'naschys', '310br', 'whitebr', 'extremebr', 'brated', 'crybr', 'windowbr', 'horrormovie', 'ratingsbr', '100br', 'alwaysbr', 'soundbr', 'codirected', 'wellfilmed', 'exhusband', 'worldweariness', 'believedbr', 'koontzs', 'directorsbr', 'lugosis', 'suitbr', 'altogetherbr', 'paltrows', 'sucksbr', 'onejoke', 'nonethelessbr', 'voicebr', 'channelbr', 'kidbr', 'realisticbr', 'dumbbr', 'putupon', 'resultsbr', 'forwardbr', 'firebr', 'memorablebr', 'mabels', 'mouthbr', 'swordfights', 'tensionbr', 'productbr', 'kittys', 'filmbut', 'sobaditsgood', 'turkeybr', 'falks', 'failsbr', 'unscary', 'animes', 'charmbr', 'fatherinlaw', 'stallones', 'actings', 'selfproclaimed', 'louque', 'nonchristians', 'capotes', 'oscarcaliber', 'rapidfire', 'expectedbr', 'bressart', 'kinskis', 'dadbr', 'presentday', 'dieing', 'costellos', 'settingbr', 'welltold', 'badguy', 'oncamera', 'kangho', 'monsterbr', 'diseasebr', 'pedecaris', 'stopbr', 'streetbr', 'jawdroppingly', 'cakebr', 'moviethere', 'westernbr', 'brilliancebr', 'documentarystyle', 'networkbr', 'couldbr', 'andwell', 'sinuhes', 'publicbr', 'golddigging', 'suicidebr', 'amrapurkar', 'gauris', 'otooles', 'overthehill', 'wallbr', 'unnecessarybr', 'mindbending', 'moviea', 'videostore', 'duvalls', 'memoriesbr', 'hourbr', 'factbr', '2the', 'actoractress', 'tourdeforce', 'progressesbr', '30something', 'bolkan', 'madnessbr', 'writerbr', 'twohour', 'polarisdib', 'badlybr', 'oss117', 'waythe', 'badit', 'lianchu', 'gwizdo', 'simplebr', 'blackwhite', 'brideless', 'communitybr', 'xrated', 'documentarylike', 'youngbr', 'pseudointellectual', 'englandbr', 'hardhitting', 'sayingbr', '5year', 'asbr', 'wasis', 'selfdestruction', 'mst3000', 'burakov', 'depthbr', 'anouska', 'awardsbr', 'moviein', 'herzogs', 'leguizamos', 'forgivenbr', 'timetravel', 'jeanlouis', 'mindsbr', 'recomend', 'talebr', 'fword', 'sortof', 'fishoutofwater', 'murdermystery', 'assbr', 'teambr', 'girlfriendbr', 'alreadybr', 'returnbr', 'beliefbr', 'couplebr', 'fightbr', 'sonbr', 'cleancut', 'openended', 'stereotypesbr', 'movieits', 'findbr', 'fallons', 'humourbr', 'thinkingbr', 'himhe', 'romcom', 'pathbr', 'pseudodocumentary', 'hawkings', 'gorebr', 'bandbr', 'plotholes', 'cameosbr', 'completist', 'christines', 'horrorthriller', 'thereand', 'welldrawn', 'turnbr', 'cassavettes', 'actionsbr', 'crichtons', 'beatup', 'imaginationbr', 'ageold', 'sakall', 'portrayalbr', 'bluesbr', 'surprisesbr', 'illadvised', 'mostbr', 'usualbr', 'stepbystep', 'allinall', 'raveenas', 'timmys', 'createdbr', 'gespenster', 'exmrs', 'dumbeddown', 'ggirl', 'iibr', '2dimensional', 'freshfaced', 'chappelles', 'halfdecent', 'marsillach', 'itthey', 'dellorco', 'dahls', 'abilitybr', 'secondsbr', 'freespirited', 'trashbr', 'intendedbr', 'storythe', 'watchedbr', 'postworld', 'devitos', 'noirbr', 'wurb', '3br', 'wellpaced', 'crazybr', 'slomo', 'selfreference', 'shakespearebr', 'teacherbr', 'mid90s', 'kingbr', 'hackenstein', 'environmentbr', 'venantini', 'martys', 'hahaha', 'sunnys', 'agentbr', 'wowbr', 'setsbr', 'thatd', 'martialarts', 'sebergs', 'mitchums', 'loversbr', 'zabalza', 'accidentbr', 'tolkiens', 'alikebr', 'daninsky', 'gadgetmobile', 'sauras', 'lv2', 'lv1', 'randys', 'epods', 'sevenups', 'sharpes', 'hasbeen', 'sickbr', 'martinos', 'satirebr', 'winbr', '90minute', '7eventy', 'themand', 'guntoting', 'alqaeda', 'writerdirectors', 'filmschool', 'selfconfidence', 'marlows', 'halfbrother', 'shatners', 'miserybr', 'endedbr', 'matrixbr', 'onlocation', 'middlebr', 'wellplayed', 'wellworn', 'rulebr', 'lowbudgeted', 'eurohorror', 'playingbr', 'artistbr', 'mid70s', 'pricebr', 'drek', 'dreckbr', 'salmans', 'secretbr', 'longerbr', 'skillsbr', 'torturebr', '1970sbr', 'germanybr', 'sadsack', 'dialoge', 'huhbr', 'onlybr', 'funnierbr', 'commentsbr', 'noticebr', 'dontbr', 'endthe', 'numbersbr', 'gormless', 'lifethe', 'freebr', 'badmovie', 'uboat', 'joshs', 'moviesbut', 'rememberedbr', 'carbr', 'scifibr', 'seabr', 'moviejust', 'wantbr', 'closeknit', 'hardearned', 'afterbr', 'producerdirector', 'hillarious', 'kermits', 'hensons', 'raimis', 'excitementbr', 'amateurishbr', 'goodbut', 'spotbr', 'triggerhappy', 'almodovars', 'generationbr', 'directingbr', 'selfimportant', 'odonnell', 'boormans', 'husbandwife', 'livein', 'villainbr', 'stoppedbr', 'jailbr', 'impressivebr', '3the', 'allit', 'partybr', 'lesserknown', 'advicebr', 'ghosthouse', 'blackbr', 'yawnbr', 'hijinx', 'monstersbr', 'scenerychewing', 'disgustingbr', 'beingsbr', 'rentalbr', 'douchebag', 'taskbr', 'embr', 'rhysdavies', 'overallbr', 'orderbr', 'epicbr', 'followingbr', 'semiserious', 'milyang', 'digicorp', 'sjöströms', 'körkarlen', 'mustnt', 'downandout', 'funfilled', 'followsbr', 'excitingbr', 'moronie', 'adultsbr', 'readbr', 'readingbr', 'welli', 'annmargret', 'livingbr', 'commentarybr', 'piecesbr', 'selfmade', 'answerbr', 'fishburnes', 'wellthought', 'tarrantino', 'rewatching', '5br', 'unlikelybr', '2007br', 'fasttalking', 'approachbr', 'presentbr', 'professionbr', 'mahlers', 'thisand', 'deservedbr', 'edgeoftheseat', 'boxbr', 'tromas', 'awesomebr', 'filmmakingbr', 'godell', 'anythings', 'darvi', 'knowitall', 'insanitybr', 'moonbr', 'setbr', 'legendbr', 'governmentbr', 'moviesthe', 'sharkman', 'madefortelevision', 'coulardeau', 'handtohand', 'leaderbr', 'respectivelybr', 'ratebr', 'actioncomedy', 'buildingbr', 'confusingbr', 'mishimas', 'kazihiro', 'seenand', 'gelwix', 'redemptionbr', 'mclaglens', 'schwarzeneggers', 'scopebr', 'planbr', 'farcry', 'columbos', 'doubtbr', 'miseenscene', 'offkey', 'gungho', 'encounterbr', 'historys', 'differencebr', 'bybr', 'dangerfields', 'contentbr', 'quaien', 'actioners', 'eyepopping', 'beingbr', 'courtenays', 'lizs', 'goodbad', 'ignoredbr', 'lipsync', 'twains', 'weakbr', 'lifechanging', 'nearperfect', 'believebr', 'adventurebr', 'naughtons', 'rourkes', 'selfdefense', 'hannas', 'maruschka', 'lightbr', 'dumbrille', 'voights', 'nobodys', 'briss', 'bythebook', 'endearingbr', 'lestats', 'walkon', 'deads', 'versionsbr', 'chavezs', 'mummys', '110br', 'powersbr', 'fullblown', 'cusak', 'wellthe', 'caligulas', 'controlbr', 'thoughtout', 'forthbr', 'edgebr', 'lookingbr', 'moviesand', 'thisi', 'reunionbr', 'vonneguts', 'funloving', 'selfaware', 'depardieus', 'smithbr', '210br', 'menacebr', 'algrens', 'oater', 'halfdozen', 'afroamerican', 'afroamericans', 'intensebr', 'islandbr', 'cutbr', 'gembr', 'notthe', 'storebr', 'wellexecuted', 'entertainedbr', 'evilbr', 'twistbr', 'sillybr', 'amazedbr', 'puppydog', 'fackin', 'nationbr', 'thingthe', 'knowsbr', 'folksbr', 'reviewsbr', 'hornbys', 'alja', 'triedbr', 'jeanmarc', 'shootem', 'ropey', 'maneating', 'scantilyclad', 'versioni', 'missbr', '7br', 'drybr', 'punbr', 'humanbr', 'tiein', 'footagebr', 'oneand', 'affairbr', 'surprisingbr', 'bassenger', 'compellingbr', 'silencebr', 'succeededbr', 'exitingfunnydramatic', 'iswas', 'sarahs', 'dresslers', 'lastbr', 'barbr', 'bangup', 'disasterbr', 'screwfly', 'clooneys', 'doesntbr', 'wellhandled', 'beginsbr', 'holmess', 'dogooder', 'servillo', 'toyoji', 'lucass', 'larraz', 'purposebr', 'darkwolf', 'statesbr', 'stagebr', 'surov', 'neonoir', 'novaks', 'kennicut', 'sallys', '500000', 'maughams', 'techniquesbr', 'tonebr', 'ariauna', 'starewiczs', 'nobrainer', 'gutwrenching', 'twentytwo', 'moviesthis', 'btas', 'lenos', 'lewiss', 'watereddown', 'heavenbr', 'producedbr', 'shockbr', 'callgirl', 'dominoe', 'realismbr', 'straightlaced', 'goesbr', 'beethovan', 'fewbr', 'hairbrained', 'crosseyed', 'toughguy', 'suckedbr', 'lookbr', 'screambr', 'blahbr', 'hotelbr', 'factorbr', 's2t', 'substancebr', 'conceptbr', 'europebr', 'kannathil', 'somebr', 'afraidbr', 'ladybr', 'americanbr', 'claires', 'ratingbr', 'tomasis', 'venantino', 'actingwise', 'radiobr', 'methe', 'tennants', 'inevitablebr', 'ambr', 'avpr', 'sellecks', 'klaskycsupo', 'timeand', 'nekromantik', 'vampiros', 'deepbr', 'touchingbr', 'dondeloro', 'straightbr', 'mamets', 'clints', 'ultraorthodox', '2hour', 'mildmannered', 'ww11', 'rosss', 'hairbr', 'premminger', 'akyroyd', 'lapadite', 'sapsorrow', 'aristorcats', 'easybr', 'highprofile', 'divorcebr', 'himher', 'sebastians', 'namis', 'easebr', 'katharines', 'sasori', 'laughtrack', 'jarda', 'appolonia', 'syberberg', 'vampiress', 'kerching', 'sissis', 'addicus', 'tabonga', 'soske', 'syberbergs', 'howbr', 'diedbr', 'darkhunters', 'yearsbut', 'joannas', 'dillingers', '4br', 'timewaster', 'pofaced', 'underlit', 'ariels', 'notsogood', 'murphybr', 'twicebr', 'drugaddicted', 'sequal', 'madeforcable', 'complaintsbr', 'murdersbr', 'uselessbr', 'deneuves', 'oneline', 'richies', 'featuresbr', 'laughingbr', 'pacula', 'himbut', 'writtenbr', 'uninterestingbr', 'someonebr', 'furtherbr', 'berkowitzs', 'cluebr', 'offcamera', 'zudina', 'usabr', 'viceversabr', 'stationbr', 'bedbr', 'appealbr', 'golanglobus', 'greeneggs', 'nipar', 'badguys', 'finneys', 'hitandrun', 'individualbr', 'impressedbr', 'nouvellefrance', 'somehowbr', 'dumbs', 'worthbr', 'suckfest', 'penryjones', 'audiencesbr', 'timesthe', 'doubleedged', 'wellbut', 'snorefest', 'lengle', 'familyfriendly', 'interestedbr', 'floorbr', 'muchneeded', 'hackfords', 'toand', 'ideasbr', 'suspectbr', 'fiveminute', 'obviousbr', 'ladiesbr', 'shos', 'afterdark', 'amys', '1955br', 'jpii', 'helpedbr', 'thisa', 'elementbr', 'failbr', 'selfinvolved', 'postrevolutionary', 'rockbottom', 'prolly', 'exlover', 'touchyfeely', 'cheesebr', 'municipalians', 'cuttingedge', 'oconnors', 'offensivebr', 'masterbr', 'weirdbr', 'jessicas', 'withinbr', 'crappiness', 'ministerbr', 'itthere', 'sebastiens', 'slowbr', 'examplesbr', 'fashionatas', 'actuallybr', 'sluttish', 'wouldbr', 'directorscreenwriter', 'fascinatingbr', 'groaninducing', 'showbut', 'galaxina', 'sttng', 'panzrams', 'normalbr', 'relationshipsbr', 'stunningbr', 'selfappointed', 'spaceys', 'mid80s', 'bfilm', 'appollo', 'somewherebr', 'lifethreatening', 'usedbr', 'characterhe', 'moodbr', 'filmirage', 'wasntbr', 'corniest', 'meaningbr', 'everreliable', 'gainsbourgh', 'wellmannered', 'speakbr', 'beforeand', 'timelinebr', 'creditbr', '1980sbr', 'seemsbr', 'loessers', 'crimesbr', 'glassbr', 'hangglider', 'blankfield', 'rockbr', 'slackjawed', 'basingers', 'tillys', 'thisthe', 'investigationbr', 'laughless', 'milebr', 'unfoldsbr', 'improvementbr', 'lundgrens', 'lowbr', 'toldbr', 'hisbr', 'plusbr', 'hitbr', 'scottthomas', 'levelsbr', 'farscapes', 'romancebr', 'englishspeaking', 'burntout', 'centuryfox', '80sbr', 'hlots', 'apartmentbr', 'softfocus', 'waterss', 'createsbr', 'camerasbr', 'justins', 'lowlevel', 'malicks', 'rekert', 'seasonsbr', 'heflins', 'bennys', 'doublecrossing', 'landos', 'downonhisluck', 'desertbr', 'reliefbr', 'conartist', 'stewartmann', 'sanghyeon', 'babybr', 'dreamsbr', '9yearold', 'fearbr', 'wordsbr', 'actiondrama', 'halloweenbr', 'impactbr', 'ashenbach', 'razorsharp', 'songanddance', 'measurebr', 'silverhaired', 'shahrukhs', 'thrillbr', 'bobba', 'revealedbr', 'misleadingbr', 'unfortunatelybr', 'windbr', 'mitchs', 'excop', 'needbr', 'amandas', 'onand', 'flavorsome', 'suleimans', 'marketbr', 'completedbr', 'edelmans', 'noisebr', 'vampiresbr', 'bflick', 'figurebr', 'threehour', 'britcoms', 'ustinovs', 'dignitybr', 'blaxpoitation', 'truetolife', 'termsbr', 'doghi', 'emmas', 'activitiesbr', 'continuedbr', 'jonesbr', 'issuesbr', 'completebr', 'computergenerated', 'dimensionbr', 'wellproduced', 'anwars', 'differentlybr', 'paulas', 'chambara', 'wellstaged', 'williamsbr', 'humanitybr', 'allencompassing', 'deliverybr', 'bahranis', 'philosophybr', 'rewatched', 'jacksonbr', 'praisebr', 'superiorbr', 'popculture', 'ramóns', 'ninebr', 'grunick', 'criticsbr', 'oftenbr', 'highpowered', 'peckinpahs', 'responsibilitybr', 'optionbr', 'ritas', 'peckers', 'devilbr', 'castingbr', 'everywherebr', 'jangs', 'spiritbr', '15year', 'pixars', 'novelsbr', 'saysbr', 'dramacomedy', 'actorsthe', 'leebr', 'ohand', 'timesbut', 'digressbr', 'combinedbr', 'technicolorbr', 'stéphanois', 'survivalbr', 'wellsuited', 'missingbr', 'kuzcos', 'heartstopping', 'listenbr', 'sfhorror', '3hour', 'demonsbr', 'romebr', 'lockes', 'clichée', 'humanitys', 'grangers', 'selfreferential', 'playsbr', 'herethe', 'dropdead', 'flashbacksbr', 'sinbr', 'productionsbr', 'eveningbr', 'picturesbr', 'dallesandros', '20something', 'maxbr', 'mgmua', 'ownerbr', 'nonmainstream', 'cnnnn', 'travoltas', 'nightsbr', 'boatbr', 'properlybr', 'disappointbr', 'seriesi', 'factorybr', '3strip', 'mentallychallenged', 'camerlingo', 'allreds', 'astroesque', 'thati', 'hupperts', 'fidos', 'musicalbr', 'kiddingbr', 'venezuelas', 'streetsbr', 'contextbr', 'ananka', 'nonrelated', '910br', 'boyfriendbr', 'garlins', 'factsbr', 'juliabr', 'indahouse', 'samanthas', 'verdis', 'onhand', 'oneoff', 'craftbr', 'bestknown', 'gotbr', 'crowdbr', 'wellshot', 'witchs', 'fatherfigure', 'lifeand', 'enjoymentbr', 'hawns', 'youthbr', 'succeedsbr', 'mediabr', 'witherspoons', 'fullbodied', 'favorbr', 'catspaw', 'stickbr', 'armsbr', 'onenight', 'dancebr', 'tworeel', 'fwords', 'canoing', 'handsdown', 'fullfledged', 'embarrassingbr', 'branaugh', 'incrediblebr', 'rassimov', 'authenticlooking', 'selfdiscovery', 'coasterbr', 'wittiness', 'sawbr', 'highschoolers', 'hestons', 'mankinds', 'locationbr', 'attackbr', 'scifihorror', 'bazzoni', 'cassevetes', '15yearold', 'scuddamore', 'midlers', 'yeahbr', 'pollacks', 'alltogether', 'carfaces', 'franchisebr', 'britneys', 'maltins', 'sabus', 'wellplaced', 'unfunniest', 'destinybr', 'minebr', 'heavyduty', 'fakebr', 'wonderous', 'plottwists', 'doesent', 'toughasnails', 'pagets', 'earsbr', 'centurys', 'scenarists', 'lowerclass', 'halfbr', 'expressionbr', 'decentbr', 'hanekes', 'countbr', 'cutebr', 'detectivebr', 'scriptsbr', 'cosgroves', 'sentencebr', 'countsbr', 'ramons', 'welltimed', 'centerbr', 'twodisc', 'nonamerican', 'meand', 'softporn', 'keggs', 'astaires', 'thrillsbr', 'karwais', 'writersbr', 'runins', 'valuesbr', 'secondtier', 'nuditybr', 'africanamericans', 'crisisbr', 'drablow', 'welljudged', 'horrorfilm', 'dingalingless', 'turds', 'bavas', 'welltodo', 'mazurki', 'lumets', 'maxs', 'gomeda', 'selfassured', 'fiveyear', '2001s', 'alienbr', 'catsbr', 'californiabr', 'gaythemed', 'avoidbr', '2001br', 'awebr', 'confusionbr', 'unentertaining', 'malkovichs', 'pornbr', 'directer', 'acceptablebr', 'despairbr', 'crappiest', 'londonbr', 'post911', 'shownbr', 'messedup', 'sirks', 'gojoe', 'karlofflugosi', 'camebr', 'wellused', 'thinbr', 'nonenglish', 'sarnos', 'hahahaha', 'brancovis', 'prizzis', 'partanna', 'carrieanne', 'sagans', 'suchbr', 'bodycount', 'potbr', 'unwatchablebr', 'supportbr', 'jlb', 'solino', 'everytown', 'hmmmbr', 'irritatingbr', 'sabrinas', 'knowledgebr', 'sinisterbr', 'dansu', 'choule', 'dangerbr', 'doublefeature', 'kishibe', 'crosssection', 'actionthriller', 'corebr', 'pabsts', 'thirdworld', 'movieshe', 'toulons', 'beastbr', 'crappier', 'wynorskis', 'mfumu', 'deadend', 'sisterinlaw', 'fictionbr', 'nonactor', 'drugdealing', 'livedbr', 'nightmarebr', 'pasolinis', 'charel', 'demisebr', 'allthis', 'miyazawas', 'hotchkins', 'microbudget', 'leroys', 'alittle', 'funnyi', 'clearbr', 'allpowerful', 'diaboliques', 'steeman', 'workingbr', 'calson', 'timethe', 'absurdbr', 'byrons', 'unfunnybr', 'reshamiya', 'guinnesss', 'cgrade', 'wirey', 'shotsbr', 'wishywashy', 'fcking', 'editedbr', 'jp3', 's2rd', 'filmmakersbr', 'semifamous', 'betweenbr', 'viewsbr', 'schepisis', 'decisionbr', 'ouimets', 'loserbr', 'shtty', 'medusan', 'partnerbr', 'keiths', 'mumbojumbo', 'thatand', 'cruellas', 'impossiblebr', 'directorwriters', 'easilybr', 'lorres', 'muthamittal', 'removedbr', 'solonitsyn', 'seriousbr', 'hivaids', 'woodbr', 'buellers', '1930sbr', 'greenstreets', 'kikuno', 'miserablybr', 'revolutionbr', 'breillats', 'nazarin', 'redblooded', 'timons', 'movebr', 'waiman', 'marenghis', 'confusedbr', 'caresbr', 'bigname', 'sunways', '250000', 'fightingbr', 'lorens', 'thoughtsbr', 'sayori', 'substory', '1½', 'tapebr', 'sightbr', 'unbearablebr', 'potempkin', 'goodit', 'thembut', 'forgottenbr', 'gutbusting', 'puyn', 'backcolor', 'dosent', 'availbr', 'treasurebr', 'unforgettablebr', 'conditionbr', 'hatbr', 'wirework', 'scenerybr', 'areasbr', 'ansom', 'sacrificebr', 'prisonbr', 'movieor', 'lowcut', 'selfbr', 'coasterwaldau', 'signbr', 'cartoonsbr', 'resolutionbr', 'sciencebr', 'boobage', 'warnedbr', 'anistons', 'shouldersbr', '400000', 'tessari', 'audrie', 'vehiclebr', 'prettyboy', 'bournes', 'skinemax', 'touchbr', 'rrating', 'moovie', 'fakelooking', 'dogsbr', 'orwells', 'fortyfive', 'rickys', 'generalbr', 'suyeon', 'knightleys', 'nonexistentbr', 'catwomen', 'christys', 'timebut', 'wherebr', 'runbr', 'eyeopening', 'taejoo', 'transcendenz', 'highquality', 'webr', '1971br', 'schraders', 'expartner', 'murderedbr', 'sueli', 'generousbr', 'evelyns', 'wellconstructed', 'giovannas', 'parkbr', 'upand', 'godards', 'arnies', 'humansbr', 'photographybr', 'allenbr', 'siberling', 'neweyes', 'screweyes', 'elementsbr', 'gustavs', 'enjoyability', 'vidals', 'feinstones', '6the', 'falon', 'joybr', 'frostnixon', 'babyfaced', 'ludicrousbr', 'flagwaving', 'torgo', 'trelayne', 'nwh', 'makebelieve', 'soutendijk', 'edgeofyourseat', 'italianamerican', 'kieslowskis', 'talkbr', 'deservebr', 'zandalee', 'jiwoon', 'segals', 'bronenosets', 'potyomkin', 'guetary', 'anybr', 'jyo', 'bhoomika', 'teenslasher', 'patroni', 'costagavras', 'proamerican', 'morverns', 'goroshkov', 'bashki', 'womeninprison', 'tbirds', 'mysterythriller', 'vagone', 'letto', 'happinessbr', 'glenglenda', 'moviethat', 'tvfilm', 'belowaverage', 'nieztsche', 'malefemale', 'buchfellner', 'trents', 'erikas', 'ichikawas', 'spoorloos', 'artistsong', 'cdplayer', 'brysomme', 'tajs', 'handdrawn', 'fuckland', 'mowan', 'moroncommandos', 'overtheshoulder', 'pumpkinheaded', 'locataire', 'includedbr', 'driveins', 'hillbr', 'shootemup', 'framebr', 'cuecard', 'schemebr', '15minute', 'stevebr', 'sr71', 'f15s', 'gallactica', 'uniformbr', 'actorsthey', 'uptodate', 'megans', 'abilitiesbr', 'isand', 'selfdeprecation', 'flyonthewall', 'fullfrontal', 'abouti', 'topquality', 'griefbr', 'lipsynching', 'lousybr', 'chickenbr', 'moorebr', 'amitabhs', 'sockpuppet', 'noones', 'bigcity', 'stalebr', 'hamills', 'gazarra', 'fastmotion', 'flipflops', 'threeact', 'extentbr', 'cowboybr', 'averagebr', 'pg13br', 'dilettantish', 'convictionbr', 'flatleys', 'blablabla', 'thesebr', 'techniquebr', 'itlike', 'uhhuh', 'comedianbr', 'lacklusterbr', 'puckoon', 'placesbr', 'breathtakingbr', 'vaselino', 'postdubbed', 'archiveorg', 'clunks', 'albiet', 'bestworst', 'meanlooking', 'successfulbr', 'perverseness', 'druggedout', 'naura', 'kruschen', 'feltbr', 'nonanimated', 'polebr', 'fishbr', 'nutjob', 'sbaraglia', 'understandablebr', 'anybodybr', '14year', 'extrasbr', 'faultbr', 'wellheeled', 'fiascobr', 'comedyi', 'blueeyed', 'lohans', 'countriesbr', 'renfros', 'blondhaired', 'brookss', 'barbeaus', 'sobiesky', 'yuckbr', 'lengles', 'deliveredbr', 'campbr', 'boardbr', 'foundbr', 'basebr', 'endoftheworld', 'fujimoris', 'onebyonebr', 'highranking', 'artistsbr', 'imagebr', 'aksar', 'udita', 'parés', '1000000', 'lesters', 'mobbr', 'movieso', 'slasherhorror', 'agendabr', 'risebr', 'graboids', 'ughbr', 'braincells', 'highend', 'drivelbr', 'castmembers', 'breastsbr', 'talksbr', 'scenewhich', 'musicalcomedy', 'halfcaste', 'mcdermotts', 'studentbr', 'horribleness', 'vanne', 'stereobr', 'fourstar', 'shorterbr', 'lossbr', 'liebr', 'aliensbr', 'idiotbr', 'late60s', 'noisesbr', 'bigbr', 'birdbr', 'pollonia', 'illfitting', 'usebr', 'wildeyed', 'nonchristian', 'ffvii', 'contrivedbr', 'spotsbr', 'displaybr', 'cornerbr', 'convolute', 'producerswriters', 'wowthis', 'unerotic', 'outbut', 'directedbr', 'nonhorror', 'collegebr', 'exmodel', 'motivesbr', 'basedbr', 'secondhalf', 'keiras', 'mst3ks', 'snoozefest', 'attitudebr', 'competentbr', 'ashmith', 'stirba', 'komizu', 'goreeffects', 'appreciationbr', 'potentialbr', 'headachebr', 'kosleck', 'odins', 'battlebr', 'innercity', 'selfcentred', 'agreebr', 'runningbr', 'dressedbr', 'emilys', 'bizarrebr', 'drossbr', 'backand', 'translationbr', 'explainbr', 'nicelooking', 'hitormiss', 'hasselhoffs', 'accomplishmentbr', 'bogstandard', 'gurning', 'sucky', 'bluegray', 'bombbr', 'noticedbr', 'deafmute', 'k911', 'filmmakerbr', 'greatlooking', 'channelsurfing', 'dansons', 'poorlymade', 'poopie', 'aboundbr', 'selfparody', 'moviewell', 'neonazi', 'terriblethe', 'roddenberrys', 'waaay', 'hardbitten', 'riccis', '1997s', 'ators', 'littleseen', 'supermans', 'killsbr', 'halfwits', 'likablebr', 'wannabee', 'crudebr', 'poprock', 'virusbr', 'helltown', 'repeatbr', '19yearold', 'scifiaction', 'vomitbr', 'geilgud', 'cushings', 'payperview', 'vaugier', 'homemovie', 'charmingbr', 'elsewherebr', 'taylorcompton', 'alleybr', 'onetenth', 'laboratorybr', 'particularbr', 'offbroadway', 'convincinglybr', 'masseys', 'thoughit', 'charactersthe', 'abomb', 'theatrebr', 'toobut', 'halfanhour', 'rkos', 'pinnochio', 'sheriffbr', '1988br', 'lappartement', 'carrys', 'wallsbr', '70s80s', 'unnuanced', 'antisoviet', 'courtmartial', 'loveand', 'massacrebr', 'povertyrow', 'westbr', 'leisens', 'forewarnedbr', 'presencebr', 'imaginablebr', 'convincedbr', 'stagestruck', 'marsbr', 'characteractor', 'daddys', 'copybr', 'aroundi', 'nonsequiturs', 'depps', 'uncreditedbr', 'nolls', 'picturepostcard', 'estebans', 'gannons', 'satisfyingbr', 'jetée', 'coffinbr', 'fatherdaughter', 'lindseys', 'needsbr', 'hersbr', 'yodas', 'pottymouthed', 'pâquerette', 'cornillac', 'yelchins', 'cassinelli', 'soldierbr', 'monetero', 'mixedrace', 'pointand', 'ironybr', 'shootemups', 'betrayalbr', 'alltoo', 'herkyjerky', 'artistrybr', 'beautifullybr', 'notsosubtle', 'wildernessbr', 'topbilled', 'baketamon', 'positivebr', 'graspbr', 'appearancebr', 'panandscan', 'nicelybr', 'storydriven', 'passiveaggressive', 'patientsbr', 'subor', 'golubeva', 'everso', 'propagandabr', 'frownland', 'catastrophebr', 'limitsbr', 'overkillbr', 'terrorismbr', 'homeworkbr', 'horrorthrillers', 'giullia', 'turaqistan', 'yonica', 'highstrung', 'seans', 'complimentbr', 'costners', 'paidbr', 'subconcious', 'horrorfantasy', 'bargainbr', 'anglesbr', '4the', 'seenthe', 'evies', 'timetraveling', 'forcefed', 'outofcontrol', 'zerobudget', 'vaders', 'constantlybr', 'presentationbr', 'hungs', 'innocencebr', 'prettybr', 'malles', 'accordinglybr', 'washingtonbr', 'jäniksen', 'vuosi', 'ballsbr', 'facesbr', 'storyplot', 'renying', 'parisbr', 'truelife', 'raperevenge', 'creatorsbr', 'backtoback', 'awkwardbr', 'actordirector', 'bannisters', 'hayworths', 'wellthoughtout', 'selfconfident', 'delightbr', '4000000', '20000000', 'seungup', 'agesbr', 'hystericalbr', 'membersbr', 'lauberge', 'tvshow', 'itthis', 'desirebr', 'frameup', 'rolethe', 'tombr', 'okeefe', 'aynur', 'gencebay', 'spanishamerican', 'freemanville', 'excellentthe', 'etcand', 'neighborhoodbr', 'lavventura', 'stitchesbr', 'soooooo', 'highbr', 'litel', 'standups', 'jodorowskys', 'manawaka', 'hagars', 'selfdefeating', 'angerbr', 'onetrick', 'sexobsessed', 'wahlbergs', 'mocumentary', '1941br', 'questionmarkbr', 'selfawareness', 'thirtythree', 'managebr', 'oceanbr', 'stewartbr', 'kurts', 'areabr', 'postwwii', 'remarkablebr', 'tastebr', 'jobsbr', 'fallbr', '40sbr', 'loudbr', 'waxmans', 'wellbalanced', 'scifis', 'ulmanns', 'sizebr', 'fortunebr', 'doyeon', 'shinaes', 'behaviorbr', 'loveits', 'akshays', 'coccio', 'digicorps', 'unfoldbr', 'valettes', 'manbut', 'youit', 'glauren', 'bunnys', 'correctbr', 'tagores', 'slambang', 'chokher', 'surfacebr', 'formatbr', 'ebaybr', 'fantasticand', 'welldesigned', 'tarsems', 'doppleganger', 'unknownbr', 'dinklepuss', 'codys', 'atwills', 'hairraising', 'soninlaw', 'corsia', 'luckbr', 'dostoyevskys', 'duologue', 'pleasurebr', 'milligans', 'astairerogers', 'pagebr', 'resolvedbr', 'halfasleep', 'pitchperfect', 'guerchard', '1935s', 'rerated', 'allbut', 'halfs', 'wylers', 'mcgoverns', 'immediatelybr', 'positionbr', 'ksun', 'proudbr', 'religionbr', 'venezuelabr', 'staterun', 'completest', 'cutsbr', 'leftbr', 'securitybr', 'againand', 'oquinn', 'spanishbr', 'soonerbr', 'americanmade', 'suckbr', 'cephallonian', 'dvdr', 'tealc', 'clubbr', 'cinematographybr', 'sensesbr', 'closetbr', 'japanbr', '1975br', 'stillers', 'thumbtanic', 'knowi', 'roquevert', 'englishdubbed', 'tarrs', 'obsessivecompulsive', 'oneonone', 'enemiesbr', 'koolaid', 'bathbr', 'filmwith', 'bullettime', 'reediting', 'timeit', 'oneminute', 'studiobr', 'limitedbr', 'cuttingroom', 'darim', 'movieas', 'guidos', 'filmespecially', 'incompetencebr', 'ferbers', 'industrybr', 'eustaches', 'ohalloran', 'unthoughtful', 'lightskinned', 'depressingbr', 'skree', 'foebr', 'boynextdoor', 'quinlin', 'animalbr', 'vietnambr', 'carons', 'tralala', 'animatedbr', 'particolare', 'mussolinis', 'unsatisfyingbr', 'toneddown', 'yearsi', 'silentera', 'reactionbr', 'laughand', 'tamakwa', 'charactersbut', 'filmif', 'stagedbr', 'lorenzos', 'familiarbr', 'gangbr', 'botherbr', 'insidebr', 'selfdeprecating', 'nonchronological']\n",
            "End of iteration 1, added 2000 new labels.\n",
            "Converted 26818 words (3181 misses)\n",
            "Missed words:  ['itbr', 'moviebr', 'filmbr', 'youve', 'werent', 'timebr', 'shouldnt', 'thembr', 'hadnt', 'lowbudget', 'himbr', 'theyve', 'onebr', 'thatbr', 'thisbr', 'mebr', 'storybr', 'bmovie', 'herebr', 'wellbr', 'allbr', 'goodbr', 'couldve', 'overthetop', 'onbr', 'wouldve', 'endbr', 'isbr', 'waybr', 'lifebr', 'againbr', 'outbr', 'theyd', 'therebr', 'reallife', 'writerdirector', 'betterbr', 'moviesbr', 'youbr', 'watchbr', 'badbr', 'filmsbr', 'toobr', 'herbr', 'theyll', 'upbr', 'oneliners', 'hitchcocks', 'spoilersbr', 'charactersbr', 'itll', 'mustsee', 'scenebr', 'peoplebr', 'screenbr', 'workbr', 'bebr', 'morebr', 'seenbr', 'showbr', 'everyones', 'funnybr', 'worldbr', 'etcbr', 'timesbr', 'inbr', 'madefortv', 'thoughtprovoking', 'wifes', 'otherbr', 'onedimensional', 'rolebr', 'notbr', 'daybr', 'aboutbr', 'awaybr', 'middleaged', 'funbr', 'anyones', 'eitherbr', 'yearsbr', 'cinemabr', 'familys', 'tobr', 'wasbr', 'muchbr', 'wrongbr', 'plotbr', 'otoole', 'scenesbr', 'characterbr', 'anywaybr', 'dobr', 'pg13', 'offbr', 'everbr', 'comedybr', 'forbr', 'pointbr', 'historybr', 'wellmade', 'shouldve', 'manbr', 'seriesbr', 'withbr', 'performancebr', 'gypo', 'overbr', 'oldfashioned', 'backbr', 'thingbr', 'thoughbr', 'itselfbr', 'fastpaced', 'beforebr', 'placebr', 'bmovies', 'moviei', 'togetherbr', 'endingbr', 'firstrate', 'boringbr', 'drivein', 'thingsbr', 'throughbr', 'mindbr', 'bookbr', 'africanamerican', 'musicbr', 'experiencebr', 'nowbr', 'awfulbr', '10br', 'audiencebr', 'sobr', 'actingbr', 'scriptbr', 'familybr', 'actorsbr', 'somethingbr', 'downbr', 'knowbr', 'castbr', 'disappointedbr', 'donebr', 'seebr', 'worsebr', 'wellwritten', 'sensebr', 'welldone', 'kubricks', 'laterbr', 'yearold', 'madebr', 'rightbr', 'bestbr', 'warbr', 'lovebr', 'daysbr', 'elsebr', 'nothingbr', 'xfiles', 'minutesbr', 'moneybr', 'crapbr', 'stuffbr', 'deathbr', 'didbr', 'austens', 'selfindulgent', 'tongueincheek', 'jobbr', 'whove', 'liveaction', 'spoilerbr', 'entertainingbr', 'himselfbr', 'partbr', 'rolesbr', 'ideabr', 'happenbr', 'originalbr', 'hisher', 'facebr', 'flickbr', 'possiblebr', 'enoughbr', 'directtovideo', 'eastwoods', 'goodlooking', 'greatbr', 'fulcis', 'halfhour', 'fulllength', 'reasonbr', 'interestingbr', 'chaplins', 'linebr', 'whod', 'precode', 'todaybr', 'sg1', 'classicbr', 'exwife', 'mustve', 'selfcentered', 'alonebr', 'eyesbr', 'casebr', 'wellacted', 'sciencefiction', 'homebr', 'actorbr', 'selfabsorbed', 'thatll', 'throughoutbr', 'starsbr', 'yourselfbr', 'stupidbr', 'believablebr', 'dvdbr', 'yearbr', 'othersbr', 'performancesbr', 'childrenbr', 'rosemarys', 'talentbr', 'goodnatured', 'insteadbr', 'nightbr', 'whybr', 'thinkbr', 'straighttovideo', 'ownbr', 'frombr', 'actionbr', 'zelah', 'genrebr', 'dramabr', 'altmans', 'firsttime', 'seagals', 'actorsactresses', 'imho', 'watchingbr', 'aroundbr', 'dialoguebr', 'onesided', 'societys', 'differentbr', 'levelbr', 'blackandwhite', 'saybr', 'directorwriter', 'slowmotion', 'lotbr', 'allamerican', 'slowmoving', 'pacinos', 'arebr', 'qualitybr', 'brilliantbr', 'anotherbr', 'starbr', 'truebr', 'livesbr', 'themselvesbr', 'picturebr', 'whilebr', 'miikes', 'directorbr', 'argentos', 'laughbr', 'premingers', 'lynchs', 'momentbr', 'productionbr', 'ofbr', 'beginningbr', 'involvedbr', 'longbr', 'masterpiecebr', 'messbr', 'laughsbr', 'oscarwinning', 'versionbr', 'selfconscious', 'playbr', 'songbr', 'girlbr', 'excellentbr', 'gamebr', 'exgirlfriend', 'anythingbr', 'featurelength', 'buddys', 'canbr', 'carface', 'doesbr', 'episodebr', 'coursebr', 'momentsbr', 'cmon', 'yetbr', 'nextbr', 'movieand', 'twodimensional', 'ladys', 'tvbr', 'likebr', 'keatons', 'motherbr', 'doodlebops', 'filmand', 'hilariousbr', 'downtoearth', 'checkbr', 'scoobydoo', 'materialbr', 'namebr', 'crimebr', 'camerabr', 'linesbr', 'budgetbr', 'spielbergs', 'bgrade', 'bigbudget', 'meanspirited', 'porkys', 'creditsbr', 'kidsbr', 'followbr', 'opinionbr', 'patheticbr', 'cringeworthy', 'chancebr', 'terriblebr', 'gobr', 'artbr', 'sexbr', 'carreys', 'excon', 'spoton', 'stopmotion', 'countrybr', 'effectbr', 'wellcrafted', 'modernday', 'reasonsbr', 'lostbr', 'pleasebr', 'custers', 'brotherinlaw', 'fatherbr', 'imdbs', 'rrated', 'entertainmentbr', 'schoolbr', 'leastbr', 'flesheating', 'anyonebr', 'titlebr', 'oscarnominated', 'runofthemill', 'illfated', 'grossout', 'shotbr', 'hustons', 'onesbr', 'reviewbr', 'doorbr', 'meanbr', 'conclusionbr', 'nononsense', 'thebr', 'fishmen', 'wellmeaning', 'superbbr', 'fansbr', 'connerys', 'aheadbr', 'situationbr', 'samebr', 'ridiculousbr', 'viewingbr', 'childbr', 'slowpaced', 'sotnikov', 'roombr', 'xmen', 'actbr', 'agobr', 'hollywoodbr', 'branaghs', 'secondrate', 'mistakebr', 'oncebr', 'animationbr', 'finishbr', '2br', 'comparisonbr', 'guysbr', 'bosss', 'erabr', 'gilligans', 'latebr', 'reallybr', 'tvmovie', 'citybr', 'okbr', 'havebr', 'screenplaybr', 'surprisebr', 'filmthe', 'actressbr', 'piecebr', 'thrillerbr', 'heartbr', 'amazingbr', '810br', 'wholebr', 'gentlemans', 'thenbr', 'eyebr', 'itthe', '710br', 'viewerbr', 'interestbr', 'awardwinning', 'garbagebr', 'womenbr', 'frankies', 'nobudget', 'elviras', 'enjoybr', 'careerbr', 'largerthanlife', 'showsbr', 'survivebr', 'futurebr', 'lessbr', 'housebr', 'personbr', 'effectsbr', 'willbr', 'hadbr', 'revengebr', 'rollbr', 'realbr', 'alices', 'seeingbr', 'billys', 'humorbr', 'hardbr', 'violencebr', 'americabr', 'comingofage', 'scorseses', 'diesbr', 'twobr', 'sevenbr', 'soapopera', 'viewbr', 'atmospherebr', 'deadbr', 'examplebr', 'moviethe', 'hellbr', 'fastforward', 'friendsbr', 'filmnoir', 'mightve', 'murderbr', 'jeanluc', 'effortbr', 'developmentbr', 'cusacks', 'killerbr', 'goodthe', 'dialogbr', 'televisionbr', 'periodbr', 'harlins', 'andbr', 'coolbr', 'matterbr', 'realitybr', 'miyazakis', 'guybr', 'elinore', 'eightbr', 'gorehounds', 'sequelbr', 'wastedbr', 'spocks', 'offerbr', 'everybodys', 'anybodys', 'enjoyablebr', 'dexters', 'headbr', 'storiesbr', 'topbr', 'finalebr', 'halfbaked', 'disappointmentbr', 'neednt', 'selfdestructive', 'seriouslybr', 'nc17', 'daylewis', 'shinae', 'carells', 'itit', 'cheezy', 'problembr', 'centurybr', 'wifebr', 'khouris', 'pastbr', 'mindnumbing', 'friendbr', 'maléfique', 'noname', 'firstbr', 'tarantinos', 'fatherson', 'matuschek', 'farbr', 'nsna', 'beattys', 'getbr', 'womanbr', 'allout', 'powerbr', 'foxs', 'movieit', 'neros', 'bhorror', 'stylebr', 'hamfisted', 'matchbr', 'noroi', 'carebr', 'directionbr', 'osullivan', 'kurtzs', 'bloodbr', 'earlierbr', 'standardsbr', 'dreambr', 'brandos', 'sadbr', 'oldschool', 'goingson', 'didntbr', 'everythingbr', 'icet', 'threebr', 'everyonebr', 'rochesters', 'rubbishbr', 'annoyingbr', 'foxxs', 'alivebr', 'storywise', 'allaround', 'guessbr', 'alongbr', 'rohmers', 'closebr', 'hoursbr', 'imdbcom', 'lovehate', 'releasebr', 'newbr', 'walshs', 'mordrid', 'shortbr', 'comebr', 'dammes', 'myselfbr', 'scarybr', 'freddys', 'townbr', 'welldeveloped', 'classbr', 'injokes', '1010br', 'kurosawas', 'selfrespect', 'commentbr', 'alisons', 'nicebr', 'goldsworthys', 'characterdriven', 'eyecandy', 'chanwook', 'seasonbr', 'rotj', 'godbr', 'helpbr', 'partsbr', 'railly', 'fellinis', 'selfesteem', 'jokebr', 'expectationsbr', 'hohum', 'bronsons', '8510', 'doingbr', 'fantasticbr', 'gilleys', 'recommendedbr', 'nobr', 'bluebeards', 'messagebr', 'daughterbr', 'apartbr', 'atbr', 'fassbinders', 'hoechlin', 'paperhouse', 'draculas', 'mindnumbingly', 'rififi1955', 'bakshis', 'mgms', 'bythenumbers', 'oneliner', 'offthewall', 'kickass', 'catandmouse', 'nonebr', 'soonbr', 'wellintentioned', 'littlebr', 'kahns', 'beenbr', 'culturebr', 'ensuesbr', 'lowrent', 'worstbr', 'woodys', 'paperthin', 'costsbr', 'nancys', 'ollies', 'relationshipbr', 'openminded', 'diebr', 'horrorcomedy', 'sincebr', 'restbr', 'businessbr', 'everythings', 'drawnout', 'laughablebr', 'expectbr', 'tearjerking', 'indeedbr', 'clothesbr', 'amazoncom', 'truthbr', 'dereks', 'exceptionbr', 'societybr', 'wererabbit', 'walkens', 'daytoday', 'perfectionbr', 'firstperson', 'listbr', 'existbr', 'treatbr', 'jeanpierre', 'anansa', 'soundtrackbr', 'wholl', 'motherinlaw', 'oldbr', 'starewicz', 'husbandbr', 'nowadaysbr', 'dullbr', 'scorebr', 'omalley', 'laughoutloud', 'verhoevens', 'alterego', 'naturebr', 'bitbr', 'memorybr', 'jawdropping', 'mcphillip', 'surebr', 'earthbr', 'hasbr', 'blacksnake', 'jeanclaude', 'subtitlesbr', 'actedbr', 'videobr', 'episodesbr', '1br', 'wideeyed', 'jimis', 'makingbr', 'longsuffering', 'worksbr', 'comingbr', 'gordonlevitt', 'fashionbr', 'filmingbr', 'inyourface', 'kidmans', 'erendira', 'whatsoeverbr', 'erics', 'bothbr', 'streeps', 'narvo', 'tmtm', 'brinke', 'gilliams', 'mysterybr', 'markbr', 'backgroundbr', 'fourbr', 'twothirds', 'melvilles', 'intobr', 'whatbr', 'streisands', 'makebr', 'racebr', 'formbr', 'horriblebr', 'novelbr', 'storylinebr', 'getgo', 'projectbr', 'bodybr', 'languagebr', 'mannerbr', 'troublebr', 'polanskis', 'eisensteins', 'fastbr', 'menbr', 'pointlessbr', 'sakebr', 'ff7', 'subjectbr', 'accentbr', 'flatbr', 'belowbr', 'zombiesbr', 'himand', 'oclock', 'lolbr', 'detailsbr', 'endsbr', 'watchablebr', 'workedbr', 'happybr', 'englishlanguage', 'beautifulbr', 'brunos', 'eventbr', 'effortsbr', 'shamebr', 'perspectivebr', 'itbut', 'hollys', 'foreverbr', 'perfectbr', 'perfectlybr', 'twentyfive', 'viscontis', 'respectbr', 'toxie', 'agebr', 'tragedybr', 'tarzans', 'itand', 'actionpacked', 'spacebr', 'cagneys', 'bunuels', 'winnerbr', 'jabbas', 'herselfbr', 'aboveaverage', 'longlost', 'ateam', 'startbr', 'finebr', 'antiamerican', 'happeningbr', 'anymorebr', 'alsobr', 'forgetbr', 'roegs', 'illconceived', 'predictablebr', 'coppolas', 'missionbr', 'kpax', 'littleknown', 'happenedbr', 'redfords', 'ossessione', 'oneofakind', 'exboyfriend', 'washedup', 'otherwisebr', 'feelbr', 'mccools', 'oneman', 'alertbr', 'zboys', 'isntbr', 'somebodys', 'sidneys', 'trybr', 'fanbr', 'babettes', 'danglard', 'cronenbergs', 'forgettablebr', 'aweinspiring', 'fanda', 'demilles', 'clouzots', 'radzoff', 'deadon', 'surprisedbr', 'julias', 'laughterbr', 'availablebr', 'videodvd', 'imdbbr', 'tshirt', 'fingersmith', 'tvseries', 'vadar', 'bazza', 'allthe', 'beethovens', 'marykate', 'pointsbr', 'writingbr', 'rememberbr', 'brynners', 'breakbr', 'latterbr', 'collectionbr', 'selfindulgence', 'actionadventure', 'joness', 'brotherbr', 'disturbingbr', 'booksbr', 'batmans', 'welldirected', 'happygolucky', 'offkilter', 'problemsbr', 'filmit', 'madeup', 'changedbr', 'yknow', 'clichéridden', 'handbr', 'weekbr', 'getsbr', 'anticsbr', 'tshirts', 'choicebr', 'oshea', 'moviebut', 'moviethis', 'unisol', 'unbelievablebr', 'gravebr', 'necessarybr', 'halfassed', 'adaptationbr', 'eventsbr', 'lowgrade', 'slowmo', 'comedys', 'nonsensebr', 'convincingbr', 'onebyone', 'belushis', 'happensbr', 'saidbr', 'heshe', 'theaterbr', 'whateverbr', 'festivalbr', 'selfloathing', 'tripbr', 'yesbr', 'kindbr', 'jackies', 'killedbr', 'selfcontained', 'documentarybr', 'ahole', 'herobr', 'justicebr', 'worldweary', 'chainsmoking', 'kazans', 'dassins', 'soontobe', 'waterbr', 'therere', 'awardbr', 'imaginebr', 'timei', 'boybr', 'okaybr', 'dealbr', 'neededbr', 'geniusbr', 'selfserving', 'upandcoming', 'handsbr', 'highpitched', 'murdererbr', 'antonionis', 'taipe', 'sleepbr', 'selfconsciously', 'alist', 'jokesbr', 'attentionbr', 'tellbr', 'felixs', 'tieh', 'dialouge', 'outofplace', 'sisterbr', 'trelkovsky', 'carlys', 'goauld', 'sliceoflife', 'cormans', 'lematt', 'hitchs', 'successbr', 'effectivebr', 'itits', 'chickflick', 'understandbr', 'valuebr', 'trainbr', '7510', 'karloffs', 'garbos', 'spacecamp', 'sheeta', 'wellcast', 'carlas', '12yearold', 'niros', 'selfpity', 'groundbr', 'soderberghs', 'workingclass', 'premisebr', 'threeway', 'gymkata', 'carltonbrowne', 'feinstone', 'fatebr', 'stanwycks', 'filone', 'gaglia', 'horrorbr', 'categorybr', 'manybr', 'rossitto', '14yearold', 'filmaking', 'washedout', 'quicklybr', 'walts', 'leadbr', 'bottomofthebarrel', 'highclass', 'worthwhilebr', 'flicksbr', 'specialbr', 'poorbr', 'climaxbr', 'circumstancesbr', 'changebr', 'tediousbr', 'thrillerhorror', 'jennifers', 'sandras', 'blandbr', 'consequencesbr', 'companybr', 'lubitschs', 'moocow', 'missedbr', 'planetbr', 'okeeffe', 'unisols', 'universebr', 'selfrespecting', 'sidebr', 'emotionbr', 'gamesbr', 'pointofview', 'seatbr', 'thered', 'terrythomas', 'painbr', 'tripebr', 'beginbr', 'waysbr', 'marions', 'hickland', 'behindbr', 'catbr', 'songsbr', 'lamebr', 'remakebr', 'motherdaughter', 'fastmoving', 'wonderfulbr', 'cultclassic', 'matteroffact', 'hopebr', 'oscarworthy', 'reccomend', 'thoughtbr', 'raisuli', 'shirleys', 'bogosians', 'zgrade', 'hotbr', 'bourvil', 'movingbr', 'warningbr', 'earthshattering', 'suspensebr', 'cleverbr', 'situationsbr', 'howeverbr', 'justforkix', 'druginduced', 'flawsbr', 'importantbr', 'dannys', 'behindthescenes', 'rukhs', 'scalebr', 'sampredo', 'classicsbr', 'officebr', 'releasedbr', 'bogarts', 'werebr', 'morningbr', 'threedimensional', 'latterday', 'pacebr', 'sondheims', 'skammen', 'firstclass', 'bluray', 'wheelchairbound', 'garfields', 'tommys', 'ridebr', 'sharkys', 'duchovney', 'stephanois', 'fantasybr', 'soulbr', 'bigscreen', 'churchbr', 'jeanpaul', 'welldeserved', 'girlsbr', 'thosebr', 'nowherebr', 'btch', 'butbr', 'succeedbr', 'jox', 'kapoors', 'resultbr', 'questionsbr', 'beautybr', 'lengthbr', 'anglosaxon', 'hundstage', 'hardedged', 'ramars', '7yearold', 'goingbr', 'tenbr', 'fullon', 'feelingbr', 'passworthy', 'bossbr', 'viewersbr', 'completelybr', 'playerbr', 'pazu', 'taime', 'pricelessbr', 'animalsbr', 'chabrols', 'noahs', 'datebr', 'selfrighteous', 'powerfulbr', 'livebr', 'secondbr', 'englishbr', 'cartoonbr', 'cheesey', 'personalitybr', 'processbr', 'comedydrama', '10yearold', 'truffauts', 'zetajones', 'editingbr', 'tachiguishi', 'lelands', 'kiplings', 'todesking', 'victimsbr', 'boredombr', 'janmichael', 'langdons', 'starstudded', 'oneil', 'lawbr', 'ourselvesbr', 'wonderbird', 'xica', 'eunjoo', 'disappointingbr', 'cheadles', 'crapfest', 'dekalog', '40yearold', 'thalluri', 'champlains', 'soultaker', 'molloch', 'lesseos', 'sequelsbr', 'cameramans', 'waitbr', 'abovebr', 'schizophreniac', 'scenesthe', 'belowpar', 'pukebr', 'sequencesbr', 'victimbr', 'horsebr', 'zizeks', 'synopsisbr', 'threequarters', 'peacebr', 'selfinflicted', 'strongwilled', 'cheapbr', 'kristoffersons', 'aspectsbr', 'naschys', '310br', 'whitebr', 'extremebr', 'brated', 'crybr', 'windowbr', 'horrormovie', 'ratingsbr', '100br', 'alwaysbr', 'soundbr', 'codirected', 'wellfilmed', 'exhusband', 'worldweariness', 'believedbr', 'koontzs', 'directorsbr', 'lugosis', 'suitbr', 'altogetherbr', 'paltrows', 'sucksbr', 'onejoke', 'nonethelessbr', 'voicebr', 'channelbr', 'kidbr', 'realisticbr', 'dumbbr', 'putupon', 'resultsbr', 'forwardbr', 'firebr', 'memorablebr', 'mabels', 'mouthbr', 'swordfights', 'tensionbr', 'productbr', 'kittys', 'filmbut', 'sobaditsgood', 'turkeybr', 'falks', 'failsbr', 'unscary', 'animes', 'charmbr', 'fatherinlaw', 'stallones', 'actings', 'selfproclaimed', 'louque', 'nonchristians', 'capotes', 'oscarcaliber', 'rapidfire', 'expectedbr', 'bressart', 'kinskis', 'dadbr', 'presentday', 'dieing', 'costellos', 'settingbr', 'welltold', 'badguy', 'oncamera', 'kangho', 'monsterbr', 'diseasebr', 'pedecaris', 'stopbr', 'streetbr', 'jawdroppingly', 'cakebr', 'moviethere', 'westernbr', 'brilliancebr', 'documentarystyle', 'networkbr', 'couldbr', 'andwell', 'sinuhes', 'publicbr', 'golddigging', 'suicidebr', 'amrapurkar', 'gauris', 'otooles', 'overthehill', 'wallbr', 'unnecessarybr', 'mindbending', 'moviea', 'videostore', 'duvalls', 'memoriesbr', 'hourbr', 'factbr', '2the', 'actoractress', 'tourdeforce', 'progressesbr', '30something', 'bolkan', 'madnessbr', 'writerbr', 'twohour', 'polarisdib', 'badlybr', 'oss117', 'waythe', 'badit', 'lianchu', 'gwizdo', 'simplebr', 'blackwhite', 'brideless', 'communitybr', 'xrated', 'documentarylike', 'youngbr', 'pseudointellectual', 'englandbr', 'hardhitting', 'sayingbr', '5year', 'asbr', 'wasis', 'selfdestruction', 'mst3000', 'burakov', 'depthbr', 'anouska', 'awardsbr', 'moviein', 'herzogs', 'leguizamos', 'forgivenbr', 'timetravel', 'jeanlouis', 'mindsbr', 'recomend', 'talebr', 'fword', 'sortof', 'fishoutofwater', 'murdermystery', 'assbr', 'teambr', 'girlfriendbr', 'alreadybr', 'returnbr', 'beliefbr', 'couplebr', 'fightbr', 'sonbr', 'cleancut', 'openended', 'stereotypesbr', 'movieits', 'findbr', 'fallons', 'humourbr', 'thinkingbr', 'himhe', 'romcom', 'pathbr', 'pseudodocumentary', 'hawkings', 'gorebr', 'bandbr', 'plotholes', 'cameosbr', 'completist', 'christines', 'horrorthriller', 'thereand', 'welldrawn', 'turnbr', 'cassavettes', 'actionsbr', 'crichtons', 'beatup', 'imaginationbr', 'ageold', 'sakall', 'portrayalbr', 'bluesbr', 'surprisesbr', 'illadvised', 'mostbr', 'usualbr', 'stepbystep', 'allinall', 'raveenas', 'timmys', 'createdbr', 'gespenster', 'exmrs', 'dumbeddown', 'ggirl', 'iibr', '2dimensional', 'freshfaced', 'chappelles', 'halfdecent', 'marsillach', 'itthey', 'dellorco', 'dahls', 'abilitybr', 'secondsbr', 'freespirited', 'trashbr', 'intendedbr', 'storythe', 'watchedbr', 'postworld', 'devitos', 'noirbr', 'wurb', '3br', 'wellpaced', 'crazybr', 'slomo', 'selfreference', 'shakespearebr', 'teacherbr', 'mid90s', 'kingbr', 'hackenstein', 'environmentbr', 'venantini', 'martys', 'hahaha', 'sunnys', 'agentbr', 'wowbr', 'setsbr', 'thatd', 'martialarts', 'sebergs', 'mitchums', 'loversbr', 'zabalza', 'accidentbr', 'tolkiens', 'alikebr', 'daninsky', 'gadgetmobile', 'sauras', 'lv2', 'lv1', 'randys', 'epods', 'sevenups', 'sharpes', 'hasbeen', 'sickbr', 'martinos', 'satirebr', 'winbr', '90minute', '7eventy', 'themand', 'guntoting', 'alqaeda', 'writerdirectors', 'filmschool', 'selfconfidence', 'marlows', 'halfbrother', 'shatners', 'miserybr', 'endedbr', 'matrixbr', 'onlocation', 'middlebr', 'wellplayed', 'wellworn', 'rulebr', 'lowbudgeted', 'eurohorror', 'playingbr', 'artistbr', 'mid70s', 'pricebr', 'drek', 'dreckbr', 'salmans', 'secretbr', 'longerbr', 'skillsbr', 'torturebr', '1970sbr', 'germanybr', 'sadsack', 'dialoge', 'huhbr', 'onlybr', 'funnierbr', 'commentsbr', 'noticebr', 'dontbr', 'endthe', 'numbersbr', 'gormless', 'lifethe', 'freebr', 'badmovie', 'uboat', 'joshs', 'moviesbut', 'rememberedbr', 'carbr', 'scifibr', 'seabr', 'moviejust', 'wantbr', 'closeknit', 'hardearned', 'afterbr', 'producerdirector', 'hillarious', 'kermits', 'hensons', 'raimis', 'excitementbr', 'amateurishbr', 'goodbut', 'spotbr', 'triggerhappy', 'almodovars', 'generationbr', 'directingbr', 'selfimportant', 'odonnell', 'boormans', 'husbandwife', 'livein', 'villainbr', 'stoppedbr', 'jailbr', 'impressivebr', '3the', 'allit', 'partybr', 'lesserknown', 'advicebr', 'ghosthouse', 'blackbr', 'yawnbr', 'hijinx', 'monstersbr', 'scenerychewing', 'disgustingbr', 'beingsbr', 'rentalbr', 'douchebag', 'taskbr', 'embr', 'rhysdavies', 'overallbr', 'orderbr', 'epicbr', 'followingbr', 'semiserious', 'milyang', 'digicorp', 'sjöströms', 'körkarlen', 'mustnt', 'downandout', 'funfilled', 'followsbr', 'excitingbr', 'moronie', 'adultsbr', 'readbr', 'readingbr', 'welli', 'annmargret', 'livingbr', 'commentarybr', 'piecesbr', 'selfmade', 'answerbr', 'fishburnes', 'wellthought', 'tarrantino', 'rewatching', '5br', 'unlikelybr', '2007br', 'fasttalking', 'approachbr', 'presentbr', 'professionbr', 'mahlers', 'thisand', 'deservedbr', 'edgeoftheseat', 'boxbr', 'tromas', 'awesomebr', 'filmmakingbr', 'godell', 'anythings', 'darvi', 'knowitall', 'insanitybr', 'moonbr', 'setbr', 'legendbr', 'governmentbr', 'moviesthe', 'sharkman', 'madefortelevision', 'coulardeau', 'handtohand', 'leaderbr', 'respectivelybr', 'ratebr', 'actioncomedy', 'buildingbr', 'confusingbr', 'mishimas', 'kazihiro', 'seenand', 'gelwix', 'redemptionbr', 'mclaglens', 'schwarzeneggers', 'scopebr', 'planbr', 'farcry', 'columbos', 'doubtbr', 'miseenscene', 'offkey', 'gungho', 'encounterbr', 'historys', 'differencebr', 'bybr', 'dangerfields', 'contentbr', 'quaien', 'actioners', 'eyepopping', 'beingbr', 'courtenays', 'lizs', 'goodbad', 'ignoredbr', 'lipsync', 'twains', 'weakbr', 'lifechanging', 'nearperfect', 'believebr', 'adventurebr', 'naughtons', 'rourkes', 'selfdefense', 'hannas', 'maruschka', 'lightbr', 'dumbrille', 'voights', 'nobodys', 'briss', 'bythebook', 'endearingbr', 'lestats', 'walkon', 'deads', 'versionsbr', 'chavezs', 'mummys', '110br', 'powersbr', 'fullblown', 'cusak', 'wellthe', 'caligulas', 'controlbr', 'thoughtout', 'forthbr', 'edgebr', 'lookingbr', 'moviesand', 'thisi', 'reunionbr', 'vonneguts', 'funloving', 'selfaware', 'depardieus', 'smithbr', '210br', 'menacebr', 'algrens', 'oater', 'halfdozen', 'afroamerican', 'afroamericans', 'intensebr', 'islandbr', 'cutbr', 'gembr', 'notthe', 'storebr', 'wellexecuted', 'entertainedbr', 'evilbr', 'twistbr', 'sillybr', 'amazedbr', 'puppydog', 'fackin', 'nationbr', 'thingthe', 'knowsbr', 'folksbr', 'reviewsbr', 'hornbys', 'alja', 'triedbr', 'jeanmarc', 'shootem', 'ropey', 'maneating', 'scantilyclad', 'versioni', 'missbr', '7br', 'drybr', 'punbr', 'humanbr', 'tiein', 'footagebr', 'oneand', 'affairbr', 'surprisingbr', 'bassenger', 'compellingbr', 'silencebr', 'succeededbr', 'exitingfunnydramatic', 'iswas', 'sarahs', 'dresslers', 'lastbr', 'barbr', 'bangup', 'disasterbr', 'screwfly', 'clooneys', 'doesntbr', 'wellhandled', 'beginsbr', 'holmess', 'dogooder', 'servillo', 'toyoji', 'lucass', 'larraz', 'purposebr', 'darkwolf', 'statesbr', 'stagebr', 'surov', 'neonoir', 'novaks', 'kennicut', 'sallys', '500000', 'maughams', 'techniquesbr', 'tonebr', 'ariauna', 'starewiczs', 'nobrainer', 'gutwrenching', 'twentytwo', 'moviesthis', 'btas', 'lenos', 'lewiss', 'watereddown', 'heavenbr', 'producedbr', 'shockbr', 'callgirl', 'dominoe', 'realismbr', 'straightlaced', 'goesbr', 'beethovan', 'fewbr', 'hairbrained', 'crosseyed', 'toughguy', 'suckedbr', 'lookbr', 'screambr', 'blahbr', 'hotelbr', 'factorbr', 's2t', 'substancebr', 'conceptbr', 'europebr', 'kannathil', 'somebr', 'afraidbr', 'ladybr', 'americanbr', 'claires', 'ratingbr', 'tomasis', 'venantino', 'actingwise', 'radiobr', 'methe', 'tennants', 'inevitablebr', 'ambr', 'avpr', 'sellecks', 'klaskycsupo', 'timeand', 'nekromantik', 'vampiros', 'deepbr', 'touchingbr', 'dondeloro', 'straightbr', 'mamets', 'clints', 'ultraorthodox', '2hour', 'mildmannered', 'ww11', 'rosss', 'hairbr', 'premminger', 'akyroyd', 'lapadite', 'sapsorrow', 'aristorcats', 'easybr', 'highprofile', 'divorcebr', 'himher', 'sebastians', 'namis', 'easebr', 'katharines', 'sasori', 'laughtrack', 'jarda', 'appolonia', 'syberberg', 'vampiress', 'kerching', 'sissis', 'addicus', 'tabonga', 'soske', 'syberbergs', 'howbr', 'diedbr', 'darkhunters', 'yearsbut', 'joannas', 'dillingers', '4br', 'timewaster', 'pofaced', 'underlit', 'ariels', 'notsogood', 'murphybr', 'twicebr', 'drugaddicted', 'sequal', 'madeforcable', 'complaintsbr', 'murdersbr', 'uselessbr', 'deneuves', 'oneline', 'richies', 'featuresbr', 'laughingbr', 'pacula', 'himbut', 'writtenbr', 'uninterestingbr', 'someonebr', 'furtherbr', 'berkowitzs', 'cluebr', 'offcamera', 'zudina', 'usabr', 'viceversabr', 'stationbr', 'bedbr', 'appealbr', 'golanglobus', 'greeneggs', 'nipar', 'badguys', 'finneys', 'hitandrun', 'individualbr', 'impressedbr', 'nouvellefrance', 'somehowbr', 'dumbs', 'worthbr', 'suckfest', 'penryjones', 'audiencesbr', 'timesthe', 'doubleedged', 'wellbut', 'snorefest', 'lengle', 'familyfriendly', 'interestedbr', 'floorbr', 'muchneeded', 'hackfords', 'toand', 'ideasbr', 'suspectbr', 'fiveminute', 'obviousbr', 'ladiesbr', 'shos', 'afterdark', 'amys', '1955br', 'jpii', 'helpedbr', 'thisa', 'elementbr', 'failbr', 'selfinvolved', 'postrevolutionary', 'rockbottom', 'prolly', 'exlover', 'touchyfeely', 'cheesebr', 'municipalians', 'cuttingedge', 'oconnors', 'offensivebr', 'masterbr', 'weirdbr', 'jessicas', 'withinbr', 'crappiness', 'ministerbr', 'itthere', 'sebastiens', 'slowbr', 'examplesbr', 'fashionatas', 'actuallybr', 'sluttish', 'wouldbr', 'directorscreenwriter', 'fascinatingbr', 'groaninducing', 'showbut', 'galaxina', 'sttng', 'panzrams', 'normalbr', 'relationshipsbr', 'stunningbr', 'selfappointed', 'spaceys', 'mid80s', 'bfilm', 'appollo', 'somewherebr', 'lifethreatening', 'usedbr', 'characterhe', 'moodbr', 'filmirage', 'wasntbr', 'corniest', 'meaningbr', 'everreliable', 'gainsbourgh', 'wellmannered', 'speakbr', 'beforeand', 'timelinebr', 'creditbr', '1980sbr', 'seemsbr', 'loessers', 'crimesbr', 'glassbr', 'hangglider', 'blankfield', 'rockbr', 'slackjawed', 'basingers', 'tillys', 'thisthe', 'investigationbr', 'laughless', 'milebr', 'unfoldsbr', 'improvementbr', 'lundgrens', 'lowbr', 'toldbr', 'hisbr', 'plusbr', 'hitbr', 'scottthomas', 'levelsbr', 'farscapes', 'romancebr', 'englishspeaking', 'burntout', 'centuryfox', '80sbr', 'hlots', 'apartmentbr', 'softfocus', 'waterss', 'createsbr', 'camerasbr', 'justins', 'lowlevel', 'malicks', 'rekert', 'seasonsbr', 'heflins', 'bennys', 'doublecrossing', 'landos', 'downonhisluck', 'desertbr', 'reliefbr', 'conartist', 'stewartmann', 'sanghyeon', 'babybr', 'dreamsbr', '9yearold', 'fearbr', 'wordsbr', 'actiondrama', 'halloweenbr', 'impactbr', 'ashenbach', 'razorsharp', 'songanddance', 'measurebr', 'silverhaired', 'shahrukhs', 'thrillbr', 'bobba', 'revealedbr', 'misleadingbr', 'unfortunatelybr', 'windbr', 'mitchs', 'excop', 'needbr', 'amandas', 'onand', 'flavorsome', 'suleimans', 'marketbr', 'completedbr', 'edelmans', 'noisebr', 'vampiresbr', 'bflick', 'figurebr', 'threehour', 'britcoms', 'ustinovs', 'dignitybr', 'blaxpoitation', 'truetolife', 'termsbr', 'doghi', 'emmas', 'activitiesbr', 'continuedbr', 'jonesbr', 'issuesbr', 'completebr', 'computergenerated', 'dimensionbr', 'wellproduced', 'anwars', 'differentlybr', 'paulas', 'chambara', 'wellstaged', 'williamsbr', 'humanitybr', 'allencompassing', 'deliverybr', 'bahranis', 'philosophybr', 'rewatched', 'jacksonbr', 'praisebr', 'superiorbr', 'popculture', 'ramóns', 'ninebr', 'grunick', 'criticsbr', 'oftenbr', 'highpowered', 'peckinpahs', 'responsibilitybr', 'optionbr', 'ritas', 'peckers', 'devilbr', 'castingbr', 'everywherebr', 'jangs', 'spiritbr', '15year', 'pixars', 'novelsbr', 'saysbr', 'dramacomedy', 'actorsthe', 'leebr', 'ohand', 'timesbut', 'digressbr', 'combinedbr', 'technicolorbr', 'stéphanois', 'survivalbr', 'wellsuited', 'missingbr', 'kuzcos', 'heartstopping', 'listenbr', 'sfhorror', '3hour', 'demonsbr', 'romebr', 'lockes', 'clichée', 'humanitys', 'grangers', 'selfreferential', 'playsbr', 'herethe', 'dropdead', 'flashbacksbr', 'sinbr', 'productionsbr', 'eveningbr', 'picturesbr', 'dallesandros', '20something', 'maxbr', 'mgmua', 'ownerbr', 'nonmainstream', 'cnnnn', 'travoltas', 'nightsbr', 'boatbr', 'properlybr', 'disappointbr', 'seriesi', 'factorybr', '3strip', 'mentallychallenged', 'camerlingo', 'allreds', 'astroesque', 'thati', 'hupperts', 'fidos', 'musicalbr', 'kiddingbr', 'venezuelas', 'streetsbr', 'contextbr', 'ananka', 'nonrelated', '910br', 'boyfriendbr', 'garlins', 'factsbr', 'juliabr', 'indahouse', 'samanthas', 'verdis', 'onhand', 'oneoff', 'craftbr', 'bestknown', 'gotbr', 'crowdbr', 'wellshot', 'witchs', 'fatherfigure', 'lifeand', 'enjoymentbr', 'hawns', 'youthbr', 'succeedsbr', 'mediabr', 'witherspoons', 'fullbodied', 'favorbr', 'catspaw', 'stickbr', 'armsbr', 'onenight', 'dancebr', 'tworeel', 'fwords', 'canoing', 'handsdown', 'fullfledged', 'embarrassingbr', 'branaugh', 'incrediblebr', 'rassimov', 'authenticlooking', 'selfdiscovery', 'coasterbr', 'wittiness', 'sawbr', 'highschoolers', 'hestons', 'mankinds', 'locationbr', 'attackbr', 'scifihorror', 'bazzoni', 'cassevetes', '15yearold', 'scuddamore', 'midlers', 'yeahbr', 'pollacks', 'alltogether', 'carfaces', 'franchisebr', 'britneys', 'maltins', 'sabus', 'wellplaced', 'unfunniest', 'destinybr', 'minebr', 'heavyduty', 'fakebr', 'wonderous', 'plottwists', 'doesent', 'toughasnails', 'pagets', 'earsbr', 'centurys', 'scenarists', 'lowerclass', 'halfbr', 'expressionbr', 'decentbr', 'hanekes', 'countbr', 'cutebr', 'detectivebr', 'scriptsbr', 'cosgroves', 'sentencebr', 'countsbr', 'ramons', 'welltimed', 'centerbr', 'twodisc', 'nonamerican', 'meand', 'softporn', 'keggs', 'astaires', 'thrillsbr', 'karwais', 'writersbr', 'runins', 'valuesbr', 'secondtier', 'nuditybr', 'africanamericans', 'crisisbr', 'drablow', 'welljudged', 'horrorfilm', 'dingalingless', 'turds', 'bavas', 'welltodo', 'mazurki', 'lumets', 'maxs', 'gomeda', 'selfassured', 'fiveyear', '2001s', 'alienbr', 'catsbr', 'californiabr', 'gaythemed', 'avoidbr', '2001br', 'awebr', 'confusionbr', 'unentertaining', 'malkovichs', 'pornbr', 'directer', 'acceptablebr', 'despairbr', 'crappiest', 'londonbr', 'post911', 'shownbr', 'messedup', 'sirks', 'gojoe', 'karlofflugosi', 'camebr', 'wellused', 'thinbr', 'nonenglish', 'sarnos', 'hahahaha', 'brancovis', 'prizzis', 'partanna', 'carrieanne', 'sagans', 'suchbr', 'bodycount', 'potbr', 'unwatchablebr', 'supportbr', 'jlb', 'solino', 'everytown', 'hmmmbr', 'irritatingbr', 'sabrinas', 'knowledgebr', 'sinisterbr', 'dansu', 'choule', 'dangerbr', 'doublefeature', 'kishibe', 'crosssection', 'actionthriller', 'corebr', 'pabsts', 'thirdworld', 'movieshe', 'toulons', 'beastbr', 'crappier', 'wynorskis', 'mfumu', 'deadend', 'sisterinlaw', 'fictionbr', 'nonactor', 'drugdealing', 'livedbr', 'nightmarebr', 'pasolinis', 'charel', 'demisebr', 'allthis', 'miyazawas', 'hotchkins', 'microbudget', 'leroys', 'alittle', 'funnyi', 'clearbr', 'allpowerful', 'diaboliques', 'steeman', 'workingbr', 'calson', 'timethe', 'absurdbr', 'byrons', 'unfunnybr', 'reshamiya', 'guinnesss', 'cgrade', 'wirey', 'shotsbr', 'wishywashy', 'fcking', 'editedbr', 'jp3', 's2rd', 'filmmakersbr', 'semifamous', 'betweenbr', 'viewsbr', 'schepisis', 'decisionbr', 'ouimets', 'loserbr', 'shtty', 'medusan', 'partnerbr', 'keiths', 'mumbojumbo', 'thatand', 'cruellas', 'impossiblebr', 'directorwriters', 'easilybr', 'lorres', 'muthamittal', 'removedbr', 'solonitsyn', 'seriousbr', 'hivaids', 'woodbr', 'buellers', '1930sbr', 'greenstreets', 'kikuno', 'miserablybr', 'revolutionbr', 'breillats', 'nazarin', 'redblooded', 'timons', 'movebr', 'waiman', 'marenghis', 'confusedbr', 'caresbr', 'bigname', 'sunways', '250000', 'fightingbr', 'lorens', 'thoughtsbr', 'sayori', 'substory', '1½', 'tapebr', 'sightbr', 'unbearablebr', 'potempkin', 'goodit', 'thembut', 'forgottenbr', 'gutbusting', 'puyn', 'backcolor', 'dosent', 'availbr', 'treasurebr', 'unforgettablebr', 'conditionbr', 'hatbr', 'wirework', 'scenerybr', 'areasbr', 'ansom', 'sacrificebr', 'prisonbr', 'movieor', 'lowcut', 'selfbr', 'coasterwaldau', 'signbr', 'cartoonsbr', 'resolutionbr', 'sciencebr', 'boobage', 'warnedbr', 'anistons', 'shouldersbr', '400000', 'tessari', 'audrie', 'vehiclebr', 'prettyboy', 'bournes', 'skinemax', 'touchbr', 'rrating', 'moovie', 'fakelooking', 'dogsbr', 'orwells', 'fortyfive', 'rickys', 'generalbr', 'suyeon', 'knightleys', 'nonexistentbr', 'catwomen', 'christys', 'timebut', 'wherebr', 'runbr', 'eyeopening', 'taejoo', 'transcendenz', 'highquality', 'webr', '1971br', 'schraders', 'expartner', 'murderedbr', 'sueli', 'generousbr', 'evelyns', 'wellconstructed', 'giovannas', 'parkbr', 'upand', 'godards', 'arnies', 'humansbr', 'photographybr', 'allenbr', 'siberling', 'neweyes', 'screweyes', 'elementsbr', 'gustavs', 'enjoyability', 'vidals', 'feinstones', '6the', 'falon', 'joybr', 'frostnixon', 'babyfaced', 'ludicrousbr', 'flagwaving', 'torgo', 'trelayne', 'nwh', 'makebelieve', 'soutendijk', 'edgeofyourseat', 'italianamerican', 'kieslowskis', 'talkbr', 'deservebr', 'zandalee', 'jiwoon', 'segals', 'bronenosets', 'potyomkin', 'guetary', 'anybr', 'jyo', 'bhoomika', 'teenslasher', 'patroni', 'costagavras', 'proamerican', 'morverns', 'goroshkov', 'bashki', 'womeninprison', 'tbirds', 'mysterythriller', 'vagone', 'letto', 'happinessbr', 'glenglenda', 'moviethat', 'tvfilm', 'belowaverage', 'nieztsche', 'malefemale', 'buchfellner', 'trents', 'erikas', 'ichikawas', 'spoorloos', 'artistsong', 'cdplayer', 'brysomme', 'tajs', 'handdrawn', 'fuckland', 'mowan', 'moroncommandos', 'overtheshoulder', 'pumpkinheaded', 'locataire', 'includedbr', 'driveins', 'hillbr', 'shootemup', 'framebr', 'cuecard', 'schemebr', '15minute', 'stevebr', 'sr71', 'f15s', 'gallactica', 'uniformbr', 'actorsthey', 'uptodate', 'megans', 'abilitiesbr', 'isand', 'selfdeprecation', 'flyonthewall', 'fullfrontal', 'abouti', 'topquality', 'griefbr', 'lipsynching', 'lousybr', 'chickenbr', 'moorebr', 'amitabhs', 'sockpuppet', 'noones', 'bigcity', 'stalebr', 'hamills', 'gazarra', 'fastmotion', 'flipflops', 'threeact', 'extentbr', 'cowboybr', 'averagebr', 'pg13br', 'dilettantish', 'convictionbr', 'flatleys', 'blablabla', 'thesebr', 'techniquebr', 'itlike', 'uhhuh', 'comedianbr', 'lacklusterbr', 'puckoon', 'placesbr', 'breathtakingbr', 'vaselino', 'postdubbed', 'archiveorg', 'clunks', 'albiet', 'bestworst', 'meanlooking', 'successfulbr', 'perverseness', 'druggedout', 'naura', 'kruschen', 'feltbr', 'nonanimated', 'polebr', 'fishbr', 'nutjob', 'sbaraglia', 'understandablebr', 'anybodybr', '14year', 'extrasbr', 'faultbr', 'wellheeled', 'fiascobr', 'comedyi', 'blueeyed', 'lohans', 'countriesbr', 'renfros', 'blondhaired', 'brookss', 'barbeaus', 'sobiesky', 'yuckbr', 'lengles', 'deliveredbr', 'campbr', 'boardbr', 'foundbr', 'basebr', 'endoftheworld', 'fujimoris', 'onebyonebr', 'highranking', 'artistsbr', 'imagebr', 'aksar', 'udita', 'parés', '1000000', 'lesters', 'mobbr', 'movieso', 'slasherhorror', 'agendabr', 'risebr', 'graboids', 'ughbr', 'braincells', 'highend', 'drivelbr', 'castmembers', 'breastsbr', 'talksbr', 'scenewhich', 'musicalcomedy', 'halfcaste', 'mcdermotts', 'studentbr', 'horribleness', 'vanne', 'stereobr', 'fourstar', 'shorterbr', 'lossbr', 'liebr', 'aliensbr', 'idiotbr', 'late60s', 'noisesbr', 'bigbr', 'birdbr', 'pollonia', 'illfitting', 'usebr', 'wildeyed', 'nonchristian', 'ffvii', 'contrivedbr', 'spotsbr', 'displaybr', 'cornerbr', 'convolute', 'producerswriters', 'wowthis', 'unerotic', 'outbut', 'directedbr', 'nonhorror', 'collegebr', 'exmodel', 'motivesbr', 'basedbr', 'secondhalf', 'keiras', 'mst3ks', 'snoozefest', 'attitudebr', 'competentbr', 'ashmith', 'stirba', 'komizu', 'goreeffects', 'appreciationbr', 'potentialbr', 'headachebr', 'kosleck', 'odins', 'battlebr', 'innercity', 'selfcentred', 'agreebr', 'runningbr', 'dressedbr', 'emilys', 'bizarrebr', 'drossbr', 'backand', 'translationbr', 'explainbr', 'nicelooking', 'hitormiss', 'hasselhoffs', 'accomplishmentbr', 'bogstandard', 'gurning', 'sucky', 'bluegray', 'bombbr', 'noticedbr', 'deafmute', 'k911', 'filmmakerbr', 'greatlooking', 'channelsurfing', 'dansons', 'poorlymade', 'poopie', 'aboundbr', 'selfparody', 'moviewell', 'neonazi', 'terriblethe', 'roddenberrys', 'waaay', 'hardbitten', 'riccis', '1997s', 'ators', 'littleseen', 'supermans', 'killsbr', 'halfwits', 'likablebr', 'wannabee', 'crudebr', 'poprock', 'virusbr', 'helltown', 'repeatbr', '19yearold', 'scifiaction', 'vomitbr', 'geilgud', 'cushings', 'payperview', 'vaugier', 'homemovie', 'charmingbr', 'elsewherebr', 'taylorcompton', 'alleybr', 'onetenth', 'laboratorybr', 'particularbr', 'offbroadway', 'convincinglybr', 'masseys', 'thoughit', 'charactersthe', 'abomb', 'theatrebr', 'toobut', 'halfanhour', 'rkos', 'pinnochio', 'sheriffbr', '1988br', 'lappartement', 'carrys', 'wallsbr', '70s80s', 'unnuanced', 'antisoviet', 'courtmartial', 'loveand', 'massacrebr', 'povertyrow', 'westbr', 'leisens', 'forewarnedbr', 'presencebr', 'imaginablebr', 'convincedbr', 'stagestruck', 'marsbr', 'characteractor', 'daddys', 'copybr', 'aroundi', 'nonsequiturs', 'depps', 'uncreditedbr', 'nolls', 'picturepostcard', 'estebans', 'gannons', 'satisfyingbr', 'jetée', 'coffinbr', 'fatherdaughter', 'lindseys', 'needsbr', 'hersbr', 'yodas', 'pottymouthed', 'pâquerette', 'cornillac', 'yelchins', 'cassinelli', 'soldierbr', 'monetero', 'mixedrace', 'pointand', 'ironybr', 'shootemups', 'betrayalbr', 'alltoo', 'herkyjerky', 'artistrybr', 'beautifullybr', 'notsosubtle', 'wildernessbr', 'topbilled', 'baketamon', 'positivebr', 'graspbr', 'appearancebr', 'panandscan', 'nicelybr', 'storydriven', 'passiveaggressive', 'patientsbr', 'subor', 'golubeva', 'everso', 'propagandabr', 'frownland', 'catastrophebr', 'limitsbr', 'overkillbr', 'terrorismbr', 'homeworkbr', 'horrorthrillers', 'giullia', 'turaqistan', 'yonica', 'highstrung', 'seans', 'complimentbr', 'costners', 'paidbr', 'subconcious', 'horrorfantasy', 'bargainbr', 'anglesbr', '4the', 'seenthe', 'evies', 'timetraveling', 'forcefed', 'outofcontrol', 'zerobudget', 'vaders', 'constantlybr', 'presentationbr', 'hungs', 'innocencebr', 'prettybr', 'malles', 'accordinglybr', 'washingtonbr', 'jäniksen', 'vuosi', 'ballsbr', 'facesbr', 'storyplot', 'renying', 'parisbr', 'truelife', 'raperevenge', 'creatorsbr', 'backtoback', 'awkwardbr', 'actordirector', 'bannisters', 'hayworths', 'wellthoughtout', 'selfconfident', 'delightbr', '4000000', '20000000', 'seungup', 'agesbr', 'hystericalbr', 'membersbr', 'lauberge', 'tvshow', 'itthis', 'desirebr', 'frameup', 'rolethe', 'tombr', 'okeefe', 'aynur', 'gencebay', 'spanishamerican', 'freemanville', 'excellentthe', 'etcand', 'neighborhoodbr', 'lavventura', 'stitchesbr', 'soooooo', 'highbr', 'litel', 'standups', 'jodorowskys', 'manawaka', 'hagars', 'selfdefeating', 'angerbr', 'onetrick', 'sexobsessed', 'wahlbergs', 'mocumentary', '1941br', 'questionmarkbr', 'selfawareness', 'thirtythree', 'managebr', 'oceanbr', 'stewartbr', 'kurts', 'areabr', 'postwwii', 'remarkablebr', 'tastebr', 'jobsbr', 'fallbr', '40sbr', 'loudbr', 'waxmans', 'wellbalanced', 'scifis', 'ulmanns', 'sizebr', 'fortunebr', 'doyeon', 'shinaes', 'behaviorbr', 'loveits', 'akshays', 'coccio', 'digicorps', 'unfoldbr', 'valettes', 'manbut', 'youit', 'glauren', 'bunnys', 'correctbr', 'tagores', 'slambang', 'chokher', 'surfacebr', 'formatbr', 'ebaybr', 'fantasticand', 'welldesigned', 'tarsems', 'doppleganger', 'unknownbr', 'dinklepuss', 'codys', 'atwills', 'hairraising', 'soninlaw', 'corsia', 'luckbr', 'dostoyevskys', 'duologue', 'pleasurebr', 'milligans', 'astairerogers', 'pagebr', 'resolvedbr', 'halfasleep', 'pitchperfect', 'guerchard', '1935s', 'rerated', 'allbut', 'halfs', 'wylers', 'mcgoverns', 'immediatelybr', 'positionbr', 'ksun', 'proudbr', 'religionbr', 'venezuelabr', 'staterun', 'completest', 'cutsbr', 'leftbr', 'securitybr', 'againand', 'oquinn', 'spanishbr', 'soonerbr', 'americanmade', 'suckbr', 'cephallonian', 'dvdr', 'tealc', 'clubbr', 'cinematographybr', 'sensesbr', 'closetbr', 'japanbr', '1975br', 'stillers', 'thumbtanic', 'knowi', 'roquevert', 'englishdubbed', 'tarrs', 'obsessivecompulsive', 'oneonone', 'enemiesbr', 'koolaid', 'bathbr', 'filmwith', 'bullettime', 'reediting', 'timeit', 'oneminute', 'studiobr', 'limitedbr', 'cuttingroom', 'darim', 'movieas', 'guidos', 'filmespecially', 'incompetencebr', 'ferbers', 'industrybr', 'eustaches', 'ohalloran', 'unthoughtful', 'lightskinned', 'depressingbr', 'skree', 'foebr', 'boynextdoor', 'quinlin', 'animalbr', 'vietnambr', 'carons', 'tralala', 'animatedbr', 'particolare', 'mussolinis', 'unsatisfyingbr', 'toneddown', 'yearsi', 'silentera', 'reactionbr', 'laughand', 'tamakwa', 'charactersbut', 'filmif', 'stagedbr', 'lorenzos', 'familiarbr', 'gangbr', 'botherbr', 'insidebr', 'selfdeprecating', 'nonchronological']\n"
          ],
          "name": "stdout"
        },
        {
          "output_type": "stream",
          "text": [
            "/usr/local/lib/python3.7/dist-packages/tensorflow/python/keras/engine/sequential.py:455: UserWarning: `model.predict_classes()` is deprecated and will be removed after 2021-01-01. Please use instead:* `np.argmax(model.predict(x), axis=-1)`,   if your model does multi-class classification   (e.g. if it uses a `softmax` last-layer activation).* `(model.predict(x) > 0.5).astype(\"int32\")`,   if your model does binary classification   (e.g. if it uses a `sigmoid` last-layer activation).\n",
            "  warnings.warn('`model.predict_classes()` is deprecated and '\n"
          ],
          "name": "stderr"
        },
        {
          "output_type": "stream",
          "text": [
            "Micro-averaged F1 score on test set: 0.539\n",
            "Accuracy Score:  0.53864\n",
            "----------\n",
            "\n",
            "---------------------------------Threshold =  0.5 ---------------------------------\n",
            "Number of training samples: 2020\n",
            "Unlabeled samples in training set: 2000\n",
            "Converted 26818 words (3181 misses)\n",
            "Missed words:  ['itbr', 'moviebr', 'filmbr', 'youve', 'werent', 'timebr', 'shouldnt', 'thembr', 'hadnt', 'lowbudget', 'himbr', 'theyve', 'onebr', 'thatbr', 'thisbr', 'mebr', 'storybr', 'bmovie', 'herebr', 'wellbr', 'allbr', 'goodbr', 'couldve', 'overthetop', 'onbr', 'wouldve', 'endbr', 'isbr', 'waybr', 'lifebr', 'againbr', 'outbr', 'theyd', 'therebr', 'reallife', 'writerdirector', 'betterbr', 'moviesbr', 'youbr', 'watchbr', 'badbr', 'filmsbr', 'toobr', 'herbr', 'theyll', 'upbr', 'oneliners', 'hitchcocks', 'spoilersbr', 'charactersbr', 'itll', 'mustsee', 'scenebr', 'peoplebr', 'screenbr', 'workbr', 'bebr', 'morebr', 'seenbr', 'showbr', 'everyones', 'funnybr', 'worldbr', 'etcbr', 'timesbr', 'inbr', 'madefortv', 'thoughtprovoking', 'wifes', 'otherbr', 'onedimensional', 'rolebr', 'notbr', 'daybr', 'aboutbr', 'awaybr', 'middleaged', 'funbr', 'anyones', 'eitherbr', 'yearsbr', 'cinemabr', 'familys', 'tobr', 'wasbr', 'muchbr', 'wrongbr', 'plotbr', 'otoole', 'scenesbr', 'characterbr', 'anywaybr', 'dobr', 'pg13', 'offbr', 'everbr', 'comedybr', 'forbr', 'pointbr', 'historybr', 'wellmade', 'shouldve', 'manbr', 'seriesbr', 'withbr', 'performancebr', 'gypo', 'overbr', 'oldfashioned', 'backbr', 'thingbr', 'thoughbr', 'itselfbr', 'fastpaced', 'beforebr', 'placebr', 'bmovies', 'moviei', 'togetherbr', 'endingbr', 'firstrate', 'boringbr', 'drivein', 'thingsbr', 'throughbr', 'mindbr', 'bookbr', 'africanamerican', 'musicbr', 'experiencebr', 'nowbr', 'awfulbr', '10br', 'audiencebr', 'sobr', 'actingbr', 'scriptbr', 'familybr', 'actorsbr', 'somethingbr', 'downbr', 'knowbr', 'castbr', 'disappointedbr', 'donebr', 'seebr', 'worsebr', 'wellwritten', 'sensebr', 'welldone', 'kubricks', 'laterbr', 'yearold', 'madebr', 'rightbr', 'bestbr', 'warbr', 'lovebr', 'daysbr', 'elsebr', 'nothingbr', 'xfiles', 'minutesbr', 'moneybr', 'crapbr', 'stuffbr', 'deathbr', 'didbr', 'austens', 'selfindulgent', 'tongueincheek', 'jobbr', 'whove', 'liveaction', 'spoilerbr', 'entertainingbr', 'himselfbr', 'partbr', 'rolesbr', 'ideabr', 'happenbr', 'originalbr', 'hisher', 'facebr', 'flickbr', 'possiblebr', 'enoughbr', 'directtovideo', 'eastwoods', 'goodlooking', 'greatbr', 'fulcis', 'halfhour', 'fulllength', 'reasonbr', 'interestingbr', 'chaplins', 'linebr', 'whod', 'precode', 'todaybr', 'sg1', 'classicbr', 'exwife', 'mustve', 'selfcentered', 'alonebr', 'eyesbr', 'casebr', 'wellacted', 'sciencefiction', 'homebr', 'actorbr', 'selfabsorbed', 'thatll', 'throughoutbr', 'starsbr', 'yourselfbr', 'stupidbr', 'believablebr', 'dvdbr', 'yearbr', 'othersbr', 'performancesbr', 'childrenbr', 'rosemarys', 'talentbr', 'goodnatured', 'insteadbr', 'nightbr', 'whybr', 'thinkbr', 'straighttovideo', 'ownbr', 'frombr', 'actionbr', 'zelah', 'genrebr', 'dramabr', 'altmans', 'firsttime', 'seagals', 'actorsactresses', 'imho', 'watchingbr', 'aroundbr', 'dialoguebr', 'onesided', 'societys', 'differentbr', 'levelbr', 'blackandwhite', 'saybr', 'directorwriter', 'slowmotion', 'lotbr', 'allamerican', 'slowmoving', 'pacinos', 'arebr', 'qualitybr', 'brilliantbr', 'anotherbr', 'starbr', 'truebr', 'livesbr', 'themselvesbr', 'picturebr', 'whilebr', 'miikes', 'directorbr', 'argentos', 'laughbr', 'premingers', 'lynchs', 'momentbr', 'productionbr', 'ofbr', 'beginningbr', 'involvedbr', 'longbr', 'masterpiecebr', 'messbr', 'laughsbr', 'oscarwinning', 'versionbr', 'selfconscious', 'playbr', 'songbr', 'girlbr', 'excellentbr', 'gamebr', 'exgirlfriend', 'anythingbr', 'featurelength', 'buddys', 'canbr', 'carface', 'doesbr', 'episodebr', 'coursebr', 'momentsbr', 'cmon', 'yetbr', 'nextbr', 'movieand', 'twodimensional', 'ladys', 'tvbr', 'likebr', 'keatons', 'motherbr', 'doodlebops', 'filmand', 'hilariousbr', 'downtoearth', 'checkbr', 'scoobydoo', 'materialbr', 'namebr', 'crimebr', 'camerabr', 'linesbr', 'budgetbr', 'spielbergs', 'bgrade', 'bigbudget', 'meanspirited', 'porkys', 'creditsbr', 'kidsbr', 'followbr', 'opinionbr', 'patheticbr', 'cringeworthy', 'chancebr', 'terriblebr', 'gobr', 'artbr', 'sexbr', 'carreys', 'excon', 'spoton', 'stopmotion', 'countrybr', 'effectbr', 'wellcrafted', 'modernday', 'reasonsbr', 'lostbr', 'pleasebr', 'custers', 'brotherinlaw', 'fatherbr', 'imdbs', 'rrated', 'entertainmentbr', 'schoolbr', 'leastbr', 'flesheating', 'anyonebr', 'titlebr', 'oscarnominated', 'runofthemill', 'illfated', 'grossout', 'shotbr', 'hustons', 'onesbr', 'reviewbr', 'doorbr', 'meanbr', 'conclusionbr', 'nononsense', 'thebr', 'fishmen', 'wellmeaning', 'superbbr', 'fansbr', 'connerys', 'aheadbr', 'situationbr', 'samebr', 'ridiculousbr', 'viewingbr', 'childbr', 'slowpaced', 'sotnikov', 'roombr', 'xmen', 'actbr', 'agobr', 'hollywoodbr', 'branaghs', 'secondrate', 'mistakebr', 'oncebr', 'animationbr', 'finishbr', '2br', 'comparisonbr', 'guysbr', 'bosss', 'erabr', 'gilligans', 'latebr', 'reallybr', 'tvmovie', 'citybr', 'okbr', 'havebr', 'screenplaybr', 'surprisebr', 'filmthe', 'actressbr', 'piecebr', 'thrillerbr', 'heartbr', 'amazingbr', '810br', 'wholebr', 'gentlemans', 'thenbr', 'eyebr', 'itthe', '710br', 'viewerbr', 'interestbr', 'awardwinning', 'garbagebr', 'womenbr', 'frankies', 'nobudget', 'elviras', 'enjoybr', 'careerbr', 'largerthanlife', 'showsbr', 'survivebr', 'futurebr', 'lessbr', 'housebr', 'personbr', 'effectsbr', 'willbr', 'hadbr', 'revengebr', 'rollbr', 'realbr', 'alices', 'seeingbr', 'billys', 'humorbr', 'hardbr', 'violencebr', 'americabr', 'comingofage', 'scorseses', 'diesbr', 'twobr', 'sevenbr', 'soapopera', 'viewbr', 'atmospherebr', 'deadbr', 'examplebr', 'moviethe', 'hellbr', 'fastforward', 'friendsbr', 'filmnoir', 'mightve', 'murderbr', 'jeanluc', 'effortbr', 'developmentbr', 'cusacks', 'killerbr', 'goodthe', 'dialogbr', 'televisionbr', 'periodbr', 'harlins', 'andbr', 'coolbr', 'matterbr', 'realitybr', 'miyazakis', 'guybr', 'elinore', 'eightbr', 'gorehounds', 'sequelbr', 'wastedbr', 'spocks', 'offerbr', 'everybodys', 'anybodys', 'enjoyablebr', 'dexters', 'headbr', 'storiesbr', 'topbr', 'finalebr', 'halfbaked', 'disappointmentbr', 'neednt', 'selfdestructive', 'seriouslybr', 'nc17', 'daylewis', 'shinae', 'carells', 'itit', 'cheezy', 'problembr', 'centurybr', 'wifebr', 'khouris', 'pastbr', 'mindnumbing', 'friendbr', 'maléfique', 'noname', 'firstbr', 'tarantinos', 'fatherson', 'matuschek', 'farbr', 'nsna', 'beattys', 'getbr', 'womanbr', 'allout', 'powerbr', 'foxs', 'movieit', 'neros', 'bhorror', 'stylebr', 'hamfisted', 'matchbr', 'noroi', 'carebr', 'directionbr', 'osullivan', 'kurtzs', 'bloodbr', 'earlierbr', 'standardsbr', 'dreambr', 'brandos', 'sadbr', 'oldschool', 'goingson', 'didntbr', 'everythingbr', 'icet', 'threebr', 'everyonebr', 'rochesters', 'rubbishbr', 'annoyingbr', 'foxxs', 'alivebr', 'storywise', 'allaround', 'guessbr', 'alongbr', 'rohmers', 'closebr', 'hoursbr', 'imdbcom', 'lovehate', 'releasebr', 'newbr', 'walshs', 'mordrid', 'shortbr', 'comebr', 'dammes', 'myselfbr', 'scarybr', 'freddys', 'townbr', 'welldeveloped', 'classbr', 'injokes', '1010br', 'kurosawas', 'selfrespect', 'commentbr', 'alisons', 'nicebr', 'goldsworthys', 'characterdriven', 'eyecandy', 'chanwook', 'seasonbr', 'rotj', 'godbr', 'helpbr', 'partsbr', 'railly', 'fellinis', 'selfesteem', 'jokebr', 'expectationsbr', 'hohum', 'bronsons', '8510', 'doingbr', 'fantasticbr', 'gilleys', 'recommendedbr', 'nobr', 'bluebeards', 'messagebr', 'daughterbr', 'apartbr', 'atbr', 'fassbinders', 'hoechlin', 'paperhouse', 'draculas', 'mindnumbingly', 'rififi1955', 'bakshis', 'mgms', 'bythenumbers', 'oneliner', 'offthewall', 'kickass', 'catandmouse', 'nonebr', 'soonbr', 'wellintentioned', 'littlebr', 'kahns', 'beenbr', 'culturebr', 'ensuesbr', 'lowrent', 'worstbr', 'woodys', 'paperthin', 'costsbr', 'nancys', 'ollies', 'relationshipbr', 'openminded', 'diebr', 'horrorcomedy', 'sincebr', 'restbr', 'businessbr', 'everythings', 'drawnout', 'laughablebr', 'expectbr', 'tearjerking', 'indeedbr', 'clothesbr', 'amazoncom', 'truthbr', 'dereks', 'exceptionbr', 'societybr', 'wererabbit', 'walkens', 'daytoday', 'perfectionbr', 'firstperson', 'listbr', 'existbr', 'treatbr', 'jeanpierre', 'anansa', 'soundtrackbr', 'wholl', 'motherinlaw', 'oldbr', 'starewicz', 'husbandbr', 'nowadaysbr', 'dullbr', 'scorebr', 'omalley', 'laughoutloud', 'verhoevens', 'alterego', 'naturebr', 'bitbr', 'memorybr', 'jawdropping', 'mcphillip', 'surebr', 'earthbr', 'hasbr', 'blacksnake', 'jeanclaude', 'subtitlesbr', 'actedbr', 'videobr', 'episodesbr', '1br', 'wideeyed', 'jimis', 'makingbr', 'longsuffering', 'worksbr', 'comingbr', 'gordonlevitt', 'fashionbr', 'filmingbr', 'inyourface', 'kidmans', 'erendira', 'whatsoeverbr', 'erics', 'bothbr', 'streeps', 'narvo', 'tmtm', 'brinke', 'gilliams', 'mysterybr', 'markbr', 'backgroundbr', 'fourbr', 'twothirds', 'melvilles', 'intobr', 'whatbr', 'streisands', 'makebr', 'racebr', 'formbr', 'horriblebr', 'novelbr', 'storylinebr', 'getgo', 'projectbr', 'bodybr', 'languagebr', 'mannerbr', 'troublebr', 'polanskis', 'eisensteins', 'fastbr', 'menbr', 'pointlessbr', 'sakebr', 'ff7', 'subjectbr', 'accentbr', 'flatbr', 'belowbr', 'zombiesbr', 'himand', 'oclock', 'lolbr', 'detailsbr', 'endsbr', 'watchablebr', 'workedbr', 'happybr', 'englishlanguage', 'beautifulbr', 'brunos', 'eventbr', 'effortsbr', 'shamebr', 'perspectivebr', 'itbut', 'hollys', 'foreverbr', 'perfectbr', 'perfectlybr', 'twentyfive', 'viscontis', 'respectbr', 'toxie', 'agebr', 'tragedybr', 'tarzans', 'itand', 'actionpacked', 'spacebr', 'cagneys', 'bunuels', 'winnerbr', 'jabbas', 'herselfbr', 'aboveaverage', 'longlost', 'ateam', 'startbr', 'finebr', 'antiamerican', 'happeningbr', 'anymorebr', 'alsobr', 'forgetbr', 'roegs', 'illconceived', 'predictablebr', 'coppolas', 'missionbr', 'kpax', 'littleknown', 'happenedbr', 'redfords', 'ossessione', 'oneofakind', 'exboyfriend', 'washedup', 'otherwisebr', 'feelbr', 'mccools', 'oneman', 'alertbr', 'zboys', 'isntbr', 'somebodys', 'sidneys', 'trybr', 'fanbr', 'babettes', 'danglard', 'cronenbergs', 'forgettablebr', 'aweinspiring', 'fanda', 'demilles', 'clouzots', 'radzoff', 'deadon', 'surprisedbr', 'julias', 'laughterbr', 'availablebr', 'videodvd', 'imdbbr', 'tshirt', 'fingersmith', 'tvseries', 'vadar', 'bazza', 'allthe', 'beethovens', 'marykate', 'pointsbr', 'writingbr', 'rememberbr', 'brynners', 'breakbr', 'latterbr', 'collectionbr', 'selfindulgence', 'actionadventure', 'joness', 'brotherbr', 'disturbingbr', 'booksbr', 'batmans', 'welldirected', 'happygolucky', 'offkilter', 'problemsbr', 'filmit', 'madeup', 'changedbr', 'yknow', 'clichéridden', 'handbr', 'weekbr', 'getsbr', 'anticsbr', 'tshirts', 'choicebr', 'oshea', 'moviebut', 'moviethis', 'unisol', 'unbelievablebr', 'gravebr', 'necessarybr', 'halfassed', 'adaptationbr', 'eventsbr', 'lowgrade', 'slowmo', 'comedys', 'nonsensebr', 'convincingbr', 'onebyone', 'belushis', 'happensbr', 'saidbr', 'heshe', 'theaterbr', 'whateverbr', 'festivalbr', 'selfloathing', 'tripbr', 'yesbr', 'kindbr', 'jackies', 'killedbr', 'selfcontained', 'documentarybr', 'ahole', 'herobr', 'justicebr', 'worldweary', 'chainsmoking', 'kazans', 'dassins', 'soontobe', 'waterbr', 'therere', 'awardbr', 'imaginebr', 'timei', 'boybr', 'okaybr', 'dealbr', 'neededbr', 'geniusbr', 'selfserving', 'upandcoming', 'handsbr', 'highpitched', 'murdererbr', 'antonionis', 'taipe', 'sleepbr', 'selfconsciously', 'alist', 'jokesbr', 'attentionbr', 'tellbr', 'felixs', 'tieh', 'dialouge', 'outofplace', 'sisterbr', 'trelkovsky', 'carlys', 'goauld', 'sliceoflife', 'cormans', 'lematt', 'hitchs', 'successbr', 'effectivebr', 'itits', 'chickflick', 'understandbr', 'valuebr', 'trainbr', '7510', 'karloffs', 'garbos', 'spacecamp', 'sheeta', 'wellcast', 'carlas', '12yearold', 'niros', 'selfpity', 'groundbr', 'soderberghs', 'workingclass', 'premisebr', 'threeway', 'gymkata', 'carltonbrowne', 'feinstone', 'fatebr', 'stanwycks', 'filone', 'gaglia', 'horrorbr', 'categorybr', 'manybr', 'rossitto', '14yearold', 'filmaking', 'washedout', 'quicklybr', 'walts', 'leadbr', 'bottomofthebarrel', 'highclass', 'worthwhilebr', 'flicksbr', 'specialbr', 'poorbr', 'climaxbr', 'circumstancesbr', 'changebr', 'tediousbr', 'thrillerhorror', 'jennifers', 'sandras', 'blandbr', 'consequencesbr', 'companybr', 'lubitschs', 'moocow', 'missedbr', 'planetbr', 'okeeffe', 'unisols', 'universebr', 'selfrespecting', 'sidebr', 'emotionbr', 'gamesbr', 'pointofview', 'seatbr', 'thered', 'terrythomas', 'painbr', 'tripebr', 'beginbr', 'waysbr', 'marions', 'hickland', 'behindbr', 'catbr', 'songsbr', 'lamebr', 'remakebr', 'motherdaughter', 'fastmoving', 'wonderfulbr', 'cultclassic', 'matteroffact', 'hopebr', 'oscarworthy', 'reccomend', 'thoughtbr', 'raisuli', 'shirleys', 'bogosians', 'zgrade', 'hotbr', 'bourvil', 'movingbr', 'warningbr', 'earthshattering', 'suspensebr', 'cleverbr', 'situationsbr', 'howeverbr', 'justforkix', 'druginduced', 'flawsbr', 'importantbr', 'dannys', 'behindthescenes', 'rukhs', 'scalebr', 'sampredo', 'classicsbr', 'officebr', 'releasedbr', 'bogarts', 'werebr', 'morningbr', 'threedimensional', 'latterday', 'pacebr', 'sondheims', 'skammen', 'firstclass', 'bluray', 'wheelchairbound', 'garfields', 'tommys', 'ridebr', 'sharkys', 'duchovney', 'stephanois', 'fantasybr', 'soulbr', 'bigscreen', 'churchbr', 'jeanpaul', 'welldeserved', 'girlsbr', 'thosebr', 'nowherebr', 'btch', 'butbr', 'succeedbr', 'jox', 'kapoors', 'resultbr', 'questionsbr', 'beautybr', 'lengthbr', 'anglosaxon', 'hundstage', 'hardedged', 'ramars', '7yearold', 'goingbr', 'tenbr', 'fullon', 'feelingbr', 'passworthy', 'bossbr', 'viewersbr', 'completelybr', 'playerbr', 'pazu', 'taime', 'pricelessbr', 'animalsbr', 'chabrols', 'noahs', 'datebr', 'selfrighteous', 'powerfulbr', 'livebr', 'secondbr', 'englishbr', 'cartoonbr', 'cheesey', 'personalitybr', 'processbr', 'comedydrama', '10yearold', 'truffauts', 'zetajones', 'editingbr', 'tachiguishi', 'lelands', 'kiplings', 'todesking', 'victimsbr', 'boredombr', 'janmichael', 'langdons', 'starstudded', 'oneil', 'lawbr', 'ourselvesbr', 'wonderbird', 'xica', 'eunjoo', 'disappointingbr', 'cheadles', 'crapfest', 'dekalog', '40yearold', 'thalluri', 'champlains', 'soultaker', 'molloch', 'lesseos', 'sequelsbr', 'cameramans', 'waitbr', 'abovebr', 'schizophreniac', 'scenesthe', 'belowpar', 'pukebr', 'sequencesbr', 'victimbr', 'horsebr', 'zizeks', 'synopsisbr', 'threequarters', 'peacebr', 'selfinflicted', 'strongwilled', 'cheapbr', 'kristoffersons', 'aspectsbr', 'naschys', '310br', 'whitebr', 'extremebr', 'brated', 'crybr', 'windowbr', 'horrormovie', 'ratingsbr', '100br', 'alwaysbr', 'soundbr', 'codirected', 'wellfilmed', 'exhusband', 'worldweariness', 'believedbr', 'koontzs', 'directorsbr', 'lugosis', 'suitbr', 'altogetherbr', 'paltrows', 'sucksbr', 'onejoke', 'nonethelessbr', 'voicebr', 'channelbr', 'kidbr', 'realisticbr', 'dumbbr', 'putupon', 'resultsbr', 'forwardbr', 'firebr', 'memorablebr', 'mabels', 'mouthbr', 'swordfights', 'tensionbr', 'productbr', 'kittys', 'filmbut', 'sobaditsgood', 'turkeybr', 'falks', 'failsbr', 'unscary', 'animes', 'charmbr', 'fatherinlaw', 'stallones', 'actings', 'selfproclaimed', 'louque', 'nonchristians', 'capotes', 'oscarcaliber', 'rapidfire', 'expectedbr', 'bressart', 'kinskis', 'dadbr', 'presentday', 'dieing', 'costellos', 'settingbr', 'welltold', 'badguy', 'oncamera', 'kangho', 'monsterbr', 'diseasebr', 'pedecaris', 'stopbr', 'streetbr', 'jawdroppingly', 'cakebr', 'moviethere', 'westernbr', 'brilliancebr', 'documentarystyle', 'networkbr', 'couldbr', 'andwell', 'sinuhes', 'publicbr', 'golddigging', 'suicidebr', 'amrapurkar', 'gauris', 'otooles', 'overthehill', 'wallbr', 'unnecessarybr', 'mindbending', 'moviea', 'videostore', 'duvalls', 'memoriesbr', 'hourbr', 'factbr', '2the', 'actoractress', 'tourdeforce', 'progressesbr', '30something', 'bolkan', 'madnessbr', 'writerbr', 'twohour', 'polarisdib', 'badlybr', 'oss117', 'waythe', 'badit', 'lianchu', 'gwizdo', 'simplebr', 'blackwhite', 'brideless', 'communitybr', 'xrated', 'documentarylike', 'youngbr', 'pseudointellectual', 'englandbr', 'hardhitting', 'sayingbr', '5year', 'asbr', 'wasis', 'selfdestruction', 'mst3000', 'burakov', 'depthbr', 'anouska', 'awardsbr', 'moviein', 'herzogs', 'leguizamos', 'forgivenbr', 'timetravel', 'jeanlouis', 'mindsbr', 'recomend', 'talebr', 'fword', 'sortof', 'fishoutofwater', 'murdermystery', 'assbr', 'teambr', 'girlfriendbr', 'alreadybr', 'returnbr', 'beliefbr', 'couplebr', 'fightbr', 'sonbr', 'cleancut', 'openended', 'stereotypesbr', 'movieits', 'findbr', 'fallons', 'humourbr', 'thinkingbr', 'himhe', 'romcom', 'pathbr', 'pseudodocumentary', 'hawkings', 'gorebr', 'bandbr', 'plotholes', 'cameosbr', 'completist', 'christines', 'horrorthriller', 'thereand', 'welldrawn', 'turnbr', 'cassavettes', 'actionsbr', 'crichtons', 'beatup', 'imaginationbr', 'ageold', 'sakall', 'portrayalbr', 'bluesbr', 'surprisesbr', 'illadvised', 'mostbr', 'usualbr', 'stepbystep', 'allinall', 'raveenas', 'timmys', 'createdbr', 'gespenster', 'exmrs', 'dumbeddown', 'ggirl', 'iibr', '2dimensional', 'freshfaced', 'chappelles', 'halfdecent', 'marsillach', 'itthey', 'dellorco', 'dahls', 'abilitybr', 'secondsbr', 'freespirited', 'trashbr', 'intendedbr', 'storythe', 'watchedbr', 'postworld', 'devitos', 'noirbr', 'wurb', '3br', 'wellpaced', 'crazybr', 'slomo', 'selfreference', 'shakespearebr', 'teacherbr', 'mid90s', 'kingbr', 'hackenstein', 'environmentbr', 'venantini', 'martys', 'hahaha', 'sunnys', 'agentbr', 'wowbr', 'setsbr', 'thatd', 'martialarts', 'sebergs', 'mitchums', 'loversbr', 'zabalza', 'accidentbr', 'tolkiens', 'alikebr', 'daninsky', 'gadgetmobile', 'sauras', 'lv2', 'lv1', 'randys', 'epods', 'sevenups', 'sharpes', 'hasbeen', 'sickbr', 'martinos', 'satirebr', 'winbr', '90minute', '7eventy', 'themand', 'guntoting', 'alqaeda', 'writerdirectors', 'filmschool', 'selfconfidence', 'marlows', 'halfbrother', 'shatners', 'miserybr', 'endedbr', 'matrixbr', 'onlocation', 'middlebr', 'wellplayed', 'wellworn', 'rulebr', 'lowbudgeted', 'eurohorror', 'playingbr', 'artistbr', 'mid70s', 'pricebr', 'drek', 'dreckbr', 'salmans', 'secretbr', 'longerbr', 'skillsbr', 'torturebr', '1970sbr', 'germanybr', 'sadsack', 'dialoge', 'huhbr', 'onlybr', 'funnierbr', 'commentsbr', 'noticebr', 'dontbr', 'endthe', 'numbersbr', 'gormless', 'lifethe', 'freebr', 'badmovie', 'uboat', 'joshs', 'moviesbut', 'rememberedbr', 'carbr', 'scifibr', 'seabr', 'moviejust', 'wantbr', 'closeknit', 'hardearned', 'afterbr', 'producerdirector', 'hillarious', 'kermits', 'hensons', 'raimis', 'excitementbr', 'amateurishbr', 'goodbut', 'spotbr', 'triggerhappy', 'almodovars', 'generationbr', 'directingbr', 'selfimportant', 'odonnell', 'boormans', 'husbandwife', 'livein', 'villainbr', 'stoppedbr', 'jailbr', 'impressivebr', '3the', 'allit', 'partybr', 'lesserknown', 'advicebr', 'ghosthouse', 'blackbr', 'yawnbr', 'hijinx', 'monstersbr', 'scenerychewing', 'disgustingbr', 'beingsbr', 'rentalbr', 'douchebag', 'taskbr', 'embr', 'rhysdavies', 'overallbr', 'orderbr', 'epicbr', 'followingbr', 'semiserious', 'milyang', 'digicorp', 'sjöströms', 'körkarlen', 'mustnt', 'downandout', 'funfilled', 'followsbr', 'excitingbr', 'moronie', 'adultsbr', 'readbr', 'readingbr', 'welli', 'annmargret', 'livingbr', 'commentarybr', 'piecesbr', 'selfmade', 'answerbr', 'fishburnes', 'wellthought', 'tarrantino', 'rewatching', '5br', 'unlikelybr', '2007br', 'fasttalking', 'approachbr', 'presentbr', 'professionbr', 'mahlers', 'thisand', 'deservedbr', 'edgeoftheseat', 'boxbr', 'tromas', 'awesomebr', 'filmmakingbr', 'godell', 'anythings', 'darvi', 'knowitall', 'insanitybr', 'moonbr', 'setbr', 'legendbr', 'governmentbr', 'moviesthe', 'sharkman', 'madefortelevision', 'coulardeau', 'handtohand', 'leaderbr', 'respectivelybr', 'ratebr', 'actioncomedy', 'buildingbr', 'confusingbr', 'mishimas', 'kazihiro', 'seenand', 'gelwix', 'redemptionbr', 'mclaglens', 'schwarzeneggers', 'scopebr', 'planbr', 'farcry', 'columbos', 'doubtbr', 'miseenscene', 'offkey', 'gungho', 'encounterbr', 'historys', 'differencebr', 'bybr', 'dangerfields', 'contentbr', 'quaien', 'actioners', 'eyepopping', 'beingbr', 'courtenays', 'lizs', 'goodbad', 'ignoredbr', 'lipsync', 'twains', 'weakbr', 'lifechanging', 'nearperfect', 'believebr', 'adventurebr', 'naughtons', 'rourkes', 'selfdefense', 'hannas', 'maruschka', 'lightbr', 'dumbrille', 'voights', 'nobodys', 'briss', 'bythebook', 'endearingbr', 'lestats', 'walkon', 'deads', 'versionsbr', 'chavezs', 'mummys', '110br', 'powersbr', 'fullblown', 'cusak', 'wellthe', 'caligulas', 'controlbr', 'thoughtout', 'forthbr', 'edgebr', 'lookingbr', 'moviesand', 'thisi', 'reunionbr', 'vonneguts', 'funloving', 'selfaware', 'depardieus', 'smithbr', '210br', 'menacebr', 'algrens', 'oater', 'halfdozen', 'afroamerican', 'afroamericans', 'intensebr', 'islandbr', 'cutbr', 'gembr', 'notthe', 'storebr', 'wellexecuted', 'entertainedbr', 'evilbr', 'twistbr', 'sillybr', 'amazedbr', 'puppydog', 'fackin', 'nationbr', 'thingthe', 'knowsbr', 'folksbr', 'reviewsbr', 'hornbys', 'alja', 'triedbr', 'jeanmarc', 'shootem', 'ropey', 'maneating', 'scantilyclad', 'versioni', 'missbr', '7br', 'drybr', 'punbr', 'humanbr', 'tiein', 'footagebr', 'oneand', 'affairbr', 'surprisingbr', 'bassenger', 'compellingbr', 'silencebr', 'succeededbr', 'exitingfunnydramatic', 'iswas', 'sarahs', 'dresslers', 'lastbr', 'barbr', 'bangup', 'disasterbr', 'screwfly', 'clooneys', 'doesntbr', 'wellhandled', 'beginsbr', 'holmess', 'dogooder', 'servillo', 'toyoji', 'lucass', 'larraz', 'purposebr', 'darkwolf', 'statesbr', 'stagebr', 'surov', 'neonoir', 'novaks', 'kennicut', 'sallys', '500000', 'maughams', 'techniquesbr', 'tonebr', 'ariauna', 'starewiczs', 'nobrainer', 'gutwrenching', 'twentytwo', 'moviesthis', 'btas', 'lenos', 'lewiss', 'watereddown', 'heavenbr', 'producedbr', 'shockbr', 'callgirl', 'dominoe', 'realismbr', 'straightlaced', 'goesbr', 'beethovan', 'fewbr', 'hairbrained', 'crosseyed', 'toughguy', 'suckedbr', 'lookbr', 'screambr', 'blahbr', 'hotelbr', 'factorbr', 's2t', 'substancebr', 'conceptbr', 'europebr', 'kannathil', 'somebr', 'afraidbr', 'ladybr', 'americanbr', 'claires', 'ratingbr', 'tomasis', 'venantino', 'actingwise', 'radiobr', 'methe', 'tennants', 'inevitablebr', 'ambr', 'avpr', 'sellecks', 'klaskycsupo', 'timeand', 'nekromantik', 'vampiros', 'deepbr', 'touchingbr', 'dondeloro', 'straightbr', 'mamets', 'clints', 'ultraorthodox', '2hour', 'mildmannered', 'ww11', 'rosss', 'hairbr', 'premminger', 'akyroyd', 'lapadite', 'sapsorrow', 'aristorcats', 'easybr', 'highprofile', 'divorcebr', 'himher', 'sebastians', 'namis', 'easebr', 'katharines', 'sasori', 'laughtrack', 'jarda', 'appolonia', 'syberberg', 'vampiress', 'kerching', 'sissis', 'addicus', 'tabonga', 'soske', 'syberbergs', 'howbr', 'diedbr', 'darkhunters', 'yearsbut', 'joannas', 'dillingers', '4br', 'timewaster', 'pofaced', 'underlit', 'ariels', 'notsogood', 'murphybr', 'twicebr', 'drugaddicted', 'sequal', 'madeforcable', 'complaintsbr', 'murdersbr', 'uselessbr', 'deneuves', 'oneline', 'richies', 'featuresbr', 'laughingbr', 'pacula', 'himbut', 'writtenbr', 'uninterestingbr', 'someonebr', 'furtherbr', 'berkowitzs', 'cluebr', 'offcamera', 'zudina', 'usabr', 'viceversabr', 'stationbr', 'bedbr', 'appealbr', 'golanglobus', 'greeneggs', 'nipar', 'badguys', 'finneys', 'hitandrun', 'individualbr', 'impressedbr', 'nouvellefrance', 'somehowbr', 'dumbs', 'worthbr', 'suckfest', 'penryjones', 'audiencesbr', 'timesthe', 'doubleedged', 'wellbut', 'snorefest', 'lengle', 'familyfriendly', 'interestedbr', 'floorbr', 'muchneeded', 'hackfords', 'toand', 'ideasbr', 'suspectbr', 'fiveminute', 'obviousbr', 'ladiesbr', 'shos', 'afterdark', 'amys', '1955br', 'jpii', 'helpedbr', 'thisa', 'elementbr', 'failbr', 'selfinvolved', 'postrevolutionary', 'rockbottom', 'prolly', 'exlover', 'touchyfeely', 'cheesebr', 'municipalians', 'cuttingedge', 'oconnors', 'offensivebr', 'masterbr', 'weirdbr', 'jessicas', 'withinbr', 'crappiness', 'ministerbr', 'itthere', 'sebastiens', 'slowbr', 'examplesbr', 'fashionatas', 'actuallybr', 'sluttish', 'wouldbr', 'directorscreenwriter', 'fascinatingbr', 'groaninducing', 'showbut', 'galaxina', 'sttng', 'panzrams', 'normalbr', 'relationshipsbr', 'stunningbr', 'selfappointed', 'spaceys', 'mid80s', 'bfilm', 'appollo', 'somewherebr', 'lifethreatening', 'usedbr', 'characterhe', 'moodbr', 'filmirage', 'wasntbr', 'corniest', 'meaningbr', 'everreliable', 'gainsbourgh', 'wellmannered', 'speakbr', 'beforeand', 'timelinebr', 'creditbr', '1980sbr', 'seemsbr', 'loessers', 'crimesbr', 'glassbr', 'hangglider', 'blankfield', 'rockbr', 'slackjawed', 'basingers', 'tillys', 'thisthe', 'investigationbr', 'laughless', 'milebr', 'unfoldsbr', 'improvementbr', 'lundgrens', 'lowbr', 'toldbr', 'hisbr', 'plusbr', 'hitbr', 'scottthomas', 'levelsbr', 'farscapes', 'romancebr', 'englishspeaking', 'burntout', 'centuryfox', '80sbr', 'hlots', 'apartmentbr', 'softfocus', 'waterss', 'createsbr', 'camerasbr', 'justins', 'lowlevel', 'malicks', 'rekert', 'seasonsbr', 'heflins', 'bennys', 'doublecrossing', 'landos', 'downonhisluck', 'desertbr', 'reliefbr', 'conartist', 'stewartmann', 'sanghyeon', 'babybr', 'dreamsbr', '9yearold', 'fearbr', 'wordsbr', 'actiondrama', 'halloweenbr', 'impactbr', 'ashenbach', 'razorsharp', 'songanddance', 'measurebr', 'silverhaired', 'shahrukhs', 'thrillbr', 'bobba', 'revealedbr', 'misleadingbr', 'unfortunatelybr', 'windbr', 'mitchs', 'excop', 'needbr', 'amandas', 'onand', 'flavorsome', 'suleimans', 'marketbr', 'completedbr', 'edelmans', 'noisebr', 'vampiresbr', 'bflick', 'figurebr', 'threehour', 'britcoms', 'ustinovs', 'dignitybr', 'blaxpoitation', 'truetolife', 'termsbr', 'doghi', 'emmas', 'activitiesbr', 'continuedbr', 'jonesbr', 'issuesbr', 'completebr', 'computergenerated', 'dimensionbr', 'wellproduced', 'anwars', 'differentlybr', 'paulas', 'chambara', 'wellstaged', 'williamsbr', 'humanitybr', 'allencompassing', 'deliverybr', 'bahranis', 'philosophybr', 'rewatched', 'jacksonbr', 'praisebr', 'superiorbr', 'popculture', 'ramóns', 'ninebr', 'grunick', 'criticsbr', 'oftenbr', 'highpowered', 'peckinpahs', 'responsibilitybr', 'optionbr', 'ritas', 'peckers', 'devilbr', 'castingbr', 'everywherebr', 'jangs', 'spiritbr', '15year', 'pixars', 'novelsbr', 'saysbr', 'dramacomedy', 'actorsthe', 'leebr', 'ohand', 'timesbut', 'digressbr', 'combinedbr', 'technicolorbr', 'stéphanois', 'survivalbr', 'wellsuited', 'missingbr', 'kuzcos', 'heartstopping', 'listenbr', 'sfhorror', '3hour', 'demonsbr', 'romebr', 'lockes', 'clichée', 'humanitys', 'grangers', 'selfreferential', 'playsbr', 'herethe', 'dropdead', 'flashbacksbr', 'sinbr', 'productionsbr', 'eveningbr', 'picturesbr', 'dallesandros', '20something', 'maxbr', 'mgmua', 'ownerbr', 'nonmainstream', 'cnnnn', 'travoltas', 'nightsbr', 'boatbr', 'properlybr', 'disappointbr', 'seriesi', 'factorybr', '3strip', 'mentallychallenged', 'camerlingo', 'allreds', 'astroesque', 'thati', 'hupperts', 'fidos', 'musicalbr', 'kiddingbr', 'venezuelas', 'streetsbr', 'contextbr', 'ananka', 'nonrelated', '910br', 'boyfriendbr', 'garlins', 'factsbr', 'juliabr', 'indahouse', 'samanthas', 'verdis', 'onhand', 'oneoff', 'craftbr', 'bestknown', 'gotbr', 'crowdbr', 'wellshot', 'witchs', 'fatherfigure', 'lifeand', 'enjoymentbr', 'hawns', 'youthbr', 'succeedsbr', 'mediabr', 'witherspoons', 'fullbodied', 'favorbr', 'catspaw', 'stickbr', 'armsbr', 'onenight', 'dancebr', 'tworeel', 'fwords', 'canoing', 'handsdown', 'fullfledged', 'embarrassingbr', 'branaugh', 'incrediblebr', 'rassimov', 'authenticlooking', 'selfdiscovery', 'coasterbr', 'wittiness', 'sawbr', 'highschoolers', 'hestons', 'mankinds', 'locationbr', 'attackbr', 'scifihorror', 'bazzoni', 'cassevetes', '15yearold', 'scuddamore', 'midlers', 'yeahbr', 'pollacks', 'alltogether', 'carfaces', 'franchisebr', 'britneys', 'maltins', 'sabus', 'wellplaced', 'unfunniest', 'destinybr', 'minebr', 'heavyduty', 'fakebr', 'wonderous', 'plottwists', 'doesent', 'toughasnails', 'pagets', 'earsbr', 'centurys', 'scenarists', 'lowerclass', 'halfbr', 'expressionbr', 'decentbr', 'hanekes', 'countbr', 'cutebr', 'detectivebr', 'scriptsbr', 'cosgroves', 'sentencebr', 'countsbr', 'ramons', 'welltimed', 'centerbr', 'twodisc', 'nonamerican', 'meand', 'softporn', 'keggs', 'astaires', 'thrillsbr', 'karwais', 'writersbr', 'runins', 'valuesbr', 'secondtier', 'nuditybr', 'africanamericans', 'crisisbr', 'drablow', 'welljudged', 'horrorfilm', 'dingalingless', 'turds', 'bavas', 'welltodo', 'mazurki', 'lumets', 'maxs', 'gomeda', 'selfassured', 'fiveyear', '2001s', 'alienbr', 'catsbr', 'californiabr', 'gaythemed', 'avoidbr', '2001br', 'awebr', 'confusionbr', 'unentertaining', 'malkovichs', 'pornbr', 'directer', 'acceptablebr', 'despairbr', 'crappiest', 'londonbr', 'post911', 'shownbr', 'messedup', 'sirks', 'gojoe', 'karlofflugosi', 'camebr', 'wellused', 'thinbr', 'nonenglish', 'sarnos', 'hahahaha', 'brancovis', 'prizzis', 'partanna', 'carrieanne', 'sagans', 'suchbr', 'bodycount', 'potbr', 'unwatchablebr', 'supportbr', 'jlb', 'solino', 'everytown', 'hmmmbr', 'irritatingbr', 'sabrinas', 'knowledgebr', 'sinisterbr', 'dansu', 'choule', 'dangerbr', 'doublefeature', 'kishibe', 'crosssection', 'actionthriller', 'corebr', 'pabsts', 'thirdworld', 'movieshe', 'toulons', 'beastbr', 'crappier', 'wynorskis', 'mfumu', 'deadend', 'sisterinlaw', 'fictionbr', 'nonactor', 'drugdealing', 'livedbr', 'nightmarebr', 'pasolinis', 'charel', 'demisebr', 'allthis', 'miyazawas', 'hotchkins', 'microbudget', 'leroys', 'alittle', 'funnyi', 'clearbr', 'allpowerful', 'diaboliques', 'steeman', 'workingbr', 'calson', 'timethe', 'absurdbr', 'byrons', 'unfunnybr', 'reshamiya', 'guinnesss', 'cgrade', 'wirey', 'shotsbr', 'wishywashy', 'fcking', 'editedbr', 'jp3', 's2rd', 'filmmakersbr', 'semifamous', 'betweenbr', 'viewsbr', 'schepisis', 'decisionbr', 'ouimets', 'loserbr', 'shtty', 'medusan', 'partnerbr', 'keiths', 'mumbojumbo', 'thatand', 'cruellas', 'impossiblebr', 'directorwriters', 'easilybr', 'lorres', 'muthamittal', 'removedbr', 'solonitsyn', 'seriousbr', 'hivaids', 'woodbr', 'buellers', '1930sbr', 'greenstreets', 'kikuno', 'miserablybr', 'revolutionbr', 'breillats', 'nazarin', 'redblooded', 'timons', 'movebr', 'waiman', 'marenghis', 'confusedbr', 'caresbr', 'bigname', 'sunways', '250000', 'fightingbr', 'lorens', 'thoughtsbr', 'sayori', 'substory', '1½', 'tapebr', 'sightbr', 'unbearablebr', 'potempkin', 'goodit', 'thembut', 'forgottenbr', 'gutbusting', 'puyn', 'backcolor', 'dosent', 'availbr', 'treasurebr', 'unforgettablebr', 'conditionbr', 'hatbr', 'wirework', 'scenerybr', 'areasbr', 'ansom', 'sacrificebr', 'prisonbr', 'movieor', 'lowcut', 'selfbr', 'coasterwaldau', 'signbr', 'cartoonsbr', 'resolutionbr', 'sciencebr', 'boobage', 'warnedbr', 'anistons', 'shouldersbr', '400000', 'tessari', 'audrie', 'vehiclebr', 'prettyboy', 'bournes', 'skinemax', 'touchbr', 'rrating', 'moovie', 'fakelooking', 'dogsbr', 'orwells', 'fortyfive', 'rickys', 'generalbr', 'suyeon', 'knightleys', 'nonexistentbr', 'catwomen', 'christys', 'timebut', 'wherebr', 'runbr', 'eyeopening', 'taejoo', 'transcendenz', 'highquality', 'webr', '1971br', 'schraders', 'expartner', 'murderedbr', 'sueli', 'generousbr', 'evelyns', 'wellconstructed', 'giovannas', 'parkbr', 'upand', 'godards', 'arnies', 'humansbr', 'photographybr', 'allenbr', 'siberling', 'neweyes', 'screweyes', 'elementsbr', 'gustavs', 'enjoyability', 'vidals', 'feinstones', '6the', 'falon', 'joybr', 'frostnixon', 'babyfaced', 'ludicrousbr', 'flagwaving', 'torgo', 'trelayne', 'nwh', 'makebelieve', 'soutendijk', 'edgeofyourseat', 'italianamerican', 'kieslowskis', 'talkbr', 'deservebr', 'zandalee', 'jiwoon', 'segals', 'bronenosets', 'potyomkin', 'guetary', 'anybr', 'jyo', 'bhoomika', 'teenslasher', 'patroni', 'costagavras', 'proamerican', 'morverns', 'goroshkov', 'bashki', 'womeninprison', 'tbirds', 'mysterythriller', 'vagone', 'letto', 'happinessbr', 'glenglenda', 'moviethat', 'tvfilm', 'belowaverage', 'nieztsche', 'malefemale', 'buchfellner', 'trents', 'erikas', 'ichikawas', 'spoorloos', 'artistsong', 'cdplayer', 'brysomme', 'tajs', 'handdrawn', 'fuckland', 'mowan', 'moroncommandos', 'overtheshoulder', 'pumpkinheaded', 'locataire', 'includedbr', 'driveins', 'hillbr', 'shootemup', 'framebr', 'cuecard', 'schemebr', '15minute', 'stevebr', 'sr71', 'f15s', 'gallactica', 'uniformbr', 'actorsthey', 'uptodate', 'megans', 'abilitiesbr', 'isand', 'selfdeprecation', 'flyonthewall', 'fullfrontal', 'abouti', 'topquality', 'griefbr', 'lipsynching', 'lousybr', 'chickenbr', 'moorebr', 'amitabhs', 'sockpuppet', 'noones', 'bigcity', 'stalebr', 'hamills', 'gazarra', 'fastmotion', 'flipflops', 'threeact', 'extentbr', 'cowboybr', 'averagebr', 'pg13br', 'dilettantish', 'convictionbr', 'flatleys', 'blablabla', 'thesebr', 'techniquebr', 'itlike', 'uhhuh', 'comedianbr', 'lacklusterbr', 'puckoon', 'placesbr', 'breathtakingbr', 'vaselino', 'postdubbed', 'archiveorg', 'clunks', 'albiet', 'bestworst', 'meanlooking', 'successfulbr', 'perverseness', 'druggedout', 'naura', 'kruschen', 'feltbr', 'nonanimated', 'polebr', 'fishbr', 'nutjob', 'sbaraglia', 'understandablebr', 'anybodybr', '14year', 'extrasbr', 'faultbr', 'wellheeled', 'fiascobr', 'comedyi', 'blueeyed', 'lohans', 'countriesbr', 'renfros', 'blondhaired', 'brookss', 'barbeaus', 'sobiesky', 'yuckbr', 'lengles', 'deliveredbr', 'campbr', 'boardbr', 'foundbr', 'basebr', 'endoftheworld', 'fujimoris', 'onebyonebr', 'highranking', 'artistsbr', 'imagebr', 'aksar', 'udita', 'parés', '1000000', 'lesters', 'mobbr', 'movieso', 'slasherhorror', 'agendabr', 'risebr', 'graboids', 'ughbr', 'braincells', 'highend', 'drivelbr', 'castmembers', 'breastsbr', 'talksbr', 'scenewhich', 'musicalcomedy', 'halfcaste', 'mcdermotts', 'studentbr', 'horribleness', 'vanne', 'stereobr', 'fourstar', 'shorterbr', 'lossbr', 'liebr', 'aliensbr', 'idiotbr', 'late60s', 'noisesbr', 'bigbr', 'birdbr', 'pollonia', 'illfitting', 'usebr', 'wildeyed', 'nonchristian', 'ffvii', 'contrivedbr', 'spotsbr', 'displaybr', 'cornerbr', 'convolute', 'producerswriters', 'wowthis', 'unerotic', 'outbut', 'directedbr', 'nonhorror', 'collegebr', 'exmodel', 'motivesbr', 'basedbr', 'secondhalf', 'keiras', 'mst3ks', 'snoozefest', 'attitudebr', 'competentbr', 'ashmith', 'stirba', 'komizu', 'goreeffects', 'appreciationbr', 'potentialbr', 'headachebr', 'kosleck', 'odins', 'battlebr', 'innercity', 'selfcentred', 'agreebr', 'runningbr', 'dressedbr', 'emilys', 'bizarrebr', 'drossbr', 'backand', 'translationbr', 'explainbr', 'nicelooking', 'hitormiss', 'hasselhoffs', 'accomplishmentbr', 'bogstandard', 'gurning', 'sucky', 'bluegray', 'bombbr', 'noticedbr', 'deafmute', 'k911', 'filmmakerbr', 'greatlooking', 'channelsurfing', 'dansons', 'poorlymade', 'poopie', 'aboundbr', 'selfparody', 'moviewell', 'neonazi', 'terriblethe', 'roddenberrys', 'waaay', 'hardbitten', 'riccis', '1997s', 'ators', 'littleseen', 'supermans', 'killsbr', 'halfwits', 'likablebr', 'wannabee', 'crudebr', 'poprock', 'virusbr', 'helltown', 'repeatbr', '19yearold', 'scifiaction', 'vomitbr', 'geilgud', 'cushings', 'payperview', 'vaugier', 'homemovie', 'charmingbr', 'elsewherebr', 'taylorcompton', 'alleybr', 'onetenth', 'laboratorybr', 'particularbr', 'offbroadway', 'convincinglybr', 'masseys', 'thoughit', 'charactersthe', 'abomb', 'theatrebr', 'toobut', 'halfanhour', 'rkos', 'pinnochio', 'sheriffbr', '1988br', 'lappartement', 'carrys', 'wallsbr', '70s80s', 'unnuanced', 'antisoviet', 'courtmartial', 'loveand', 'massacrebr', 'povertyrow', 'westbr', 'leisens', 'forewarnedbr', 'presencebr', 'imaginablebr', 'convincedbr', 'stagestruck', 'marsbr', 'characteractor', 'daddys', 'copybr', 'aroundi', 'nonsequiturs', 'depps', 'uncreditedbr', 'nolls', 'picturepostcard', 'estebans', 'gannons', 'satisfyingbr', 'jetée', 'coffinbr', 'fatherdaughter', 'lindseys', 'needsbr', 'hersbr', 'yodas', 'pottymouthed', 'pâquerette', 'cornillac', 'yelchins', 'cassinelli', 'soldierbr', 'monetero', 'mixedrace', 'pointand', 'ironybr', 'shootemups', 'betrayalbr', 'alltoo', 'herkyjerky', 'artistrybr', 'beautifullybr', 'notsosubtle', 'wildernessbr', 'topbilled', 'baketamon', 'positivebr', 'graspbr', 'appearancebr', 'panandscan', 'nicelybr', 'storydriven', 'passiveaggressive', 'patientsbr', 'subor', 'golubeva', 'everso', 'propagandabr', 'frownland', 'catastrophebr', 'limitsbr', 'overkillbr', 'terrorismbr', 'homeworkbr', 'horrorthrillers', 'giullia', 'turaqistan', 'yonica', 'highstrung', 'seans', 'complimentbr', 'costners', 'paidbr', 'subconcious', 'horrorfantasy', 'bargainbr', 'anglesbr', '4the', 'seenthe', 'evies', 'timetraveling', 'forcefed', 'outofcontrol', 'zerobudget', 'vaders', 'constantlybr', 'presentationbr', 'hungs', 'innocencebr', 'prettybr', 'malles', 'accordinglybr', 'washingtonbr', 'jäniksen', 'vuosi', 'ballsbr', 'facesbr', 'storyplot', 'renying', 'parisbr', 'truelife', 'raperevenge', 'creatorsbr', 'backtoback', 'awkwardbr', 'actordirector', 'bannisters', 'hayworths', 'wellthoughtout', 'selfconfident', 'delightbr', '4000000', '20000000', 'seungup', 'agesbr', 'hystericalbr', 'membersbr', 'lauberge', 'tvshow', 'itthis', 'desirebr', 'frameup', 'rolethe', 'tombr', 'okeefe', 'aynur', 'gencebay', 'spanishamerican', 'freemanville', 'excellentthe', 'etcand', 'neighborhoodbr', 'lavventura', 'stitchesbr', 'soooooo', 'highbr', 'litel', 'standups', 'jodorowskys', 'manawaka', 'hagars', 'selfdefeating', 'angerbr', 'onetrick', 'sexobsessed', 'wahlbergs', 'mocumentary', '1941br', 'questionmarkbr', 'selfawareness', 'thirtythree', 'managebr', 'oceanbr', 'stewartbr', 'kurts', 'areabr', 'postwwii', 'remarkablebr', 'tastebr', 'jobsbr', 'fallbr', '40sbr', 'loudbr', 'waxmans', 'wellbalanced', 'scifis', 'ulmanns', 'sizebr', 'fortunebr', 'doyeon', 'shinaes', 'behaviorbr', 'loveits', 'akshays', 'coccio', 'digicorps', 'unfoldbr', 'valettes', 'manbut', 'youit', 'glauren', 'bunnys', 'correctbr', 'tagores', 'slambang', 'chokher', 'surfacebr', 'formatbr', 'ebaybr', 'fantasticand', 'welldesigned', 'tarsems', 'doppleganger', 'unknownbr', 'dinklepuss', 'codys', 'atwills', 'hairraising', 'soninlaw', 'corsia', 'luckbr', 'dostoyevskys', 'duologue', 'pleasurebr', 'milligans', 'astairerogers', 'pagebr', 'resolvedbr', 'halfasleep', 'pitchperfect', 'guerchard', '1935s', 'rerated', 'allbut', 'halfs', 'wylers', 'mcgoverns', 'immediatelybr', 'positionbr', 'ksun', 'proudbr', 'religionbr', 'venezuelabr', 'staterun', 'completest', 'cutsbr', 'leftbr', 'securitybr', 'againand', 'oquinn', 'spanishbr', 'soonerbr', 'americanmade', 'suckbr', 'cephallonian', 'dvdr', 'tealc', 'clubbr', 'cinematographybr', 'sensesbr', 'closetbr', 'japanbr', '1975br', 'stillers', 'thumbtanic', 'knowi', 'roquevert', 'englishdubbed', 'tarrs', 'obsessivecompulsive', 'oneonone', 'enemiesbr', 'koolaid', 'bathbr', 'filmwith', 'bullettime', 'reediting', 'timeit', 'oneminute', 'studiobr', 'limitedbr', 'cuttingroom', 'darim', 'movieas', 'guidos', 'filmespecially', 'incompetencebr', 'ferbers', 'industrybr', 'eustaches', 'ohalloran', 'unthoughtful', 'lightskinned', 'depressingbr', 'skree', 'foebr', 'boynextdoor', 'quinlin', 'animalbr', 'vietnambr', 'carons', 'tralala', 'animatedbr', 'particolare', 'mussolinis', 'unsatisfyingbr', 'toneddown', 'yearsi', 'silentera', 'reactionbr', 'laughand', 'tamakwa', 'charactersbut', 'filmif', 'stagedbr', 'lorenzos', 'familiarbr', 'gangbr', 'botherbr', 'insidebr', 'selfdeprecating', 'nonchronological']\n",
            "End of iteration 1, added 2000 new labels.\n",
            "Converted 26818 words (3181 misses)\n",
            "Missed words:  ['itbr', 'moviebr', 'filmbr', 'youve', 'werent', 'timebr', 'shouldnt', 'thembr', 'hadnt', 'lowbudget', 'himbr', 'theyve', 'onebr', 'thatbr', 'thisbr', 'mebr', 'storybr', 'bmovie', 'herebr', 'wellbr', 'allbr', 'goodbr', 'couldve', 'overthetop', 'onbr', 'wouldve', 'endbr', 'isbr', 'waybr', 'lifebr', 'againbr', 'outbr', 'theyd', 'therebr', 'reallife', 'writerdirector', 'betterbr', 'moviesbr', 'youbr', 'watchbr', 'badbr', 'filmsbr', 'toobr', 'herbr', 'theyll', 'upbr', 'oneliners', 'hitchcocks', 'spoilersbr', 'charactersbr', 'itll', 'mustsee', 'scenebr', 'peoplebr', 'screenbr', 'workbr', 'bebr', 'morebr', 'seenbr', 'showbr', 'everyones', 'funnybr', 'worldbr', 'etcbr', 'timesbr', 'inbr', 'madefortv', 'thoughtprovoking', 'wifes', 'otherbr', 'onedimensional', 'rolebr', 'notbr', 'daybr', 'aboutbr', 'awaybr', 'middleaged', 'funbr', 'anyones', 'eitherbr', 'yearsbr', 'cinemabr', 'familys', 'tobr', 'wasbr', 'muchbr', 'wrongbr', 'plotbr', 'otoole', 'scenesbr', 'characterbr', 'anywaybr', 'dobr', 'pg13', 'offbr', 'everbr', 'comedybr', 'forbr', 'pointbr', 'historybr', 'wellmade', 'shouldve', 'manbr', 'seriesbr', 'withbr', 'performancebr', 'gypo', 'overbr', 'oldfashioned', 'backbr', 'thingbr', 'thoughbr', 'itselfbr', 'fastpaced', 'beforebr', 'placebr', 'bmovies', 'moviei', 'togetherbr', 'endingbr', 'firstrate', 'boringbr', 'drivein', 'thingsbr', 'throughbr', 'mindbr', 'bookbr', 'africanamerican', 'musicbr', 'experiencebr', 'nowbr', 'awfulbr', '10br', 'audiencebr', 'sobr', 'actingbr', 'scriptbr', 'familybr', 'actorsbr', 'somethingbr', 'downbr', 'knowbr', 'castbr', 'disappointedbr', 'donebr', 'seebr', 'worsebr', 'wellwritten', 'sensebr', 'welldone', 'kubricks', 'laterbr', 'yearold', 'madebr', 'rightbr', 'bestbr', 'warbr', 'lovebr', 'daysbr', 'elsebr', 'nothingbr', 'xfiles', 'minutesbr', 'moneybr', 'crapbr', 'stuffbr', 'deathbr', 'didbr', 'austens', 'selfindulgent', 'tongueincheek', 'jobbr', 'whove', 'liveaction', 'spoilerbr', 'entertainingbr', 'himselfbr', 'partbr', 'rolesbr', 'ideabr', 'happenbr', 'originalbr', 'hisher', 'facebr', 'flickbr', 'possiblebr', 'enoughbr', 'directtovideo', 'eastwoods', 'goodlooking', 'greatbr', 'fulcis', 'halfhour', 'fulllength', 'reasonbr', 'interestingbr', 'chaplins', 'linebr', 'whod', 'precode', 'todaybr', 'sg1', 'classicbr', 'exwife', 'mustve', 'selfcentered', 'alonebr', 'eyesbr', 'casebr', 'wellacted', 'sciencefiction', 'homebr', 'actorbr', 'selfabsorbed', 'thatll', 'throughoutbr', 'starsbr', 'yourselfbr', 'stupidbr', 'believablebr', 'dvdbr', 'yearbr', 'othersbr', 'performancesbr', 'childrenbr', 'rosemarys', 'talentbr', 'goodnatured', 'insteadbr', 'nightbr', 'whybr', 'thinkbr', 'straighttovideo', 'ownbr', 'frombr', 'actionbr', 'zelah', 'genrebr', 'dramabr', 'altmans', 'firsttime', 'seagals', 'actorsactresses', 'imho', 'watchingbr', 'aroundbr', 'dialoguebr', 'onesided', 'societys', 'differentbr', 'levelbr', 'blackandwhite', 'saybr', 'directorwriter', 'slowmotion', 'lotbr', 'allamerican', 'slowmoving', 'pacinos', 'arebr', 'qualitybr', 'brilliantbr', 'anotherbr', 'starbr', 'truebr', 'livesbr', 'themselvesbr', 'picturebr', 'whilebr', 'miikes', 'directorbr', 'argentos', 'laughbr', 'premingers', 'lynchs', 'momentbr', 'productionbr', 'ofbr', 'beginningbr', 'involvedbr', 'longbr', 'masterpiecebr', 'messbr', 'laughsbr', 'oscarwinning', 'versionbr', 'selfconscious', 'playbr', 'songbr', 'girlbr', 'excellentbr', 'gamebr', 'exgirlfriend', 'anythingbr', 'featurelength', 'buddys', 'canbr', 'carface', 'doesbr', 'episodebr', 'coursebr', 'momentsbr', 'cmon', 'yetbr', 'nextbr', 'movieand', 'twodimensional', 'ladys', 'tvbr', 'likebr', 'keatons', 'motherbr', 'doodlebops', 'filmand', 'hilariousbr', 'downtoearth', 'checkbr', 'scoobydoo', 'materialbr', 'namebr', 'crimebr', 'camerabr', 'linesbr', 'budgetbr', 'spielbergs', 'bgrade', 'bigbudget', 'meanspirited', 'porkys', 'creditsbr', 'kidsbr', 'followbr', 'opinionbr', 'patheticbr', 'cringeworthy', 'chancebr', 'terriblebr', 'gobr', 'artbr', 'sexbr', 'carreys', 'excon', 'spoton', 'stopmotion', 'countrybr', 'effectbr', 'wellcrafted', 'modernday', 'reasonsbr', 'lostbr', 'pleasebr', 'custers', 'brotherinlaw', 'fatherbr', 'imdbs', 'rrated', 'entertainmentbr', 'schoolbr', 'leastbr', 'flesheating', 'anyonebr', 'titlebr', 'oscarnominated', 'runofthemill', 'illfated', 'grossout', 'shotbr', 'hustons', 'onesbr', 'reviewbr', 'doorbr', 'meanbr', 'conclusionbr', 'nononsense', 'thebr', 'fishmen', 'wellmeaning', 'superbbr', 'fansbr', 'connerys', 'aheadbr', 'situationbr', 'samebr', 'ridiculousbr', 'viewingbr', 'childbr', 'slowpaced', 'sotnikov', 'roombr', 'xmen', 'actbr', 'agobr', 'hollywoodbr', 'branaghs', 'secondrate', 'mistakebr', 'oncebr', 'animationbr', 'finishbr', '2br', 'comparisonbr', 'guysbr', 'bosss', 'erabr', 'gilligans', 'latebr', 'reallybr', 'tvmovie', 'citybr', 'okbr', 'havebr', 'screenplaybr', 'surprisebr', 'filmthe', 'actressbr', 'piecebr', 'thrillerbr', 'heartbr', 'amazingbr', '810br', 'wholebr', 'gentlemans', 'thenbr', 'eyebr', 'itthe', '710br', 'viewerbr', 'interestbr', 'awardwinning', 'garbagebr', 'womenbr', 'frankies', 'nobudget', 'elviras', 'enjoybr', 'careerbr', 'largerthanlife', 'showsbr', 'survivebr', 'futurebr', 'lessbr', 'housebr', 'personbr', 'effectsbr', 'willbr', 'hadbr', 'revengebr', 'rollbr', 'realbr', 'alices', 'seeingbr', 'billys', 'humorbr', 'hardbr', 'violencebr', 'americabr', 'comingofage', 'scorseses', 'diesbr', 'twobr', 'sevenbr', 'soapopera', 'viewbr', 'atmospherebr', 'deadbr', 'examplebr', 'moviethe', 'hellbr', 'fastforward', 'friendsbr', 'filmnoir', 'mightve', 'murderbr', 'jeanluc', 'effortbr', 'developmentbr', 'cusacks', 'killerbr', 'goodthe', 'dialogbr', 'televisionbr', 'periodbr', 'harlins', 'andbr', 'coolbr', 'matterbr', 'realitybr', 'miyazakis', 'guybr', 'elinore', 'eightbr', 'gorehounds', 'sequelbr', 'wastedbr', 'spocks', 'offerbr', 'everybodys', 'anybodys', 'enjoyablebr', 'dexters', 'headbr', 'storiesbr', 'topbr', 'finalebr', 'halfbaked', 'disappointmentbr', 'neednt', 'selfdestructive', 'seriouslybr', 'nc17', 'daylewis', 'shinae', 'carells', 'itit', 'cheezy', 'problembr', 'centurybr', 'wifebr', 'khouris', 'pastbr', 'mindnumbing', 'friendbr', 'maléfique', 'noname', 'firstbr', 'tarantinos', 'fatherson', 'matuschek', 'farbr', 'nsna', 'beattys', 'getbr', 'womanbr', 'allout', 'powerbr', 'foxs', 'movieit', 'neros', 'bhorror', 'stylebr', 'hamfisted', 'matchbr', 'noroi', 'carebr', 'directionbr', 'osullivan', 'kurtzs', 'bloodbr', 'earlierbr', 'standardsbr', 'dreambr', 'brandos', 'sadbr', 'oldschool', 'goingson', 'didntbr', 'everythingbr', 'icet', 'threebr', 'everyonebr', 'rochesters', 'rubbishbr', 'annoyingbr', 'foxxs', 'alivebr', 'storywise', 'allaround', 'guessbr', 'alongbr', 'rohmers', 'closebr', 'hoursbr', 'imdbcom', 'lovehate', 'releasebr', 'newbr', 'walshs', 'mordrid', 'shortbr', 'comebr', 'dammes', 'myselfbr', 'scarybr', 'freddys', 'townbr', 'welldeveloped', 'classbr', 'injokes', '1010br', 'kurosawas', 'selfrespect', 'commentbr', 'alisons', 'nicebr', 'goldsworthys', 'characterdriven', 'eyecandy', 'chanwook', 'seasonbr', 'rotj', 'godbr', 'helpbr', 'partsbr', 'railly', 'fellinis', 'selfesteem', 'jokebr', 'expectationsbr', 'hohum', 'bronsons', '8510', 'doingbr', 'fantasticbr', 'gilleys', 'recommendedbr', 'nobr', 'bluebeards', 'messagebr', 'daughterbr', 'apartbr', 'atbr', 'fassbinders', 'hoechlin', 'paperhouse', 'draculas', 'mindnumbingly', 'rififi1955', 'bakshis', 'mgms', 'bythenumbers', 'oneliner', 'offthewall', 'kickass', 'catandmouse', 'nonebr', 'soonbr', 'wellintentioned', 'littlebr', 'kahns', 'beenbr', 'culturebr', 'ensuesbr', 'lowrent', 'worstbr', 'woodys', 'paperthin', 'costsbr', 'nancys', 'ollies', 'relationshipbr', 'openminded', 'diebr', 'horrorcomedy', 'sincebr', 'restbr', 'businessbr', 'everythings', 'drawnout', 'laughablebr', 'expectbr', 'tearjerking', 'indeedbr', 'clothesbr', 'amazoncom', 'truthbr', 'dereks', 'exceptionbr', 'societybr', 'wererabbit', 'walkens', 'daytoday', 'perfectionbr', 'firstperson', 'listbr', 'existbr', 'treatbr', 'jeanpierre', 'anansa', 'soundtrackbr', 'wholl', 'motherinlaw', 'oldbr', 'starewicz', 'husbandbr', 'nowadaysbr', 'dullbr', 'scorebr', 'omalley', 'laughoutloud', 'verhoevens', 'alterego', 'naturebr', 'bitbr', 'memorybr', 'jawdropping', 'mcphillip', 'surebr', 'earthbr', 'hasbr', 'blacksnake', 'jeanclaude', 'subtitlesbr', 'actedbr', 'videobr', 'episodesbr', '1br', 'wideeyed', 'jimis', 'makingbr', 'longsuffering', 'worksbr', 'comingbr', 'gordonlevitt', 'fashionbr', 'filmingbr', 'inyourface', 'kidmans', 'erendira', 'whatsoeverbr', 'erics', 'bothbr', 'streeps', 'narvo', 'tmtm', 'brinke', 'gilliams', 'mysterybr', 'markbr', 'backgroundbr', 'fourbr', 'twothirds', 'melvilles', 'intobr', 'whatbr', 'streisands', 'makebr', 'racebr', 'formbr', 'horriblebr', 'novelbr', 'storylinebr', 'getgo', 'projectbr', 'bodybr', 'languagebr', 'mannerbr', 'troublebr', 'polanskis', 'eisensteins', 'fastbr', 'menbr', 'pointlessbr', 'sakebr', 'ff7', 'subjectbr', 'accentbr', 'flatbr', 'belowbr', 'zombiesbr', 'himand', 'oclock', 'lolbr', 'detailsbr', 'endsbr', 'watchablebr', 'workedbr', 'happybr', 'englishlanguage', 'beautifulbr', 'brunos', 'eventbr', 'effortsbr', 'shamebr', 'perspectivebr', 'itbut', 'hollys', 'foreverbr', 'perfectbr', 'perfectlybr', 'twentyfive', 'viscontis', 'respectbr', 'toxie', 'agebr', 'tragedybr', 'tarzans', 'itand', 'actionpacked', 'spacebr', 'cagneys', 'bunuels', 'winnerbr', 'jabbas', 'herselfbr', 'aboveaverage', 'longlost', 'ateam', 'startbr', 'finebr', 'antiamerican', 'happeningbr', 'anymorebr', 'alsobr', 'forgetbr', 'roegs', 'illconceived', 'predictablebr', 'coppolas', 'missionbr', 'kpax', 'littleknown', 'happenedbr', 'redfords', 'ossessione', 'oneofakind', 'exboyfriend', 'washedup', 'otherwisebr', 'feelbr', 'mccools', 'oneman', 'alertbr', 'zboys', 'isntbr', 'somebodys', 'sidneys', 'trybr', 'fanbr', 'babettes', 'danglard', 'cronenbergs', 'forgettablebr', 'aweinspiring', 'fanda', 'demilles', 'clouzots', 'radzoff', 'deadon', 'surprisedbr', 'julias', 'laughterbr', 'availablebr', 'videodvd', 'imdbbr', 'tshirt', 'fingersmith', 'tvseries', 'vadar', 'bazza', 'allthe', 'beethovens', 'marykate', 'pointsbr', 'writingbr', 'rememberbr', 'brynners', 'breakbr', 'latterbr', 'collectionbr', 'selfindulgence', 'actionadventure', 'joness', 'brotherbr', 'disturbingbr', 'booksbr', 'batmans', 'welldirected', 'happygolucky', 'offkilter', 'problemsbr', 'filmit', 'madeup', 'changedbr', 'yknow', 'clichéridden', 'handbr', 'weekbr', 'getsbr', 'anticsbr', 'tshirts', 'choicebr', 'oshea', 'moviebut', 'moviethis', 'unisol', 'unbelievablebr', 'gravebr', 'necessarybr', 'halfassed', 'adaptationbr', 'eventsbr', 'lowgrade', 'slowmo', 'comedys', 'nonsensebr', 'convincingbr', 'onebyone', 'belushis', 'happensbr', 'saidbr', 'heshe', 'theaterbr', 'whateverbr', 'festivalbr', 'selfloathing', 'tripbr', 'yesbr', 'kindbr', 'jackies', 'killedbr', 'selfcontained', 'documentarybr', 'ahole', 'herobr', 'justicebr', 'worldweary', 'chainsmoking', 'kazans', 'dassins', 'soontobe', 'waterbr', 'therere', 'awardbr', 'imaginebr', 'timei', 'boybr', 'okaybr', 'dealbr', 'neededbr', 'geniusbr', 'selfserving', 'upandcoming', 'handsbr', 'highpitched', 'murdererbr', 'antonionis', 'taipe', 'sleepbr', 'selfconsciously', 'alist', 'jokesbr', 'attentionbr', 'tellbr', 'felixs', 'tieh', 'dialouge', 'outofplace', 'sisterbr', 'trelkovsky', 'carlys', 'goauld', 'sliceoflife', 'cormans', 'lematt', 'hitchs', 'successbr', 'effectivebr', 'itits', 'chickflick', 'understandbr', 'valuebr', 'trainbr', '7510', 'karloffs', 'garbos', 'spacecamp', 'sheeta', 'wellcast', 'carlas', '12yearold', 'niros', 'selfpity', 'groundbr', 'soderberghs', 'workingclass', 'premisebr', 'threeway', 'gymkata', 'carltonbrowne', 'feinstone', 'fatebr', 'stanwycks', 'filone', 'gaglia', 'horrorbr', 'categorybr', 'manybr', 'rossitto', '14yearold', 'filmaking', 'washedout', 'quicklybr', 'walts', 'leadbr', 'bottomofthebarrel', 'highclass', 'worthwhilebr', 'flicksbr', 'specialbr', 'poorbr', 'climaxbr', 'circumstancesbr', 'changebr', 'tediousbr', 'thrillerhorror', 'jennifers', 'sandras', 'blandbr', 'consequencesbr', 'companybr', 'lubitschs', 'moocow', 'missedbr', 'planetbr', 'okeeffe', 'unisols', 'universebr', 'selfrespecting', 'sidebr', 'emotionbr', 'gamesbr', 'pointofview', 'seatbr', 'thered', 'terrythomas', 'painbr', 'tripebr', 'beginbr', 'waysbr', 'marions', 'hickland', 'behindbr', 'catbr', 'songsbr', 'lamebr', 'remakebr', 'motherdaughter', 'fastmoving', 'wonderfulbr', 'cultclassic', 'matteroffact', 'hopebr', 'oscarworthy', 'reccomend', 'thoughtbr', 'raisuli', 'shirleys', 'bogosians', 'zgrade', 'hotbr', 'bourvil', 'movingbr', 'warningbr', 'earthshattering', 'suspensebr', 'cleverbr', 'situationsbr', 'howeverbr', 'justforkix', 'druginduced', 'flawsbr', 'importantbr', 'dannys', 'behindthescenes', 'rukhs', 'scalebr', 'sampredo', 'classicsbr', 'officebr', 'releasedbr', 'bogarts', 'werebr', 'morningbr', 'threedimensional', 'latterday', 'pacebr', 'sondheims', 'skammen', 'firstclass', 'bluray', 'wheelchairbound', 'garfields', 'tommys', 'ridebr', 'sharkys', 'duchovney', 'stephanois', 'fantasybr', 'soulbr', 'bigscreen', 'churchbr', 'jeanpaul', 'welldeserved', 'girlsbr', 'thosebr', 'nowherebr', 'btch', 'butbr', 'succeedbr', 'jox', 'kapoors', 'resultbr', 'questionsbr', 'beautybr', 'lengthbr', 'anglosaxon', 'hundstage', 'hardedged', 'ramars', '7yearold', 'goingbr', 'tenbr', 'fullon', 'feelingbr', 'passworthy', 'bossbr', 'viewersbr', 'completelybr', 'playerbr', 'pazu', 'taime', 'pricelessbr', 'animalsbr', 'chabrols', 'noahs', 'datebr', 'selfrighteous', 'powerfulbr', 'livebr', 'secondbr', 'englishbr', 'cartoonbr', 'cheesey', 'personalitybr', 'processbr', 'comedydrama', '10yearold', 'truffauts', 'zetajones', 'editingbr', 'tachiguishi', 'lelands', 'kiplings', 'todesking', 'victimsbr', 'boredombr', 'janmichael', 'langdons', 'starstudded', 'oneil', 'lawbr', 'ourselvesbr', 'wonderbird', 'xica', 'eunjoo', 'disappointingbr', 'cheadles', 'crapfest', 'dekalog', '40yearold', 'thalluri', 'champlains', 'soultaker', 'molloch', 'lesseos', 'sequelsbr', 'cameramans', 'waitbr', 'abovebr', 'schizophreniac', 'scenesthe', 'belowpar', 'pukebr', 'sequencesbr', 'victimbr', 'horsebr', 'zizeks', 'synopsisbr', 'threequarters', 'peacebr', 'selfinflicted', 'strongwilled', 'cheapbr', 'kristoffersons', 'aspectsbr', 'naschys', '310br', 'whitebr', 'extremebr', 'brated', 'crybr', 'windowbr', 'horrormovie', 'ratingsbr', '100br', 'alwaysbr', 'soundbr', 'codirected', 'wellfilmed', 'exhusband', 'worldweariness', 'believedbr', 'koontzs', 'directorsbr', 'lugosis', 'suitbr', 'altogetherbr', 'paltrows', 'sucksbr', 'onejoke', 'nonethelessbr', 'voicebr', 'channelbr', 'kidbr', 'realisticbr', 'dumbbr', 'putupon', 'resultsbr', 'forwardbr', 'firebr', 'memorablebr', 'mabels', 'mouthbr', 'swordfights', 'tensionbr', 'productbr', 'kittys', 'filmbut', 'sobaditsgood', 'turkeybr', 'falks', 'failsbr', 'unscary', 'animes', 'charmbr', 'fatherinlaw', 'stallones', 'actings', 'selfproclaimed', 'louque', 'nonchristians', 'capotes', 'oscarcaliber', 'rapidfire', 'expectedbr', 'bressart', 'kinskis', 'dadbr', 'presentday', 'dieing', 'costellos', 'settingbr', 'welltold', 'badguy', 'oncamera', 'kangho', 'monsterbr', 'diseasebr', 'pedecaris', 'stopbr', 'streetbr', 'jawdroppingly', 'cakebr', 'moviethere', 'westernbr', 'brilliancebr', 'documentarystyle', 'networkbr', 'couldbr', 'andwell', 'sinuhes', 'publicbr', 'golddigging', 'suicidebr', 'amrapurkar', 'gauris', 'otooles', 'overthehill', 'wallbr', 'unnecessarybr', 'mindbending', 'moviea', 'videostore', 'duvalls', 'memoriesbr', 'hourbr', 'factbr', '2the', 'actoractress', 'tourdeforce', 'progressesbr', '30something', 'bolkan', 'madnessbr', 'writerbr', 'twohour', 'polarisdib', 'badlybr', 'oss117', 'waythe', 'badit', 'lianchu', 'gwizdo', 'simplebr', 'blackwhite', 'brideless', 'communitybr', 'xrated', 'documentarylike', 'youngbr', 'pseudointellectual', 'englandbr', 'hardhitting', 'sayingbr', '5year', 'asbr', 'wasis', 'selfdestruction', 'mst3000', 'burakov', 'depthbr', 'anouska', 'awardsbr', 'moviein', 'herzogs', 'leguizamos', 'forgivenbr', 'timetravel', 'jeanlouis', 'mindsbr', 'recomend', 'talebr', 'fword', 'sortof', 'fishoutofwater', 'murdermystery', 'assbr', 'teambr', 'girlfriendbr', 'alreadybr', 'returnbr', 'beliefbr', 'couplebr', 'fightbr', 'sonbr', 'cleancut', 'openended', 'stereotypesbr', 'movieits', 'findbr', 'fallons', 'humourbr', 'thinkingbr', 'himhe', 'romcom', 'pathbr', 'pseudodocumentary', 'hawkings', 'gorebr', 'bandbr', 'plotholes', 'cameosbr', 'completist', 'christines', 'horrorthriller', 'thereand', 'welldrawn', 'turnbr', 'cassavettes', 'actionsbr', 'crichtons', 'beatup', 'imaginationbr', 'ageold', 'sakall', 'portrayalbr', 'bluesbr', 'surprisesbr', 'illadvised', 'mostbr', 'usualbr', 'stepbystep', 'allinall', 'raveenas', 'timmys', 'createdbr', 'gespenster', 'exmrs', 'dumbeddown', 'ggirl', 'iibr', '2dimensional', 'freshfaced', 'chappelles', 'halfdecent', 'marsillach', 'itthey', 'dellorco', 'dahls', 'abilitybr', 'secondsbr', 'freespirited', 'trashbr', 'intendedbr', 'storythe', 'watchedbr', 'postworld', 'devitos', 'noirbr', 'wurb', '3br', 'wellpaced', 'crazybr', 'slomo', 'selfreference', 'shakespearebr', 'teacherbr', 'mid90s', 'kingbr', 'hackenstein', 'environmentbr', 'venantini', 'martys', 'hahaha', 'sunnys', 'agentbr', 'wowbr', 'setsbr', 'thatd', 'martialarts', 'sebergs', 'mitchums', 'loversbr', 'zabalza', 'accidentbr', 'tolkiens', 'alikebr', 'daninsky', 'gadgetmobile', 'sauras', 'lv2', 'lv1', 'randys', 'epods', 'sevenups', 'sharpes', 'hasbeen', 'sickbr', 'martinos', 'satirebr', 'winbr', '90minute', '7eventy', 'themand', 'guntoting', 'alqaeda', 'writerdirectors', 'filmschool', 'selfconfidence', 'marlows', 'halfbrother', 'shatners', 'miserybr', 'endedbr', 'matrixbr', 'onlocation', 'middlebr', 'wellplayed', 'wellworn', 'rulebr', 'lowbudgeted', 'eurohorror', 'playingbr', 'artistbr', 'mid70s', 'pricebr', 'drek', 'dreckbr', 'salmans', 'secretbr', 'longerbr', 'skillsbr', 'torturebr', '1970sbr', 'germanybr', 'sadsack', 'dialoge', 'huhbr', 'onlybr', 'funnierbr', 'commentsbr', 'noticebr', 'dontbr', 'endthe', 'numbersbr', 'gormless', 'lifethe', 'freebr', 'badmovie', 'uboat', 'joshs', 'moviesbut', 'rememberedbr', 'carbr', 'scifibr', 'seabr', 'moviejust', 'wantbr', 'closeknit', 'hardearned', 'afterbr', 'producerdirector', 'hillarious', 'kermits', 'hensons', 'raimis', 'excitementbr', 'amateurishbr', 'goodbut', 'spotbr', 'triggerhappy', 'almodovars', 'generationbr', 'directingbr', 'selfimportant', 'odonnell', 'boormans', 'husbandwife', 'livein', 'villainbr', 'stoppedbr', 'jailbr', 'impressivebr', '3the', 'allit', 'partybr', 'lesserknown', 'advicebr', 'ghosthouse', 'blackbr', 'yawnbr', 'hijinx', 'monstersbr', 'scenerychewing', 'disgustingbr', 'beingsbr', 'rentalbr', 'douchebag', 'taskbr', 'embr', 'rhysdavies', 'overallbr', 'orderbr', 'epicbr', 'followingbr', 'semiserious', 'milyang', 'digicorp', 'sjöströms', 'körkarlen', 'mustnt', 'downandout', 'funfilled', 'followsbr', 'excitingbr', 'moronie', 'adultsbr', 'readbr', 'readingbr', 'welli', 'annmargret', 'livingbr', 'commentarybr', 'piecesbr', 'selfmade', 'answerbr', 'fishburnes', 'wellthought', 'tarrantino', 'rewatching', '5br', 'unlikelybr', '2007br', 'fasttalking', 'approachbr', 'presentbr', 'professionbr', 'mahlers', 'thisand', 'deservedbr', 'edgeoftheseat', 'boxbr', 'tromas', 'awesomebr', 'filmmakingbr', 'godell', 'anythings', 'darvi', 'knowitall', 'insanitybr', 'moonbr', 'setbr', 'legendbr', 'governmentbr', 'moviesthe', 'sharkman', 'madefortelevision', 'coulardeau', 'handtohand', 'leaderbr', 'respectivelybr', 'ratebr', 'actioncomedy', 'buildingbr', 'confusingbr', 'mishimas', 'kazihiro', 'seenand', 'gelwix', 'redemptionbr', 'mclaglens', 'schwarzeneggers', 'scopebr', 'planbr', 'farcry', 'columbos', 'doubtbr', 'miseenscene', 'offkey', 'gungho', 'encounterbr', 'historys', 'differencebr', 'bybr', 'dangerfields', 'contentbr', 'quaien', 'actioners', 'eyepopping', 'beingbr', 'courtenays', 'lizs', 'goodbad', 'ignoredbr', 'lipsync', 'twains', 'weakbr', 'lifechanging', 'nearperfect', 'believebr', 'adventurebr', 'naughtons', 'rourkes', 'selfdefense', 'hannas', 'maruschka', 'lightbr', 'dumbrille', 'voights', 'nobodys', 'briss', 'bythebook', 'endearingbr', 'lestats', 'walkon', 'deads', 'versionsbr', 'chavezs', 'mummys', '110br', 'powersbr', 'fullblown', 'cusak', 'wellthe', 'caligulas', 'controlbr', 'thoughtout', 'forthbr', 'edgebr', 'lookingbr', 'moviesand', 'thisi', 'reunionbr', 'vonneguts', 'funloving', 'selfaware', 'depardieus', 'smithbr', '210br', 'menacebr', 'algrens', 'oater', 'halfdozen', 'afroamerican', 'afroamericans', 'intensebr', 'islandbr', 'cutbr', 'gembr', 'notthe', 'storebr', 'wellexecuted', 'entertainedbr', 'evilbr', 'twistbr', 'sillybr', 'amazedbr', 'puppydog', 'fackin', 'nationbr', 'thingthe', 'knowsbr', 'folksbr', 'reviewsbr', 'hornbys', 'alja', 'triedbr', 'jeanmarc', 'shootem', 'ropey', 'maneating', 'scantilyclad', 'versioni', 'missbr', '7br', 'drybr', 'punbr', 'humanbr', 'tiein', 'footagebr', 'oneand', 'affairbr', 'surprisingbr', 'bassenger', 'compellingbr', 'silencebr', 'succeededbr', 'exitingfunnydramatic', 'iswas', 'sarahs', 'dresslers', 'lastbr', 'barbr', 'bangup', 'disasterbr', 'screwfly', 'clooneys', 'doesntbr', 'wellhandled', 'beginsbr', 'holmess', 'dogooder', 'servillo', 'toyoji', 'lucass', 'larraz', 'purposebr', 'darkwolf', 'statesbr', 'stagebr', 'surov', 'neonoir', 'novaks', 'kennicut', 'sallys', '500000', 'maughams', 'techniquesbr', 'tonebr', 'ariauna', 'starewiczs', 'nobrainer', 'gutwrenching', 'twentytwo', 'moviesthis', 'btas', 'lenos', 'lewiss', 'watereddown', 'heavenbr', 'producedbr', 'shockbr', 'callgirl', 'dominoe', 'realismbr', 'straightlaced', 'goesbr', 'beethovan', 'fewbr', 'hairbrained', 'crosseyed', 'toughguy', 'suckedbr', 'lookbr', 'screambr', 'blahbr', 'hotelbr', 'factorbr', 's2t', 'substancebr', 'conceptbr', 'europebr', 'kannathil', 'somebr', 'afraidbr', 'ladybr', 'americanbr', 'claires', 'ratingbr', 'tomasis', 'venantino', 'actingwise', 'radiobr', 'methe', 'tennants', 'inevitablebr', 'ambr', 'avpr', 'sellecks', 'klaskycsupo', 'timeand', 'nekromantik', 'vampiros', 'deepbr', 'touchingbr', 'dondeloro', 'straightbr', 'mamets', 'clints', 'ultraorthodox', '2hour', 'mildmannered', 'ww11', 'rosss', 'hairbr', 'premminger', 'akyroyd', 'lapadite', 'sapsorrow', 'aristorcats', 'easybr', 'highprofile', 'divorcebr', 'himher', 'sebastians', 'namis', 'easebr', 'katharines', 'sasori', 'laughtrack', 'jarda', 'appolonia', 'syberberg', 'vampiress', 'kerching', 'sissis', 'addicus', 'tabonga', 'soske', 'syberbergs', 'howbr', 'diedbr', 'darkhunters', 'yearsbut', 'joannas', 'dillingers', '4br', 'timewaster', 'pofaced', 'underlit', 'ariels', 'notsogood', 'murphybr', 'twicebr', 'drugaddicted', 'sequal', 'madeforcable', 'complaintsbr', 'murdersbr', 'uselessbr', 'deneuves', 'oneline', 'richies', 'featuresbr', 'laughingbr', 'pacula', 'himbut', 'writtenbr', 'uninterestingbr', 'someonebr', 'furtherbr', 'berkowitzs', 'cluebr', 'offcamera', 'zudina', 'usabr', 'viceversabr', 'stationbr', 'bedbr', 'appealbr', 'golanglobus', 'greeneggs', 'nipar', 'badguys', 'finneys', 'hitandrun', 'individualbr', 'impressedbr', 'nouvellefrance', 'somehowbr', 'dumbs', 'worthbr', 'suckfest', 'penryjones', 'audiencesbr', 'timesthe', 'doubleedged', 'wellbut', 'snorefest', 'lengle', 'familyfriendly', 'interestedbr', 'floorbr', 'muchneeded', 'hackfords', 'toand', 'ideasbr', 'suspectbr', 'fiveminute', 'obviousbr', 'ladiesbr', 'shos', 'afterdark', 'amys', '1955br', 'jpii', 'helpedbr', 'thisa', 'elementbr', 'failbr', 'selfinvolved', 'postrevolutionary', 'rockbottom', 'prolly', 'exlover', 'touchyfeely', 'cheesebr', 'municipalians', 'cuttingedge', 'oconnors', 'offensivebr', 'masterbr', 'weirdbr', 'jessicas', 'withinbr', 'crappiness', 'ministerbr', 'itthere', 'sebastiens', 'slowbr', 'examplesbr', 'fashionatas', 'actuallybr', 'sluttish', 'wouldbr', 'directorscreenwriter', 'fascinatingbr', 'groaninducing', 'showbut', 'galaxina', 'sttng', 'panzrams', 'normalbr', 'relationshipsbr', 'stunningbr', 'selfappointed', 'spaceys', 'mid80s', 'bfilm', 'appollo', 'somewherebr', 'lifethreatening', 'usedbr', 'characterhe', 'moodbr', 'filmirage', 'wasntbr', 'corniest', 'meaningbr', 'everreliable', 'gainsbourgh', 'wellmannered', 'speakbr', 'beforeand', 'timelinebr', 'creditbr', '1980sbr', 'seemsbr', 'loessers', 'crimesbr', 'glassbr', 'hangglider', 'blankfield', 'rockbr', 'slackjawed', 'basingers', 'tillys', 'thisthe', 'investigationbr', 'laughless', 'milebr', 'unfoldsbr', 'improvementbr', 'lundgrens', 'lowbr', 'toldbr', 'hisbr', 'plusbr', 'hitbr', 'scottthomas', 'levelsbr', 'farscapes', 'romancebr', 'englishspeaking', 'burntout', 'centuryfox', '80sbr', 'hlots', 'apartmentbr', 'softfocus', 'waterss', 'createsbr', 'camerasbr', 'justins', 'lowlevel', 'malicks', 'rekert', 'seasonsbr', 'heflins', 'bennys', 'doublecrossing', 'landos', 'downonhisluck', 'desertbr', 'reliefbr', 'conartist', 'stewartmann', 'sanghyeon', 'babybr', 'dreamsbr', '9yearold', 'fearbr', 'wordsbr', 'actiondrama', 'halloweenbr', 'impactbr', 'ashenbach', 'razorsharp', 'songanddance', 'measurebr', 'silverhaired', 'shahrukhs', 'thrillbr', 'bobba', 'revealedbr', 'misleadingbr', 'unfortunatelybr', 'windbr', 'mitchs', 'excop', 'needbr', 'amandas', 'onand', 'flavorsome', 'suleimans', 'marketbr', 'completedbr', 'edelmans', 'noisebr', 'vampiresbr', 'bflick', 'figurebr', 'threehour', 'britcoms', 'ustinovs', 'dignitybr', 'blaxpoitation', 'truetolife', 'termsbr', 'doghi', 'emmas', 'activitiesbr', 'continuedbr', 'jonesbr', 'issuesbr', 'completebr', 'computergenerated', 'dimensionbr', 'wellproduced', 'anwars', 'differentlybr', 'paulas', 'chambara', 'wellstaged', 'williamsbr', 'humanitybr', 'allencompassing', 'deliverybr', 'bahranis', 'philosophybr', 'rewatched', 'jacksonbr', 'praisebr', 'superiorbr', 'popculture', 'ramóns', 'ninebr', 'grunick', 'criticsbr', 'oftenbr', 'highpowered', 'peckinpahs', 'responsibilitybr', 'optionbr', 'ritas', 'peckers', 'devilbr', 'castingbr', 'everywherebr', 'jangs', 'spiritbr', '15year', 'pixars', 'novelsbr', 'saysbr', 'dramacomedy', 'actorsthe', 'leebr', 'ohand', 'timesbut', 'digressbr', 'combinedbr', 'technicolorbr', 'stéphanois', 'survivalbr', 'wellsuited', 'missingbr', 'kuzcos', 'heartstopping', 'listenbr', 'sfhorror', '3hour', 'demonsbr', 'romebr', 'lockes', 'clichée', 'humanitys', 'grangers', 'selfreferential', 'playsbr', 'herethe', 'dropdead', 'flashbacksbr', 'sinbr', 'productionsbr', 'eveningbr', 'picturesbr', 'dallesandros', '20something', 'maxbr', 'mgmua', 'ownerbr', 'nonmainstream', 'cnnnn', 'travoltas', 'nightsbr', 'boatbr', 'properlybr', 'disappointbr', 'seriesi', 'factorybr', '3strip', 'mentallychallenged', 'camerlingo', 'allreds', 'astroesque', 'thati', 'hupperts', 'fidos', 'musicalbr', 'kiddingbr', 'venezuelas', 'streetsbr', 'contextbr', 'ananka', 'nonrelated', '910br', 'boyfriendbr', 'garlins', 'factsbr', 'juliabr', 'indahouse', 'samanthas', 'verdis', 'onhand', 'oneoff', 'craftbr', 'bestknown', 'gotbr', 'crowdbr', 'wellshot', 'witchs', 'fatherfigure', 'lifeand', 'enjoymentbr', 'hawns', 'youthbr', 'succeedsbr', 'mediabr', 'witherspoons', 'fullbodied', 'favorbr', 'catspaw', 'stickbr', 'armsbr', 'onenight', 'dancebr', 'tworeel', 'fwords', 'canoing', 'handsdown', 'fullfledged', 'embarrassingbr', 'branaugh', 'incrediblebr', 'rassimov', 'authenticlooking', 'selfdiscovery', 'coasterbr', 'wittiness', 'sawbr', 'highschoolers', 'hestons', 'mankinds', 'locationbr', 'attackbr', 'scifihorror', 'bazzoni', 'cassevetes', '15yearold', 'scuddamore', 'midlers', 'yeahbr', 'pollacks', 'alltogether', 'carfaces', 'franchisebr', 'britneys', 'maltins', 'sabus', 'wellplaced', 'unfunniest', 'destinybr', 'minebr', 'heavyduty', 'fakebr', 'wonderous', 'plottwists', 'doesent', 'toughasnails', 'pagets', 'earsbr', 'centurys', 'scenarists', 'lowerclass', 'halfbr', 'expressionbr', 'decentbr', 'hanekes', 'countbr', 'cutebr', 'detectivebr', 'scriptsbr', 'cosgroves', 'sentencebr', 'countsbr', 'ramons', 'welltimed', 'centerbr', 'twodisc', 'nonamerican', 'meand', 'softporn', 'keggs', 'astaires', 'thrillsbr', 'karwais', 'writersbr', 'runins', 'valuesbr', 'secondtier', 'nuditybr', 'africanamericans', 'crisisbr', 'drablow', 'welljudged', 'horrorfilm', 'dingalingless', 'turds', 'bavas', 'welltodo', 'mazurki', 'lumets', 'maxs', 'gomeda', 'selfassured', 'fiveyear', '2001s', 'alienbr', 'catsbr', 'californiabr', 'gaythemed', 'avoidbr', '2001br', 'awebr', 'confusionbr', 'unentertaining', 'malkovichs', 'pornbr', 'directer', 'acceptablebr', 'despairbr', 'crappiest', 'londonbr', 'post911', 'shownbr', 'messedup', 'sirks', 'gojoe', 'karlofflugosi', 'camebr', 'wellused', 'thinbr', 'nonenglish', 'sarnos', 'hahahaha', 'brancovis', 'prizzis', 'partanna', 'carrieanne', 'sagans', 'suchbr', 'bodycount', 'potbr', 'unwatchablebr', 'supportbr', 'jlb', 'solino', 'everytown', 'hmmmbr', 'irritatingbr', 'sabrinas', 'knowledgebr', 'sinisterbr', 'dansu', 'choule', 'dangerbr', 'doublefeature', 'kishibe', 'crosssection', 'actionthriller', 'corebr', 'pabsts', 'thirdworld', 'movieshe', 'toulons', 'beastbr', 'crappier', 'wynorskis', 'mfumu', 'deadend', 'sisterinlaw', 'fictionbr', 'nonactor', 'drugdealing', 'livedbr', 'nightmarebr', 'pasolinis', 'charel', 'demisebr', 'allthis', 'miyazawas', 'hotchkins', 'microbudget', 'leroys', 'alittle', 'funnyi', 'clearbr', 'allpowerful', 'diaboliques', 'steeman', 'workingbr', 'calson', 'timethe', 'absurdbr', 'byrons', 'unfunnybr', 'reshamiya', 'guinnesss', 'cgrade', 'wirey', 'shotsbr', 'wishywashy', 'fcking', 'editedbr', 'jp3', 's2rd', 'filmmakersbr', 'semifamous', 'betweenbr', 'viewsbr', 'schepisis', 'decisionbr', 'ouimets', 'loserbr', 'shtty', 'medusan', 'partnerbr', 'keiths', 'mumbojumbo', 'thatand', 'cruellas', 'impossiblebr', 'directorwriters', 'easilybr', 'lorres', 'muthamittal', 'removedbr', 'solonitsyn', 'seriousbr', 'hivaids', 'woodbr', 'buellers', '1930sbr', 'greenstreets', 'kikuno', 'miserablybr', 'revolutionbr', 'breillats', 'nazarin', 'redblooded', 'timons', 'movebr', 'waiman', 'marenghis', 'confusedbr', 'caresbr', 'bigname', 'sunways', '250000', 'fightingbr', 'lorens', 'thoughtsbr', 'sayori', 'substory', '1½', 'tapebr', 'sightbr', 'unbearablebr', 'potempkin', 'goodit', 'thembut', 'forgottenbr', 'gutbusting', 'puyn', 'backcolor', 'dosent', 'availbr', 'treasurebr', 'unforgettablebr', 'conditionbr', 'hatbr', 'wirework', 'scenerybr', 'areasbr', 'ansom', 'sacrificebr', 'prisonbr', 'movieor', 'lowcut', 'selfbr', 'coasterwaldau', 'signbr', 'cartoonsbr', 'resolutionbr', 'sciencebr', 'boobage', 'warnedbr', 'anistons', 'shouldersbr', '400000', 'tessari', 'audrie', 'vehiclebr', 'prettyboy', 'bournes', 'skinemax', 'touchbr', 'rrating', 'moovie', 'fakelooking', 'dogsbr', 'orwells', 'fortyfive', 'rickys', 'generalbr', 'suyeon', 'knightleys', 'nonexistentbr', 'catwomen', 'christys', 'timebut', 'wherebr', 'runbr', 'eyeopening', 'taejoo', 'transcendenz', 'highquality', 'webr', '1971br', 'schraders', 'expartner', 'murderedbr', 'sueli', 'generousbr', 'evelyns', 'wellconstructed', 'giovannas', 'parkbr', 'upand', 'godards', 'arnies', 'humansbr', 'photographybr', 'allenbr', 'siberling', 'neweyes', 'screweyes', 'elementsbr', 'gustavs', 'enjoyability', 'vidals', 'feinstones', '6the', 'falon', 'joybr', 'frostnixon', 'babyfaced', 'ludicrousbr', 'flagwaving', 'torgo', 'trelayne', 'nwh', 'makebelieve', 'soutendijk', 'edgeofyourseat', 'italianamerican', 'kieslowskis', 'talkbr', 'deservebr', 'zandalee', 'jiwoon', 'segals', 'bronenosets', 'potyomkin', 'guetary', 'anybr', 'jyo', 'bhoomika', 'teenslasher', 'patroni', 'costagavras', 'proamerican', 'morverns', 'goroshkov', 'bashki', 'womeninprison', 'tbirds', 'mysterythriller', 'vagone', 'letto', 'happinessbr', 'glenglenda', 'moviethat', 'tvfilm', 'belowaverage', 'nieztsche', 'malefemale', 'buchfellner', 'trents', 'erikas', 'ichikawas', 'spoorloos', 'artistsong', 'cdplayer', 'brysomme', 'tajs', 'handdrawn', 'fuckland', 'mowan', 'moroncommandos', 'overtheshoulder', 'pumpkinheaded', 'locataire', 'includedbr', 'driveins', 'hillbr', 'shootemup', 'framebr', 'cuecard', 'schemebr', '15minute', 'stevebr', 'sr71', 'f15s', 'gallactica', 'uniformbr', 'actorsthey', 'uptodate', 'megans', 'abilitiesbr', 'isand', 'selfdeprecation', 'flyonthewall', 'fullfrontal', 'abouti', 'topquality', 'griefbr', 'lipsynching', 'lousybr', 'chickenbr', 'moorebr', 'amitabhs', 'sockpuppet', 'noones', 'bigcity', 'stalebr', 'hamills', 'gazarra', 'fastmotion', 'flipflops', 'threeact', 'extentbr', 'cowboybr', 'averagebr', 'pg13br', 'dilettantish', 'convictionbr', 'flatleys', 'blablabla', 'thesebr', 'techniquebr', 'itlike', 'uhhuh', 'comedianbr', 'lacklusterbr', 'puckoon', 'placesbr', 'breathtakingbr', 'vaselino', 'postdubbed', 'archiveorg', 'clunks', 'albiet', 'bestworst', 'meanlooking', 'successfulbr', 'perverseness', 'druggedout', 'naura', 'kruschen', 'feltbr', 'nonanimated', 'polebr', 'fishbr', 'nutjob', 'sbaraglia', 'understandablebr', 'anybodybr', '14year', 'extrasbr', 'faultbr', 'wellheeled', 'fiascobr', 'comedyi', 'blueeyed', 'lohans', 'countriesbr', 'renfros', 'blondhaired', 'brookss', 'barbeaus', 'sobiesky', 'yuckbr', 'lengles', 'deliveredbr', 'campbr', 'boardbr', 'foundbr', 'basebr', 'endoftheworld', 'fujimoris', 'onebyonebr', 'highranking', 'artistsbr', 'imagebr', 'aksar', 'udita', 'parés', '1000000', 'lesters', 'mobbr', 'movieso', 'slasherhorror', 'agendabr', 'risebr', 'graboids', 'ughbr', 'braincells', 'highend', 'drivelbr', 'castmembers', 'breastsbr', 'talksbr', 'scenewhich', 'musicalcomedy', 'halfcaste', 'mcdermotts', 'studentbr', 'horribleness', 'vanne', 'stereobr', 'fourstar', 'shorterbr', 'lossbr', 'liebr', 'aliensbr', 'idiotbr', 'late60s', 'noisesbr', 'bigbr', 'birdbr', 'pollonia', 'illfitting', 'usebr', 'wildeyed', 'nonchristian', 'ffvii', 'contrivedbr', 'spotsbr', 'displaybr', 'cornerbr', 'convolute', 'producerswriters', 'wowthis', 'unerotic', 'outbut', 'directedbr', 'nonhorror', 'collegebr', 'exmodel', 'motivesbr', 'basedbr', 'secondhalf', 'keiras', 'mst3ks', 'snoozefest', 'attitudebr', 'competentbr', 'ashmith', 'stirba', 'komizu', 'goreeffects', 'appreciationbr', 'potentialbr', 'headachebr', 'kosleck', 'odins', 'battlebr', 'innercity', 'selfcentred', 'agreebr', 'runningbr', 'dressedbr', 'emilys', 'bizarrebr', 'drossbr', 'backand', 'translationbr', 'explainbr', 'nicelooking', 'hitormiss', 'hasselhoffs', 'accomplishmentbr', 'bogstandard', 'gurning', 'sucky', 'bluegray', 'bombbr', 'noticedbr', 'deafmute', 'k911', 'filmmakerbr', 'greatlooking', 'channelsurfing', 'dansons', 'poorlymade', 'poopie', 'aboundbr', 'selfparody', 'moviewell', 'neonazi', 'terriblethe', 'roddenberrys', 'waaay', 'hardbitten', 'riccis', '1997s', 'ators', 'littleseen', 'supermans', 'killsbr', 'halfwits', 'likablebr', 'wannabee', 'crudebr', 'poprock', 'virusbr', 'helltown', 'repeatbr', '19yearold', 'scifiaction', 'vomitbr', 'geilgud', 'cushings', 'payperview', 'vaugier', 'homemovie', 'charmingbr', 'elsewherebr', 'taylorcompton', 'alleybr', 'onetenth', 'laboratorybr', 'particularbr', 'offbroadway', 'convincinglybr', 'masseys', 'thoughit', 'charactersthe', 'abomb', 'theatrebr', 'toobut', 'halfanhour', 'rkos', 'pinnochio', 'sheriffbr', '1988br', 'lappartement', 'carrys', 'wallsbr', '70s80s', 'unnuanced', 'antisoviet', 'courtmartial', 'loveand', 'massacrebr', 'povertyrow', 'westbr', 'leisens', 'forewarnedbr', 'presencebr', 'imaginablebr', 'convincedbr', 'stagestruck', 'marsbr', 'characteractor', 'daddys', 'copybr', 'aroundi', 'nonsequiturs', 'depps', 'uncreditedbr', 'nolls', 'picturepostcard', 'estebans', 'gannons', 'satisfyingbr', 'jetée', 'coffinbr', 'fatherdaughter', 'lindseys', 'needsbr', 'hersbr', 'yodas', 'pottymouthed', 'pâquerette', 'cornillac', 'yelchins', 'cassinelli', 'soldierbr', 'monetero', 'mixedrace', 'pointand', 'ironybr', 'shootemups', 'betrayalbr', 'alltoo', 'herkyjerky', 'artistrybr', 'beautifullybr', 'notsosubtle', 'wildernessbr', 'topbilled', 'baketamon', 'positivebr', 'graspbr', 'appearancebr', 'panandscan', 'nicelybr', 'storydriven', 'passiveaggressive', 'patientsbr', 'subor', 'golubeva', 'everso', 'propagandabr', 'frownland', 'catastrophebr', 'limitsbr', 'overkillbr', 'terrorismbr', 'homeworkbr', 'horrorthrillers', 'giullia', 'turaqistan', 'yonica', 'highstrung', 'seans', 'complimentbr', 'costners', 'paidbr', 'subconcious', 'horrorfantasy', 'bargainbr', 'anglesbr', '4the', 'seenthe', 'evies', 'timetraveling', 'forcefed', 'outofcontrol', 'zerobudget', 'vaders', 'constantlybr', 'presentationbr', 'hungs', 'innocencebr', 'prettybr', 'malles', 'accordinglybr', 'washingtonbr', 'jäniksen', 'vuosi', 'ballsbr', 'facesbr', 'storyplot', 'renying', 'parisbr', 'truelife', 'raperevenge', 'creatorsbr', 'backtoback', 'awkwardbr', 'actordirector', 'bannisters', 'hayworths', 'wellthoughtout', 'selfconfident', 'delightbr', '4000000', '20000000', 'seungup', 'agesbr', 'hystericalbr', 'membersbr', 'lauberge', 'tvshow', 'itthis', 'desirebr', 'frameup', 'rolethe', 'tombr', 'okeefe', 'aynur', 'gencebay', 'spanishamerican', 'freemanville', 'excellentthe', 'etcand', 'neighborhoodbr', 'lavventura', 'stitchesbr', 'soooooo', 'highbr', 'litel', 'standups', 'jodorowskys', 'manawaka', 'hagars', 'selfdefeating', 'angerbr', 'onetrick', 'sexobsessed', 'wahlbergs', 'mocumentary', '1941br', 'questionmarkbr', 'selfawareness', 'thirtythree', 'managebr', 'oceanbr', 'stewartbr', 'kurts', 'areabr', 'postwwii', 'remarkablebr', 'tastebr', 'jobsbr', 'fallbr', '40sbr', 'loudbr', 'waxmans', 'wellbalanced', 'scifis', 'ulmanns', 'sizebr', 'fortunebr', 'doyeon', 'shinaes', 'behaviorbr', 'loveits', 'akshays', 'coccio', 'digicorps', 'unfoldbr', 'valettes', 'manbut', 'youit', 'glauren', 'bunnys', 'correctbr', 'tagores', 'slambang', 'chokher', 'surfacebr', 'formatbr', 'ebaybr', 'fantasticand', 'welldesigned', 'tarsems', 'doppleganger', 'unknownbr', 'dinklepuss', 'codys', 'atwills', 'hairraising', 'soninlaw', 'corsia', 'luckbr', 'dostoyevskys', 'duologue', 'pleasurebr', 'milligans', 'astairerogers', 'pagebr', 'resolvedbr', 'halfasleep', 'pitchperfect', 'guerchard', '1935s', 'rerated', 'allbut', 'halfs', 'wylers', 'mcgoverns', 'immediatelybr', 'positionbr', 'ksun', 'proudbr', 'religionbr', 'venezuelabr', 'staterun', 'completest', 'cutsbr', 'leftbr', 'securitybr', 'againand', 'oquinn', 'spanishbr', 'soonerbr', 'americanmade', 'suckbr', 'cephallonian', 'dvdr', 'tealc', 'clubbr', 'cinematographybr', 'sensesbr', 'closetbr', 'japanbr', '1975br', 'stillers', 'thumbtanic', 'knowi', 'roquevert', 'englishdubbed', 'tarrs', 'obsessivecompulsive', 'oneonone', 'enemiesbr', 'koolaid', 'bathbr', 'filmwith', 'bullettime', 'reediting', 'timeit', 'oneminute', 'studiobr', 'limitedbr', 'cuttingroom', 'darim', 'movieas', 'guidos', 'filmespecially', 'incompetencebr', 'ferbers', 'industrybr', 'eustaches', 'ohalloran', 'unthoughtful', 'lightskinned', 'depressingbr', 'skree', 'foebr', 'boynextdoor', 'quinlin', 'animalbr', 'vietnambr', 'carons', 'tralala', 'animatedbr', 'particolare', 'mussolinis', 'unsatisfyingbr', 'toneddown', 'yearsi', 'silentera', 'reactionbr', 'laughand', 'tamakwa', 'charactersbut', 'filmif', 'stagedbr', 'lorenzos', 'familiarbr', 'gangbr', 'botherbr', 'insidebr', 'selfdeprecating', 'nonchronological']\n"
          ],
          "name": "stdout"
        },
        {
          "output_type": "stream",
          "text": [
            "/usr/local/lib/python3.7/dist-packages/tensorflow/python/keras/engine/sequential.py:455: UserWarning: `model.predict_classes()` is deprecated and will be removed after 2021-01-01. Please use instead:* `np.argmax(model.predict(x), axis=-1)`,   if your model does multi-class classification   (e.g. if it uses a `softmax` last-layer activation).* `(model.predict(x) > 0.5).astype(\"int32\")`,   if your model does binary classification   (e.g. if it uses a `sigmoid` last-layer activation).\n",
            "  warnings.warn('`model.predict_classes()` is deprecated and '\n"
          ],
          "name": "stderr"
        },
        {
          "output_type": "stream",
          "text": [
            "Micro-averaged F1 score on test set: 0.507\n",
            "Accuracy Score:  0.50744\n",
            "----------\n",
            "\n",
            "---------------------------------Threshold =  0.6 ---------------------------------\n",
            "Number of training samples: 2020\n",
            "Unlabeled samples in training set: 2000\n",
            "Converted 26818 words (3181 misses)\n",
            "Missed words:  ['itbr', 'moviebr', 'filmbr', 'youve', 'werent', 'timebr', 'shouldnt', 'thembr', 'hadnt', 'lowbudget', 'himbr', 'theyve', 'onebr', 'thatbr', 'thisbr', 'mebr', 'storybr', 'bmovie', 'herebr', 'wellbr', 'allbr', 'goodbr', 'couldve', 'overthetop', 'onbr', 'wouldve', 'endbr', 'isbr', 'waybr', 'lifebr', 'againbr', 'outbr', 'theyd', 'therebr', 'reallife', 'writerdirector', 'betterbr', 'moviesbr', 'youbr', 'watchbr', 'badbr', 'filmsbr', 'toobr', 'herbr', 'theyll', 'upbr', 'oneliners', 'hitchcocks', 'spoilersbr', 'charactersbr', 'itll', 'mustsee', 'scenebr', 'peoplebr', 'screenbr', 'workbr', 'bebr', 'morebr', 'seenbr', 'showbr', 'everyones', 'funnybr', 'worldbr', 'etcbr', 'timesbr', 'inbr', 'madefortv', 'thoughtprovoking', 'wifes', 'otherbr', 'onedimensional', 'rolebr', 'notbr', 'daybr', 'aboutbr', 'awaybr', 'middleaged', 'funbr', 'anyones', 'eitherbr', 'yearsbr', 'cinemabr', 'familys', 'tobr', 'wasbr', 'muchbr', 'wrongbr', 'plotbr', 'otoole', 'scenesbr', 'characterbr', 'anywaybr', 'dobr', 'pg13', 'offbr', 'everbr', 'comedybr', 'forbr', 'pointbr', 'historybr', 'wellmade', 'shouldve', 'manbr', 'seriesbr', 'withbr', 'performancebr', 'gypo', 'overbr', 'oldfashioned', 'backbr', 'thingbr', 'thoughbr', 'itselfbr', 'fastpaced', 'beforebr', 'placebr', 'bmovies', 'moviei', 'togetherbr', 'endingbr', 'firstrate', 'boringbr', 'drivein', 'thingsbr', 'throughbr', 'mindbr', 'bookbr', 'africanamerican', 'musicbr', 'experiencebr', 'nowbr', 'awfulbr', '10br', 'audiencebr', 'sobr', 'actingbr', 'scriptbr', 'familybr', 'actorsbr', 'somethingbr', 'downbr', 'knowbr', 'castbr', 'disappointedbr', 'donebr', 'seebr', 'worsebr', 'wellwritten', 'sensebr', 'welldone', 'kubricks', 'laterbr', 'yearold', 'madebr', 'rightbr', 'bestbr', 'warbr', 'lovebr', 'daysbr', 'elsebr', 'nothingbr', 'xfiles', 'minutesbr', 'moneybr', 'crapbr', 'stuffbr', 'deathbr', 'didbr', 'austens', 'selfindulgent', 'tongueincheek', 'jobbr', 'whove', 'liveaction', 'spoilerbr', 'entertainingbr', 'himselfbr', 'partbr', 'rolesbr', 'ideabr', 'happenbr', 'originalbr', 'hisher', 'facebr', 'flickbr', 'possiblebr', 'enoughbr', 'directtovideo', 'eastwoods', 'goodlooking', 'greatbr', 'fulcis', 'halfhour', 'fulllength', 'reasonbr', 'interestingbr', 'chaplins', 'linebr', 'whod', 'precode', 'todaybr', 'sg1', 'classicbr', 'exwife', 'mustve', 'selfcentered', 'alonebr', 'eyesbr', 'casebr', 'wellacted', 'sciencefiction', 'homebr', 'actorbr', 'selfabsorbed', 'thatll', 'throughoutbr', 'starsbr', 'yourselfbr', 'stupidbr', 'believablebr', 'dvdbr', 'yearbr', 'othersbr', 'performancesbr', 'childrenbr', 'rosemarys', 'talentbr', 'goodnatured', 'insteadbr', 'nightbr', 'whybr', 'thinkbr', 'straighttovideo', 'ownbr', 'frombr', 'actionbr', 'zelah', 'genrebr', 'dramabr', 'altmans', 'firsttime', 'seagals', 'actorsactresses', 'imho', 'watchingbr', 'aroundbr', 'dialoguebr', 'onesided', 'societys', 'differentbr', 'levelbr', 'blackandwhite', 'saybr', 'directorwriter', 'slowmotion', 'lotbr', 'allamerican', 'slowmoving', 'pacinos', 'arebr', 'qualitybr', 'brilliantbr', 'anotherbr', 'starbr', 'truebr', 'livesbr', 'themselvesbr', 'picturebr', 'whilebr', 'miikes', 'directorbr', 'argentos', 'laughbr', 'premingers', 'lynchs', 'momentbr', 'productionbr', 'ofbr', 'beginningbr', 'involvedbr', 'longbr', 'masterpiecebr', 'messbr', 'laughsbr', 'oscarwinning', 'versionbr', 'selfconscious', 'playbr', 'songbr', 'girlbr', 'excellentbr', 'gamebr', 'exgirlfriend', 'anythingbr', 'featurelength', 'buddys', 'canbr', 'carface', 'doesbr', 'episodebr', 'coursebr', 'momentsbr', 'cmon', 'yetbr', 'nextbr', 'movieand', 'twodimensional', 'ladys', 'tvbr', 'likebr', 'keatons', 'motherbr', 'doodlebops', 'filmand', 'hilariousbr', 'downtoearth', 'checkbr', 'scoobydoo', 'materialbr', 'namebr', 'crimebr', 'camerabr', 'linesbr', 'budgetbr', 'spielbergs', 'bgrade', 'bigbudget', 'meanspirited', 'porkys', 'creditsbr', 'kidsbr', 'followbr', 'opinionbr', 'patheticbr', 'cringeworthy', 'chancebr', 'terriblebr', 'gobr', 'artbr', 'sexbr', 'carreys', 'excon', 'spoton', 'stopmotion', 'countrybr', 'effectbr', 'wellcrafted', 'modernday', 'reasonsbr', 'lostbr', 'pleasebr', 'custers', 'brotherinlaw', 'fatherbr', 'imdbs', 'rrated', 'entertainmentbr', 'schoolbr', 'leastbr', 'flesheating', 'anyonebr', 'titlebr', 'oscarnominated', 'runofthemill', 'illfated', 'grossout', 'shotbr', 'hustons', 'onesbr', 'reviewbr', 'doorbr', 'meanbr', 'conclusionbr', 'nononsense', 'thebr', 'fishmen', 'wellmeaning', 'superbbr', 'fansbr', 'connerys', 'aheadbr', 'situationbr', 'samebr', 'ridiculousbr', 'viewingbr', 'childbr', 'slowpaced', 'sotnikov', 'roombr', 'xmen', 'actbr', 'agobr', 'hollywoodbr', 'branaghs', 'secondrate', 'mistakebr', 'oncebr', 'animationbr', 'finishbr', '2br', 'comparisonbr', 'guysbr', 'bosss', 'erabr', 'gilligans', 'latebr', 'reallybr', 'tvmovie', 'citybr', 'okbr', 'havebr', 'screenplaybr', 'surprisebr', 'filmthe', 'actressbr', 'piecebr', 'thrillerbr', 'heartbr', 'amazingbr', '810br', 'wholebr', 'gentlemans', 'thenbr', 'eyebr', 'itthe', '710br', 'viewerbr', 'interestbr', 'awardwinning', 'garbagebr', 'womenbr', 'frankies', 'nobudget', 'elviras', 'enjoybr', 'careerbr', 'largerthanlife', 'showsbr', 'survivebr', 'futurebr', 'lessbr', 'housebr', 'personbr', 'effectsbr', 'willbr', 'hadbr', 'revengebr', 'rollbr', 'realbr', 'alices', 'seeingbr', 'billys', 'humorbr', 'hardbr', 'violencebr', 'americabr', 'comingofage', 'scorseses', 'diesbr', 'twobr', 'sevenbr', 'soapopera', 'viewbr', 'atmospherebr', 'deadbr', 'examplebr', 'moviethe', 'hellbr', 'fastforward', 'friendsbr', 'filmnoir', 'mightve', 'murderbr', 'jeanluc', 'effortbr', 'developmentbr', 'cusacks', 'killerbr', 'goodthe', 'dialogbr', 'televisionbr', 'periodbr', 'harlins', 'andbr', 'coolbr', 'matterbr', 'realitybr', 'miyazakis', 'guybr', 'elinore', 'eightbr', 'gorehounds', 'sequelbr', 'wastedbr', 'spocks', 'offerbr', 'everybodys', 'anybodys', 'enjoyablebr', 'dexters', 'headbr', 'storiesbr', 'topbr', 'finalebr', 'halfbaked', 'disappointmentbr', 'neednt', 'selfdestructive', 'seriouslybr', 'nc17', 'daylewis', 'shinae', 'carells', 'itit', 'cheezy', 'problembr', 'centurybr', 'wifebr', 'khouris', 'pastbr', 'mindnumbing', 'friendbr', 'maléfique', 'noname', 'firstbr', 'tarantinos', 'fatherson', 'matuschek', 'farbr', 'nsna', 'beattys', 'getbr', 'womanbr', 'allout', 'powerbr', 'foxs', 'movieit', 'neros', 'bhorror', 'stylebr', 'hamfisted', 'matchbr', 'noroi', 'carebr', 'directionbr', 'osullivan', 'kurtzs', 'bloodbr', 'earlierbr', 'standardsbr', 'dreambr', 'brandos', 'sadbr', 'oldschool', 'goingson', 'didntbr', 'everythingbr', 'icet', 'threebr', 'everyonebr', 'rochesters', 'rubbishbr', 'annoyingbr', 'foxxs', 'alivebr', 'storywise', 'allaround', 'guessbr', 'alongbr', 'rohmers', 'closebr', 'hoursbr', 'imdbcom', 'lovehate', 'releasebr', 'newbr', 'walshs', 'mordrid', 'shortbr', 'comebr', 'dammes', 'myselfbr', 'scarybr', 'freddys', 'townbr', 'welldeveloped', 'classbr', 'injokes', '1010br', 'kurosawas', 'selfrespect', 'commentbr', 'alisons', 'nicebr', 'goldsworthys', 'characterdriven', 'eyecandy', 'chanwook', 'seasonbr', 'rotj', 'godbr', 'helpbr', 'partsbr', 'railly', 'fellinis', 'selfesteem', 'jokebr', 'expectationsbr', 'hohum', 'bronsons', '8510', 'doingbr', 'fantasticbr', 'gilleys', 'recommendedbr', 'nobr', 'bluebeards', 'messagebr', 'daughterbr', 'apartbr', 'atbr', 'fassbinders', 'hoechlin', 'paperhouse', 'draculas', 'mindnumbingly', 'rififi1955', 'bakshis', 'mgms', 'bythenumbers', 'oneliner', 'offthewall', 'kickass', 'catandmouse', 'nonebr', 'soonbr', 'wellintentioned', 'littlebr', 'kahns', 'beenbr', 'culturebr', 'ensuesbr', 'lowrent', 'worstbr', 'woodys', 'paperthin', 'costsbr', 'nancys', 'ollies', 'relationshipbr', 'openminded', 'diebr', 'horrorcomedy', 'sincebr', 'restbr', 'businessbr', 'everythings', 'drawnout', 'laughablebr', 'expectbr', 'tearjerking', 'indeedbr', 'clothesbr', 'amazoncom', 'truthbr', 'dereks', 'exceptionbr', 'societybr', 'wererabbit', 'walkens', 'daytoday', 'perfectionbr', 'firstperson', 'listbr', 'existbr', 'treatbr', 'jeanpierre', 'anansa', 'soundtrackbr', 'wholl', 'motherinlaw', 'oldbr', 'starewicz', 'husbandbr', 'nowadaysbr', 'dullbr', 'scorebr', 'omalley', 'laughoutloud', 'verhoevens', 'alterego', 'naturebr', 'bitbr', 'memorybr', 'jawdropping', 'mcphillip', 'surebr', 'earthbr', 'hasbr', 'blacksnake', 'jeanclaude', 'subtitlesbr', 'actedbr', 'videobr', 'episodesbr', '1br', 'wideeyed', 'jimis', 'makingbr', 'longsuffering', 'worksbr', 'comingbr', 'gordonlevitt', 'fashionbr', 'filmingbr', 'inyourface', 'kidmans', 'erendira', 'whatsoeverbr', 'erics', 'bothbr', 'streeps', 'narvo', 'tmtm', 'brinke', 'gilliams', 'mysterybr', 'markbr', 'backgroundbr', 'fourbr', 'twothirds', 'melvilles', 'intobr', 'whatbr', 'streisands', 'makebr', 'racebr', 'formbr', 'horriblebr', 'novelbr', 'storylinebr', 'getgo', 'projectbr', 'bodybr', 'languagebr', 'mannerbr', 'troublebr', 'polanskis', 'eisensteins', 'fastbr', 'menbr', 'pointlessbr', 'sakebr', 'ff7', 'subjectbr', 'accentbr', 'flatbr', 'belowbr', 'zombiesbr', 'himand', 'oclock', 'lolbr', 'detailsbr', 'endsbr', 'watchablebr', 'workedbr', 'happybr', 'englishlanguage', 'beautifulbr', 'brunos', 'eventbr', 'effortsbr', 'shamebr', 'perspectivebr', 'itbut', 'hollys', 'foreverbr', 'perfectbr', 'perfectlybr', 'twentyfive', 'viscontis', 'respectbr', 'toxie', 'agebr', 'tragedybr', 'tarzans', 'itand', 'actionpacked', 'spacebr', 'cagneys', 'bunuels', 'winnerbr', 'jabbas', 'herselfbr', 'aboveaverage', 'longlost', 'ateam', 'startbr', 'finebr', 'antiamerican', 'happeningbr', 'anymorebr', 'alsobr', 'forgetbr', 'roegs', 'illconceived', 'predictablebr', 'coppolas', 'missionbr', 'kpax', 'littleknown', 'happenedbr', 'redfords', 'ossessione', 'oneofakind', 'exboyfriend', 'washedup', 'otherwisebr', 'feelbr', 'mccools', 'oneman', 'alertbr', 'zboys', 'isntbr', 'somebodys', 'sidneys', 'trybr', 'fanbr', 'babettes', 'danglard', 'cronenbergs', 'forgettablebr', 'aweinspiring', 'fanda', 'demilles', 'clouzots', 'radzoff', 'deadon', 'surprisedbr', 'julias', 'laughterbr', 'availablebr', 'videodvd', 'imdbbr', 'tshirt', 'fingersmith', 'tvseries', 'vadar', 'bazza', 'allthe', 'beethovens', 'marykate', 'pointsbr', 'writingbr', 'rememberbr', 'brynners', 'breakbr', 'latterbr', 'collectionbr', 'selfindulgence', 'actionadventure', 'joness', 'brotherbr', 'disturbingbr', 'booksbr', 'batmans', 'welldirected', 'happygolucky', 'offkilter', 'problemsbr', 'filmit', 'madeup', 'changedbr', 'yknow', 'clichéridden', 'handbr', 'weekbr', 'getsbr', 'anticsbr', 'tshirts', 'choicebr', 'oshea', 'moviebut', 'moviethis', 'unisol', 'unbelievablebr', 'gravebr', 'necessarybr', 'halfassed', 'adaptationbr', 'eventsbr', 'lowgrade', 'slowmo', 'comedys', 'nonsensebr', 'convincingbr', 'onebyone', 'belushis', 'happensbr', 'saidbr', 'heshe', 'theaterbr', 'whateverbr', 'festivalbr', 'selfloathing', 'tripbr', 'yesbr', 'kindbr', 'jackies', 'killedbr', 'selfcontained', 'documentarybr', 'ahole', 'herobr', 'justicebr', 'worldweary', 'chainsmoking', 'kazans', 'dassins', 'soontobe', 'waterbr', 'therere', 'awardbr', 'imaginebr', 'timei', 'boybr', 'okaybr', 'dealbr', 'neededbr', 'geniusbr', 'selfserving', 'upandcoming', 'handsbr', 'highpitched', 'murdererbr', 'antonionis', 'taipe', 'sleepbr', 'selfconsciously', 'alist', 'jokesbr', 'attentionbr', 'tellbr', 'felixs', 'tieh', 'dialouge', 'outofplace', 'sisterbr', 'trelkovsky', 'carlys', 'goauld', 'sliceoflife', 'cormans', 'lematt', 'hitchs', 'successbr', 'effectivebr', 'itits', 'chickflick', 'understandbr', 'valuebr', 'trainbr', '7510', 'karloffs', 'garbos', 'spacecamp', 'sheeta', 'wellcast', 'carlas', '12yearold', 'niros', 'selfpity', 'groundbr', 'soderberghs', 'workingclass', 'premisebr', 'threeway', 'gymkata', 'carltonbrowne', 'feinstone', 'fatebr', 'stanwycks', 'filone', 'gaglia', 'horrorbr', 'categorybr', 'manybr', 'rossitto', '14yearold', 'filmaking', 'washedout', 'quicklybr', 'walts', 'leadbr', 'bottomofthebarrel', 'highclass', 'worthwhilebr', 'flicksbr', 'specialbr', 'poorbr', 'climaxbr', 'circumstancesbr', 'changebr', 'tediousbr', 'thrillerhorror', 'jennifers', 'sandras', 'blandbr', 'consequencesbr', 'companybr', 'lubitschs', 'moocow', 'missedbr', 'planetbr', 'okeeffe', 'unisols', 'universebr', 'selfrespecting', 'sidebr', 'emotionbr', 'gamesbr', 'pointofview', 'seatbr', 'thered', 'terrythomas', 'painbr', 'tripebr', 'beginbr', 'waysbr', 'marions', 'hickland', 'behindbr', 'catbr', 'songsbr', 'lamebr', 'remakebr', 'motherdaughter', 'fastmoving', 'wonderfulbr', 'cultclassic', 'matteroffact', 'hopebr', 'oscarworthy', 'reccomend', 'thoughtbr', 'raisuli', 'shirleys', 'bogosians', 'zgrade', 'hotbr', 'bourvil', 'movingbr', 'warningbr', 'earthshattering', 'suspensebr', 'cleverbr', 'situationsbr', 'howeverbr', 'justforkix', 'druginduced', 'flawsbr', 'importantbr', 'dannys', 'behindthescenes', 'rukhs', 'scalebr', 'sampredo', 'classicsbr', 'officebr', 'releasedbr', 'bogarts', 'werebr', 'morningbr', 'threedimensional', 'latterday', 'pacebr', 'sondheims', 'skammen', 'firstclass', 'bluray', 'wheelchairbound', 'garfields', 'tommys', 'ridebr', 'sharkys', 'duchovney', 'stephanois', 'fantasybr', 'soulbr', 'bigscreen', 'churchbr', 'jeanpaul', 'welldeserved', 'girlsbr', 'thosebr', 'nowherebr', 'btch', 'butbr', 'succeedbr', 'jox', 'kapoors', 'resultbr', 'questionsbr', 'beautybr', 'lengthbr', 'anglosaxon', 'hundstage', 'hardedged', 'ramars', '7yearold', 'goingbr', 'tenbr', 'fullon', 'feelingbr', 'passworthy', 'bossbr', 'viewersbr', 'completelybr', 'playerbr', 'pazu', 'taime', 'pricelessbr', 'animalsbr', 'chabrols', 'noahs', 'datebr', 'selfrighteous', 'powerfulbr', 'livebr', 'secondbr', 'englishbr', 'cartoonbr', 'cheesey', 'personalitybr', 'processbr', 'comedydrama', '10yearold', 'truffauts', 'zetajones', 'editingbr', 'tachiguishi', 'lelands', 'kiplings', 'todesking', 'victimsbr', 'boredombr', 'janmichael', 'langdons', 'starstudded', 'oneil', 'lawbr', 'ourselvesbr', 'wonderbird', 'xica', 'eunjoo', 'disappointingbr', 'cheadles', 'crapfest', 'dekalog', '40yearold', 'thalluri', 'champlains', 'soultaker', 'molloch', 'lesseos', 'sequelsbr', 'cameramans', 'waitbr', 'abovebr', 'schizophreniac', 'scenesthe', 'belowpar', 'pukebr', 'sequencesbr', 'victimbr', 'horsebr', 'zizeks', 'synopsisbr', 'threequarters', 'peacebr', 'selfinflicted', 'strongwilled', 'cheapbr', 'kristoffersons', 'aspectsbr', 'naschys', '310br', 'whitebr', 'extremebr', 'brated', 'crybr', 'windowbr', 'horrormovie', 'ratingsbr', '100br', 'alwaysbr', 'soundbr', 'codirected', 'wellfilmed', 'exhusband', 'worldweariness', 'believedbr', 'koontzs', 'directorsbr', 'lugosis', 'suitbr', 'altogetherbr', 'paltrows', 'sucksbr', 'onejoke', 'nonethelessbr', 'voicebr', 'channelbr', 'kidbr', 'realisticbr', 'dumbbr', 'putupon', 'resultsbr', 'forwardbr', 'firebr', 'memorablebr', 'mabels', 'mouthbr', 'swordfights', 'tensionbr', 'productbr', 'kittys', 'filmbut', 'sobaditsgood', 'turkeybr', 'falks', 'failsbr', 'unscary', 'animes', 'charmbr', 'fatherinlaw', 'stallones', 'actings', 'selfproclaimed', 'louque', 'nonchristians', 'capotes', 'oscarcaliber', 'rapidfire', 'expectedbr', 'bressart', 'kinskis', 'dadbr', 'presentday', 'dieing', 'costellos', 'settingbr', 'welltold', 'badguy', 'oncamera', 'kangho', 'monsterbr', 'diseasebr', 'pedecaris', 'stopbr', 'streetbr', 'jawdroppingly', 'cakebr', 'moviethere', 'westernbr', 'brilliancebr', 'documentarystyle', 'networkbr', 'couldbr', 'andwell', 'sinuhes', 'publicbr', 'golddigging', 'suicidebr', 'amrapurkar', 'gauris', 'otooles', 'overthehill', 'wallbr', 'unnecessarybr', 'mindbending', 'moviea', 'videostore', 'duvalls', 'memoriesbr', 'hourbr', 'factbr', '2the', 'actoractress', 'tourdeforce', 'progressesbr', '30something', 'bolkan', 'madnessbr', 'writerbr', 'twohour', 'polarisdib', 'badlybr', 'oss117', 'waythe', 'badit', 'lianchu', 'gwizdo', 'simplebr', 'blackwhite', 'brideless', 'communitybr', 'xrated', 'documentarylike', 'youngbr', 'pseudointellectual', 'englandbr', 'hardhitting', 'sayingbr', '5year', 'asbr', 'wasis', 'selfdestruction', 'mst3000', 'burakov', 'depthbr', 'anouska', 'awardsbr', 'moviein', 'herzogs', 'leguizamos', 'forgivenbr', 'timetravel', 'jeanlouis', 'mindsbr', 'recomend', 'talebr', 'fword', 'sortof', 'fishoutofwater', 'murdermystery', 'assbr', 'teambr', 'girlfriendbr', 'alreadybr', 'returnbr', 'beliefbr', 'couplebr', 'fightbr', 'sonbr', 'cleancut', 'openended', 'stereotypesbr', 'movieits', 'findbr', 'fallons', 'humourbr', 'thinkingbr', 'himhe', 'romcom', 'pathbr', 'pseudodocumentary', 'hawkings', 'gorebr', 'bandbr', 'plotholes', 'cameosbr', 'completist', 'christines', 'horrorthriller', 'thereand', 'welldrawn', 'turnbr', 'cassavettes', 'actionsbr', 'crichtons', 'beatup', 'imaginationbr', 'ageold', 'sakall', 'portrayalbr', 'bluesbr', 'surprisesbr', 'illadvised', 'mostbr', 'usualbr', 'stepbystep', 'allinall', 'raveenas', 'timmys', 'createdbr', 'gespenster', 'exmrs', 'dumbeddown', 'ggirl', 'iibr', '2dimensional', 'freshfaced', 'chappelles', 'halfdecent', 'marsillach', 'itthey', 'dellorco', 'dahls', 'abilitybr', 'secondsbr', 'freespirited', 'trashbr', 'intendedbr', 'storythe', 'watchedbr', 'postworld', 'devitos', 'noirbr', 'wurb', '3br', 'wellpaced', 'crazybr', 'slomo', 'selfreference', 'shakespearebr', 'teacherbr', 'mid90s', 'kingbr', 'hackenstein', 'environmentbr', 'venantini', 'martys', 'hahaha', 'sunnys', 'agentbr', 'wowbr', 'setsbr', 'thatd', 'martialarts', 'sebergs', 'mitchums', 'loversbr', 'zabalza', 'accidentbr', 'tolkiens', 'alikebr', 'daninsky', 'gadgetmobile', 'sauras', 'lv2', 'lv1', 'randys', 'epods', 'sevenups', 'sharpes', 'hasbeen', 'sickbr', 'martinos', 'satirebr', 'winbr', '90minute', '7eventy', 'themand', 'guntoting', 'alqaeda', 'writerdirectors', 'filmschool', 'selfconfidence', 'marlows', 'halfbrother', 'shatners', 'miserybr', 'endedbr', 'matrixbr', 'onlocation', 'middlebr', 'wellplayed', 'wellworn', 'rulebr', 'lowbudgeted', 'eurohorror', 'playingbr', 'artistbr', 'mid70s', 'pricebr', 'drek', 'dreckbr', 'salmans', 'secretbr', 'longerbr', 'skillsbr', 'torturebr', '1970sbr', 'germanybr', 'sadsack', 'dialoge', 'huhbr', 'onlybr', 'funnierbr', 'commentsbr', 'noticebr', 'dontbr', 'endthe', 'numbersbr', 'gormless', 'lifethe', 'freebr', 'badmovie', 'uboat', 'joshs', 'moviesbut', 'rememberedbr', 'carbr', 'scifibr', 'seabr', 'moviejust', 'wantbr', 'closeknit', 'hardearned', 'afterbr', 'producerdirector', 'hillarious', 'kermits', 'hensons', 'raimis', 'excitementbr', 'amateurishbr', 'goodbut', 'spotbr', 'triggerhappy', 'almodovars', 'generationbr', 'directingbr', 'selfimportant', 'odonnell', 'boormans', 'husbandwife', 'livein', 'villainbr', 'stoppedbr', 'jailbr', 'impressivebr', '3the', 'allit', 'partybr', 'lesserknown', 'advicebr', 'ghosthouse', 'blackbr', 'yawnbr', 'hijinx', 'monstersbr', 'scenerychewing', 'disgustingbr', 'beingsbr', 'rentalbr', 'douchebag', 'taskbr', 'embr', 'rhysdavies', 'overallbr', 'orderbr', 'epicbr', 'followingbr', 'semiserious', 'milyang', 'digicorp', 'sjöströms', 'körkarlen', 'mustnt', 'downandout', 'funfilled', 'followsbr', 'excitingbr', 'moronie', 'adultsbr', 'readbr', 'readingbr', 'welli', 'annmargret', 'livingbr', 'commentarybr', 'piecesbr', 'selfmade', 'answerbr', 'fishburnes', 'wellthought', 'tarrantino', 'rewatching', '5br', 'unlikelybr', '2007br', 'fasttalking', 'approachbr', 'presentbr', 'professionbr', 'mahlers', 'thisand', 'deservedbr', 'edgeoftheseat', 'boxbr', 'tromas', 'awesomebr', 'filmmakingbr', 'godell', 'anythings', 'darvi', 'knowitall', 'insanitybr', 'moonbr', 'setbr', 'legendbr', 'governmentbr', 'moviesthe', 'sharkman', 'madefortelevision', 'coulardeau', 'handtohand', 'leaderbr', 'respectivelybr', 'ratebr', 'actioncomedy', 'buildingbr', 'confusingbr', 'mishimas', 'kazihiro', 'seenand', 'gelwix', 'redemptionbr', 'mclaglens', 'schwarzeneggers', 'scopebr', 'planbr', 'farcry', 'columbos', 'doubtbr', 'miseenscene', 'offkey', 'gungho', 'encounterbr', 'historys', 'differencebr', 'bybr', 'dangerfields', 'contentbr', 'quaien', 'actioners', 'eyepopping', 'beingbr', 'courtenays', 'lizs', 'goodbad', 'ignoredbr', 'lipsync', 'twains', 'weakbr', 'lifechanging', 'nearperfect', 'believebr', 'adventurebr', 'naughtons', 'rourkes', 'selfdefense', 'hannas', 'maruschka', 'lightbr', 'dumbrille', 'voights', 'nobodys', 'briss', 'bythebook', 'endearingbr', 'lestats', 'walkon', 'deads', 'versionsbr', 'chavezs', 'mummys', '110br', 'powersbr', 'fullblown', 'cusak', 'wellthe', 'caligulas', 'controlbr', 'thoughtout', 'forthbr', 'edgebr', 'lookingbr', 'moviesand', 'thisi', 'reunionbr', 'vonneguts', 'funloving', 'selfaware', 'depardieus', 'smithbr', '210br', 'menacebr', 'algrens', 'oater', 'halfdozen', 'afroamerican', 'afroamericans', 'intensebr', 'islandbr', 'cutbr', 'gembr', 'notthe', 'storebr', 'wellexecuted', 'entertainedbr', 'evilbr', 'twistbr', 'sillybr', 'amazedbr', 'puppydog', 'fackin', 'nationbr', 'thingthe', 'knowsbr', 'folksbr', 'reviewsbr', 'hornbys', 'alja', 'triedbr', 'jeanmarc', 'shootem', 'ropey', 'maneating', 'scantilyclad', 'versioni', 'missbr', '7br', 'drybr', 'punbr', 'humanbr', 'tiein', 'footagebr', 'oneand', 'affairbr', 'surprisingbr', 'bassenger', 'compellingbr', 'silencebr', 'succeededbr', 'exitingfunnydramatic', 'iswas', 'sarahs', 'dresslers', 'lastbr', 'barbr', 'bangup', 'disasterbr', 'screwfly', 'clooneys', 'doesntbr', 'wellhandled', 'beginsbr', 'holmess', 'dogooder', 'servillo', 'toyoji', 'lucass', 'larraz', 'purposebr', 'darkwolf', 'statesbr', 'stagebr', 'surov', 'neonoir', 'novaks', 'kennicut', 'sallys', '500000', 'maughams', 'techniquesbr', 'tonebr', 'ariauna', 'starewiczs', 'nobrainer', 'gutwrenching', 'twentytwo', 'moviesthis', 'btas', 'lenos', 'lewiss', 'watereddown', 'heavenbr', 'producedbr', 'shockbr', 'callgirl', 'dominoe', 'realismbr', 'straightlaced', 'goesbr', 'beethovan', 'fewbr', 'hairbrained', 'crosseyed', 'toughguy', 'suckedbr', 'lookbr', 'screambr', 'blahbr', 'hotelbr', 'factorbr', 's2t', 'substancebr', 'conceptbr', 'europebr', 'kannathil', 'somebr', 'afraidbr', 'ladybr', 'americanbr', 'claires', 'ratingbr', 'tomasis', 'venantino', 'actingwise', 'radiobr', 'methe', 'tennants', 'inevitablebr', 'ambr', 'avpr', 'sellecks', 'klaskycsupo', 'timeand', 'nekromantik', 'vampiros', 'deepbr', 'touchingbr', 'dondeloro', 'straightbr', 'mamets', 'clints', 'ultraorthodox', '2hour', 'mildmannered', 'ww11', 'rosss', 'hairbr', 'premminger', 'akyroyd', 'lapadite', 'sapsorrow', 'aristorcats', 'easybr', 'highprofile', 'divorcebr', 'himher', 'sebastians', 'namis', 'easebr', 'katharines', 'sasori', 'laughtrack', 'jarda', 'appolonia', 'syberberg', 'vampiress', 'kerching', 'sissis', 'addicus', 'tabonga', 'soske', 'syberbergs', 'howbr', 'diedbr', 'darkhunters', 'yearsbut', 'joannas', 'dillingers', '4br', 'timewaster', 'pofaced', 'underlit', 'ariels', 'notsogood', 'murphybr', 'twicebr', 'drugaddicted', 'sequal', 'madeforcable', 'complaintsbr', 'murdersbr', 'uselessbr', 'deneuves', 'oneline', 'richies', 'featuresbr', 'laughingbr', 'pacula', 'himbut', 'writtenbr', 'uninterestingbr', 'someonebr', 'furtherbr', 'berkowitzs', 'cluebr', 'offcamera', 'zudina', 'usabr', 'viceversabr', 'stationbr', 'bedbr', 'appealbr', 'golanglobus', 'greeneggs', 'nipar', 'badguys', 'finneys', 'hitandrun', 'individualbr', 'impressedbr', 'nouvellefrance', 'somehowbr', 'dumbs', 'worthbr', 'suckfest', 'penryjones', 'audiencesbr', 'timesthe', 'doubleedged', 'wellbut', 'snorefest', 'lengle', 'familyfriendly', 'interestedbr', 'floorbr', 'muchneeded', 'hackfords', 'toand', 'ideasbr', 'suspectbr', 'fiveminute', 'obviousbr', 'ladiesbr', 'shos', 'afterdark', 'amys', '1955br', 'jpii', 'helpedbr', 'thisa', 'elementbr', 'failbr', 'selfinvolved', 'postrevolutionary', 'rockbottom', 'prolly', 'exlover', 'touchyfeely', 'cheesebr', 'municipalians', 'cuttingedge', 'oconnors', 'offensivebr', 'masterbr', 'weirdbr', 'jessicas', 'withinbr', 'crappiness', 'ministerbr', 'itthere', 'sebastiens', 'slowbr', 'examplesbr', 'fashionatas', 'actuallybr', 'sluttish', 'wouldbr', 'directorscreenwriter', 'fascinatingbr', 'groaninducing', 'showbut', 'galaxina', 'sttng', 'panzrams', 'normalbr', 'relationshipsbr', 'stunningbr', 'selfappointed', 'spaceys', 'mid80s', 'bfilm', 'appollo', 'somewherebr', 'lifethreatening', 'usedbr', 'characterhe', 'moodbr', 'filmirage', 'wasntbr', 'corniest', 'meaningbr', 'everreliable', 'gainsbourgh', 'wellmannered', 'speakbr', 'beforeand', 'timelinebr', 'creditbr', '1980sbr', 'seemsbr', 'loessers', 'crimesbr', 'glassbr', 'hangglider', 'blankfield', 'rockbr', 'slackjawed', 'basingers', 'tillys', 'thisthe', 'investigationbr', 'laughless', 'milebr', 'unfoldsbr', 'improvementbr', 'lundgrens', 'lowbr', 'toldbr', 'hisbr', 'plusbr', 'hitbr', 'scottthomas', 'levelsbr', 'farscapes', 'romancebr', 'englishspeaking', 'burntout', 'centuryfox', '80sbr', 'hlots', 'apartmentbr', 'softfocus', 'waterss', 'createsbr', 'camerasbr', 'justins', 'lowlevel', 'malicks', 'rekert', 'seasonsbr', 'heflins', 'bennys', 'doublecrossing', 'landos', 'downonhisluck', 'desertbr', 'reliefbr', 'conartist', 'stewartmann', 'sanghyeon', 'babybr', 'dreamsbr', '9yearold', 'fearbr', 'wordsbr', 'actiondrama', 'halloweenbr', 'impactbr', 'ashenbach', 'razorsharp', 'songanddance', 'measurebr', 'silverhaired', 'shahrukhs', 'thrillbr', 'bobba', 'revealedbr', 'misleadingbr', 'unfortunatelybr', 'windbr', 'mitchs', 'excop', 'needbr', 'amandas', 'onand', 'flavorsome', 'suleimans', 'marketbr', 'completedbr', 'edelmans', 'noisebr', 'vampiresbr', 'bflick', 'figurebr', 'threehour', 'britcoms', 'ustinovs', 'dignitybr', 'blaxpoitation', 'truetolife', 'termsbr', 'doghi', 'emmas', 'activitiesbr', 'continuedbr', 'jonesbr', 'issuesbr', 'completebr', 'computergenerated', 'dimensionbr', 'wellproduced', 'anwars', 'differentlybr', 'paulas', 'chambara', 'wellstaged', 'williamsbr', 'humanitybr', 'allencompassing', 'deliverybr', 'bahranis', 'philosophybr', 'rewatched', 'jacksonbr', 'praisebr', 'superiorbr', 'popculture', 'ramóns', 'ninebr', 'grunick', 'criticsbr', 'oftenbr', 'highpowered', 'peckinpahs', 'responsibilitybr', 'optionbr', 'ritas', 'peckers', 'devilbr', 'castingbr', 'everywherebr', 'jangs', 'spiritbr', '15year', 'pixars', 'novelsbr', 'saysbr', 'dramacomedy', 'actorsthe', 'leebr', 'ohand', 'timesbut', 'digressbr', 'combinedbr', 'technicolorbr', 'stéphanois', 'survivalbr', 'wellsuited', 'missingbr', 'kuzcos', 'heartstopping', 'listenbr', 'sfhorror', '3hour', 'demonsbr', 'romebr', 'lockes', 'clichée', 'humanitys', 'grangers', 'selfreferential', 'playsbr', 'herethe', 'dropdead', 'flashbacksbr', 'sinbr', 'productionsbr', 'eveningbr', 'picturesbr', 'dallesandros', '20something', 'maxbr', 'mgmua', 'ownerbr', 'nonmainstream', 'cnnnn', 'travoltas', 'nightsbr', 'boatbr', 'properlybr', 'disappointbr', 'seriesi', 'factorybr', '3strip', 'mentallychallenged', 'camerlingo', 'allreds', 'astroesque', 'thati', 'hupperts', 'fidos', 'musicalbr', 'kiddingbr', 'venezuelas', 'streetsbr', 'contextbr', 'ananka', 'nonrelated', '910br', 'boyfriendbr', 'garlins', 'factsbr', 'juliabr', 'indahouse', 'samanthas', 'verdis', 'onhand', 'oneoff', 'craftbr', 'bestknown', 'gotbr', 'crowdbr', 'wellshot', 'witchs', 'fatherfigure', 'lifeand', 'enjoymentbr', 'hawns', 'youthbr', 'succeedsbr', 'mediabr', 'witherspoons', 'fullbodied', 'favorbr', 'catspaw', 'stickbr', 'armsbr', 'onenight', 'dancebr', 'tworeel', 'fwords', 'canoing', 'handsdown', 'fullfledged', 'embarrassingbr', 'branaugh', 'incrediblebr', 'rassimov', 'authenticlooking', 'selfdiscovery', 'coasterbr', 'wittiness', 'sawbr', 'highschoolers', 'hestons', 'mankinds', 'locationbr', 'attackbr', 'scifihorror', 'bazzoni', 'cassevetes', '15yearold', 'scuddamore', 'midlers', 'yeahbr', 'pollacks', 'alltogether', 'carfaces', 'franchisebr', 'britneys', 'maltins', 'sabus', 'wellplaced', 'unfunniest', 'destinybr', 'minebr', 'heavyduty', 'fakebr', 'wonderous', 'plottwists', 'doesent', 'toughasnails', 'pagets', 'earsbr', 'centurys', 'scenarists', 'lowerclass', 'halfbr', 'expressionbr', 'decentbr', 'hanekes', 'countbr', 'cutebr', 'detectivebr', 'scriptsbr', 'cosgroves', 'sentencebr', 'countsbr', 'ramons', 'welltimed', 'centerbr', 'twodisc', 'nonamerican', 'meand', 'softporn', 'keggs', 'astaires', 'thrillsbr', 'karwais', 'writersbr', 'runins', 'valuesbr', 'secondtier', 'nuditybr', 'africanamericans', 'crisisbr', 'drablow', 'welljudged', 'horrorfilm', 'dingalingless', 'turds', 'bavas', 'welltodo', 'mazurki', 'lumets', 'maxs', 'gomeda', 'selfassured', 'fiveyear', '2001s', 'alienbr', 'catsbr', 'californiabr', 'gaythemed', 'avoidbr', '2001br', 'awebr', 'confusionbr', 'unentertaining', 'malkovichs', 'pornbr', 'directer', 'acceptablebr', 'despairbr', 'crappiest', 'londonbr', 'post911', 'shownbr', 'messedup', 'sirks', 'gojoe', 'karlofflugosi', 'camebr', 'wellused', 'thinbr', 'nonenglish', 'sarnos', 'hahahaha', 'brancovis', 'prizzis', 'partanna', 'carrieanne', 'sagans', 'suchbr', 'bodycount', 'potbr', 'unwatchablebr', 'supportbr', 'jlb', 'solino', 'everytown', 'hmmmbr', 'irritatingbr', 'sabrinas', 'knowledgebr', 'sinisterbr', 'dansu', 'choule', 'dangerbr', 'doublefeature', 'kishibe', 'crosssection', 'actionthriller', 'corebr', 'pabsts', 'thirdworld', 'movieshe', 'toulons', 'beastbr', 'crappier', 'wynorskis', 'mfumu', 'deadend', 'sisterinlaw', 'fictionbr', 'nonactor', 'drugdealing', 'livedbr', 'nightmarebr', 'pasolinis', 'charel', 'demisebr', 'allthis', 'miyazawas', 'hotchkins', 'microbudget', 'leroys', 'alittle', 'funnyi', 'clearbr', 'allpowerful', 'diaboliques', 'steeman', 'workingbr', 'calson', 'timethe', 'absurdbr', 'byrons', 'unfunnybr', 'reshamiya', 'guinnesss', 'cgrade', 'wirey', 'shotsbr', 'wishywashy', 'fcking', 'editedbr', 'jp3', 's2rd', 'filmmakersbr', 'semifamous', 'betweenbr', 'viewsbr', 'schepisis', 'decisionbr', 'ouimets', 'loserbr', 'shtty', 'medusan', 'partnerbr', 'keiths', 'mumbojumbo', 'thatand', 'cruellas', 'impossiblebr', 'directorwriters', 'easilybr', 'lorres', 'muthamittal', 'removedbr', 'solonitsyn', 'seriousbr', 'hivaids', 'woodbr', 'buellers', '1930sbr', 'greenstreets', 'kikuno', 'miserablybr', 'revolutionbr', 'breillats', 'nazarin', 'redblooded', 'timons', 'movebr', 'waiman', 'marenghis', 'confusedbr', 'caresbr', 'bigname', 'sunways', '250000', 'fightingbr', 'lorens', 'thoughtsbr', 'sayori', 'substory', '1½', 'tapebr', 'sightbr', 'unbearablebr', 'potempkin', 'goodit', 'thembut', 'forgottenbr', 'gutbusting', 'puyn', 'backcolor', 'dosent', 'availbr', 'treasurebr', 'unforgettablebr', 'conditionbr', 'hatbr', 'wirework', 'scenerybr', 'areasbr', 'ansom', 'sacrificebr', 'prisonbr', 'movieor', 'lowcut', 'selfbr', 'coasterwaldau', 'signbr', 'cartoonsbr', 'resolutionbr', 'sciencebr', 'boobage', 'warnedbr', 'anistons', 'shouldersbr', '400000', 'tessari', 'audrie', 'vehiclebr', 'prettyboy', 'bournes', 'skinemax', 'touchbr', 'rrating', 'moovie', 'fakelooking', 'dogsbr', 'orwells', 'fortyfive', 'rickys', 'generalbr', 'suyeon', 'knightleys', 'nonexistentbr', 'catwomen', 'christys', 'timebut', 'wherebr', 'runbr', 'eyeopening', 'taejoo', 'transcendenz', 'highquality', 'webr', '1971br', 'schraders', 'expartner', 'murderedbr', 'sueli', 'generousbr', 'evelyns', 'wellconstructed', 'giovannas', 'parkbr', 'upand', 'godards', 'arnies', 'humansbr', 'photographybr', 'allenbr', 'siberling', 'neweyes', 'screweyes', 'elementsbr', 'gustavs', 'enjoyability', 'vidals', 'feinstones', '6the', 'falon', 'joybr', 'frostnixon', 'babyfaced', 'ludicrousbr', 'flagwaving', 'torgo', 'trelayne', 'nwh', 'makebelieve', 'soutendijk', 'edgeofyourseat', 'italianamerican', 'kieslowskis', 'talkbr', 'deservebr', 'zandalee', 'jiwoon', 'segals', 'bronenosets', 'potyomkin', 'guetary', 'anybr', 'jyo', 'bhoomika', 'teenslasher', 'patroni', 'costagavras', 'proamerican', 'morverns', 'goroshkov', 'bashki', 'womeninprison', 'tbirds', 'mysterythriller', 'vagone', 'letto', 'happinessbr', 'glenglenda', 'moviethat', 'tvfilm', 'belowaverage', 'nieztsche', 'malefemale', 'buchfellner', 'trents', 'erikas', 'ichikawas', 'spoorloos', 'artistsong', 'cdplayer', 'brysomme', 'tajs', 'handdrawn', 'fuckland', 'mowan', 'moroncommandos', 'overtheshoulder', 'pumpkinheaded', 'locataire', 'includedbr', 'driveins', 'hillbr', 'shootemup', 'framebr', 'cuecard', 'schemebr', '15minute', 'stevebr', 'sr71', 'f15s', 'gallactica', 'uniformbr', 'actorsthey', 'uptodate', 'megans', 'abilitiesbr', 'isand', 'selfdeprecation', 'flyonthewall', 'fullfrontal', 'abouti', 'topquality', 'griefbr', 'lipsynching', 'lousybr', 'chickenbr', 'moorebr', 'amitabhs', 'sockpuppet', 'noones', 'bigcity', 'stalebr', 'hamills', 'gazarra', 'fastmotion', 'flipflops', 'threeact', 'extentbr', 'cowboybr', 'averagebr', 'pg13br', 'dilettantish', 'convictionbr', 'flatleys', 'blablabla', 'thesebr', 'techniquebr', 'itlike', 'uhhuh', 'comedianbr', 'lacklusterbr', 'puckoon', 'placesbr', 'breathtakingbr', 'vaselino', 'postdubbed', 'archiveorg', 'clunks', 'albiet', 'bestworst', 'meanlooking', 'successfulbr', 'perverseness', 'druggedout', 'naura', 'kruschen', 'feltbr', 'nonanimated', 'polebr', 'fishbr', 'nutjob', 'sbaraglia', 'understandablebr', 'anybodybr', '14year', 'extrasbr', 'faultbr', 'wellheeled', 'fiascobr', 'comedyi', 'blueeyed', 'lohans', 'countriesbr', 'renfros', 'blondhaired', 'brookss', 'barbeaus', 'sobiesky', 'yuckbr', 'lengles', 'deliveredbr', 'campbr', 'boardbr', 'foundbr', 'basebr', 'endoftheworld', 'fujimoris', 'onebyonebr', 'highranking', 'artistsbr', 'imagebr', 'aksar', 'udita', 'parés', '1000000', 'lesters', 'mobbr', 'movieso', 'slasherhorror', 'agendabr', 'risebr', 'graboids', 'ughbr', 'braincells', 'highend', 'drivelbr', 'castmembers', 'breastsbr', 'talksbr', 'scenewhich', 'musicalcomedy', 'halfcaste', 'mcdermotts', 'studentbr', 'horribleness', 'vanne', 'stereobr', 'fourstar', 'shorterbr', 'lossbr', 'liebr', 'aliensbr', 'idiotbr', 'late60s', 'noisesbr', 'bigbr', 'birdbr', 'pollonia', 'illfitting', 'usebr', 'wildeyed', 'nonchristian', 'ffvii', 'contrivedbr', 'spotsbr', 'displaybr', 'cornerbr', 'convolute', 'producerswriters', 'wowthis', 'unerotic', 'outbut', 'directedbr', 'nonhorror', 'collegebr', 'exmodel', 'motivesbr', 'basedbr', 'secondhalf', 'keiras', 'mst3ks', 'snoozefest', 'attitudebr', 'competentbr', 'ashmith', 'stirba', 'komizu', 'goreeffects', 'appreciationbr', 'potentialbr', 'headachebr', 'kosleck', 'odins', 'battlebr', 'innercity', 'selfcentred', 'agreebr', 'runningbr', 'dressedbr', 'emilys', 'bizarrebr', 'drossbr', 'backand', 'translationbr', 'explainbr', 'nicelooking', 'hitormiss', 'hasselhoffs', 'accomplishmentbr', 'bogstandard', 'gurning', 'sucky', 'bluegray', 'bombbr', 'noticedbr', 'deafmute', 'k911', 'filmmakerbr', 'greatlooking', 'channelsurfing', 'dansons', 'poorlymade', 'poopie', 'aboundbr', 'selfparody', 'moviewell', 'neonazi', 'terriblethe', 'roddenberrys', 'waaay', 'hardbitten', 'riccis', '1997s', 'ators', 'littleseen', 'supermans', 'killsbr', 'halfwits', 'likablebr', 'wannabee', 'crudebr', 'poprock', 'virusbr', 'helltown', 'repeatbr', '19yearold', 'scifiaction', 'vomitbr', 'geilgud', 'cushings', 'payperview', 'vaugier', 'homemovie', 'charmingbr', 'elsewherebr', 'taylorcompton', 'alleybr', 'onetenth', 'laboratorybr', 'particularbr', 'offbroadway', 'convincinglybr', 'masseys', 'thoughit', 'charactersthe', 'abomb', 'theatrebr', 'toobut', 'halfanhour', 'rkos', 'pinnochio', 'sheriffbr', '1988br', 'lappartement', 'carrys', 'wallsbr', '70s80s', 'unnuanced', 'antisoviet', 'courtmartial', 'loveand', 'massacrebr', 'povertyrow', 'westbr', 'leisens', 'forewarnedbr', 'presencebr', 'imaginablebr', 'convincedbr', 'stagestruck', 'marsbr', 'characteractor', 'daddys', 'copybr', 'aroundi', 'nonsequiturs', 'depps', 'uncreditedbr', 'nolls', 'picturepostcard', 'estebans', 'gannons', 'satisfyingbr', 'jetée', 'coffinbr', 'fatherdaughter', 'lindseys', 'needsbr', 'hersbr', 'yodas', 'pottymouthed', 'pâquerette', 'cornillac', 'yelchins', 'cassinelli', 'soldierbr', 'monetero', 'mixedrace', 'pointand', 'ironybr', 'shootemups', 'betrayalbr', 'alltoo', 'herkyjerky', 'artistrybr', 'beautifullybr', 'notsosubtle', 'wildernessbr', 'topbilled', 'baketamon', 'positivebr', 'graspbr', 'appearancebr', 'panandscan', 'nicelybr', 'storydriven', 'passiveaggressive', 'patientsbr', 'subor', 'golubeva', 'everso', 'propagandabr', 'frownland', 'catastrophebr', 'limitsbr', 'overkillbr', 'terrorismbr', 'homeworkbr', 'horrorthrillers', 'giullia', 'turaqistan', 'yonica', 'highstrung', 'seans', 'complimentbr', 'costners', 'paidbr', 'subconcious', 'horrorfantasy', 'bargainbr', 'anglesbr', '4the', 'seenthe', 'evies', 'timetraveling', 'forcefed', 'outofcontrol', 'zerobudget', 'vaders', 'constantlybr', 'presentationbr', 'hungs', 'innocencebr', 'prettybr', 'malles', 'accordinglybr', 'washingtonbr', 'jäniksen', 'vuosi', 'ballsbr', 'facesbr', 'storyplot', 'renying', 'parisbr', 'truelife', 'raperevenge', 'creatorsbr', 'backtoback', 'awkwardbr', 'actordirector', 'bannisters', 'hayworths', 'wellthoughtout', 'selfconfident', 'delightbr', '4000000', '20000000', 'seungup', 'agesbr', 'hystericalbr', 'membersbr', 'lauberge', 'tvshow', 'itthis', 'desirebr', 'frameup', 'rolethe', 'tombr', 'okeefe', 'aynur', 'gencebay', 'spanishamerican', 'freemanville', 'excellentthe', 'etcand', 'neighborhoodbr', 'lavventura', 'stitchesbr', 'soooooo', 'highbr', 'litel', 'standups', 'jodorowskys', 'manawaka', 'hagars', 'selfdefeating', 'angerbr', 'onetrick', 'sexobsessed', 'wahlbergs', 'mocumentary', '1941br', 'questionmarkbr', 'selfawareness', 'thirtythree', 'managebr', 'oceanbr', 'stewartbr', 'kurts', 'areabr', 'postwwii', 'remarkablebr', 'tastebr', 'jobsbr', 'fallbr', '40sbr', 'loudbr', 'waxmans', 'wellbalanced', 'scifis', 'ulmanns', 'sizebr', 'fortunebr', 'doyeon', 'shinaes', 'behaviorbr', 'loveits', 'akshays', 'coccio', 'digicorps', 'unfoldbr', 'valettes', 'manbut', 'youit', 'glauren', 'bunnys', 'correctbr', 'tagores', 'slambang', 'chokher', 'surfacebr', 'formatbr', 'ebaybr', 'fantasticand', 'welldesigned', 'tarsems', 'doppleganger', 'unknownbr', 'dinklepuss', 'codys', 'atwills', 'hairraising', 'soninlaw', 'corsia', 'luckbr', 'dostoyevskys', 'duologue', 'pleasurebr', 'milligans', 'astairerogers', 'pagebr', 'resolvedbr', 'halfasleep', 'pitchperfect', 'guerchard', '1935s', 'rerated', 'allbut', 'halfs', 'wylers', 'mcgoverns', 'immediatelybr', 'positionbr', 'ksun', 'proudbr', 'religionbr', 'venezuelabr', 'staterun', 'completest', 'cutsbr', 'leftbr', 'securitybr', 'againand', 'oquinn', 'spanishbr', 'soonerbr', 'americanmade', 'suckbr', 'cephallonian', 'dvdr', 'tealc', 'clubbr', 'cinematographybr', 'sensesbr', 'closetbr', 'japanbr', '1975br', 'stillers', 'thumbtanic', 'knowi', 'roquevert', 'englishdubbed', 'tarrs', 'obsessivecompulsive', 'oneonone', 'enemiesbr', 'koolaid', 'bathbr', 'filmwith', 'bullettime', 'reediting', 'timeit', 'oneminute', 'studiobr', 'limitedbr', 'cuttingroom', 'darim', 'movieas', 'guidos', 'filmespecially', 'incompetencebr', 'ferbers', 'industrybr', 'eustaches', 'ohalloran', 'unthoughtful', 'lightskinned', 'depressingbr', 'skree', 'foebr', 'boynextdoor', 'quinlin', 'animalbr', 'vietnambr', 'carons', 'tralala', 'animatedbr', 'particolare', 'mussolinis', 'unsatisfyingbr', 'toneddown', 'yearsi', 'silentera', 'reactionbr', 'laughand', 'tamakwa', 'charactersbut', 'filmif', 'stagedbr', 'lorenzos', 'familiarbr', 'gangbr', 'botherbr', 'insidebr', 'selfdeprecating', 'nonchronological']\n",
            "End of iteration 1, added 2000 new labels.\n",
            "Converted 26818 words (3181 misses)\n",
            "Missed words:  ['itbr', 'moviebr', 'filmbr', 'youve', 'werent', 'timebr', 'shouldnt', 'thembr', 'hadnt', 'lowbudget', 'himbr', 'theyve', 'onebr', 'thatbr', 'thisbr', 'mebr', 'storybr', 'bmovie', 'herebr', 'wellbr', 'allbr', 'goodbr', 'couldve', 'overthetop', 'onbr', 'wouldve', 'endbr', 'isbr', 'waybr', 'lifebr', 'againbr', 'outbr', 'theyd', 'therebr', 'reallife', 'writerdirector', 'betterbr', 'moviesbr', 'youbr', 'watchbr', 'badbr', 'filmsbr', 'toobr', 'herbr', 'theyll', 'upbr', 'oneliners', 'hitchcocks', 'spoilersbr', 'charactersbr', 'itll', 'mustsee', 'scenebr', 'peoplebr', 'screenbr', 'workbr', 'bebr', 'morebr', 'seenbr', 'showbr', 'everyones', 'funnybr', 'worldbr', 'etcbr', 'timesbr', 'inbr', 'madefortv', 'thoughtprovoking', 'wifes', 'otherbr', 'onedimensional', 'rolebr', 'notbr', 'daybr', 'aboutbr', 'awaybr', 'middleaged', 'funbr', 'anyones', 'eitherbr', 'yearsbr', 'cinemabr', 'familys', 'tobr', 'wasbr', 'muchbr', 'wrongbr', 'plotbr', 'otoole', 'scenesbr', 'characterbr', 'anywaybr', 'dobr', 'pg13', 'offbr', 'everbr', 'comedybr', 'forbr', 'pointbr', 'historybr', 'wellmade', 'shouldve', 'manbr', 'seriesbr', 'withbr', 'performancebr', 'gypo', 'overbr', 'oldfashioned', 'backbr', 'thingbr', 'thoughbr', 'itselfbr', 'fastpaced', 'beforebr', 'placebr', 'bmovies', 'moviei', 'togetherbr', 'endingbr', 'firstrate', 'boringbr', 'drivein', 'thingsbr', 'throughbr', 'mindbr', 'bookbr', 'africanamerican', 'musicbr', 'experiencebr', 'nowbr', 'awfulbr', '10br', 'audiencebr', 'sobr', 'actingbr', 'scriptbr', 'familybr', 'actorsbr', 'somethingbr', 'downbr', 'knowbr', 'castbr', 'disappointedbr', 'donebr', 'seebr', 'worsebr', 'wellwritten', 'sensebr', 'welldone', 'kubricks', 'laterbr', 'yearold', 'madebr', 'rightbr', 'bestbr', 'warbr', 'lovebr', 'daysbr', 'elsebr', 'nothingbr', 'xfiles', 'minutesbr', 'moneybr', 'crapbr', 'stuffbr', 'deathbr', 'didbr', 'austens', 'selfindulgent', 'tongueincheek', 'jobbr', 'whove', 'liveaction', 'spoilerbr', 'entertainingbr', 'himselfbr', 'partbr', 'rolesbr', 'ideabr', 'happenbr', 'originalbr', 'hisher', 'facebr', 'flickbr', 'possiblebr', 'enoughbr', 'directtovideo', 'eastwoods', 'goodlooking', 'greatbr', 'fulcis', 'halfhour', 'fulllength', 'reasonbr', 'interestingbr', 'chaplins', 'linebr', 'whod', 'precode', 'todaybr', 'sg1', 'classicbr', 'exwife', 'mustve', 'selfcentered', 'alonebr', 'eyesbr', 'casebr', 'wellacted', 'sciencefiction', 'homebr', 'actorbr', 'selfabsorbed', 'thatll', 'throughoutbr', 'starsbr', 'yourselfbr', 'stupidbr', 'believablebr', 'dvdbr', 'yearbr', 'othersbr', 'performancesbr', 'childrenbr', 'rosemarys', 'talentbr', 'goodnatured', 'insteadbr', 'nightbr', 'whybr', 'thinkbr', 'straighttovideo', 'ownbr', 'frombr', 'actionbr', 'zelah', 'genrebr', 'dramabr', 'altmans', 'firsttime', 'seagals', 'actorsactresses', 'imho', 'watchingbr', 'aroundbr', 'dialoguebr', 'onesided', 'societys', 'differentbr', 'levelbr', 'blackandwhite', 'saybr', 'directorwriter', 'slowmotion', 'lotbr', 'allamerican', 'slowmoving', 'pacinos', 'arebr', 'qualitybr', 'brilliantbr', 'anotherbr', 'starbr', 'truebr', 'livesbr', 'themselvesbr', 'picturebr', 'whilebr', 'miikes', 'directorbr', 'argentos', 'laughbr', 'premingers', 'lynchs', 'momentbr', 'productionbr', 'ofbr', 'beginningbr', 'involvedbr', 'longbr', 'masterpiecebr', 'messbr', 'laughsbr', 'oscarwinning', 'versionbr', 'selfconscious', 'playbr', 'songbr', 'girlbr', 'excellentbr', 'gamebr', 'exgirlfriend', 'anythingbr', 'featurelength', 'buddys', 'canbr', 'carface', 'doesbr', 'episodebr', 'coursebr', 'momentsbr', 'cmon', 'yetbr', 'nextbr', 'movieand', 'twodimensional', 'ladys', 'tvbr', 'likebr', 'keatons', 'motherbr', 'doodlebops', 'filmand', 'hilariousbr', 'downtoearth', 'checkbr', 'scoobydoo', 'materialbr', 'namebr', 'crimebr', 'camerabr', 'linesbr', 'budgetbr', 'spielbergs', 'bgrade', 'bigbudget', 'meanspirited', 'porkys', 'creditsbr', 'kidsbr', 'followbr', 'opinionbr', 'patheticbr', 'cringeworthy', 'chancebr', 'terriblebr', 'gobr', 'artbr', 'sexbr', 'carreys', 'excon', 'spoton', 'stopmotion', 'countrybr', 'effectbr', 'wellcrafted', 'modernday', 'reasonsbr', 'lostbr', 'pleasebr', 'custers', 'brotherinlaw', 'fatherbr', 'imdbs', 'rrated', 'entertainmentbr', 'schoolbr', 'leastbr', 'flesheating', 'anyonebr', 'titlebr', 'oscarnominated', 'runofthemill', 'illfated', 'grossout', 'shotbr', 'hustons', 'onesbr', 'reviewbr', 'doorbr', 'meanbr', 'conclusionbr', 'nononsense', 'thebr', 'fishmen', 'wellmeaning', 'superbbr', 'fansbr', 'connerys', 'aheadbr', 'situationbr', 'samebr', 'ridiculousbr', 'viewingbr', 'childbr', 'slowpaced', 'sotnikov', 'roombr', 'xmen', 'actbr', 'agobr', 'hollywoodbr', 'branaghs', 'secondrate', 'mistakebr', 'oncebr', 'animationbr', 'finishbr', '2br', 'comparisonbr', 'guysbr', 'bosss', 'erabr', 'gilligans', 'latebr', 'reallybr', 'tvmovie', 'citybr', 'okbr', 'havebr', 'screenplaybr', 'surprisebr', 'filmthe', 'actressbr', 'piecebr', 'thrillerbr', 'heartbr', 'amazingbr', '810br', 'wholebr', 'gentlemans', 'thenbr', 'eyebr', 'itthe', '710br', 'viewerbr', 'interestbr', 'awardwinning', 'garbagebr', 'womenbr', 'frankies', 'nobudget', 'elviras', 'enjoybr', 'careerbr', 'largerthanlife', 'showsbr', 'survivebr', 'futurebr', 'lessbr', 'housebr', 'personbr', 'effectsbr', 'willbr', 'hadbr', 'revengebr', 'rollbr', 'realbr', 'alices', 'seeingbr', 'billys', 'humorbr', 'hardbr', 'violencebr', 'americabr', 'comingofage', 'scorseses', 'diesbr', 'twobr', 'sevenbr', 'soapopera', 'viewbr', 'atmospherebr', 'deadbr', 'examplebr', 'moviethe', 'hellbr', 'fastforward', 'friendsbr', 'filmnoir', 'mightve', 'murderbr', 'jeanluc', 'effortbr', 'developmentbr', 'cusacks', 'killerbr', 'goodthe', 'dialogbr', 'televisionbr', 'periodbr', 'harlins', 'andbr', 'coolbr', 'matterbr', 'realitybr', 'miyazakis', 'guybr', 'elinore', 'eightbr', 'gorehounds', 'sequelbr', 'wastedbr', 'spocks', 'offerbr', 'everybodys', 'anybodys', 'enjoyablebr', 'dexters', 'headbr', 'storiesbr', 'topbr', 'finalebr', 'halfbaked', 'disappointmentbr', 'neednt', 'selfdestructive', 'seriouslybr', 'nc17', 'daylewis', 'shinae', 'carells', 'itit', 'cheezy', 'problembr', 'centurybr', 'wifebr', 'khouris', 'pastbr', 'mindnumbing', 'friendbr', 'maléfique', 'noname', 'firstbr', 'tarantinos', 'fatherson', 'matuschek', 'farbr', 'nsna', 'beattys', 'getbr', 'womanbr', 'allout', 'powerbr', 'foxs', 'movieit', 'neros', 'bhorror', 'stylebr', 'hamfisted', 'matchbr', 'noroi', 'carebr', 'directionbr', 'osullivan', 'kurtzs', 'bloodbr', 'earlierbr', 'standardsbr', 'dreambr', 'brandos', 'sadbr', 'oldschool', 'goingson', 'didntbr', 'everythingbr', 'icet', 'threebr', 'everyonebr', 'rochesters', 'rubbishbr', 'annoyingbr', 'foxxs', 'alivebr', 'storywise', 'allaround', 'guessbr', 'alongbr', 'rohmers', 'closebr', 'hoursbr', 'imdbcom', 'lovehate', 'releasebr', 'newbr', 'walshs', 'mordrid', 'shortbr', 'comebr', 'dammes', 'myselfbr', 'scarybr', 'freddys', 'townbr', 'welldeveloped', 'classbr', 'injokes', '1010br', 'kurosawas', 'selfrespect', 'commentbr', 'alisons', 'nicebr', 'goldsworthys', 'characterdriven', 'eyecandy', 'chanwook', 'seasonbr', 'rotj', 'godbr', 'helpbr', 'partsbr', 'railly', 'fellinis', 'selfesteem', 'jokebr', 'expectationsbr', 'hohum', 'bronsons', '8510', 'doingbr', 'fantasticbr', 'gilleys', 'recommendedbr', 'nobr', 'bluebeards', 'messagebr', 'daughterbr', 'apartbr', 'atbr', 'fassbinders', 'hoechlin', 'paperhouse', 'draculas', 'mindnumbingly', 'rififi1955', 'bakshis', 'mgms', 'bythenumbers', 'oneliner', 'offthewall', 'kickass', 'catandmouse', 'nonebr', 'soonbr', 'wellintentioned', 'littlebr', 'kahns', 'beenbr', 'culturebr', 'ensuesbr', 'lowrent', 'worstbr', 'woodys', 'paperthin', 'costsbr', 'nancys', 'ollies', 'relationshipbr', 'openminded', 'diebr', 'horrorcomedy', 'sincebr', 'restbr', 'businessbr', 'everythings', 'drawnout', 'laughablebr', 'expectbr', 'tearjerking', 'indeedbr', 'clothesbr', 'amazoncom', 'truthbr', 'dereks', 'exceptionbr', 'societybr', 'wererabbit', 'walkens', 'daytoday', 'perfectionbr', 'firstperson', 'listbr', 'existbr', 'treatbr', 'jeanpierre', 'anansa', 'soundtrackbr', 'wholl', 'motherinlaw', 'oldbr', 'starewicz', 'husbandbr', 'nowadaysbr', 'dullbr', 'scorebr', 'omalley', 'laughoutloud', 'verhoevens', 'alterego', 'naturebr', 'bitbr', 'memorybr', 'jawdropping', 'mcphillip', 'surebr', 'earthbr', 'hasbr', 'blacksnake', 'jeanclaude', 'subtitlesbr', 'actedbr', 'videobr', 'episodesbr', '1br', 'wideeyed', 'jimis', 'makingbr', 'longsuffering', 'worksbr', 'comingbr', 'gordonlevitt', 'fashionbr', 'filmingbr', 'inyourface', 'kidmans', 'erendira', 'whatsoeverbr', 'erics', 'bothbr', 'streeps', 'narvo', 'tmtm', 'brinke', 'gilliams', 'mysterybr', 'markbr', 'backgroundbr', 'fourbr', 'twothirds', 'melvilles', 'intobr', 'whatbr', 'streisands', 'makebr', 'racebr', 'formbr', 'horriblebr', 'novelbr', 'storylinebr', 'getgo', 'projectbr', 'bodybr', 'languagebr', 'mannerbr', 'troublebr', 'polanskis', 'eisensteins', 'fastbr', 'menbr', 'pointlessbr', 'sakebr', 'ff7', 'subjectbr', 'accentbr', 'flatbr', 'belowbr', 'zombiesbr', 'himand', 'oclock', 'lolbr', 'detailsbr', 'endsbr', 'watchablebr', 'workedbr', 'happybr', 'englishlanguage', 'beautifulbr', 'brunos', 'eventbr', 'effortsbr', 'shamebr', 'perspectivebr', 'itbut', 'hollys', 'foreverbr', 'perfectbr', 'perfectlybr', 'twentyfive', 'viscontis', 'respectbr', 'toxie', 'agebr', 'tragedybr', 'tarzans', 'itand', 'actionpacked', 'spacebr', 'cagneys', 'bunuels', 'winnerbr', 'jabbas', 'herselfbr', 'aboveaverage', 'longlost', 'ateam', 'startbr', 'finebr', 'antiamerican', 'happeningbr', 'anymorebr', 'alsobr', 'forgetbr', 'roegs', 'illconceived', 'predictablebr', 'coppolas', 'missionbr', 'kpax', 'littleknown', 'happenedbr', 'redfords', 'ossessione', 'oneofakind', 'exboyfriend', 'washedup', 'otherwisebr', 'feelbr', 'mccools', 'oneman', 'alertbr', 'zboys', 'isntbr', 'somebodys', 'sidneys', 'trybr', 'fanbr', 'babettes', 'danglard', 'cronenbergs', 'forgettablebr', 'aweinspiring', 'fanda', 'demilles', 'clouzots', 'radzoff', 'deadon', 'surprisedbr', 'julias', 'laughterbr', 'availablebr', 'videodvd', 'imdbbr', 'tshirt', 'fingersmith', 'tvseries', 'vadar', 'bazza', 'allthe', 'beethovens', 'marykate', 'pointsbr', 'writingbr', 'rememberbr', 'brynners', 'breakbr', 'latterbr', 'collectionbr', 'selfindulgence', 'actionadventure', 'joness', 'brotherbr', 'disturbingbr', 'booksbr', 'batmans', 'welldirected', 'happygolucky', 'offkilter', 'problemsbr', 'filmit', 'madeup', 'changedbr', 'yknow', 'clichéridden', 'handbr', 'weekbr', 'getsbr', 'anticsbr', 'tshirts', 'choicebr', 'oshea', 'moviebut', 'moviethis', 'unisol', 'unbelievablebr', 'gravebr', 'necessarybr', 'halfassed', 'adaptationbr', 'eventsbr', 'lowgrade', 'slowmo', 'comedys', 'nonsensebr', 'convincingbr', 'onebyone', 'belushis', 'happensbr', 'saidbr', 'heshe', 'theaterbr', 'whateverbr', 'festivalbr', 'selfloathing', 'tripbr', 'yesbr', 'kindbr', 'jackies', 'killedbr', 'selfcontained', 'documentarybr', 'ahole', 'herobr', 'justicebr', 'worldweary', 'chainsmoking', 'kazans', 'dassins', 'soontobe', 'waterbr', 'therere', 'awardbr', 'imaginebr', 'timei', 'boybr', 'okaybr', 'dealbr', 'neededbr', 'geniusbr', 'selfserving', 'upandcoming', 'handsbr', 'highpitched', 'murdererbr', 'antonionis', 'taipe', 'sleepbr', 'selfconsciously', 'alist', 'jokesbr', 'attentionbr', 'tellbr', 'felixs', 'tieh', 'dialouge', 'outofplace', 'sisterbr', 'trelkovsky', 'carlys', 'goauld', 'sliceoflife', 'cormans', 'lematt', 'hitchs', 'successbr', 'effectivebr', 'itits', 'chickflick', 'understandbr', 'valuebr', 'trainbr', '7510', 'karloffs', 'garbos', 'spacecamp', 'sheeta', 'wellcast', 'carlas', '12yearold', 'niros', 'selfpity', 'groundbr', 'soderberghs', 'workingclass', 'premisebr', 'threeway', 'gymkata', 'carltonbrowne', 'feinstone', 'fatebr', 'stanwycks', 'filone', 'gaglia', 'horrorbr', 'categorybr', 'manybr', 'rossitto', '14yearold', 'filmaking', 'washedout', 'quicklybr', 'walts', 'leadbr', 'bottomofthebarrel', 'highclass', 'worthwhilebr', 'flicksbr', 'specialbr', 'poorbr', 'climaxbr', 'circumstancesbr', 'changebr', 'tediousbr', 'thrillerhorror', 'jennifers', 'sandras', 'blandbr', 'consequencesbr', 'companybr', 'lubitschs', 'moocow', 'missedbr', 'planetbr', 'okeeffe', 'unisols', 'universebr', 'selfrespecting', 'sidebr', 'emotionbr', 'gamesbr', 'pointofview', 'seatbr', 'thered', 'terrythomas', 'painbr', 'tripebr', 'beginbr', 'waysbr', 'marions', 'hickland', 'behindbr', 'catbr', 'songsbr', 'lamebr', 'remakebr', 'motherdaughter', 'fastmoving', 'wonderfulbr', 'cultclassic', 'matteroffact', 'hopebr', 'oscarworthy', 'reccomend', 'thoughtbr', 'raisuli', 'shirleys', 'bogosians', 'zgrade', 'hotbr', 'bourvil', 'movingbr', 'warningbr', 'earthshattering', 'suspensebr', 'cleverbr', 'situationsbr', 'howeverbr', 'justforkix', 'druginduced', 'flawsbr', 'importantbr', 'dannys', 'behindthescenes', 'rukhs', 'scalebr', 'sampredo', 'classicsbr', 'officebr', 'releasedbr', 'bogarts', 'werebr', 'morningbr', 'threedimensional', 'latterday', 'pacebr', 'sondheims', 'skammen', 'firstclass', 'bluray', 'wheelchairbound', 'garfields', 'tommys', 'ridebr', 'sharkys', 'duchovney', 'stephanois', 'fantasybr', 'soulbr', 'bigscreen', 'churchbr', 'jeanpaul', 'welldeserved', 'girlsbr', 'thosebr', 'nowherebr', 'btch', 'butbr', 'succeedbr', 'jox', 'kapoors', 'resultbr', 'questionsbr', 'beautybr', 'lengthbr', 'anglosaxon', 'hundstage', 'hardedged', 'ramars', '7yearold', 'goingbr', 'tenbr', 'fullon', 'feelingbr', 'passworthy', 'bossbr', 'viewersbr', 'completelybr', 'playerbr', 'pazu', 'taime', 'pricelessbr', 'animalsbr', 'chabrols', 'noahs', 'datebr', 'selfrighteous', 'powerfulbr', 'livebr', 'secondbr', 'englishbr', 'cartoonbr', 'cheesey', 'personalitybr', 'processbr', 'comedydrama', '10yearold', 'truffauts', 'zetajones', 'editingbr', 'tachiguishi', 'lelands', 'kiplings', 'todesking', 'victimsbr', 'boredombr', 'janmichael', 'langdons', 'starstudded', 'oneil', 'lawbr', 'ourselvesbr', 'wonderbird', 'xica', 'eunjoo', 'disappointingbr', 'cheadles', 'crapfest', 'dekalog', '40yearold', 'thalluri', 'champlains', 'soultaker', 'molloch', 'lesseos', 'sequelsbr', 'cameramans', 'waitbr', 'abovebr', 'schizophreniac', 'scenesthe', 'belowpar', 'pukebr', 'sequencesbr', 'victimbr', 'horsebr', 'zizeks', 'synopsisbr', 'threequarters', 'peacebr', 'selfinflicted', 'strongwilled', 'cheapbr', 'kristoffersons', 'aspectsbr', 'naschys', '310br', 'whitebr', 'extremebr', 'brated', 'crybr', 'windowbr', 'horrormovie', 'ratingsbr', '100br', 'alwaysbr', 'soundbr', 'codirected', 'wellfilmed', 'exhusband', 'worldweariness', 'believedbr', 'koontzs', 'directorsbr', 'lugosis', 'suitbr', 'altogetherbr', 'paltrows', 'sucksbr', 'onejoke', 'nonethelessbr', 'voicebr', 'channelbr', 'kidbr', 'realisticbr', 'dumbbr', 'putupon', 'resultsbr', 'forwardbr', 'firebr', 'memorablebr', 'mabels', 'mouthbr', 'swordfights', 'tensionbr', 'productbr', 'kittys', 'filmbut', 'sobaditsgood', 'turkeybr', 'falks', 'failsbr', 'unscary', 'animes', 'charmbr', 'fatherinlaw', 'stallones', 'actings', 'selfproclaimed', 'louque', 'nonchristians', 'capotes', 'oscarcaliber', 'rapidfire', 'expectedbr', 'bressart', 'kinskis', 'dadbr', 'presentday', 'dieing', 'costellos', 'settingbr', 'welltold', 'badguy', 'oncamera', 'kangho', 'monsterbr', 'diseasebr', 'pedecaris', 'stopbr', 'streetbr', 'jawdroppingly', 'cakebr', 'moviethere', 'westernbr', 'brilliancebr', 'documentarystyle', 'networkbr', 'couldbr', 'andwell', 'sinuhes', 'publicbr', 'golddigging', 'suicidebr', 'amrapurkar', 'gauris', 'otooles', 'overthehill', 'wallbr', 'unnecessarybr', 'mindbending', 'moviea', 'videostore', 'duvalls', 'memoriesbr', 'hourbr', 'factbr', '2the', 'actoractress', 'tourdeforce', 'progressesbr', '30something', 'bolkan', 'madnessbr', 'writerbr', 'twohour', 'polarisdib', 'badlybr', 'oss117', 'waythe', 'badit', 'lianchu', 'gwizdo', 'simplebr', 'blackwhite', 'brideless', 'communitybr', 'xrated', 'documentarylike', 'youngbr', 'pseudointellectual', 'englandbr', 'hardhitting', 'sayingbr', '5year', 'asbr', 'wasis', 'selfdestruction', 'mst3000', 'burakov', 'depthbr', 'anouska', 'awardsbr', 'moviein', 'herzogs', 'leguizamos', 'forgivenbr', 'timetravel', 'jeanlouis', 'mindsbr', 'recomend', 'talebr', 'fword', 'sortof', 'fishoutofwater', 'murdermystery', 'assbr', 'teambr', 'girlfriendbr', 'alreadybr', 'returnbr', 'beliefbr', 'couplebr', 'fightbr', 'sonbr', 'cleancut', 'openended', 'stereotypesbr', 'movieits', 'findbr', 'fallons', 'humourbr', 'thinkingbr', 'himhe', 'romcom', 'pathbr', 'pseudodocumentary', 'hawkings', 'gorebr', 'bandbr', 'plotholes', 'cameosbr', 'completist', 'christines', 'horrorthriller', 'thereand', 'welldrawn', 'turnbr', 'cassavettes', 'actionsbr', 'crichtons', 'beatup', 'imaginationbr', 'ageold', 'sakall', 'portrayalbr', 'bluesbr', 'surprisesbr', 'illadvised', 'mostbr', 'usualbr', 'stepbystep', 'allinall', 'raveenas', 'timmys', 'createdbr', 'gespenster', 'exmrs', 'dumbeddown', 'ggirl', 'iibr', '2dimensional', 'freshfaced', 'chappelles', 'halfdecent', 'marsillach', 'itthey', 'dellorco', 'dahls', 'abilitybr', 'secondsbr', 'freespirited', 'trashbr', 'intendedbr', 'storythe', 'watchedbr', 'postworld', 'devitos', 'noirbr', 'wurb', '3br', 'wellpaced', 'crazybr', 'slomo', 'selfreference', 'shakespearebr', 'teacherbr', 'mid90s', 'kingbr', 'hackenstein', 'environmentbr', 'venantini', 'martys', 'hahaha', 'sunnys', 'agentbr', 'wowbr', 'setsbr', 'thatd', 'martialarts', 'sebergs', 'mitchums', 'loversbr', 'zabalza', 'accidentbr', 'tolkiens', 'alikebr', 'daninsky', 'gadgetmobile', 'sauras', 'lv2', 'lv1', 'randys', 'epods', 'sevenups', 'sharpes', 'hasbeen', 'sickbr', 'martinos', 'satirebr', 'winbr', '90minute', '7eventy', 'themand', 'guntoting', 'alqaeda', 'writerdirectors', 'filmschool', 'selfconfidence', 'marlows', 'halfbrother', 'shatners', 'miserybr', 'endedbr', 'matrixbr', 'onlocation', 'middlebr', 'wellplayed', 'wellworn', 'rulebr', 'lowbudgeted', 'eurohorror', 'playingbr', 'artistbr', 'mid70s', 'pricebr', 'drek', 'dreckbr', 'salmans', 'secretbr', 'longerbr', 'skillsbr', 'torturebr', '1970sbr', 'germanybr', 'sadsack', 'dialoge', 'huhbr', 'onlybr', 'funnierbr', 'commentsbr', 'noticebr', 'dontbr', 'endthe', 'numbersbr', 'gormless', 'lifethe', 'freebr', 'badmovie', 'uboat', 'joshs', 'moviesbut', 'rememberedbr', 'carbr', 'scifibr', 'seabr', 'moviejust', 'wantbr', 'closeknit', 'hardearned', 'afterbr', 'producerdirector', 'hillarious', 'kermits', 'hensons', 'raimis', 'excitementbr', 'amateurishbr', 'goodbut', 'spotbr', 'triggerhappy', 'almodovars', 'generationbr', 'directingbr', 'selfimportant', 'odonnell', 'boormans', 'husbandwife', 'livein', 'villainbr', 'stoppedbr', 'jailbr', 'impressivebr', '3the', 'allit', 'partybr', 'lesserknown', 'advicebr', 'ghosthouse', 'blackbr', 'yawnbr', 'hijinx', 'monstersbr', 'scenerychewing', 'disgustingbr', 'beingsbr', 'rentalbr', 'douchebag', 'taskbr', 'embr', 'rhysdavies', 'overallbr', 'orderbr', 'epicbr', 'followingbr', 'semiserious', 'milyang', 'digicorp', 'sjöströms', 'körkarlen', 'mustnt', 'downandout', 'funfilled', 'followsbr', 'excitingbr', 'moronie', 'adultsbr', 'readbr', 'readingbr', 'welli', 'annmargret', 'livingbr', 'commentarybr', 'piecesbr', 'selfmade', 'answerbr', 'fishburnes', 'wellthought', 'tarrantino', 'rewatching', '5br', 'unlikelybr', '2007br', 'fasttalking', 'approachbr', 'presentbr', 'professionbr', 'mahlers', 'thisand', 'deservedbr', 'edgeoftheseat', 'boxbr', 'tromas', 'awesomebr', 'filmmakingbr', 'godell', 'anythings', 'darvi', 'knowitall', 'insanitybr', 'moonbr', 'setbr', 'legendbr', 'governmentbr', 'moviesthe', 'sharkman', 'madefortelevision', 'coulardeau', 'handtohand', 'leaderbr', 'respectivelybr', 'ratebr', 'actioncomedy', 'buildingbr', 'confusingbr', 'mishimas', 'kazihiro', 'seenand', 'gelwix', 'redemptionbr', 'mclaglens', 'schwarzeneggers', 'scopebr', 'planbr', 'farcry', 'columbos', 'doubtbr', 'miseenscene', 'offkey', 'gungho', 'encounterbr', 'historys', 'differencebr', 'bybr', 'dangerfields', 'contentbr', 'quaien', 'actioners', 'eyepopping', 'beingbr', 'courtenays', 'lizs', 'goodbad', 'ignoredbr', 'lipsync', 'twains', 'weakbr', 'lifechanging', 'nearperfect', 'believebr', 'adventurebr', 'naughtons', 'rourkes', 'selfdefense', 'hannas', 'maruschka', 'lightbr', 'dumbrille', 'voights', 'nobodys', 'briss', 'bythebook', 'endearingbr', 'lestats', 'walkon', 'deads', 'versionsbr', 'chavezs', 'mummys', '110br', 'powersbr', 'fullblown', 'cusak', 'wellthe', 'caligulas', 'controlbr', 'thoughtout', 'forthbr', 'edgebr', 'lookingbr', 'moviesand', 'thisi', 'reunionbr', 'vonneguts', 'funloving', 'selfaware', 'depardieus', 'smithbr', '210br', 'menacebr', 'algrens', 'oater', 'halfdozen', 'afroamerican', 'afroamericans', 'intensebr', 'islandbr', 'cutbr', 'gembr', 'notthe', 'storebr', 'wellexecuted', 'entertainedbr', 'evilbr', 'twistbr', 'sillybr', 'amazedbr', 'puppydog', 'fackin', 'nationbr', 'thingthe', 'knowsbr', 'folksbr', 'reviewsbr', 'hornbys', 'alja', 'triedbr', 'jeanmarc', 'shootem', 'ropey', 'maneating', 'scantilyclad', 'versioni', 'missbr', '7br', 'drybr', 'punbr', 'humanbr', 'tiein', 'footagebr', 'oneand', 'affairbr', 'surprisingbr', 'bassenger', 'compellingbr', 'silencebr', 'succeededbr', 'exitingfunnydramatic', 'iswas', 'sarahs', 'dresslers', 'lastbr', 'barbr', 'bangup', 'disasterbr', 'screwfly', 'clooneys', 'doesntbr', 'wellhandled', 'beginsbr', 'holmess', 'dogooder', 'servillo', 'toyoji', 'lucass', 'larraz', 'purposebr', 'darkwolf', 'statesbr', 'stagebr', 'surov', 'neonoir', 'novaks', 'kennicut', 'sallys', '500000', 'maughams', 'techniquesbr', 'tonebr', 'ariauna', 'starewiczs', 'nobrainer', 'gutwrenching', 'twentytwo', 'moviesthis', 'btas', 'lenos', 'lewiss', 'watereddown', 'heavenbr', 'producedbr', 'shockbr', 'callgirl', 'dominoe', 'realismbr', 'straightlaced', 'goesbr', 'beethovan', 'fewbr', 'hairbrained', 'crosseyed', 'toughguy', 'suckedbr', 'lookbr', 'screambr', 'blahbr', 'hotelbr', 'factorbr', 's2t', 'substancebr', 'conceptbr', 'europebr', 'kannathil', 'somebr', 'afraidbr', 'ladybr', 'americanbr', 'claires', 'ratingbr', 'tomasis', 'venantino', 'actingwise', 'radiobr', 'methe', 'tennants', 'inevitablebr', 'ambr', 'avpr', 'sellecks', 'klaskycsupo', 'timeand', 'nekromantik', 'vampiros', 'deepbr', 'touchingbr', 'dondeloro', 'straightbr', 'mamets', 'clints', 'ultraorthodox', '2hour', 'mildmannered', 'ww11', 'rosss', 'hairbr', 'premminger', 'akyroyd', 'lapadite', 'sapsorrow', 'aristorcats', 'easybr', 'highprofile', 'divorcebr', 'himher', 'sebastians', 'namis', 'easebr', 'katharines', 'sasori', 'laughtrack', 'jarda', 'appolonia', 'syberberg', 'vampiress', 'kerching', 'sissis', 'addicus', 'tabonga', 'soske', 'syberbergs', 'howbr', 'diedbr', 'darkhunters', 'yearsbut', 'joannas', 'dillingers', '4br', 'timewaster', 'pofaced', 'underlit', 'ariels', 'notsogood', 'murphybr', 'twicebr', 'drugaddicted', 'sequal', 'madeforcable', 'complaintsbr', 'murdersbr', 'uselessbr', 'deneuves', 'oneline', 'richies', 'featuresbr', 'laughingbr', 'pacula', 'himbut', 'writtenbr', 'uninterestingbr', 'someonebr', 'furtherbr', 'berkowitzs', 'cluebr', 'offcamera', 'zudina', 'usabr', 'viceversabr', 'stationbr', 'bedbr', 'appealbr', 'golanglobus', 'greeneggs', 'nipar', 'badguys', 'finneys', 'hitandrun', 'individualbr', 'impressedbr', 'nouvellefrance', 'somehowbr', 'dumbs', 'worthbr', 'suckfest', 'penryjones', 'audiencesbr', 'timesthe', 'doubleedged', 'wellbut', 'snorefest', 'lengle', 'familyfriendly', 'interestedbr', 'floorbr', 'muchneeded', 'hackfords', 'toand', 'ideasbr', 'suspectbr', 'fiveminute', 'obviousbr', 'ladiesbr', 'shos', 'afterdark', 'amys', '1955br', 'jpii', 'helpedbr', 'thisa', 'elementbr', 'failbr', 'selfinvolved', 'postrevolutionary', 'rockbottom', 'prolly', 'exlover', 'touchyfeely', 'cheesebr', 'municipalians', 'cuttingedge', 'oconnors', 'offensivebr', 'masterbr', 'weirdbr', 'jessicas', 'withinbr', 'crappiness', 'ministerbr', 'itthere', 'sebastiens', 'slowbr', 'examplesbr', 'fashionatas', 'actuallybr', 'sluttish', 'wouldbr', 'directorscreenwriter', 'fascinatingbr', 'groaninducing', 'showbut', 'galaxina', 'sttng', 'panzrams', 'normalbr', 'relationshipsbr', 'stunningbr', 'selfappointed', 'spaceys', 'mid80s', 'bfilm', 'appollo', 'somewherebr', 'lifethreatening', 'usedbr', 'characterhe', 'moodbr', 'filmirage', 'wasntbr', 'corniest', 'meaningbr', 'everreliable', 'gainsbourgh', 'wellmannered', 'speakbr', 'beforeand', 'timelinebr', 'creditbr', '1980sbr', 'seemsbr', 'loessers', 'crimesbr', 'glassbr', 'hangglider', 'blankfield', 'rockbr', 'slackjawed', 'basingers', 'tillys', 'thisthe', 'investigationbr', 'laughless', 'milebr', 'unfoldsbr', 'improvementbr', 'lundgrens', 'lowbr', 'toldbr', 'hisbr', 'plusbr', 'hitbr', 'scottthomas', 'levelsbr', 'farscapes', 'romancebr', 'englishspeaking', 'burntout', 'centuryfox', '80sbr', 'hlots', 'apartmentbr', 'softfocus', 'waterss', 'createsbr', 'camerasbr', 'justins', 'lowlevel', 'malicks', 'rekert', 'seasonsbr', 'heflins', 'bennys', 'doublecrossing', 'landos', 'downonhisluck', 'desertbr', 'reliefbr', 'conartist', 'stewartmann', 'sanghyeon', 'babybr', 'dreamsbr', '9yearold', 'fearbr', 'wordsbr', 'actiondrama', 'halloweenbr', 'impactbr', 'ashenbach', 'razorsharp', 'songanddance', 'measurebr', 'silverhaired', 'shahrukhs', 'thrillbr', 'bobba', 'revealedbr', 'misleadingbr', 'unfortunatelybr', 'windbr', 'mitchs', 'excop', 'needbr', 'amandas', 'onand', 'flavorsome', 'suleimans', 'marketbr', 'completedbr', 'edelmans', 'noisebr', 'vampiresbr', 'bflick', 'figurebr', 'threehour', 'britcoms', 'ustinovs', 'dignitybr', 'blaxpoitation', 'truetolife', 'termsbr', 'doghi', 'emmas', 'activitiesbr', 'continuedbr', 'jonesbr', 'issuesbr', 'completebr', 'computergenerated', 'dimensionbr', 'wellproduced', 'anwars', 'differentlybr', 'paulas', 'chambara', 'wellstaged', 'williamsbr', 'humanitybr', 'allencompassing', 'deliverybr', 'bahranis', 'philosophybr', 'rewatched', 'jacksonbr', 'praisebr', 'superiorbr', 'popculture', 'ramóns', 'ninebr', 'grunick', 'criticsbr', 'oftenbr', 'highpowered', 'peckinpahs', 'responsibilitybr', 'optionbr', 'ritas', 'peckers', 'devilbr', 'castingbr', 'everywherebr', 'jangs', 'spiritbr', '15year', 'pixars', 'novelsbr', 'saysbr', 'dramacomedy', 'actorsthe', 'leebr', 'ohand', 'timesbut', 'digressbr', 'combinedbr', 'technicolorbr', 'stéphanois', 'survivalbr', 'wellsuited', 'missingbr', 'kuzcos', 'heartstopping', 'listenbr', 'sfhorror', '3hour', 'demonsbr', 'romebr', 'lockes', 'clichée', 'humanitys', 'grangers', 'selfreferential', 'playsbr', 'herethe', 'dropdead', 'flashbacksbr', 'sinbr', 'productionsbr', 'eveningbr', 'picturesbr', 'dallesandros', '20something', 'maxbr', 'mgmua', 'ownerbr', 'nonmainstream', 'cnnnn', 'travoltas', 'nightsbr', 'boatbr', 'properlybr', 'disappointbr', 'seriesi', 'factorybr', '3strip', 'mentallychallenged', 'camerlingo', 'allreds', 'astroesque', 'thati', 'hupperts', 'fidos', 'musicalbr', 'kiddingbr', 'venezuelas', 'streetsbr', 'contextbr', 'ananka', 'nonrelated', '910br', 'boyfriendbr', 'garlins', 'factsbr', 'juliabr', 'indahouse', 'samanthas', 'verdis', 'onhand', 'oneoff', 'craftbr', 'bestknown', 'gotbr', 'crowdbr', 'wellshot', 'witchs', 'fatherfigure', 'lifeand', 'enjoymentbr', 'hawns', 'youthbr', 'succeedsbr', 'mediabr', 'witherspoons', 'fullbodied', 'favorbr', 'catspaw', 'stickbr', 'armsbr', 'onenight', 'dancebr', 'tworeel', 'fwords', 'canoing', 'handsdown', 'fullfledged', 'embarrassingbr', 'branaugh', 'incrediblebr', 'rassimov', 'authenticlooking', 'selfdiscovery', 'coasterbr', 'wittiness', 'sawbr', 'highschoolers', 'hestons', 'mankinds', 'locationbr', 'attackbr', 'scifihorror', 'bazzoni', 'cassevetes', '15yearold', 'scuddamore', 'midlers', 'yeahbr', 'pollacks', 'alltogether', 'carfaces', 'franchisebr', 'britneys', 'maltins', 'sabus', 'wellplaced', 'unfunniest', 'destinybr', 'minebr', 'heavyduty', 'fakebr', 'wonderous', 'plottwists', 'doesent', 'toughasnails', 'pagets', 'earsbr', 'centurys', 'scenarists', 'lowerclass', 'halfbr', 'expressionbr', 'decentbr', 'hanekes', 'countbr', 'cutebr', 'detectivebr', 'scriptsbr', 'cosgroves', 'sentencebr', 'countsbr', 'ramons', 'welltimed', 'centerbr', 'twodisc', 'nonamerican', 'meand', 'softporn', 'keggs', 'astaires', 'thrillsbr', 'karwais', 'writersbr', 'runins', 'valuesbr', 'secondtier', 'nuditybr', 'africanamericans', 'crisisbr', 'drablow', 'welljudged', 'horrorfilm', 'dingalingless', 'turds', 'bavas', 'welltodo', 'mazurki', 'lumets', 'maxs', 'gomeda', 'selfassured', 'fiveyear', '2001s', 'alienbr', 'catsbr', 'californiabr', 'gaythemed', 'avoidbr', '2001br', 'awebr', 'confusionbr', 'unentertaining', 'malkovichs', 'pornbr', 'directer', 'acceptablebr', 'despairbr', 'crappiest', 'londonbr', 'post911', 'shownbr', 'messedup', 'sirks', 'gojoe', 'karlofflugosi', 'camebr', 'wellused', 'thinbr', 'nonenglish', 'sarnos', 'hahahaha', 'brancovis', 'prizzis', 'partanna', 'carrieanne', 'sagans', 'suchbr', 'bodycount', 'potbr', 'unwatchablebr', 'supportbr', 'jlb', 'solino', 'everytown', 'hmmmbr', 'irritatingbr', 'sabrinas', 'knowledgebr', 'sinisterbr', 'dansu', 'choule', 'dangerbr', 'doublefeature', 'kishibe', 'crosssection', 'actionthriller', 'corebr', 'pabsts', 'thirdworld', 'movieshe', 'toulons', 'beastbr', 'crappier', 'wynorskis', 'mfumu', 'deadend', 'sisterinlaw', 'fictionbr', 'nonactor', 'drugdealing', 'livedbr', 'nightmarebr', 'pasolinis', 'charel', 'demisebr', 'allthis', 'miyazawas', 'hotchkins', 'microbudget', 'leroys', 'alittle', 'funnyi', 'clearbr', 'allpowerful', 'diaboliques', 'steeman', 'workingbr', 'calson', 'timethe', 'absurdbr', 'byrons', 'unfunnybr', 'reshamiya', 'guinnesss', 'cgrade', 'wirey', 'shotsbr', 'wishywashy', 'fcking', 'editedbr', 'jp3', 's2rd', 'filmmakersbr', 'semifamous', 'betweenbr', 'viewsbr', 'schepisis', 'decisionbr', 'ouimets', 'loserbr', 'shtty', 'medusan', 'partnerbr', 'keiths', 'mumbojumbo', 'thatand', 'cruellas', 'impossiblebr', 'directorwriters', 'easilybr', 'lorres', 'muthamittal', 'removedbr', 'solonitsyn', 'seriousbr', 'hivaids', 'woodbr', 'buellers', '1930sbr', 'greenstreets', 'kikuno', 'miserablybr', 'revolutionbr', 'breillats', 'nazarin', 'redblooded', 'timons', 'movebr', 'waiman', 'marenghis', 'confusedbr', 'caresbr', 'bigname', 'sunways', '250000', 'fightingbr', 'lorens', 'thoughtsbr', 'sayori', 'substory', '1½', 'tapebr', 'sightbr', 'unbearablebr', 'potempkin', 'goodit', 'thembut', 'forgottenbr', 'gutbusting', 'puyn', 'backcolor', 'dosent', 'availbr', 'treasurebr', 'unforgettablebr', 'conditionbr', 'hatbr', 'wirework', 'scenerybr', 'areasbr', 'ansom', 'sacrificebr', 'prisonbr', 'movieor', 'lowcut', 'selfbr', 'coasterwaldau', 'signbr', 'cartoonsbr', 'resolutionbr', 'sciencebr', 'boobage', 'warnedbr', 'anistons', 'shouldersbr', '400000', 'tessari', 'audrie', 'vehiclebr', 'prettyboy', 'bournes', 'skinemax', 'touchbr', 'rrating', 'moovie', 'fakelooking', 'dogsbr', 'orwells', 'fortyfive', 'rickys', 'generalbr', 'suyeon', 'knightleys', 'nonexistentbr', 'catwomen', 'christys', 'timebut', 'wherebr', 'runbr', 'eyeopening', 'taejoo', 'transcendenz', 'highquality', 'webr', '1971br', 'schraders', 'expartner', 'murderedbr', 'sueli', 'generousbr', 'evelyns', 'wellconstructed', 'giovannas', 'parkbr', 'upand', 'godards', 'arnies', 'humansbr', 'photographybr', 'allenbr', 'siberling', 'neweyes', 'screweyes', 'elementsbr', 'gustavs', 'enjoyability', 'vidals', 'feinstones', '6the', 'falon', 'joybr', 'frostnixon', 'babyfaced', 'ludicrousbr', 'flagwaving', 'torgo', 'trelayne', 'nwh', 'makebelieve', 'soutendijk', 'edgeofyourseat', 'italianamerican', 'kieslowskis', 'talkbr', 'deservebr', 'zandalee', 'jiwoon', 'segals', 'bronenosets', 'potyomkin', 'guetary', 'anybr', 'jyo', 'bhoomika', 'teenslasher', 'patroni', 'costagavras', 'proamerican', 'morverns', 'goroshkov', 'bashki', 'womeninprison', 'tbirds', 'mysterythriller', 'vagone', 'letto', 'happinessbr', 'glenglenda', 'moviethat', 'tvfilm', 'belowaverage', 'nieztsche', 'malefemale', 'buchfellner', 'trents', 'erikas', 'ichikawas', 'spoorloos', 'artistsong', 'cdplayer', 'brysomme', 'tajs', 'handdrawn', 'fuckland', 'mowan', 'moroncommandos', 'overtheshoulder', 'pumpkinheaded', 'locataire', 'includedbr', 'driveins', 'hillbr', 'shootemup', 'framebr', 'cuecard', 'schemebr', '15minute', 'stevebr', 'sr71', 'f15s', 'gallactica', 'uniformbr', 'actorsthey', 'uptodate', 'megans', 'abilitiesbr', 'isand', 'selfdeprecation', 'flyonthewall', 'fullfrontal', 'abouti', 'topquality', 'griefbr', 'lipsynching', 'lousybr', 'chickenbr', 'moorebr', 'amitabhs', 'sockpuppet', 'noones', 'bigcity', 'stalebr', 'hamills', 'gazarra', 'fastmotion', 'flipflops', 'threeact', 'extentbr', 'cowboybr', 'averagebr', 'pg13br', 'dilettantish', 'convictionbr', 'flatleys', 'blablabla', 'thesebr', 'techniquebr', 'itlike', 'uhhuh', 'comedianbr', 'lacklusterbr', 'puckoon', 'placesbr', 'breathtakingbr', 'vaselino', 'postdubbed', 'archiveorg', 'clunks', 'albiet', 'bestworst', 'meanlooking', 'successfulbr', 'perverseness', 'druggedout', 'naura', 'kruschen', 'feltbr', 'nonanimated', 'polebr', 'fishbr', 'nutjob', 'sbaraglia', 'understandablebr', 'anybodybr', '14year', 'extrasbr', 'faultbr', 'wellheeled', 'fiascobr', 'comedyi', 'blueeyed', 'lohans', 'countriesbr', 'renfros', 'blondhaired', 'brookss', 'barbeaus', 'sobiesky', 'yuckbr', 'lengles', 'deliveredbr', 'campbr', 'boardbr', 'foundbr', 'basebr', 'endoftheworld', 'fujimoris', 'onebyonebr', 'highranking', 'artistsbr', 'imagebr', 'aksar', 'udita', 'parés', '1000000', 'lesters', 'mobbr', 'movieso', 'slasherhorror', 'agendabr', 'risebr', 'graboids', 'ughbr', 'braincells', 'highend', 'drivelbr', 'castmembers', 'breastsbr', 'talksbr', 'scenewhich', 'musicalcomedy', 'halfcaste', 'mcdermotts', 'studentbr', 'horribleness', 'vanne', 'stereobr', 'fourstar', 'shorterbr', 'lossbr', 'liebr', 'aliensbr', 'idiotbr', 'late60s', 'noisesbr', 'bigbr', 'birdbr', 'pollonia', 'illfitting', 'usebr', 'wildeyed', 'nonchristian', 'ffvii', 'contrivedbr', 'spotsbr', 'displaybr', 'cornerbr', 'convolute', 'producerswriters', 'wowthis', 'unerotic', 'outbut', 'directedbr', 'nonhorror', 'collegebr', 'exmodel', 'motivesbr', 'basedbr', 'secondhalf', 'keiras', 'mst3ks', 'snoozefest', 'attitudebr', 'competentbr', 'ashmith', 'stirba', 'komizu', 'goreeffects', 'appreciationbr', 'potentialbr', 'headachebr', 'kosleck', 'odins', 'battlebr', 'innercity', 'selfcentred', 'agreebr', 'runningbr', 'dressedbr', 'emilys', 'bizarrebr', 'drossbr', 'backand', 'translationbr', 'explainbr', 'nicelooking', 'hitormiss', 'hasselhoffs', 'accomplishmentbr', 'bogstandard', 'gurning', 'sucky', 'bluegray', 'bombbr', 'noticedbr', 'deafmute', 'k911', 'filmmakerbr', 'greatlooking', 'channelsurfing', 'dansons', 'poorlymade', 'poopie', 'aboundbr', 'selfparody', 'moviewell', 'neonazi', 'terriblethe', 'roddenberrys', 'waaay', 'hardbitten', 'riccis', '1997s', 'ators', 'littleseen', 'supermans', 'killsbr', 'halfwits', 'likablebr', 'wannabee', 'crudebr', 'poprock', 'virusbr', 'helltown', 'repeatbr', '19yearold', 'scifiaction', 'vomitbr', 'geilgud', 'cushings', 'payperview', 'vaugier', 'homemovie', 'charmingbr', 'elsewherebr', 'taylorcompton', 'alleybr', 'onetenth', 'laboratorybr', 'particularbr', 'offbroadway', 'convincinglybr', 'masseys', 'thoughit', 'charactersthe', 'abomb', 'theatrebr', 'toobut', 'halfanhour', 'rkos', 'pinnochio', 'sheriffbr', '1988br', 'lappartement', 'carrys', 'wallsbr', '70s80s', 'unnuanced', 'antisoviet', 'courtmartial', 'loveand', 'massacrebr', 'povertyrow', 'westbr', 'leisens', 'forewarnedbr', 'presencebr', 'imaginablebr', 'convincedbr', 'stagestruck', 'marsbr', 'characteractor', 'daddys', 'copybr', 'aroundi', 'nonsequiturs', 'depps', 'uncreditedbr', 'nolls', 'picturepostcard', 'estebans', 'gannons', 'satisfyingbr', 'jetée', 'coffinbr', 'fatherdaughter', 'lindseys', 'needsbr', 'hersbr', 'yodas', 'pottymouthed', 'pâquerette', 'cornillac', 'yelchins', 'cassinelli', 'soldierbr', 'monetero', 'mixedrace', 'pointand', 'ironybr', 'shootemups', 'betrayalbr', 'alltoo', 'herkyjerky', 'artistrybr', 'beautifullybr', 'notsosubtle', 'wildernessbr', 'topbilled', 'baketamon', 'positivebr', 'graspbr', 'appearancebr', 'panandscan', 'nicelybr', 'storydriven', 'passiveaggressive', 'patientsbr', 'subor', 'golubeva', 'everso', 'propagandabr', 'frownland', 'catastrophebr', 'limitsbr', 'overkillbr', 'terrorismbr', 'homeworkbr', 'horrorthrillers', 'giullia', 'turaqistan', 'yonica', 'highstrung', 'seans', 'complimentbr', 'costners', 'paidbr', 'subconcious', 'horrorfantasy', 'bargainbr', 'anglesbr', '4the', 'seenthe', 'evies', 'timetraveling', 'forcefed', 'outofcontrol', 'zerobudget', 'vaders', 'constantlybr', 'presentationbr', 'hungs', 'innocencebr', 'prettybr', 'malles', 'accordinglybr', 'washingtonbr', 'jäniksen', 'vuosi', 'ballsbr', 'facesbr', 'storyplot', 'renying', 'parisbr', 'truelife', 'raperevenge', 'creatorsbr', 'backtoback', 'awkwardbr', 'actordirector', 'bannisters', 'hayworths', 'wellthoughtout', 'selfconfident', 'delightbr', '4000000', '20000000', 'seungup', 'agesbr', 'hystericalbr', 'membersbr', 'lauberge', 'tvshow', 'itthis', 'desirebr', 'frameup', 'rolethe', 'tombr', 'okeefe', 'aynur', 'gencebay', 'spanishamerican', 'freemanville', 'excellentthe', 'etcand', 'neighborhoodbr', 'lavventura', 'stitchesbr', 'soooooo', 'highbr', 'litel', 'standups', 'jodorowskys', 'manawaka', 'hagars', 'selfdefeating', 'angerbr', 'onetrick', 'sexobsessed', 'wahlbergs', 'mocumentary', '1941br', 'questionmarkbr', 'selfawareness', 'thirtythree', 'managebr', 'oceanbr', 'stewartbr', 'kurts', 'areabr', 'postwwii', 'remarkablebr', 'tastebr', 'jobsbr', 'fallbr', '40sbr', 'loudbr', 'waxmans', 'wellbalanced', 'scifis', 'ulmanns', 'sizebr', 'fortunebr', 'doyeon', 'shinaes', 'behaviorbr', 'loveits', 'akshays', 'coccio', 'digicorps', 'unfoldbr', 'valettes', 'manbut', 'youit', 'glauren', 'bunnys', 'correctbr', 'tagores', 'slambang', 'chokher', 'surfacebr', 'formatbr', 'ebaybr', 'fantasticand', 'welldesigned', 'tarsems', 'doppleganger', 'unknownbr', 'dinklepuss', 'codys', 'atwills', 'hairraising', 'soninlaw', 'corsia', 'luckbr', 'dostoyevskys', 'duologue', 'pleasurebr', 'milligans', 'astairerogers', 'pagebr', 'resolvedbr', 'halfasleep', 'pitchperfect', 'guerchard', '1935s', 'rerated', 'allbut', 'halfs', 'wylers', 'mcgoverns', 'immediatelybr', 'positionbr', 'ksun', 'proudbr', 'religionbr', 'venezuelabr', 'staterun', 'completest', 'cutsbr', 'leftbr', 'securitybr', 'againand', 'oquinn', 'spanishbr', 'soonerbr', 'americanmade', 'suckbr', 'cephallonian', 'dvdr', 'tealc', 'clubbr', 'cinematographybr', 'sensesbr', 'closetbr', 'japanbr', '1975br', 'stillers', 'thumbtanic', 'knowi', 'roquevert', 'englishdubbed', 'tarrs', 'obsessivecompulsive', 'oneonone', 'enemiesbr', 'koolaid', 'bathbr', 'filmwith', 'bullettime', 'reediting', 'timeit', 'oneminute', 'studiobr', 'limitedbr', 'cuttingroom', 'darim', 'movieas', 'guidos', 'filmespecially', 'incompetencebr', 'ferbers', 'industrybr', 'eustaches', 'ohalloran', 'unthoughtful', 'lightskinned', 'depressingbr', 'skree', 'foebr', 'boynextdoor', 'quinlin', 'animalbr', 'vietnambr', 'carons', 'tralala', 'animatedbr', 'particolare', 'mussolinis', 'unsatisfyingbr', 'toneddown', 'yearsi', 'silentera', 'reactionbr', 'laughand', 'tamakwa', 'charactersbut', 'filmif', 'stagedbr', 'lorenzos', 'familiarbr', 'gangbr', 'botherbr', 'insidebr', 'selfdeprecating', 'nonchronological']\n"
          ],
          "name": "stdout"
        },
        {
          "output_type": "stream",
          "text": [
            "/usr/local/lib/python3.7/dist-packages/tensorflow/python/keras/engine/sequential.py:455: UserWarning: `model.predict_classes()` is deprecated and will be removed after 2021-01-01. Please use instead:* `np.argmax(model.predict(x), axis=-1)`,   if your model does multi-class classification   (e.g. if it uses a `softmax` last-layer activation).* `(model.predict(x) > 0.5).astype(\"int32\")`,   if your model does binary classification   (e.g. if it uses a `sigmoid` last-layer activation).\n",
            "  warnings.warn('`model.predict_classes()` is deprecated and '\n"
          ],
          "name": "stderr"
        },
        {
          "output_type": "error",
          "ename": "KeyboardInterrupt",
          "evalue": "ignored",
          "traceback": [
            "\u001b[0;31m---------------------------------------------------------------------------\u001b[0m",
            "\u001b[0;31mKeyboardInterrupt\u001b[0m                         Traceback (most recent call last)",
            "\u001b[0;32m<ipython-input-17-80c88e7886a7>\u001b[0m in \u001b[0;36m<module>\u001b[0;34m()\u001b[0m\n\u001b[1;32m    140\u001b[0m             \u001b[0;34m(\u001b[0m\u001b[0;34m'clf'\u001b[0m\u001b[0;34m,\u001b[0m \u001b[0mSelfTrainingClassifier\u001b[0m\u001b[0;34m(\u001b[0m\u001b[0mmodel\u001b[0m\u001b[0;34m,\u001b[0m \u001b[0mcriterion\u001b[0m \u001b[0;34m=\u001b[0m \u001b[0;34m'threshold'\u001b[0m\u001b[0;34m,\u001b[0m \u001b[0mthreshold\u001b[0m \u001b[0;34m=\u001b[0m \u001b[0mt\u001b[0m\u001b[0;34m,\u001b[0m \u001b[0mverbose\u001b[0m\u001b[0;34m=\u001b[0m\u001b[0;32mTrue\u001b[0m\u001b[0;34m)\u001b[0m\u001b[0;34m)\u001b[0m\u001b[0;34m,\u001b[0m\u001b[0;34m\u001b[0m\u001b[0;34m\u001b[0m\u001b[0m\n\u001b[1;32m    141\u001b[0m         ])\n\u001b[0;32m--> 142\u001b[0;31m         \u001b[0mtemp\u001b[0m \u001b[0;34m=\u001b[0m \u001b[0meval_and_print_metrics_df\u001b[0m\u001b[0;34m(\u001b[0m\u001b[0mst_pipeline\u001b[0m\u001b[0;34m,\u001b[0m \u001b[0mX_train\u001b[0m\u001b[0;34m,\u001b[0m \u001b[0my_train\u001b[0m\u001b[0;34m,\u001b[0m \u001b[0mX_test\u001b[0m\u001b[0;34m,\u001b[0m \u001b[0my_test\u001b[0m\u001b[0;34m,\u001b[0m \u001b[0mthresh\u001b[0m \u001b[0;34m=\u001b[0m \u001b[0mt\u001b[0m\u001b[0;34m,\u001b[0m \u001b[0mkbest\u001b[0m \u001b[0;34m=\u001b[0m \u001b[0;32mNone\u001b[0m\u001b[0;34m)\u001b[0m\u001b[0;34m\u001b[0m\u001b[0;34m\u001b[0m\u001b[0m\n\u001b[0m\u001b[1;32m    143\u001b[0m         \u001b[0mdf_mlp_imdb_2k\u001b[0m \u001b[0;34m=\u001b[0m \u001b[0mdf_mlp_imdb_2k\u001b[0m\u001b[0;34m.\u001b[0m\u001b[0mappend\u001b[0m\u001b[0;34m(\u001b[0m\u001b[0mtemp\u001b[0m\u001b[0;34m,\u001b[0m \u001b[0mignore_index\u001b[0m\u001b[0;34m=\u001b[0m\u001b[0;32mTrue\u001b[0m\u001b[0;34m)\u001b[0m\u001b[0;34m\u001b[0m\u001b[0;34m\u001b[0m\u001b[0m\n",
            "\u001b[0;32m<ipython-input-15-085ec33f3d35>\u001b[0m in \u001b[0;36meval_and_print_metrics_df\u001b[0;34m(clf, X_train, y_train, X_test, y_test, thresh, kbest)\u001b[0m\n\u001b[1;32m    120\u001b[0m     \u001b[0;32mwith\u001b[0m \u001b[0mtf\u001b[0m\u001b[0;34m.\u001b[0m\u001b[0mdevice\u001b[0m\u001b[0;34m(\u001b[0m\u001b[0;34m'/device:GPU:0'\u001b[0m\u001b[0;34m)\u001b[0m\u001b[0;34m:\u001b[0m\u001b[0;34m\u001b[0m\u001b[0;34m\u001b[0m\u001b[0m\n\u001b[1;32m    121\u001b[0m       \u001b[0mclf\u001b[0m\u001b[0;34m.\u001b[0m\u001b[0mfit\u001b[0m\u001b[0;34m(\u001b[0m\u001b[0mX_train\u001b[0m\u001b[0;34m,\u001b[0m \u001b[0my_train\u001b[0m\u001b[0;34m)\u001b[0m\u001b[0;34m\u001b[0m\u001b[0;34m\u001b[0m\u001b[0m\n\u001b[0;32m--> 122\u001b[0;31m       \u001b[0my_pred\u001b[0m \u001b[0;34m=\u001b[0m \u001b[0mnp\u001b[0m\u001b[0;34m.\u001b[0m\u001b[0marray\u001b[0m\u001b[0;34m(\u001b[0m\u001b[0mclf\u001b[0m\u001b[0;34m.\u001b[0m\u001b[0mpredict\u001b[0m\u001b[0;34m(\u001b[0m\u001b[0mX_test\u001b[0m\u001b[0;34m)\u001b[0m\u001b[0;34m)\u001b[0m\u001b[0;34m\u001b[0m\u001b[0;34m\u001b[0m\u001b[0m\n\u001b[0m\u001b[1;32m    123\u001b[0m \u001b[0;34m\u001b[0m\u001b[0m\n\u001b[1;32m    124\u001b[0m     print(\"Micro-averaged F1 score on test set: \"\n",
            "\u001b[0;32m/usr/local/lib/python3.7/dist-packages/sklearn/utils/metaestimators.py\u001b[0m in \u001b[0;36m<lambda>\u001b[0;34m(*args, **kwargs)\u001b[0m\n\u001b[1;32m    118\u001b[0m \u001b[0;34m\u001b[0m\u001b[0m\n\u001b[1;32m    119\u001b[0m         \u001b[0;31m# lambda, but not partial, allows help() to work with update_wrapper\u001b[0m\u001b[0;34m\u001b[0m\u001b[0;34m\u001b[0m\u001b[0;34m\u001b[0m\u001b[0m\n\u001b[0;32m--> 120\u001b[0;31m         \u001b[0mout\u001b[0m \u001b[0;34m=\u001b[0m \u001b[0;32mlambda\u001b[0m \u001b[0;34m*\u001b[0m\u001b[0margs\u001b[0m\u001b[0;34m,\u001b[0m \u001b[0;34m**\u001b[0m\u001b[0mkwargs\u001b[0m\u001b[0;34m:\u001b[0m \u001b[0mself\u001b[0m\u001b[0;34m.\u001b[0m\u001b[0mfn\u001b[0m\u001b[0;34m(\u001b[0m\u001b[0mobj\u001b[0m\u001b[0;34m,\u001b[0m \u001b[0;34m*\u001b[0m\u001b[0margs\u001b[0m\u001b[0;34m,\u001b[0m \u001b[0;34m**\u001b[0m\u001b[0mkwargs\u001b[0m\u001b[0;34m)\u001b[0m\u001b[0;34m\u001b[0m\u001b[0;34m\u001b[0m\u001b[0m\n\u001b[0m\u001b[1;32m    121\u001b[0m         \u001b[0;31m# update the docstring of the returned function\u001b[0m\u001b[0;34m\u001b[0m\u001b[0;34m\u001b[0m\u001b[0;34m\u001b[0m\u001b[0m\n\u001b[1;32m    122\u001b[0m         \u001b[0mupdate_wrapper\u001b[0m\u001b[0;34m(\u001b[0m\u001b[0mout\u001b[0m\u001b[0;34m,\u001b[0m \u001b[0mself\u001b[0m\u001b[0;34m.\u001b[0m\u001b[0mfn\u001b[0m\u001b[0;34m)\u001b[0m\u001b[0;34m\u001b[0m\u001b[0;34m\u001b[0m\u001b[0m\n",
            "\u001b[0;32m/usr/local/lib/python3.7/dist-packages/sklearn/pipeline.py\u001b[0m in \u001b[0;36mpredict\u001b[0;34m(self, X, **predict_params)\u001b[0m\n\u001b[1;32m    417\u001b[0m         \u001b[0;32mfor\u001b[0m \u001b[0m_\u001b[0m\u001b[0;34m,\u001b[0m \u001b[0mname\u001b[0m\u001b[0;34m,\u001b[0m \u001b[0mtransform\u001b[0m \u001b[0;32min\u001b[0m \u001b[0mself\u001b[0m\u001b[0;34m.\u001b[0m\u001b[0m_iter\u001b[0m\u001b[0;34m(\u001b[0m\u001b[0mwith_final\u001b[0m\u001b[0;34m=\u001b[0m\u001b[0;32mFalse\u001b[0m\u001b[0;34m)\u001b[0m\u001b[0;34m:\u001b[0m\u001b[0;34m\u001b[0m\u001b[0;34m\u001b[0m\u001b[0m\n\u001b[1;32m    418\u001b[0m             \u001b[0mXt\u001b[0m \u001b[0;34m=\u001b[0m \u001b[0mtransform\u001b[0m\u001b[0;34m.\u001b[0m\u001b[0mtransform\u001b[0m\u001b[0;34m(\u001b[0m\u001b[0mXt\u001b[0m\u001b[0;34m)\u001b[0m\u001b[0;34m\u001b[0m\u001b[0;34m\u001b[0m\u001b[0m\n\u001b[0;32m--> 419\u001b[0;31m         \u001b[0;32mreturn\u001b[0m \u001b[0mself\u001b[0m\u001b[0;34m.\u001b[0m\u001b[0msteps\u001b[0m\u001b[0;34m[\u001b[0m\u001b[0;34m-\u001b[0m\u001b[0;36m1\u001b[0m\u001b[0;34m]\u001b[0m\u001b[0;34m[\u001b[0m\u001b[0;34m-\u001b[0m\u001b[0;36m1\u001b[0m\u001b[0;34m]\u001b[0m\u001b[0;34m.\u001b[0m\u001b[0mpredict\u001b[0m\u001b[0;34m(\u001b[0m\u001b[0mXt\u001b[0m\u001b[0;34m,\u001b[0m \u001b[0;34m**\u001b[0m\u001b[0mpredict_params\u001b[0m\u001b[0;34m)\u001b[0m\u001b[0;34m\u001b[0m\u001b[0;34m\u001b[0m\u001b[0m\n\u001b[0m\u001b[1;32m    420\u001b[0m \u001b[0;34m\u001b[0m\u001b[0m\n\u001b[1;32m    421\u001b[0m     \u001b[0;34m@\u001b[0m\u001b[0mif_delegate_has_method\u001b[0m\u001b[0;34m(\u001b[0m\u001b[0mdelegate\u001b[0m\u001b[0;34m=\u001b[0m\u001b[0;34m'_final_estimator'\u001b[0m\u001b[0;34m)\u001b[0m\u001b[0;34m\u001b[0m\u001b[0;34m\u001b[0m\u001b[0m\n",
            "\u001b[0;32m/usr/local/lib/python3.7/dist-packages/sklearn/utils/metaestimators.py\u001b[0m in \u001b[0;36m<lambda>\u001b[0;34m(*args, **kwargs)\u001b[0m\n\u001b[1;32m    118\u001b[0m \u001b[0;34m\u001b[0m\u001b[0m\n\u001b[1;32m    119\u001b[0m         \u001b[0;31m# lambda, but not partial, allows help() to work with update_wrapper\u001b[0m\u001b[0;34m\u001b[0m\u001b[0;34m\u001b[0m\u001b[0;34m\u001b[0m\u001b[0m\n\u001b[0;32m--> 120\u001b[0;31m         \u001b[0mout\u001b[0m \u001b[0;34m=\u001b[0m \u001b[0;32mlambda\u001b[0m \u001b[0;34m*\u001b[0m\u001b[0margs\u001b[0m\u001b[0;34m,\u001b[0m \u001b[0;34m**\u001b[0m\u001b[0mkwargs\u001b[0m\u001b[0;34m:\u001b[0m \u001b[0mself\u001b[0m\u001b[0;34m.\u001b[0m\u001b[0mfn\u001b[0m\u001b[0;34m(\u001b[0m\u001b[0mobj\u001b[0m\u001b[0;34m,\u001b[0m \u001b[0;34m*\u001b[0m\u001b[0margs\u001b[0m\u001b[0;34m,\u001b[0m \u001b[0;34m**\u001b[0m\u001b[0mkwargs\u001b[0m\u001b[0;34m)\u001b[0m\u001b[0;34m\u001b[0m\u001b[0;34m\u001b[0m\u001b[0m\n\u001b[0m\u001b[1;32m    121\u001b[0m         \u001b[0;31m# update the docstring of the returned function\u001b[0m\u001b[0;34m\u001b[0m\u001b[0;34m\u001b[0m\u001b[0;34m\u001b[0m\u001b[0m\n\u001b[1;32m    122\u001b[0m         \u001b[0mupdate_wrapper\u001b[0m\u001b[0;34m(\u001b[0m\u001b[0mout\u001b[0m\u001b[0;34m,\u001b[0m \u001b[0mself\u001b[0m\u001b[0;34m.\u001b[0m\u001b[0mfn\u001b[0m\u001b[0;34m)\u001b[0m\u001b[0;34m\u001b[0m\u001b[0;34m\u001b[0m\u001b[0m\n",
            "\u001b[0;32m/usr/local/lib/python3.7/dist-packages/sklearn/semi_supervised/_self_training.py\u001b[0m in \u001b[0;36mpredict\u001b[0;34m(self, X)\u001b[0m\n\u001b[1;32m    272\u001b[0m         \"\"\"\n\u001b[1;32m    273\u001b[0m         \u001b[0mcheck_is_fitted\u001b[0m\u001b[0;34m(\u001b[0m\u001b[0mself\u001b[0m\u001b[0;34m)\u001b[0m\u001b[0;34m\u001b[0m\u001b[0;34m\u001b[0m\u001b[0m\n\u001b[0;32m--> 274\u001b[0;31m         \u001b[0;32mreturn\u001b[0m \u001b[0mself\u001b[0m\u001b[0;34m.\u001b[0m\u001b[0mbase_estimator_\u001b[0m\u001b[0;34m.\u001b[0m\u001b[0mpredict\u001b[0m\u001b[0;34m(\u001b[0m\u001b[0mX\u001b[0m\u001b[0;34m)\u001b[0m\u001b[0;34m\u001b[0m\u001b[0;34m\u001b[0m\u001b[0m\n\u001b[0m\u001b[1;32m    275\u001b[0m \u001b[0;34m\u001b[0m\u001b[0m\n\u001b[1;32m    276\u001b[0m     \u001b[0;32mdef\u001b[0m \u001b[0mpredict_proba\u001b[0m\u001b[0;34m(\u001b[0m\u001b[0mself\u001b[0m\u001b[0;34m,\u001b[0m \u001b[0mX\u001b[0m\u001b[0;34m)\u001b[0m\u001b[0;34m:\u001b[0m\u001b[0;34m\u001b[0m\u001b[0;34m\u001b[0m\u001b[0m\n",
            "\u001b[0;32m/usr/local/lib/python3.7/dist-packages/keras/wrappers/scikit_learn.py\u001b[0m in \u001b[0;36mpredict\u001b[0;34m(self, x, **kwargs)\u001b[0m\n\u001b[1;32m    236\u001b[0m     \"\"\"\n\u001b[1;32m    237\u001b[0m     \u001b[0mkwargs\u001b[0m \u001b[0;34m=\u001b[0m \u001b[0mself\u001b[0m\u001b[0;34m.\u001b[0m\u001b[0mfilter_sk_params\u001b[0m\u001b[0;34m(\u001b[0m\u001b[0mSequential\u001b[0m\u001b[0;34m.\u001b[0m\u001b[0mpredict_classes\u001b[0m\u001b[0;34m,\u001b[0m \u001b[0mkwargs\u001b[0m\u001b[0;34m)\u001b[0m\u001b[0;34m\u001b[0m\u001b[0;34m\u001b[0m\u001b[0m\n\u001b[0;32m--> 238\u001b[0;31m     \u001b[0mclasses\u001b[0m \u001b[0;34m=\u001b[0m \u001b[0mself\u001b[0m\u001b[0;34m.\u001b[0m\u001b[0mmodel\u001b[0m\u001b[0;34m.\u001b[0m\u001b[0mpredict_classes\u001b[0m\u001b[0;34m(\u001b[0m\u001b[0mx\u001b[0m\u001b[0;34m,\u001b[0m \u001b[0;34m**\u001b[0m\u001b[0mkwargs\u001b[0m\u001b[0;34m)\u001b[0m\u001b[0;34m\u001b[0m\u001b[0;34m\u001b[0m\u001b[0m\n\u001b[0m\u001b[1;32m    239\u001b[0m     \u001b[0;32mreturn\u001b[0m \u001b[0mself\u001b[0m\u001b[0;34m.\u001b[0m\u001b[0mclasses_\u001b[0m\u001b[0;34m[\u001b[0m\u001b[0mclasses\u001b[0m\u001b[0;34m]\u001b[0m\u001b[0;34m\u001b[0m\u001b[0;34m\u001b[0m\u001b[0m\n\u001b[1;32m    240\u001b[0m \u001b[0;34m\u001b[0m\u001b[0m\n",
            "\u001b[0;32m/usr/local/lib/python3.7/dist-packages/tensorflow/python/keras/engine/sequential.py\u001b[0m in \u001b[0;36mpredict_classes\u001b[0;34m(self, x, batch_size, verbose)\u001b[0m\n\u001b[1;32m    462\u001b[0m                   \u001b[0;34m'  if your model does binary classification '\u001b[0m\u001b[0;34m\u001b[0m\u001b[0;34m\u001b[0m\u001b[0m\n\u001b[1;32m    463\u001b[0m                   '  (e.g. if it uses a `sigmoid` last-layer activation).')\n\u001b[0;32m--> 464\u001b[0;31m     \u001b[0mproba\u001b[0m \u001b[0;34m=\u001b[0m \u001b[0mself\u001b[0m\u001b[0;34m.\u001b[0m\u001b[0mpredict\u001b[0m\u001b[0;34m(\u001b[0m\u001b[0mx\u001b[0m\u001b[0;34m,\u001b[0m \u001b[0mbatch_size\u001b[0m\u001b[0;34m=\u001b[0m\u001b[0mbatch_size\u001b[0m\u001b[0;34m,\u001b[0m \u001b[0mverbose\u001b[0m\u001b[0;34m=\u001b[0m\u001b[0mverbose\u001b[0m\u001b[0;34m)\u001b[0m\u001b[0;34m\u001b[0m\u001b[0;34m\u001b[0m\u001b[0m\n\u001b[0m\u001b[1;32m    465\u001b[0m     \u001b[0;32mif\u001b[0m \u001b[0mproba\u001b[0m\u001b[0;34m.\u001b[0m\u001b[0mshape\u001b[0m\u001b[0;34m[\u001b[0m\u001b[0;34m-\u001b[0m\u001b[0;36m1\u001b[0m\u001b[0;34m]\u001b[0m \u001b[0;34m>\u001b[0m \u001b[0;36m1\u001b[0m\u001b[0;34m:\u001b[0m\u001b[0;34m\u001b[0m\u001b[0;34m\u001b[0m\u001b[0m\n\u001b[1;32m    466\u001b[0m       \u001b[0;32mreturn\u001b[0m \u001b[0mproba\u001b[0m\u001b[0;34m.\u001b[0m\u001b[0margmax\u001b[0m\u001b[0;34m(\u001b[0m\u001b[0maxis\u001b[0m\u001b[0;34m=\u001b[0m\u001b[0;34m-\u001b[0m\u001b[0;36m1\u001b[0m\u001b[0;34m)\u001b[0m\u001b[0;34m\u001b[0m\u001b[0;34m\u001b[0m\u001b[0m\n",
            "\u001b[0;32m/usr/local/lib/python3.7/dist-packages/tensorflow/python/keras/engine/training.py\u001b[0m in \u001b[0;36mpredict\u001b[0;34m(self, x, batch_size, verbose, steps, callbacks, max_queue_size, workers, use_multiprocessing)\u001b[0m\n\u001b[1;32m   1725\u001b[0m           \u001b[0;32mfor\u001b[0m \u001b[0mstep\u001b[0m \u001b[0;32min\u001b[0m \u001b[0mdata_handler\u001b[0m\u001b[0;34m.\u001b[0m\u001b[0msteps\u001b[0m\u001b[0;34m(\u001b[0m\u001b[0;34m)\u001b[0m\u001b[0;34m:\u001b[0m\u001b[0;34m\u001b[0m\u001b[0;34m\u001b[0m\u001b[0m\n\u001b[1;32m   1726\u001b[0m             \u001b[0mcallbacks\u001b[0m\u001b[0;34m.\u001b[0m\u001b[0mon_predict_batch_begin\u001b[0m\u001b[0;34m(\u001b[0m\u001b[0mstep\u001b[0m\u001b[0;34m)\u001b[0m\u001b[0;34m\u001b[0m\u001b[0;34m\u001b[0m\u001b[0m\n\u001b[0;32m-> 1727\u001b[0;31m             \u001b[0mtmp_batch_outputs\u001b[0m \u001b[0;34m=\u001b[0m \u001b[0mself\u001b[0m\u001b[0;34m.\u001b[0m\u001b[0mpredict_function\u001b[0m\u001b[0;34m(\u001b[0m\u001b[0miterator\u001b[0m\u001b[0;34m)\u001b[0m\u001b[0;34m\u001b[0m\u001b[0;34m\u001b[0m\u001b[0m\n\u001b[0m\u001b[1;32m   1728\u001b[0m             \u001b[0;32mif\u001b[0m \u001b[0mdata_handler\u001b[0m\u001b[0;34m.\u001b[0m\u001b[0mshould_sync\u001b[0m\u001b[0;34m:\u001b[0m\u001b[0;34m\u001b[0m\u001b[0;34m\u001b[0m\u001b[0m\n\u001b[1;32m   1729\u001b[0m               \u001b[0mcontext\u001b[0m\u001b[0;34m.\u001b[0m\u001b[0masync_wait\u001b[0m\u001b[0;34m(\u001b[0m\u001b[0;34m)\u001b[0m\u001b[0;34m\u001b[0m\u001b[0;34m\u001b[0m\u001b[0m\n",
            "\u001b[0;32m/usr/local/lib/python3.7/dist-packages/tensorflow/python/eager/def_function.py\u001b[0m in \u001b[0;36m__call__\u001b[0;34m(self, *args, **kwds)\u001b[0m\n\u001b[1;32m    887\u001b[0m \u001b[0;34m\u001b[0m\u001b[0m\n\u001b[1;32m    888\u001b[0m       \u001b[0;32mwith\u001b[0m \u001b[0mOptionalXlaContext\u001b[0m\u001b[0;34m(\u001b[0m\u001b[0mself\u001b[0m\u001b[0;34m.\u001b[0m\u001b[0m_jit_compile\u001b[0m\u001b[0;34m)\u001b[0m\u001b[0;34m:\u001b[0m\u001b[0;34m\u001b[0m\u001b[0;34m\u001b[0m\u001b[0m\n\u001b[0;32m--> 889\u001b[0;31m         \u001b[0mresult\u001b[0m \u001b[0;34m=\u001b[0m \u001b[0mself\u001b[0m\u001b[0;34m.\u001b[0m\u001b[0m_call\u001b[0m\u001b[0;34m(\u001b[0m\u001b[0;34m*\u001b[0m\u001b[0margs\u001b[0m\u001b[0;34m,\u001b[0m \u001b[0;34m**\u001b[0m\u001b[0mkwds\u001b[0m\u001b[0;34m)\u001b[0m\u001b[0;34m\u001b[0m\u001b[0;34m\u001b[0m\u001b[0m\n\u001b[0m\u001b[1;32m    890\u001b[0m \u001b[0;34m\u001b[0m\u001b[0m\n\u001b[1;32m    891\u001b[0m       \u001b[0mnew_tracing_count\u001b[0m \u001b[0;34m=\u001b[0m \u001b[0mself\u001b[0m\u001b[0;34m.\u001b[0m\u001b[0mexperimental_get_tracing_count\u001b[0m\u001b[0;34m(\u001b[0m\u001b[0;34m)\u001b[0m\u001b[0;34m\u001b[0m\u001b[0;34m\u001b[0m\u001b[0m\n",
            "\u001b[0;32m/usr/local/lib/python3.7/dist-packages/tensorflow/python/eager/def_function.py\u001b[0m in \u001b[0;36m_call\u001b[0;34m(self, *args, **kwds)\u001b[0m\n\u001b[1;32m    922\u001b[0m       \u001b[0;31m# In this case we have not created variables on the first call. So we can\u001b[0m\u001b[0;34m\u001b[0m\u001b[0;34m\u001b[0m\u001b[0;34m\u001b[0m\u001b[0m\n\u001b[1;32m    923\u001b[0m       \u001b[0;31m# run the first trace but we should fail if variables are created.\u001b[0m\u001b[0;34m\u001b[0m\u001b[0;34m\u001b[0m\u001b[0;34m\u001b[0m\u001b[0m\n\u001b[0;32m--> 924\u001b[0;31m       \u001b[0mresults\u001b[0m \u001b[0;34m=\u001b[0m \u001b[0mself\u001b[0m\u001b[0;34m.\u001b[0m\u001b[0m_stateful_fn\u001b[0m\u001b[0;34m(\u001b[0m\u001b[0;34m*\u001b[0m\u001b[0margs\u001b[0m\u001b[0;34m,\u001b[0m \u001b[0;34m**\u001b[0m\u001b[0mkwds\u001b[0m\u001b[0;34m)\u001b[0m\u001b[0;34m\u001b[0m\u001b[0;34m\u001b[0m\u001b[0m\n\u001b[0m\u001b[1;32m    925\u001b[0m       \u001b[0;32mif\u001b[0m \u001b[0mself\u001b[0m\u001b[0;34m.\u001b[0m\u001b[0m_created_variables\u001b[0m\u001b[0;34m:\u001b[0m\u001b[0;34m\u001b[0m\u001b[0;34m\u001b[0m\u001b[0m\n\u001b[1;32m    926\u001b[0m         raise ValueError(\"Creating variables on a non-first call to a function\"\n",
            "\u001b[0;32m/usr/local/lib/python3.7/dist-packages/tensorflow/python/eager/function.py\u001b[0m in \u001b[0;36m__call__\u001b[0;34m(self, *args, **kwargs)\u001b[0m\n\u001b[1;32m   3022\u001b[0m        filtered_flat_args) = self._maybe_define_function(args, kwargs)\n\u001b[1;32m   3023\u001b[0m     return graph_function._call_flat(\n\u001b[0;32m-> 3024\u001b[0;31m         filtered_flat_args, captured_inputs=graph_function.captured_inputs)  # pylint: disable=protected-access\n\u001b[0m\u001b[1;32m   3025\u001b[0m \u001b[0;34m\u001b[0m\u001b[0m\n\u001b[1;32m   3026\u001b[0m   \u001b[0;34m@\u001b[0m\u001b[0mproperty\u001b[0m\u001b[0;34m\u001b[0m\u001b[0;34m\u001b[0m\u001b[0m\n",
            "\u001b[0;32m/usr/local/lib/python3.7/dist-packages/tensorflow/python/eager/function.py\u001b[0m in \u001b[0;36m_call_flat\u001b[0;34m(self, args, captured_inputs, cancellation_manager)\u001b[0m\n\u001b[1;32m   1959\u001b[0m       \u001b[0;31m# No tape is watching; skip to running the function.\u001b[0m\u001b[0;34m\u001b[0m\u001b[0;34m\u001b[0m\u001b[0;34m\u001b[0m\u001b[0m\n\u001b[1;32m   1960\u001b[0m       return self._build_call_outputs(self._inference_function.call(\n\u001b[0;32m-> 1961\u001b[0;31m           ctx, args, cancellation_manager=cancellation_manager))\n\u001b[0m\u001b[1;32m   1962\u001b[0m     forward_backward = self._select_forward_and_backward_functions(\n\u001b[1;32m   1963\u001b[0m         \u001b[0margs\u001b[0m\u001b[0;34m,\u001b[0m\u001b[0;34m\u001b[0m\u001b[0;34m\u001b[0m\u001b[0m\n",
            "\u001b[0;32m/usr/local/lib/python3.7/dist-packages/tensorflow/python/eager/function.py\u001b[0m in \u001b[0;36mcall\u001b[0;34m(self, ctx, args, cancellation_manager)\u001b[0m\n\u001b[1;32m    594\u001b[0m               \u001b[0minputs\u001b[0m\u001b[0;34m=\u001b[0m\u001b[0margs\u001b[0m\u001b[0;34m,\u001b[0m\u001b[0;34m\u001b[0m\u001b[0;34m\u001b[0m\u001b[0m\n\u001b[1;32m    595\u001b[0m               \u001b[0mattrs\u001b[0m\u001b[0;34m=\u001b[0m\u001b[0mattrs\u001b[0m\u001b[0;34m,\u001b[0m\u001b[0;34m\u001b[0m\u001b[0;34m\u001b[0m\u001b[0m\n\u001b[0;32m--> 596\u001b[0;31m               ctx=ctx)\n\u001b[0m\u001b[1;32m    597\u001b[0m         \u001b[0;32melse\u001b[0m\u001b[0;34m:\u001b[0m\u001b[0;34m\u001b[0m\u001b[0;34m\u001b[0m\u001b[0m\n\u001b[1;32m    598\u001b[0m           outputs = execute.execute_with_cancellation(\n",
            "\u001b[0;32m/usr/local/lib/python3.7/dist-packages/tensorflow/python/eager/execute.py\u001b[0m in \u001b[0;36mquick_execute\u001b[0;34m(op_name, num_outputs, inputs, attrs, ctx, name)\u001b[0m\n\u001b[1;32m     58\u001b[0m     \u001b[0mctx\u001b[0m\u001b[0;34m.\u001b[0m\u001b[0mensure_initialized\u001b[0m\u001b[0;34m(\u001b[0m\u001b[0;34m)\u001b[0m\u001b[0;34m\u001b[0m\u001b[0;34m\u001b[0m\u001b[0m\n\u001b[1;32m     59\u001b[0m     tensors = pywrap_tfe.TFE_Py_Execute(ctx._handle, device_name, op_name,\n\u001b[0;32m---> 60\u001b[0;31m                                         inputs, attrs, num_outputs)\n\u001b[0m\u001b[1;32m     61\u001b[0m   \u001b[0;32mexcept\u001b[0m \u001b[0mcore\u001b[0m\u001b[0;34m.\u001b[0m\u001b[0m_NotOkStatusException\u001b[0m \u001b[0;32mas\u001b[0m \u001b[0me\u001b[0m\u001b[0;34m:\u001b[0m\u001b[0;34m\u001b[0m\u001b[0;34m\u001b[0m\u001b[0m\n\u001b[1;32m     62\u001b[0m     \u001b[0;32mif\u001b[0m \u001b[0mname\u001b[0m \u001b[0;32mis\u001b[0m \u001b[0;32mnot\u001b[0m \u001b[0;32mNone\u001b[0m\u001b[0;34m:\u001b[0m\u001b[0;34m\u001b[0m\u001b[0;34m\u001b[0m\u001b[0m\n",
            "\u001b[0;31mKeyboardInterrupt\u001b[0m: "
          ]
        }
      ]
    },
    {
      "cell_type": "code",
      "metadata": {
        "id": "29Gz04HjrZh8"
      },
      "source": [
        "df_mlp_imdb_2k.to_excel('tf-mlp_imdb_GloVE.xlsx')"
      ],
      "execution_count": null,
      "outputs": []
    },
    {
      "cell_type": "code",
      "metadata": {
        "colab": {
          "base_uri": "https://localhost:8080/"
        },
        "id": "S93ITjm-Vizu",
        "outputId": "38ac060c-d866-4841-8676-86c998410fe4"
      },
      "source": [
        "# !wget http://nlp.stanford.edu/data/glove.6B.zip\n",
        "# !unzip -q glove.6B.zip"
      ],
      "execution_count": null,
      "outputs": [
        {
          "output_type": "stream",
          "text": [
            "--2021-06-29 06:10:05--  http://nlp.stanford.edu/data/glove.6B.zip\n",
            "Resolving nlp.stanford.edu (nlp.stanford.edu)... 171.64.67.140\n",
            "Connecting to nlp.stanford.edu (nlp.stanford.edu)|171.64.67.140|:80... connected.\n",
            "HTTP request sent, awaiting response... 302 Found\n",
            "Location: https://nlp.stanford.edu/data/glove.6B.zip [following]\n",
            "--2021-06-29 06:10:05--  https://nlp.stanford.edu/data/glove.6B.zip\n",
            "Connecting to nlp.stanford.edu (nlp.stanford.edu)|171.64.67.140|:443... connected.\n",
            "HTTP request sent, awaiting response... 301 Moved Permanently\n",
            "Location: http://downloads.cs.stanford.edu/nlp/data/glove.6B.zip [following]\n",
            "--2021-06-29 06:10:05--  http://downloads.cs.stanford.edu/nlp/data/glove.6B.zip\n",
            "Resolving downloads.cs.stanford.edu (downloads.cs.stanford.edu)... 171.64.64.22\n",
            "Connecting to downloads.cs.stanford.edu (downloads.cs.stanford.edu)|171.64.64.22|:80... connected.\n",
            "HTTP request sent, awaiting response... 200 OK\n",
            "Length: 862182613 (822M) [application/zip]\n",
            "Saving to: ‘glove.6B.zip’\n",
            "\n",
            "glove.6B.zip        100%[===================>] 822.24M  5.01MB/s    in 2m 41s  \n",
            "\n",
            "2021-06-29 06:12:46 (5.12 MB/s) - ‘glove.6B.zip’ saved [862182613/862182613]\n",
            "\n"
          ],
          "name": "stdout"
        }
      ]
    },
    {
      "cell_type": "code",
      "metadata": {
        "id": "g6vaKQ5uVjA6"
      },
      "source": [
        "num_tokens = len(voc) + 2\n",
        "embedding_dim = 300\n",
        "hits = 0\n",
        "misses = 0\n",
        "\n",
        "hit_words = []\n",
        "missed_words = []\n",
        "\n",
        "# Prepare embedding matrix\n",
        "embedding_matrix = np.zeros((num_tokens, embedding_dim))\n",
        "for word, i in word_index.items():\n",
        "    embedding_vector = embeddings_index.get(word)\n",
        "    if embedding_vector is not None:\n",
        "        # Words not found in embedding index will be all-zeros.\n",
        "        # This includes the representation for \"padding\" and \"OOV\"\n",
        "        embedding_matrix[i] = embedding_vector\n",
        "        hits += 1\n",
        "        hit_words.append(word)\n",
        "    else:\n",
        "        misses += 1\n",
        "        missed_words.append(word)\n",
        "print(\"Converted %d words (%d misses)\" % (hits, misses))\n",
        "\n",
        "print(\"Missed words: \", missed_words)"
      ],
      "execution_count": null,
      "outputs": []
    },
    {
      "cell_type": "code",
      "metadata": {
        "id": "mwbyekEoVjHu"
      },
      "source": [
        "from tensorflow.keras.layers import Embedding\n",
        "\n",
        "embedding_layer = Embedding(\n",
        "    num_tokens,\n",
        "    embedding_dim,\n",
        "    embeddings_initializer=keras.initializers.Constant(embedding_matrix),\n",
        "    trainable=False,\n",
        ")"
      ],
      "execution_count": null,
      "outputs": []
    },
    {
      "cell_type": "code",
      "metadata": {
        "id": "RIrv-WImVjOm"
      },
      "source": [
        "from tensorflow.keras import layers\n",
        "\n",
        "int_sequences_input = keras.Input(shape=(None,), dtype=\"int64\")\n",
        "embedded_sequences = embedding_layer(int_sequences_input)\n",
        "x = layers.Conv1D(128, 5, activation=\"relu\")(embedded_sequences)\n",
        "x = layers.MaxPooling1D(5)(x)\n",
        "x = layers.Conv1D(128, 5, activation=\"relu\")(x)\n",
        "x = layers.MaxPooling1D(5)(x)\n",
        "x = layers.Conv1D(128, 5, activation=\"relu\")(x)\n",
        "x = layers.GlobalMaxPooling1D()(x)\n",
        "x = layers.Dense(128, activation=\"relu\")(x)\n",
        "x = layers.Dropout(0.5)(x)\n",
        "preds = layers.Dense(len(class_names), activation=\"softmax\")(x)\n",
        "model = keras.Model(int_sequences_input, preds)\n",
        "model.summary()"
      ],
      "execution_count": null,
      "outputs": []
    },
    {
      "cell_type": "code",
      "metadata": {
        "id": "z1FgEh75VjWB"
      },
      "source": [
        ""
      ],
      "execution_count": null,
      "outputs": []
    },
    {
      "cell_type": "code",
      "metadata": {
        "id": "b2IQ6HAHVjci"
      },
      "source": [
        ""
      ],
      "execution_count": null,
      "outputs": []
    },
    {
      "cell_type": "code",
      "metadata": {
        "id": "1a9w4xkcVjjI"
      },
      "source": [
        ""
      ],
      "execution_count": null,
      "outputs": []
    },
    {
      "cell_type": "code",
      "metadata": {
        "id": "t9RgAvBEVjp_"
      },
      "source": [
        ""
      ],
      "execution_count": null,
      "outputs": []
    },
    {
      "cell_type": "markdown",
      "metadata": {
        "id": "yrSNg00Xmm-1"
      },
      "source": [
        "# NewsGroup\n",
        "\n",
        "\n",
        "1.   MLP\n",
        "\n"
      ]
    },
    {
      "cell_type": "code",
      "metadata": {
        "id": "NFLJW6Dtmn-4"
      },
      "source": [
        ""
      ],
      "execution_count": null,
      "outputs": []
    },
    {
      "cell_type": "code",
      "metadata": {
        "colab": {
          "base_uri": "https://localhost:8080/"
        },
        "id": "GuaecprcLFwE",
        "outputId": "6cc1207f-8cf9-4e94-96a2-8d448ab711ac"
      },
      "source": [
        "import os\n",
        "\n",
        "import numpy as np\n",
        "from sklearn.preprocessing import FunctionTransformer\n",
        "from sklearn.datasets import fetch_20newsgroups\n",
        "from sklearn.feature_extraction.text import CountVectorizer\n",
        "from sklearn.feature_extraction.text import TfidfTransformer\n",
        "from sklearn.preprocessing import FunctionTransformer\n",
        "from sklearn.linear_model import SGDClassifier\n",
        "from sklearn.model_selection import train_test_split\n",
        "from sklearn.pipeline import Pipeline\n",
        "from sklearn.semi_supervised import SelfTrainingClassifier\n",
        "from sklearn.semi_supervised import LabelSpreading\n",
        "from sklearn.metrics import f1_score\n",
        "from sklearn.metrics import accuracy_score\n",
        "from sklearn.svm import SVC\n",
        "\n",
        "data = fetch_20newsgroups(subset='train', categories=None)\n",
        "print(\"%d documents\" % len(data.filenames))\n",
        "print(\"%d categories\" % len(data.target_names))\n",
        "print()\n",
        "\n",
        "\n",
        "from sklearn.metrics import precision_score\n",
        "from sklearn.metrics import roc_auc_score\n",
        "from sklearn.metrics import recall_score\n",
        "from sklearn.metrics import f1_score\n",
        "from tensorflow.keras.layers.experimental.preprocessing import TextVectorization\n",
        "\n",
        "def eval_and_print_metrics_df(clf, X_train, y_train, X_test, y_test, thresh = None, kbest = None):\n",
        "\n",
        "    dict1 = {}\n",
        "\n",
        "\n",
        "    print(\"Number of training samples:\", len(X_train))\n",
        "    print(\"Unlabeled samples in training set:\",\n",
        "          sum(1 for x in y_train if x == -1))\n",
        "    \n",
        "    dict1['Labeled'] = len(X_train) - sum(1 for x in y_train if x == -1)\n",
        "    dict1['UnLabeled'] = sum(1 for x in y_train if x == -1)\n",
        "\n",
        "\n",
        "    \n",
        "    # if sum(1 for x in y_train if x == -1) == 0:\n",
        "    #     dict1['type'] = 'Supervised'\n",
        "    # else:\n",
        "    #     dict1['type'] = 'Semi-Supervised'\n",
        "\n",
        "    dict1['Threshold'] = thresh\n",
        "    dict1['K-Best'] = kbest\n",
        "\n",
        "    # print('y_train:', y_train)\n",
        "    with tf.device('/device:GPU:0'):\n",
        "      clf.fit(X_train, y_train)\n",
        "      y_pred = np.array(clf.predict(X_test))\n",
        "      \n",
        "    print(\"Micro-averaged F1 score on test set: \"\n",
        "          \"%0.3f\" % f1_score(y_test, y_pred, average='micro'))\n",
        "    print(\"Accuracy Score: \", accuracy_score(y_test, y_pred))\n",
        "\n",
        "    dict1['Accuracy'] = accuracy_score(y_test, y_pred)\n",
        "    # dict1['roc-auc'] = roc_auc_score(y_test, y_pred, multi_class=\"ovr\")\n",
        "    dict1['precision'] = precision_score(y_test, y_pred, average='macro')\n",
        "    dict1['recall'] = recall_score(y_test, y_pred, average='macro')\n",
        "    dict1['f1'] = f1_score(y_test, y_pred, average='macro')\n",
        "\n",
        "    print(\"-\" * 10)\n",
        "    print()\n",
        "\n",
        "    return dict1"
      ],
      "execution_count": null,
      "outputs": [
        {
          "output_type": "stream",
          "text": [
            "11314 documents\n",
            "20 categories\n",
            "\n"
          ],
          "name": "stdout"
        }
      ]
    },
    {
      "cell_type": "code",
      "metadata": {
        "id": "_0qh5Wo7ppIM"
      },
      "source": [
        "#------------------For GloVE---------------------#\n",
        "embedding_dim = 300\n",
        "maxlen = 500\n",
        "\n",
        "\n",
        "def get_embed_matrix(word_index):\n",
        "\n",
        "    hits = 0\n",
        "    misses = 0\n",
        "\n",
        "    hit_words = []\n",
        "    missed_words = []\n",
        "    # Prepare embedding matrix\n",
        "    \n",
        "\n",
        "    embedding_matrix = np.zeros((max_words, embedding_dim)) # embedding_matrix.shape (max_words, 100)\n",
        "    for word, i in word_index.items():\n",
        "        if i < max_words:\n",
        "            embedding_vector = embeddings_index.get(word) # embedding_vector.shape (100,)\n",
        "            if embedding_vector is not None:\n",
        "                embedding_matrix[i] = embedding_vector # Words not found in the mebedding index will all be zeros\n",
        "                hits += 1\n",
        "                hit_words.append(word)\n",
        "            else:\n",
        "                misses += 1\n",
        "                missed_words.append(word)  \n",
        "\n",
        "\n",
        "                \n",
        "    print(\"Converted %d words (%d misses)\" % (hits, misses))\n",
        "\n",
        "    print(\"Missed words: \", missed_words)\n",
        "\n",
        "    return embedding_matrix\n",
        "\n",
        "\n",
        "    #------------------For GloVE---------------------#"
      ],
      "execution_count": null,
      "outputs": []
    },
    {
      "cell_type": "code",
      "metadata": {
        "id": "agoXVj3bbmKv"
      },
      "source": [
        "from keras.wrappers.scikit_learn import KerasClassifier\n",
        "\n",
        "tf.random.set_seed(0)\n",
        "def create_model(word_index):\n",
        "\n",
        "    # int_sequences_input = keras.Input(shape=(None,), dtype=\"int64\")\n",
        "    # embedded_sequences = embedding_layer(int_sequences_input)\n",
        "    model = tf.keras.Sequential([\n",
        "        tf.keras.layers.Embedding(max_words, embedding_dim, input_length = maxlen),\n",
        "        tf.keras.layers.Flatten(),\n",
        "        tf.keras.layers.Dense(100, activation='relu'),\n",
        "        tf.keras.layers.Dense(50),\n",
        "    ])\n",
        "\n",
        "    embedding_matrix = get_embed_matrix(word_index)\n",
        "    model.layers[0].set_weights([embedding_matrix])\n",
        "    model.layers[0].trainable = False\n",
        "\n",
        "    model.compile(optimizer='adam',\n",
        "                  loss=tf.keras.losses.SparseCategoricalCrossentropy(from_logits=True),\n",
        "                  # loss='categorical_crossentropy',\n",
        "                  metrics=['accuracy'])\n",
        "    \n",
        "    return model"
      ],
      "execution_count": null,
      "outputs": []
    },
    {
      "cell_type": "code",
      "metadata": {
        "id": "PoeZy4Br3xYO"
      },
      "source": [
        "# def vectorize_data(data, vocab: dict) -> list:\n",
        "#     keys = list(vocab.keys())\n",
        "#     filter_unknown = lambda word: vocab.get(word, None) is not None\n",
        "#     encode = lambda review: list(map(keys.index, filter(filter_unknown, review)))\n",
        "#     vectorized = list(map(encode, data))\n",
        "#     print('Vectorize sentences... (done)')\n",
        "#     return vectorized"
      ],
      "execution_count": null,
      "outputs": []
    },
    {
      "cell_type": "code",
      "metadata": {
        "colab": {
          "base_uri": "https://localhost:8080/"
        },
        "id": "FZQqQjtb6N45",
        "outputId": "33539a34-5904-411e-b8f4-0df42bbf8eaa"
      },
      "source": [
        "%%time\n",
        "# MLP for NG\n",
        "from sklearn.neural_network import MLPClassifier\n",
        "\n",
        "# Tools for creating ngrams and vectorizing input data\n",
        "from gensim.models import Word2Vec, Phrases\n",
        "\n",
        "from keras.layers.embeddings import Embedding\n",
        "from keras.preprocessing.sequence import pad_sequences\n",
        "\n",
        "# Parameters\n",
        "# mlp_params = dict(hidden_layer_sizes=(100,50), max_iter=100,activation = 'relu',solver='adam',random_state=1,learning_rate_init=0.01,\n",
        "#                   learning_rate='adaptive')\n",
        "vectorizer_params = dict(ngram_range=(1, 2), min_df=5, max_df=0.8, max_features=30000)\n",
        "\n",
        "\n",
        "df_mlp_ng = pd.DataFrame()\n",
        "\n",
        "n_list = [10, 20, 30, 40, 50]\n",
        "kbest_list=[4, 5, 6, 7, 8]\n",
        "threshold = [0.4, 0.5, 0.6, 0.7, 0.8]\n",
        "\n",
        "\n",
        "X, y = data.data, data.target\n",
        "# embedding_vector_size = 256\n",
        "# trigrams_model = Word2Vec(sentences = X, size = embedding_vector_size, min_count=3, window=5, workers=4)"
      ],
      "execution_count": null,
      "outputs": [
        {
          "output_type": "stream",
          "text": [
            "CPU times: user 7.35 ms, sys: 14.1 ms, total: 21.5 ms\n",
            "Wall time: 21.4 ms\n"
          ],
          "name": "stdout"
        }
      ]
    },
    {
      "cell_type": "code",
      "metadata": {
        "colab": {
          "base_uri": "https://localhost:8080/"
        },
        "id": "I5XhzlObpBpB",
        "outputId": "93de27d9-9e09-4d25-8b49-91be1494ced6"
      },
      "source": [
        "%%time\n",
        "path_to_glove_file =  \"glove.6B.\"+str(embedding_dim)+\"d.txt\"\n",
        "embeddings_index = {}\n",
        "with open(path_to_glove_file) as f:\n",
        "    for line in f:\n",
        "        word, coefs = line.split(maxsplit=1)\n",
        "        coefs = np.fromstring(coefs, \"f\", sep=\" \")\n",
        "        embeddings_index[word] = coefs\n",
        "\n",
        "print(\"Found %s word vectors.\" % len(embeddings_index))"
      ],
      "execution_count": null,
      "outputs": [
        {
          "output_type": "stream",
          "text": [
            "Found 400000 word vectors.\n",
            "CPU times: user 16.4 s, sys: 849 ms, total: 17.2 s\n",
            "Wall time: 17.2 s\n"
          ],
          "name": "stdout"
        }
      ]
    },
    {
      "cell_type": "code",
      "metadata": {
        "id": "vADSNzoftiZ4",
        "colab": {
          "base_uri": "https://localhost:8080/"
        },
        "outputId": "55163342-6270-4c9d-9c46-577ca7b0fa97"
      },
      "source": [
        "# MLP for NG\n",
        "# Parameters\n",
        "# mnb_params = \n",
        "\n",
        "from keras.preprocessing.text import Tokenizer\n",
        "from keras.preprocessing. sequence import pad_sequences\n",
        "\n",
        "\n",
        "\n",
        "mlp_params = dict(hidden_layer_sizes=(100,50), max_iter=50,activation = 'relu',solver='adam',random_state=1)\n",
        "vectorizer_params = dict(ngram_range=(1, 2), min_df=5, max_df=0.8, max_features=30000)\n",
        "\n",
        "for n in n_list:    \n",
        "  tf.keras.backend.clear_session()  \n",
        "  print(\"~~~~~~~~~~~~~~~~~~~~~~~~~~~~~~~~~NewsGroup DATA with percentage_labeled = \"+str(n)+\"~~~~~~~~~~~~~~~~~~~~~~~~~~~~~~~~~\")\n",
        "  \n",
        "  X_train, X_test, y_train, y_test = train_test_split(X, y, random_state=0)\n",
        "\n",
        "  # print(\"Supervised SGDClassifier on 100% of the data:\")\n",
        "  # eval_and_print_metrics(pipeline, X_train, y_train, X_test, y_test)\n",
        "\n",
        "  np.random.seed(0)\n",
        "  # print(\"Shape before: \", len(X_train), len(X_test))\n",
        "\n",
        "  X_train = np.array([i for i in X_train])\n",
        "  X_test = np.array([i for i in X_test])\n",
        "\n",
        "  # print(\"Shape middle: \", X_train.shape, X_test.shape)\n",
        "  # print(X_train[0])\n",
        "\n",
        "  tokenizer = Tokenizer(num_words=max_words)\n",
        "  tokenizer.fit_on_texts(np.concatenate((X_train, X_test)))\n",
        "  sequences = tokenizer.texts_to_sequences(np.concatenate((X_train, X_test)))\n",
        "  word_index = tokenizer.word_index                   \n",
        "  print(\"Found %s unique tokens.\" % len(word_index)) \n",
        "\n",
        "  data = pad_sequences(sequences, maxlen=maxlen)\n",
        "\n",
        "  X_train, X_test = data[:len(X_train)], data[len(X_train):]\n",
        "\n",
        "  # print(\"Shape after: \", X_train.shape, X_test.shape)\n",
        "  # print(X_train[0])\n",
        "\n",
        "\n",
        "\n",
        "  unlabeled_mask = np.random.rand(len(y_train)) < 0.5\n",
        "  X_u50, y_u50 = map(list, zip(*((x, y)\n",
        "                  for x, y, m in zip(X_train, y_train, unlabeled_mask) if m)))\n",
        "  \n",
        "  X_u50 = np.array(X_u50)\n",
        "  y_u50 = np.array([-1 for i in y_u50])\n",
        "\n",
        "  X_50, y_50 = map(list, zip(*((x, y)\n",
        "            for x, y, m in zip(X_train, y_train, unlabeled_mask) if ~m)))\n",
        "  X_50 = np.array(X_50)\n",
        "  y_50 = np.array(y_50)\n",
        "\n",
        "\n",
        "\n",
        "\n",
        "\n",
        "  percentage = 2*(n/100)\n",
        "  y_mask = np.random.rand(len(y_50)) < percentage\n",
        "\n",
        "  # X_20 and y_20 are the subset of the train dataset indicated by the mask\n",
        "  X_20, y_20 = map(list, zip(*((x, y)\n",
        "                  for x, y, m in zip(X_50, y_50, y_mask) if m)))\n",
        "  X_20 = np.array(X_20)\n",
        "  y_20 = np.array(y_20)\n",
        "\n",
        "  print(\"Supervised MLPClassifier on \"+str(n)+\"% of the training data:\")\n",
        "\n",
        "  # print(\"Shape after after: \", X_20.shape)\n",
        "  # break\n",
        "\n",
        "\n",
        "\n",
        "\n",
        "  # print(len(X_20),\"SHAPE\")\n",
        "\n",
        "\n",
        "  model = KerasClassifier(build_fn=lambda: create_model(word_index), epochs=20, verbose=0)\n",
        "  pipeline = Pipeline([\n",
        "      # ('vect', CountVectorizer(**vectorizer_params)),\n",
        "      # ('tfidf', TfidfTransformer()), \n",
        "      # # ('kbest', MySelectKBest(f_classif, k=20000)),         \n",
        "      # ('dense', FunctionTransformer(lambda x: x.toarray(), accept_sparse=True)),\n",
        "      ('clf', model)\n",
        "  ])\n",
        "\n",
        "  \n",
        "\n",
        "\n",
        "\n",
        "  temp = eval_and_print_metrics_df(pipeline, X_20, y_20, X_test, y_test, thresh = None, kbest = None)\n",
        "  df_mlp_ng = df_mlp_ng.append(temp, ignore_index=True)\n",
        "\n",
        "  # set the non-masked subset to be unlabeled\n",
        "  # set only 50% of data to be unlabeled in every iteration of training.\n",
        "  print(\"SelfTrainingClassifier on \"+str(n)+\"% of the training data (rest \"\n",
        "        \"is unlabeled):\")\n",
        "  for t in threshold:\n",
        "    print(\"---------------------------------Threshold = \", t,\"---------------------------------\")\n",
        "    tf.keras.backend.clear_session()\n",
        "  \n",
        "  # X_50, y_50 = map(list, zip(*((x, y)\n",
        "  #                 for x, y, m in zip(X_train, y_train, y_mask) if m)))\n",
        "    # SelfTraining Pipeline\n",
        "    model = KerasClassifier(build_fn=lambda: create_model(word_index), epochs=20, verbose=0)\n",
        "    st_pipeline = Pipeline([\n",
        "        # ('vect', CountVectorizer(**vectorizer_params)),\n",
        "        # ('tfidf', TfidfTransformer()),\n",
        "        # # ('kbest', MySelectKBest(f_classif, k=20000)),\n",
        "        # ('dense', FunctionTransformer(lambda x: x.toarray(), accept_sparse=True)),\n",
        "        ('clf', SelfTrainingClassifier(model, criterion = 'threshold', threshold = t, verbose=True)),\n",
        "    ])\n",
        "\n",
        "    \n",
        "\n",
        "\n",
        "    temp = eval_and_print_metrics_df(st_pipeline, np.concatenate((X_20,X_u50)), np.concatenate((y_20, y_u50)), X_test, y_test, thresh = t, kbest = None)\n",
        "    df_mlp_ng = df_mlp_ng.append(temp, ignore_index=True)\n",
        "\n",
        "\n"
      ],
      "execution_count": null,
      "outputs": [
        {
          "output_type": "stream",
          "text": [
            "~~~~~~~~~~~~~~~~~~~~~~~~~~~~~~~~~NewsGroup DATA with percentage_labeled = 10~~~~~~~~~~~~~~~~~~~~~~~~~~~~~~~~~\n",
            "Found 134142 unique tokens.\n",
            "Supervised MLPClassifier on 10% of the training data:\n",
            "Number of training samples: 869\n",
            "Unlabeled samples in training set: 0\n"
          ],
          "name": "stdout"
        },
        {
          "output_type": "stream",
          "text": [
            "/usr/local/lib/python3.7/dist-packages/tensorflow/python/keras/engine/sequential.py:455: UserWarning: `model.predict_classes()` is deprecated and will be removed after 2021-01-01. Please use instead:* `np.argmax(model.predict(x), axis=-1)`,   if your model does multi-class classification   (e.g. if it uses a `softmax` last-layer activation).* `(model.predict(x) > 0.5).astype(\"int32\")`,   if your model does binary classification   (e.g. if it uses a `sigmoid` last-layer activation).\n",
            "  warnings.warn('`model.predict_classes()` is deprecated and '\n"
          ],
          "name": "stderr"
        },
        {
          "output_type": "stream",
          "text": [
            "Micro-averaged F1 score on test set: 0.233\n",
            "Accuracy Score:  0.23294450335807707\n",
            "----------\n",
            "\n",
            "SelfTrainingClassifier on 10% of the training data (rest is unlabeled):\n",
            "---------------------------------Threshold =  0.4 ---------------------------------\n",
            "Number of training samples: 5176\n",
            "Unlabeled samples in training set: 4307\n",
            "End of iteration 1, added 4307 new labels.\n"
          ],
          "name": "stdout"
        },
        {
          "output_type": "stream",
          "text": [
            "/usr/local/lib/python3.7/dist-packages/tensorflow/python/keras/engine/sequential.py:455: UserWarning: `model.predict_classes()` is deprecated and will be removed after 2021-01-01. Please use instead:* `np.argmax(model.predict(x), axis=-1)`,   if your model does multi-class classification   (e.g. if it uses a `softmax` last-layer activation).* `(model.predict(x) > 0.5).astype(\"int32\")`,   if your model does binary classification   (e.g. if it uses a `sigmoid` last-layer activation).\n",
            "  warnings.warn('`model.predict_classes()` is deprecated and '\n"
          ],
          "name": "stderr"
        },
        {
          "output_type": "stream",
          "text": [
            "Micro-averaged F1 score on test set: 0.192\n",
            "Accuracy Score:  0.1919406150583245\n",
            "----------\n",
            "\n",
            "---------------------------------Threshold =  0.5 ---------------------------------\n",
            "Number of training samples: 5176\n",
            "Unlabeled samples in training set: 4307\n",
            "End of iteration 1, added 4307 new labels.\n"
          ],
          "name": "stdout"
        },
        {
          "output_type": "stream",
          "text": [
            "/usr/local/lib/python3.7/dist-packages/tensorflow/python/keras/engine/sequential.py:455: UserWarning: `model.predict_classes()` is deprecated and will be removed after 2021-01-01. Please use instead:* `np.argmax(model.predict(x), axis=-1)`,   if your model does multi-class classification   (e.g. if it uses a `softmax` last-layer activation).* `(model.predict(x) > 0.5).astype(\"int32\")`,   if your model does binary classification   (e.g. if it uses a `sigmoid` last-layer activation).\n",
            "  warnings.warn('`model.predict_classes()` is deprecated and '\n"
          ],
          "name": "stderr"
        },
        {
          "output_type": "stream",
          "text": [
            "Micro-averaged F1 score on test set: 0.169\n",
            "Accuracy Score:  0.16931778013432308\n",
            "----------\n",
            "\n",
            "---------------------------------Threshold =  0.6 ---------------------------------\n",
            "Number of training samples: 5176\n",
            "Unlabeled samples in training set: 4307\n",
            "End of iteration 1, added 4307 new labels.\n"
          ],
          "name": "stdout"
        },
        {
          "output_type": "stream",
          "text": [
            "/usr/local/lib/python3.7/dist-packages/tensorflow/python/keras/engine/sequential.py:455: UserWarning: `model.predict_classes()` is deprecated and will be removed after 2021-01-01. Please use instead:* `np.argmax(model.predict(x), axis=-1)`,   if your model does multi-class classification   (e.g. if it uses a `softmax` last-layer activation).* `(model.predict(x) > 0.5).astype(\"int32\")`,   if your model does binary classification   (e.g. if it uses a `sigmoid` last-layer activation).\n",
            "  warnings.warn('`model.predict_classes()` is deprecated and '\n"
          ],
          "name": "stderr"
        },
        {
          "output_type": "stream",
          "text": [
            "Micro-averaged F1 score on test set: 0.191\n",
            "Accuracy Score:  0.19088016967126192\n",
            "----------\n",
            "\n",
            "---------------------------------Threshold =  0.7 ---------------------------------\n",
            "Number of training samples: 5176\n",
            "Unlabeled samples in training set: 4307\n",
            "End of iteration 1, added 4307 new labels.\n"
          ],
          "name": "stdout"
        },
        {
          "output_type": "stream",
          "text": [
            "/usr/local/lib/python3.7/dist-packages/tensorflow/python/keras/engine/sequential.py:455: UserWarning: `model.predict_classes()` is deprecated and will be removed after 2021-01-01. Please use instead:* `np.argmax(model.predict(x), axis=-1)`,   if your model does multi-class classification   (e.g. if it uses a `softmax` last-layer activation).* `(model.predict(x) > 0.5).astype(\"int32\")`,   if your model does binary classification   (e.g. if it uses a `sigmoid` last-layer activation).\n",
            "  warnings.warn('`model.predict_classes()` is deprecated and '\n"
          ],
          "name": "stderr"
        },
        {
          "output_type": "stream",
          "text": [
            "Micro-averaged F1 score on test set: 0.210\n",
            "Accuracy Score:  0.20996818663838812\n",
            "----------\n",
            "\n",
            "---------------------------------Threshold =  0.8 ---------------------------------\n",
            "Number of training samples: 5176\n",
            "Unlabeled samples in training set: 4307\n",
            "End of iteration 1, added 4307 new labels.\n"
          ],
          "name": "stdout"
        },
        {
          "output_type": "stream",
          "text": [
            "/usr/local/lib/python3.7/dist-packages/tensorflow/python/keras/engine/sequential.py:455: UserWarning: `model.predict_classes()` is deprecated and will be removed after 2021-01-01. Please use instead:* `np.argmax(model.predict(x), axis=-1)`,   if your model does multi-class classification   (e.g. if it uses a `softmax` last-layer activation).* `(model.predict(x) > 0.5).astype(\"int32\")`,   if your model does binary classification   (e.g. if it uses a `sigmoid` last-layer activation).\n",
            "  warnings.warn('`model.predict_classes()` is deprecated and '\n"
          ],
          "name": "stderr"
        },
        {
          "output_type": "stream",
          "text": [
            "Micro-averaged F1 score on test set: 0.182\n",
            "Accuracy Score:  0.18168964298338636\n",
            "----------\n",
            "\n",
            "~~~~~~~~~~~~~~~~~~~~~~~~~~~~~~~~~NewsGroup DATA with percentage_labeled = 20~~~~~~~~~~~~~~~~~~~~~~~~~~~~~~~~~\n",
            "Found 134142 unique tokens.\n",
            "Supervised MLPClassifier on 20% of the training data:\n",
            "Number of training samples: 1695\n",
            "Unlabeled samples in training set: 0\n"
          ],
          "name": "stdout"
        },
        {
          "output_type": "stream",
          "text": [
            "/usr/local/lib/python3.7/dist-packages/tensorflow/python/keras/engine/sequential.py:455: UserWarning: `model.predict_classes()` is deprecated and will be removed after 2021-01-01. Please use instead:* `np.argmax(model.predict(x), axis=-1)`,   if your model does multi-class classification   (e.g. if it uses a `softmax` last-layer activation).* `(model.predict(x) > 0.5).astype(\"int32\")`,   if your model does binary classification   (e.g. if it uses a `sigmoid` last-layer activation).\n",
            "  warnings.warn('`model.predict_classes()` is deprecated and '\n"
          ],
          "name": "stderr"
        },
        {
          "output_type": "stream",
          "text": [
            "Micro-averaged F1 score on test set: 0.350\n",
            "Accuracy Score:  0.34994697773064687\n",
            "----------\n",
            "\n",
            "SelfTrainingClassifier on 20% of the training data (rest is unlabeled):\n",
            "---------------------------------Threshold =  0.4 ---------------------------------\n",
            "Number of training samples: 6002\n",
            "Unlabeled samples in training set: 4307\n",
            "End of iteration 1, added 4307 new labels.\n"
          ],
          "name": "stdout"
        },
        {
          "output_type": "stream",
          "text": [
            "/usr/local/lib/python3.7/dist-packages/tensorflow/python/keras/engine/sequential.py:455: UserWarning: `model.predict_classes()` is deprecated and will be removed after 2021-01-01. Please use instead:* `np.argmax(model.predict(x), axis=-1)`,   if your model does multi-class classification   (e.g. if it uses a `softmax` last-layer activation).* `(model.predict(x) > 0.5).astype(\"int32\")`,   if your model does binary classification   (e.g. if it uses a `sigmoid` last-layer activation).\n",
            "  warnings.warn('`model.predict_classes()` is deprecated and '\n"
          ],
          "name": "stderr"
        },
        {
          "output_type": "stream",
          "text": [
            "Micro-averaged F1 score on test set: 0.242\n",
            "Accuracy Score:  0.2417815482502651\n",
            "----------\n",
            "\n",
            "---------------------------------Threshold =  0.5 ---------------------------------\n",
            "Number of training samples: 6002\n",
            "Unlabeled samples in training set: 4307\n",
            "End of iteration 1, added 4307 new labels.\n"
          ],
          "name": "stdout"
        },
        {
          "output_type": "stream",
          "text": [
            "/usr/local/lib/python3.7/dist-packages/tensorflow/python/keras/engine/sequential.py:455: UserWarning: `model.predict_classes()` is deprecated and will be removed after 2021-01-01. Please use instead:* `np.argmax(model.predict(x), axis=-1)`,   if your model does multi-class classification   (e.g. if it uses a `softmax` last-layer activation).* `(model.predict(x) > 0.5).astype(\"int32\")`,   if your model does binary classification   (e.g. if it uses a `sigmoid` last-layer activation).\n",
            "  warnings.warn('`model.predict_classes()` is deprecated and '\n"
          ],
          "name": "stderr"
        },
        {
          "output_type": "stream",
          "text": [
            "Micro-averaged F1 score on test set: 0.273\n",
            "Accuracy Score:  0.2732414280664546\n",
            "----------\n",
            "\n",
            "---------------------------------Threshold =  0.6 ---------------------------------\n",
            "Number of training samples: 6002\n",
            "Unlabeled samples in training set: 4307\n",
            "End of iteration 1, added 4307 new labels.\n"
          ],
          "name": "stdout"
        },
        {
          "output_type": "stream",
          "text": [
            "/usr/local/lib/python3.7/dist-packages/tensorflow/python/keras/engine/sequential.py:455: UserWarning: `model.predict_classes()` is deprecated and will be removed after 2021-01-01. Please use instead:* `np.argmax(model.predict(x), axis=-1)`,   if your model does multi-class classification   (e.g. if it uses a `softmax` last-layer activation).* `(model.predict(x) > 0.5).astype(\"int32\")`,   if your model does binary classification   (e.g. if it uses a `sigmoid` last-layer activation).\n",
            "  warnings.warn('`model.predict_classes()` is deprecated and '\n"
          ],
          "name": "stderr"
        },
        {
          "output_type": "stream",
          "text": [
            "Micro-averaged F1 score on test set: 0.281\n",
            "Accuracy Score:  0.28101802757158006\n",
            "----------\n",
            "\n",
            "---------------------------------Threshold =  0.7 ---------------------------------\n",
            "Number of training samples: 6002\n",
            "Unlabeled samples in training set: 4307\n",
            "End of iteration 1, added 4307 new labels.\n"
          ],
          "name": "stdout"
        },
        {
          "output_type": "stream",
          "text": [
            "/usr/local/lib/python3.7/dist-packages/tensorflow/python/keras/engine/sequential.py:455: UserWarning: `model.predict_classes()` is deprecated and will be removed after 2021-01-01. Please use instead:* `np.argmax(model.predict(x), axis=-1)`,   if your model does multi-class classification   (e.g. if it uses a `softmax` last-layer activation).* `(model.predict(x) > 0.5).astype(\"int32\")`,   if your model does binary classification   (e.g. if it uses a `sigmoid` last-layer activation).\n",
            "  warnings.warn('`model.predict_classes()` is deprecated and '\n"
          ],
          "name": "stderr"
        },
        {
          "output_type": "stream",
          "text": [
            "Micro-averaged F1 score on test set: 0.315\n",
            "Accuracy Score:  0.3149522799575822\n",
            "----------\n",
            "\n",
            "---------------------------------Threshold =  0.8 ---------------------------------\n",
            "Number of training samples: 6002\n",
            "Unlabeled samples in training set: 4307\n",
            "End of iteration 1, added 4307 new labels.\n"
          ],
          "name": "stdout"
        },
        {
          "output_type": "stream",
          "text": [
            "/usr/local/lib/python3.7/dist-packages/tensorflow/python/keras/engine/sequential.py:455: UserWarning: `model.predict_classes()` is deprecated and will be removed after 2021-01-01. Please use instead:* `np.argmax(model.predict(x), axis=-1)`,   if your model does multi-class classification   (e.g. if it uses a `softmax` last-layer activation).* `(model.predict(x) > 0.5).astype(\"int32\")`,   if your model does binary classification   (e.g. if it uses a `sigmoid` last-layer activation).\n",
            "  warnings.warn('`model.predict_classes()` is deprecated and '\n"
          ],
          "name": "stderr"
        },
        {
          "output_type": "stream",
          "text": [
            "Micro-averaged F1 score on test set: 0.279\n",
            "Accuracy Score:  0.2788971367974549\n",
            "----------\n",
            "\n",
            "~~~~~~~~~~~~~~~~~~~~~~~~~~~~~~~~~NewsGroup DATA with percentage_labeled = 30~~~~~~~~~~~~~~~~~~~~~~~~~~~~~~~~~\n",
            "Found 134142 unique tokens.\n",
            "Supervised MLPClassifier on 30% of the training data:\n",
            "Number of training samples: 2541\n",
            "Unlabeled samples in training set: 0\n"
          ],
          "name": "stdout"
        },
        {
          "output_type": "stream",
          "text": [
            "/usr/local/lib/python3.7/dist-packages/tensorflow/python/keras/engine/sequential.py:455: UserWarning: `model.predict_classes()` is deprecated and will be removed after 2021-01-01. Please use instead:* `np.argmax(model.predict(x), axis=-1)`,   if your model does multi-class classification   (e.g. if it uses a `softmax` last-layer activation).* `(model.predict(x) > 0.5).astype(\"int32\")`,   if your model does binary classification   (e.g. if it uses a `sigmoid` last-layer activation).\n",
            "  warnings.warn('`model.predict_classes()` is deprecated and '\n"
          ],
          "name": "stderr"
        },
        {
          "output_type": "stream",
          "text": [
            "Micro-averaged F1 score on test set: 0.388\n",
            "Accuracy Score:  0.38812301166489926\n",
            "----------\n",
            "\n",
            "SelfTrainingClassifier on 30% of the training data (rest is unlabeled):\n",
            "---------------------------------Threshold =  0.4 ---------------------------------\n",
            "Number of training samples: 6848\n",
            "Unlabeled samples in training set: 4307\n",
            "End of iteration 1, added 4307 new labels.\n"
          ],
          "name": "stdout"
        },
        {
          "output_type": "stream",
          "text": [
            "/usr/local/lib/python3.7/dist-packages/tensorflow/python/keras/engine/sequential.py:455: UserWarning: `model.predict_classes()` is deprecated and will be removed after 2021-01-01. Please use instead:* `np.argmax(model.predict(x), axis=-1)`,   if your model does multi-class classification   (e.g. if it uses a `softmax` last-layer activation).* `(model.predict(x) > 0.5).astype(\"int32\")`,   if your model does binary classification   (e.g. if it uses a `sigmoid` last-layer activation).\n",
            "  warnings.warn('`model.predict_classes()` is deprecated and '\n"
          ],
          "name": "stderr"
        },
        {
          "output_type": "stream",
          "text": [
            "Micro-averaged F1 score on test set: 0.356\n",
            "Accuracy Score:  0.3563096500530223\n",
            "----------\n",
            "\n",
            "---------------------------------Threshold =  0.5 ---------------------------------\n",
            "Number of training samples: 6848\n",
            "Unlabeled samples in training set: 4307\n",
            "End of iteration 1, added 4307 new labels.\n"
          ],
          "name": "stdout"
        },
        {
          "output_type": "stream",
          "text": [
            "/usr/local/lib/python3.7/dist-packages/tensorflow/python/keras/engine/sequential.py:455: UserWarning: `model.predict_classes()` is deprecated and will be removed after 2021-01-01. Please use instead:* `np.argmax(model.predict(x), axis=-1)`,   if your model does multi-class classification   (e.g. if it uses a `softmax` last-layer activation).* `(model.predict(x) > 0.5).astype(\"int32\")`,   if your model does binary classification   (e.g. if it uses a `sigmoid` last-layer activation).\n",
            "  warnings.warn('`model.predict_classes()` is deprecated and '\n"
          ],
          "name": "stderr"
        },
        {
          "output_type": "stream",
          "text": [
            "Micro-averaged F1 score on test set: 0.386\n",
            "Accuracy Score:  0.3856486390950866\n",
            "----------\n",
            "\n",
            "---------------------------------Threshold =  0.6 ---------------------------------\n",
            "Number of training samples: 6848\n",
            "Unlabeled samples in training set: 4307\n",
            "End of iteration 1, added 4307 new labels.\n"
          ],
          "name": "stdout"
        },
        {
          "output_type": "stream",
          "text": [
            "/usr/local/lib/python3.7/dist-packages/tensorflow/python/keras/engine/sequential.py:455: UserWarning: `model.predict_classes()` is deprecated and will be removed after 2021-01-01. Please use instead:* `np.argmax(model.predict(x), axis=-1)`,   if your model does multi-class classification   (e.g. if it uses a `softmax` last-layer activation).* `(model.predict(x) > 0.5).astype(\"int32\")`,   if your model does binary classification   (e.g. if it uses a `sigmoid` last-layer activation).\n",
            "  warnings.warn('`model.predict_classes()` is deprecated and '\n"
          ],
          "name": "stderr"
        },
        {
          "output_type": "stream",
          "text": [
            "Micro-averaged F1 score on test set: 0.383\n",
            "Accuracy Score:  0.3828207847295864\n",
            "----------\n",
            "\n",
            "---------------------------------Threshold =  0.7 ---------------------------------\n",
            "Number of training samples: 6848\n",
            "Unlabeled samples in training set: 4307\n",
            "End of iteration 1, added 4307 new labels.\n"
          ],
          "name": "stdout"
        },
        {
          "output_type": "stream",
          "text": [
            "/usr/local/lib/python3.7/dist-packages/tensorflow/python/keras/engine/sequential.py:455: UserWarning: `model.predict_classes()` is deprecated and will be removed after 2021-01-01. Please use instead:* `np.argmax(model.predict(x), axis=-1)`,   if your model does multi-class classification   (e.g. if it uses a `softmax` last-layer activation).* `(model.predict(x) > 0.5).astype(\"int32\")`,   if your model does binary classification   (e.g. if it uses a `sigmoid` last-layer activation).\n",
            "  warnings.warn('`model.predict_classes()` is deprecated and '\n"
          ],
          "name": "stderr"
        },
        {
          "output_type": "stream",
          "text": [
            "Micro-averaged F1 score on test set: 0.355\n",
            "Accuracy Score:  0.3552492046659597\n",
            "----------\n",
            "\n",
            "---------------------------------Threshold =  0.8 ---------------------------------\n",
            "Number of training samples: 6848\n",
            "Unlabeled samples in training set: 4307\n",
            "End of iteration 1, added 4307 new labels.\n"
          ],
          "name": "stdout"
        },
        {
          "output_type": "stream",
          "text": [
            "/usr/local/lib/python3.7/dist-packages/tensorflow/python/keras/engine/sequential.py:455: UserWarning: `model.predict_classes()` is deprecated and will be removed after 2021-01-01. Please use instead:* `np.argmax(model.predict(x), axis=-1)`,   if your model does multi-class classification   (e.g. if it uses a `softmax` last-layer activation).* `(model.predict(x) > 0.5).astype(\"int32\")`,   if your model does binary classification   (e.g. if it uses a `sigmoid` last-layer activation).\n",
            "  warnings.warn('`model.predict_classes()` is deprecated and '\n"
          ],
          "name": "stderr"
        },
        {
          "output_type": "stream",
          "text": [
            "Micro-averaged F1 score on test set: 0.374\n",
            "Accuracy Score:  0.37398373983739835\n",
            "----------\n",
            "\n",
            "~~~~~~~~~~~~~~~~~~~~~~~~~~~~~~~~~NewsGroup DATA with percentage_labeled = 40~~~~~~~~~~~~~~~~~~~~~~~~~~~~~~~~~\n",
            "Found 134142 unique tokens.\n",
            "Supervised MLPClassifier on 40% of the training data:\n",
            "Number of training samples: 3349\n",
            "Unlabeled samples in training set: 0\n"
          ],
          "name": "stdout"
        },
        {
          "output_type": "stream",
          "text": [
            "/usr/local/lib/python3.7/dist-packages/tensorflow/python/keras/engine/sequential.py:455: UserWarning: `model.predict_classes()` is deprecated and will be removed after 2021-01-01. Please use instead:* `np.argmax(model.predict(x), axis=-1)`,   if your model does multi-class classification   (e.g. if it uses a `softmax` last-layer activation).* `(model.predict(x) > 0.5).astype(\"int32\")`,   if your model does binary classification   (e.g. if it uses a `sigmoid` last-layer activation).\n",
            "  warnings.warn('`model.predict_classes()` is deprecated and '\n"
          ],
          "name": "stderr"
        },
        {
          "output_type": "stream",
          "text": [
            "Micro-averaged F1 score on test set: 0.423\n",
            "Accuracy Score:  0.42311770943796395\n",
            "----------\n",
            "\n",
            "SelfTrainingClassifier on 40% of the training data (rest is unlabeled):\n",
            "---------------------------------Threshold =  0.4 ---------------------------------\n",
            "Number of training samples: 7656\n",
            "Unlabeled samples in training set: 4307\n",
            "End of iteration 1, added 4307 new labels.\n"
          ],
          "name": "stdout"
        },
        {
          "output_type": "stream",
          "text": [
            "/usr/local/lib/python3.7/dist-packages/tensorflow/python/keras/engine/sequential.py:455: UserWarning: `model.predict_classes()` is deprecated and will be removed after 2021-01-01. Please use instead:* `np.argmax(model.predict(x), axis=-1)`,   if your model does multi-class classification   (e.g. if it uses a `softmax` last-layer activation).* `(model.predict(x) > 0.5).astype(\"int32\")`,   if your model does binary classification   (e.g. if it uses a `sigmoid` last-layer activation).\n",
            "  warnings.warn('`model.predict_classes()` is deprecated and '\n"
          ],
          "name": "stderr"
        },
        {
          "output_type": "stream",
          "text": [
            "Micro-averaged F1 score on test set: 0.433\n",
            "Accuracy Score:  0.4330151997172146\n",
            "----------\n",
            "\n",
            "---------------------------------Threshold =  0.5 ---------------------------------\n",
            "Number of training samples: 7656\n",
            "Unlabeled samples in training set: 4307\n",
            "End of iteration 1, added 4307 new labels.\n"
          ],
          "name": "stdout"
        },
        {
          "output_type": "stream",
          "text": [
            "/usr/local/lib/python3.7/dist-packages/tensorflow/python/keras/engine/sequential.py:455: UserWarning: `model.predict_classes()` is deprecated and will be removed after 2021-01-01. Please use instead:* `np.argmax(model.predict(x), axis=-1)`,   if your model does multi-class classification   (e.g. if it uses a `softmax` last-layer activation).* `(model.predict(x) > 0.5).astype(\"int32\")`,   if your model does binary classification   (e.g. if it uses a `sigmoid` last-layer activation).\n",
            "  warnings.warn('`model.predict_classes()` is deprecated and '\n"
          ],
          "name": "stderr"
        },
        {
          "output_type": "stream",
          "text": [
            "Micro-averaged F1 score on test set: 0.436\n",
            "Accuracy Score:  0.43619653587840224\n",
            "----------\n",
            "\n",
            "---------------------------------Threshold =  0.6 ---------------------------------\n",
            "Number of training samples: 7656\n",
            "Unlabeled samples in training set: 4307\n",
            "End of iteration 1, added 4307 new labels.\n"
          ],
          "name": "stdout"
        },
        {
          "output_type": "stream",
          "text": [
            "/usr/local/lib/python3.7/dist-packages/tensorflow/python/keras/engine/sequential.py:455: UserWarning: `model.predict_classes()` is deprecated and will be removed after 2021-01-01. Please use instead:* `np.argmax(model.predict(x), axis=-1)`,   if your model does multi-class classification   (e.g. if it uses a `softmax` last-layer activation).* `(model.predict(x) > 0.5).astype(\"int32\")`,   if your model does binary classification   (e.g. if it uses a `sigmoid` last-layer activation).\n",
            "  warnings.warn('`model.predict_classes()` is deprecated and '\n"
          ],
          "name": "stderr"
        },
        {
          "output_type": "stream",
          "text": [
            "Micro-averaged F1 score on test set: 0.421\n",
            "Accuracy Score:  0.4206433368681513\n",
            "----------\n",
            "\n",
            "---------------------------------Threshold =  0.7 ---------------------------------\n",
            "Number of training samples: 7656\n",
            "Unlabeled samples in training set: 4307\n",
            "End of iteration 1, added 4307 new labels.\n"
          ],
          "name": "stdout"
        },
        {
          "output_type": "stream",
          "text": [
            "/usr/local/lib/python3.7/dist-packages/tensorflow/python/keras/engine/sequential.py:455: UserWarning: `model.predict_classes()` is deprecated and will be removed after 2021-01-01. Please use instead:* `np.argmax(model.predict(x), axis=-1)`,   if your model does multi-class classification   (e.g. if it uses a `softmax` last-layer activation).* `(model.predict(x) > 0.5).astype(\"int32\")`,   if your model does binary classification   (e.g. if it uses a `sigmoid` last-layer activation).\n",
            "  warnings.warn('`model.predict_classes()` is deprecated and '\n"
          ],
          "name": "stderr"
        },
        {
          "output_type": "stream",
          "text": [
            "Micro-averaged F1 score on test set: 0.418\n",
            "Accuracy Score:  0.4181689642983386\n",
            "----------\n",
            "\n",
            "---------------------------------Threshold =  0.8 ---------------------------------\n",
            "Number of training samples: 7656\n",
            "Unlabeled samples in training set: 4307\n",
            "End of iteration 1, added 4307 new labels.\n"
          ],
          "name": "stdout"
        },
        {
          "output_type": "stream",
          "text": [
            "/usr/local/lib/python3.7/dist-packages/tensorflow/python/keras/engine/sequential.py:455: UserWarning: `model.predict_classes()` is deprecated and will be removed after 2021-01-01. Please use instead:* `np.argmax(model.predict(x), axis=-1)`,   if your model does multi-class classification   (e.g. if it uses a `softmax` last-layer activation).* `(model.predict(x) > 0.5).astype(\"int32\")`,   if your model does binary classification   (e.g. if it uses a `sigmoid` last-layer activation).\n",
            "  warnings.warn('`model.predict_classes()` is deprecated and '\n"
          ],
          "name": "stderr"
        },
        {
          "output_type": "stream",
          "text": [
            "Micro-averaged F1 score on test set: 0.431\n",
            "Accuracy Score:  0.4305408271474019\n",
            "----------\n",
            "\n",
            "~~~~~~~~~~~~~~~~~~~~~~~~~~~~~~~~~NewsGroup DATA with percentage_labeled = 50~~~~~~~~~~~~~~~~~~~~~~~~~~~~~~~~~\n",
            "Found 134142 unique tokens.\n",
            "Supervised MLPClassifier on 50% of the training data:\n",
            "Number of training samples: 4178\n",
            "Unlabeled samples in training set: 0\n"
          ],
          "name": "stdout"
        },
        {
          "output_type": "stream",
          "text": [
            "/usr/local/lib/python3.7/dist-packages/tensorflow/python/keras/engine/sequential.py:455: UserWarning: `model.predict_classes()` is deprecated and will be removed after 2021-01-01. Please use instead:* `np.argmax(model.predict(x), axis=-1)`,   if your model does multi-class classification   (e.g. if it uses a `softmax` last-layer activation).* `(model.predict(x) > 0.5).astype(\"int32\")`,   if your model does binary classification   (e.g. if it uses a `sigmoid` last-layer activation).\n",
            "  warnings.warn('`model.predict_classes()` is deprecated and '\n"
          ],
          "name": "stderr"
        },
        {
          "output_type": "stream",
          "text": [
            "Micro-averaged F1 score on test set: 0.461\n",
            "Accuracy Score:  0.46129374337221635\n",
            "----------\n",
            "\n",
            "SelfTrainingClassifier on 50% of the training data (rest is unlabeled):\n",
            "---------------------------------Threshold =  0.4 ---------------------------------\n",
            "Number of training samples: 8485\n",
            "Unlabeled samples in training set: 4307\n",
            "End of iteration 1, added 4307 new labels.\n"
          ],
          "name": "stdout"
        },
        {
          "output_type": "stream",
          "text": [
            "/usr/local/lib/python3.7/dist-packages/tensorflow/python/keras/engine/sequential.py:455: UserWarning: `model.predict_classes()` is deprecated and will be removed after 2021-01-01. Please use instead:* `np.argmax(model.predict(x), axis=-1)`,   if your model does multi-class classification   (e.g. if it uses a `softmax` last-layer activation).* `(model.predict(x) > 0.5).astype(\"int32\")`,   if your model does binary classification   (e.g. if it uses a `sigmoid` last-layer activation).\n",
            "  warnings.warn('`model.predict_classes()` is deprecated and '\n"
          ],
          "name": "stderr"
        },
        {
          "output_type": "stream",
          "text": [
            "Micro-averaged F1 score on test set: 0.451\n",
            "Accuracy Score:  0.45068928950159065\n",
            "----------\n",
            "\n",
            "---------------------------------Threshold =  0.5 ---------------------------------\n",
            "Number of training samples: 8485\n",
            "Unlabeled samples in training set: 4307\n",
            "End of iteration 1, added 4307 new labels.\n"
          ],
          "name": "stdout"
        },
        {
          "output_type": "stream",
          "text": [
            "/usr/local/lib/python3.7/dist-packages/tensorflow/python/keras/engine/sequential.py:455: UserWarning: `model.predict_classes()` is deprecated and will be removed after 2021-01-01. Please use instead:* `np.argmax(model.predict(x), axis=-1)`,   if your model does multi-class classification   (e.g. if it uses a `softmax` last-layer activation).* `(model.predict(x) > 0.5).astype(\"int32\")`,   if your model does binary classification   (e.g. if it uses a `sigmoid` last-layer activation).\n",
            "  warnings.warn('`model.predict_classes()` is deprecated and '\n"
          ],
          "name": "stderr"
        },
        {
          "output_type": "stream",
          "text": [
            "Micro-averaged F1 score on test set: 0.446\n",
            "Accuracy Score:  0.44574054436196536\n",
            "----------\n",
            "\n",
            "---------------------------------Threshold =  0.6 ---------------------------------\n",
            "Number of training samples: 8485\n",
            "Unlabeled samples in training set: 4307\n",
            "End of iteration 1, added 4307 new labels.\n"
          ],
          "name": "stdout"
        },
        {
          "output_type": "stream",
          "text": [
            "/usr/local/lib/python3.7/dist-packages/tensorflow/python/keras/engine/sequential.py:455: UserWarning: `model.predict_classes()` is deprecated and will be removed after 2021-01-01. Please use instead:* `np.argmax(model.predict(x), axis=-1)`,   if your model does multi-class classification   (e.g. if it uses a `softmax` last-layer activation).* `(model.predict(x) > 0.5).astype(\"int32\")`,   if your model does binary classification   (e.g. if it uses a `sigmoid` last-layer activation).\n",
            "  warnings.warn('`model.predict_classes()` is deprecated and '\n"
          ],
          "name": "stderr"
        },
        {
          "output_type": "stream",
          "text": [
            "Micro-averaged F1 score on test set: 0.458\n",
            "Accuracy Score:  0.45846588900671614\n",
            "----------\n",
            "\n",
            "---------------------------------Threshold =  0.7 ---------------------------------\n",
            "Number of training samples: 8485\n",
            "Unlabeled samples in training set: 4307\n",
            "End of iteration 1, added 4307 new labels.\n"
          ],
          "name": "stdout"
        },
        {
          "output_type": "stream",
          "text": [
            "/usr/local/lib/python3.7/dist-packages/tensorflow/python/keras/engine/sequential.py:455: UserWarning: `model.predict_classes()` is deprecated and will be removed after 2021-01-01. Please use instead:* `np.argmax(model.predict(x), axis=-1)`,   if your model does multi-class classification   (e.g. if it uses a `softmax` last-layer activation).* `(model.predict(x) > 0.5).astype(\"int32\")`,   if your model does binary classification   (e.g. if it uses a `sigmoid` last-layer activation).\n",
            "  warnings.warn('`model.predict_classes()` is deprecated and '\n"
          ],
          "name": "stderr"
        },
        {
          "output_type": "stream",
          "text": [
            "Micro-averaged F1 score on test set: 0.454\n",
            "Accuracy Score:  0.45422410745846586\n",
            "----------\n",
            "\n",
            "---------------------------------Threshold =  0.8 ---------------------------------\n",
            "Number of training samples: 8485\n",
            "Unlabeled samples in training set: 4307\n",
            "End of iteration 1, added 4307 new labels.\n"
          ],
          "name": "stdout"
        },
        {
          "output_type": "stream",
          "text": [
            "/usr/local/lib/python3.7/dist-packages/tensorflow/python/keras/engine/sequential.py:455: UserWarning: `model.predict_classes()` is deprecated and will be removed after 2021-01-01. Please use instead:* `np.argmax(model.predict(x), axis=-1)`,   if your model does multi-class classification   (e.g. if it uses a `softmax` last-layer activation).* `(model.predict(x) > 0.5).astype(\"int32\")`,   if your model does binary classification   (e.g. if it uses a `sigmoid` last-layer activation).\n",
            "  warnings.warn('`model.predict_classes()` is deprecated and '\n"
          ],
          "name": "stderr"
        },
        {
          "output_type": "stream",
          "text": [
            "Micro-averaged F1 score on test set: 0.445\n",
            "Accuracy Score:  0.4446800989749028\n",
            "----------\n",
            "\n"
          ],
          "name": "stdout"
        }
      ]
    },
    {
      "cell_type": "code",
      "metadata": {
        "id": "27ouXUdkUeuL"
      },
      "source": [
        "df_mlp_ng.to_excel('tf-mlp_ng_GloVE.xlsx')"
      ],
      "execution_count": null,
      "outputs": []
    },
    {
      "cell_type": "code",
      "metadata": {
        "id": "MaY9fKLPu_LI"
      },
      "source": [
        ""
      ],
      "execution_count": null,
      "outputs": []
    },
    {
      "cell_type": "markdown",
      "metadata": {
        "id": "ZWVGV4uBvBQO"
      },
      "source": [
        "# Enron\n",
        "\n",
        "1. MLP"
      ]
    },
    {
      "cell_type": "code",
      "metadata": {
        "id": "RLZRe4X4vD-4"
      },
      "source": [
        ""
      ],
      "execution_count": null,
      "outputs": []
    }
  ]
}