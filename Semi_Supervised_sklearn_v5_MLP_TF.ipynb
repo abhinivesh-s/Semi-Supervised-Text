{
  "nbformat": 4,
  "nbformat_minor": 0,
  "metadata": {
    "colab": {
      "name": "Semi-Supervised sklearn v5 MLP TF.ipynb",
      "provenance": [],
      "collapsed_sections": [],
      "machine_shape": "hm",
      "authorship_tag": "ABX9TyPG6k20eQlq3lEmC3cJJTRy",
      "include_colab_link": true
    },
    "kernelspec": {
      "name": "python3",
      "display_name": "Python 3"
    },
    "language_info": {
      "name": "python"
    },
    "accelerator": "GPU"
  },
  "cells": [
    {
      "cell_type": "markdown",
      "metadata": {
        "id": "view-in-github",
        "colab_type": "text"
      },
      "source": [
        "<a href=\"https://colab.research.google.com/github/abhinivesh-s/Semi-Supervised-Text/blob/main/Semi_Supervised_sklearn_v5_MLP_TF.ipynb\" target=\"_parent\"><img src=\"https://colab.research.google.com/assets/colab-badge.svg\" alt=\"Open In Colab\"/></a>"
      ]
    },
    {
      "cell_type": "code",
      "metadata": {
        "id": "C_pmDcpcfyaM"
      },
      "source": [
        "import numpy as np\n",
        "import pandas as pd\n",
        "import torch\n",
        "from torch.utils.data import Dataset\n",
        "import torch.utils.data as Data\n",
        "import pickle\n",
        "# TensorFlow and tf.keras\n",
        "import tensorflow as tf"
      ],
      "execution_count": null,
      "outputs": []
    },
    {
      "cell_type": "code",
      "metadata": {
        "colab": {
          "base_uri": "https://localhost:8080/"
        },
        "id": "Aa3rhWCfRR_v",
        "outputId": "de9394a3-6fa8-4492-9146-698eff71cc93"
      },
      "source": [
        "print(np.__version__)\n",
        "import sklearn\n",
        "print(sklearn.__version__)"
      ],
      "execution_count": null,
      "outputs": [
        {
          "output_type": "stream",
          "text": [
            "1.16.2\n",
            "0.24.2\n"
          ],
          "name": "stdout"
        }
      ]
    },
    {
      "cell_type": "code",
      "metadata": {
        "colab": {
          "base_uri": "https://localhost:8080/"
        },
        "id": "_CINtLiQgPlK",
        "outputId": "8fe084d9-7315-4063-830f-661420bba677"
      },
      "source": [
        "from google.colab import drive\n",
        "drive.mount('/content/drive')"
      ],
      "execution_count": null,
      "outputs": [
        {
          "output_type": "stream",
          "text": [
            "Mounted at /content/drive\n"
          ],
          "name": "stdout"
        }
      ]
    },
    {
      "cell_type": "code",
      "metadata": {
        "colab": {
          "base_uri": "https://localhost:8080/",
          "height": 412
        },
        "id": "7epwVF9xRFok",
        "outputId": "6dbaf47d-9b0f-47fd-cc08-e5757d53b094"
      },
      "source": [
        "!pip install numpy==1.16.2\n",
        "import numpy as np"
      ],
      "execution_count": null,
      "outputs": [
        {
          "output_type": "stream",
          "text": [
            "Collecting numpy==1.16.2\n",
            "\u001b[?25l  Downloading https://files.pythonhosted.org/packages/91/e7/6c780e612d245cca62bc3ba8e263038f7c144a96a54f877f3714a0e8427e/numpy-1.16.2-cp37-cp37m-manylinux1_x86_64.whl (17.3MB)\n",
            "\u001b[K     |████████████████████████████████| 17.3MB 292kB/s \n",
            "\u001b[31mERROR: xarray 0.18.2 has requirement numpy>=1.17, but you'll have numpy 1.16.2 which is incompatible.\u001b[0m\n",
            "\u001b[31mERROR: tensorflow 2.5.0 has requirement numpy~=1.19.2, but you'll have numpy 1.16.2 which is incompatible.\u001b[0m\n",
            "\u001b[31mERROR: pyerfa 2.0.0 has requirement numpy>=1.17, but you'll have numpy 1.16.2 which is incompatible.\u001b[0m\n",
            "\u001b[31mERROR: pyarrow 3.0.0 has requirement numpy>=1.16.6, but you'll have numpy 1.16.2 which is incompatible.\u001b[0m\n",
            "\u001b[31mERROR: kapre 0.3.5 has requirement numpy>=1.18.5, but you'll have numpy 1.16.2 which is incompatible.\u001b[0m\n",
            "\u001b[31mERROR: datascience 0.10.6 has requirement folium==0.2.1, but you'll have folium 0.8.3 which is incompatible.\u001b[0m\n",
            "\u001b[31mERROR: astropy 4.2.1 has requirement numpy>=1.17, but you'll have numpy 1.16.2 which is incompatible.\u001b[0m\n",
            "\u001b[31mERROR: albumentations 0.1.12 has requirement imgaug<0.2.7,>=0.2.5, but you'll have imgaug 0.2.9 which is incompatible.\u001b[0m\n",
            "\u001b[?25hInstalling collected packages: numpy\n",
            "  Found existing installation: numpy 1.19.5\n",
            "    Uninstalling numpy-1.19.5:\n",
            "      Successfully uninstalled numpy-1.19.5\n",
            "Successfully installed numpy-1.16.2\n"
          ],
          "name": "stdout"
        },
        {
          "output_type": "display_data",
          "data": {
            "application/vnd.colab-display-data+json": {
              "pip_warning": {
                "packages": [
                  "numpy"
                ]
              }
            }
          },
          "metadata": {
            "tags": []
          }
        }
      ]
    },
    {
      "cell_type": "code",
      "metadata": {
        "id": "ueImsZ8KKQKo",
        "colab": {
          "base_uri": "https://localhost:8080/"
        },
        "outputId": "72243e2e-3130-4280-c45d-08bb132260f4"
      },
      "source": [
        "!pip install --upgrade scikit-learn  # Do this to use sklearn SelfTrainingClassifier"
      ],
      "execution_count": null,
      "outputs": [
        {
          "output_type": "stream",
          "text": [
            "Collecting scikit-learn\n",
            "\u001b[?25l  Downloading https://files.pythonhosted.org/packages/a8/eb/a48f25c967526b66d5f1fa7a984594f0bf0a5afafa94a8c4dbc317744620/scikit_learn-0.24.2-cp37-cp37m-manylinux2010_x86_64.whl (22.3MB)\n",
            "\u001b[K     |████████████████████████████████| 22.3MB 1.4MB/s \n",
            "\u001b[?25hRequirement already satisfied, skipping upgrade: joblib>=0.11 in /usr/local/lib/python3.7/dist-packages (from scikit-learn) (1.0.1)\n",
            "Requirement already satisfied, skipping upgrade: scipy>=0.19.1 in /usr/local/lib/python3.7/dist-packages (from scikit-learn) (1.4.1)\n",
            "Requirement already satisfied, skipping upgrade: numpy>=1.13.3 in /usr/local/lib/python3.7/dist-packages (from scikit-learn) (1.16.2)\n",
            "Collecting threadpoolctl>=2.0.0\n",
            "  Downloading https://files.pythonhosted.org/packages/f7/12/ec3f2e203afa394a149911729357aa48affc59c20e2c1c8297a60f33f133/threadpoolctl-2.1.0-py3-none-any.whl\n",
            "\u001b[31mERROR: kapre 0.3.5 has requirement numpy>=1.18.5, but you'll have numpy 1.16.2 which is incompatible.\u001b[0m\n",
            "Installing collected packages: threadpoolctl, scikit-learn\n",
            "  Found existing installation: scikit-learn 0.22.2.post1\n",
            "    Uninstalling scikit-learn-0.22.2.post1:\n",
            "      Successfully uninstalled scikit-learn-0.22.2.post1\n",
            "Successfully installed scikit-learn-0.24.2 threadpoolctl-2.1.0\n"
          ],
          "name": "stdout"
        }
      ]
    },
    {
      "cell_type": "code",
      "metadata": {
        "id": "WMut3gWbQUxB"
      },
      "source": [
        ""
      ],
      "execution_count": null,
      "outputs": []
    },
    {
      "cell_type": "code",
      "metadata": {
        "colab": {
          "base_uri": "https://localhost:8080/"
        },
        "id": "feLsjKVQg-mk",
        "outputId": "2342c9d2-f1a5-4e0c-e791-25b8ddfde930"
      },
      "source": [
        "%cd \"/content/drive/My Drive/Colab Notebooks/MixText-master\"\n",
        "!ls"
      ],
      "execution_count": null,
      "outputs": [
        {
          "output_type": "stream",
          "text": [
            "/content/drive/My Drive/Colab Notebooks/MixText-master\n",
            " code\t     LICENSE\t\t\t'Running MixText v5 ISIS Data.ipynb'\n",
            " data\t     README.md\t\t\t'Semi-Supervised sklearn v2.ipynb'\n",
            " data_temp  'Running MixText v3.ipynb'\t word2vec_model.bin\n"
          ],
          "name": "stdout"
        }
      ]
    },
    {
      "cell_type": "code",
      "metadata": {
        "id": "9J5BgqtbO9Q8"
      },
      "source": [
        ""
      ],
      "execution_count": null,
      "outputs": []
    },
    {
      "cell_type": "code",
      "metadata": {
        "colab": {
          "base_uri": "https://localhost:8080/"
        },
        "id": "GuaecprcLFwE",
        "outputId": "162742eb-1c97-4d8d-a9b2-56680cb15ed4"
      },
      "source": [
        "import os\n",
        "\n",
        "import numpy as np\n",
        "from sklearn.preprocessing import FunctionTransformer\n",
        "from sklearn.datasets import fetch_20newsgroups\n",
        "from sklearn.feature_extraction.text import CountVectorizer\n",
        "from sklearn.feature_extraction.text import TfidfTransformer\n",
        "from sklearn.preprocessing import FunctionTransformer\n",
        "from sklearn.linear_model import SGDClassifier\n",
        "from sklearn.model_selection import train_test_split\n",
        "from sklearn.pipeline import Pipeline\n",
        "from sklearn.semi_supervised import SelfTrainingClassifier\n",
        "from sklearn.semi_supervised import LabelSpreading\n",
        "from sklearn.metrics import f1_score\n",
        "from sklearn.metrics import accuracy_score\n",
        "from sklearn.svm import SVC\n",
        "\n",
        "data = fetch_20newsgroups(subset='train', categories=None)\n",
        "print(\"%d documents\" % len(data.filenames))\n",
        "print(\"%d categories\" % len(data.target_names))\n",
        "print()\n",
        "\n",
        "\n",
        "def eval_and_print_metrics_df(clf, X_train, y_train, X_test, y_test, thresh = None, kbest = None):\n",
        "\n",
        "    dict1 = {}\n",
        "\n",
        "\n",
        "    print(\"Number of training samples:\", len(X_train))\n",
        "    print(\"Unlabeled samples in training set:\",\n",
        "          sum(1 for x in y_train if x == -1))\n",
        "    \n",
        "    dict1['Labeled'] = len(X_train) - sum(1 for x in y_train if x == -1)\n",
        "    dict1['UnLabeled'] = sum(1 for x in y_train if x == -1)\n",
        "\n",
        "\n",
        "    y_train = np.array(y_train)\n",
        "    y_test = np.array(y_test)\n",
        "    # if sum(1 for x in y_train if x == -1) == 0:\n",
        "    #     dict1['type'] = 'Supervised'\n",
        "    # else:\n",
        "    #     dict1['type'] = 'Semi-Supervised'\n",
        "\n",
        "    dict1['Threshold'] = thresh\n",
        "    dict1['K-Best'] = kbest\n",
        "\n",
        "    # print('y_train:', y_train)\n",
        "    with tf.device('/device:GPU:0'):\n",
        "      clf.fit(X_train, y_train)\n",
        "      y_pred = np.array(clf.predict(X_test))\n",
        "\n",
        "    print(\"Micro-averaged F1 score on test set: \"\n",
        "          \"%0.3f\" % f1_score(y_test, y_pred, average='micro'))\n",
        "    print(\"Accuracy Score: \", accuracy_score(y_test, y_pred))\n",
        "\n",
        "    dict1['Accuracy'] = accuracy_score(y_test, y_pred)\n",
        "\n",
        "    print(\"-\" * 10)\n",
        "    print()\n",
        "\n",
        "    return dict1\n",
        "\n",
        "\n"
      ],
      "execution_count": null,
      "outputs": [
        {
          "output_type": "stream",
          "text": [
            "11314 documents\n",
            "20 categories\n",
            "\n"
          ],
          "name": "stdout"
        }
      ]
    },
    {
      "cell_type": "code",
      "metadata": {
        "id": "agoXVj3bbmKv"
      },
      "source": [
        "from keras.wrappers.scikit_learn import KerasClassifier\n",
        "\n",
        "tf.random.set_seed(0)\n",
        "def create_model():\n",
        "  model = tf.keras.Sequential([\n",
        "      tf.keras.layers.Dense(100, activation='relu'),\n",
        "      tf.keras.layers.Dense(50),\n",
        "  ])\n",
        "\n",
        "  model.compile(optimizer='adam',\n",
        "                loss=tf.keras.losses.SparseCategoricalCrossentropy(from_logits=True),\n",
        "                # loss='categorical_crossentropy',\n",
        "                metrics=['accuracy'])\n",
        "  \n",
        "  return model\n",
        "\n",
        "\n",
        "\n",
        "model = KerasClassifier(build_fn=create_model, epochs=20, verbose=0)"
      ],
      "execution_count": null,
      "outputs": []
    },
    {
      "cell_type": "code",
      "metadata": {
        "id": "PoeZy4Br3xYO"
      },
      "source": [
        "# def vectorize_data(data, vocab: dict) -> list:\n",
        "#     keys = list(vocab.keys())\n",
        "#     filter_unknown = lambda word: vocab.get(word, None) is not None\n",
        "#     encode = lambda review: list(map(keys.index, filter(filter_unknown, review)))\n",
        "#     vectorized = list(map(encode, data))\n",
        "#     print('Vectorize sentences... (done)')\n",
        "#     return vectorized"
      ],
      "execution_count": null,
      "outputs": []
    },
    {
      "cell_type": "code",
      "metadata": {
        "colab": {
          "base_uri": "https://localhost:8080/"
        },
        "id": "FZQqQjtb6N45",
        "outputId": "65914231-a24a-482f-f16f-4dcb10c41a2a"
      },
      "source": [
        "%%time\n",
        "# MLP for NG\n",
        "from sklearn.neural_network import MLPClassifier\n",
        "\n",
        "# Tools for creating ngrams and vectorizing input data\n",
        "from gensim.models import Word2Vec, Phrases\n",
        "\n",
        "from keras.layers.embeddings import Embedding\n",
        "from keras.preprocessing.sequence import pad_sequences\n",
        "\n",
        "# Parameters\n",
        "# mlp_params = dict(hidden_layer_sizes=(100,50), max_iter=100,activation = 'relu',solver='adam',random_state=1,learning_rate_init=0.01,\n",
        "#                   learning_rate='adaptive')\n",
        "vectorizer_params = dict(ngram_range=(1, 2), min_df=5, max_df=0.8, max_features=30000)\n",
        "\n",
        "\n",
        "df_mlp_ng = pd.DataFrame()\n",
        "\n",
        "n_list = [10, 20, 30, 40, 50]\n",
        "kbest_list=[4, 5, 6, 7, 8]\n",
        "threshold = [0.4, 0.5, 0.6, 0.7, 0.8]\n",
        "\n",
        "\n",
        "X, y = data.data, data.target\n",
        "# embedding_vector_size = 256\n",
        "# trigrams_model = Word2Vec(sentences = X, size = embedding_vector_size, min_count=3, window=5, workers=4)"
      ],
      "execution_count": null,
      "outputs": [
        {
          "output_type": "stream",
          "text": [
            "CPU times: user 717 µs, sys: 0 ns, total: 717 µs\n",
            "Wall time: 725 µs\n"
          ],
          "name": "stdout"
        }
      ]
    },
    {
      "cell_type": "code",
      "metadata": {
        "id": "vADSNzoftiZ4",
        "colab": {
          "base_uri": "https://localhost:8080/"
        },
        "outputId": "e0cb1cce-2728-4ced-893c-900be595f345"
      },
      "source": [
        "# %%time\n",
        "for n in n_list:    \n",
        "  tf.keras.backend.clear_session()  \n",
        "  print(\"~~~~~~~~~~~~~~~~~~~~~~~~~~~~~~~~~NewsGroup DATA with percentage_labeled = \"+str(n)+\"~~~~~~~~~~~~~~~~~~~~~~~~~~~~~~~~~\")\n",
        "  \n",
        "  X_train, X_test, y_train, y_test = train_test_split(X, y, random_state=0)\n",
        "\n",
        "  # print(\"Supervised SGDClassifier on 100% of the data:\")\n",
        "  # eval_and_print_metrics(pipeline, X_train, y_train, X_test, y_test)\n",
        "\n",
        "  np.random.seed(0)\n",
        "\n",
        "\n",
        "\n",
        "  unlabeled_mask = np.random.rand(len(y_train)) < 0.5\n",
        "  X_u50, y_u50 = map(list, zip(*((x, y)\n",
        "                  for x, y, m in zip(X_train, y_train, unlabeled_mask) if m)))\n",
        "  \n",
        "  # X_u50 = np.array(X_u50)\n",
        "  y_u50 = np.array([-1 for i in y_u50])\n",
        "\n",
        "  X_50, y_50 = map(list, zip(*((x, y)\n",
        "            for x, y, m in zip(X_train, y_train, unlabeled_mask) if ~m)))\n",
        "  # X_50 = np.array(X_50)\n",
        "  # y_50 = np.array(y_50)\n",
        "\n",
        "\n",
        "\n",
        "\n",
        "\n",
        "  percentage = 2*(n/100)\n",
        "  y_mask = np.random.rand(len(y_50)) < percentage\n",
        "\n",
        "  # X_20 and y_20 are the subset of the train dataset indicated by the mask\n",
        "  X_20, y_20 = map(list, zip(*((x, y)\n",
        "                  for x, y, m in zip(X_50, y_50, y_mask) if m)))\n",
        "\n",
        "  print(\"Supervised MLPClassifier on \"+str(n)+\"% of the training data:\")\n",
        "\n",
        "\n",
        "\n",
        "\n",
        "  # print(len(X_20),\"SHAPE\")\n",
        "\n",
        "\n",
        "\n",
        "  pipeline = Pipeline([\n",
        "      ('vect', CountVectorizer(**vectorizer_params)),\n",
        "      ('tfidf', TfidfTransformer()), \n",
        "      # ('kbest', MySelectKBest(f_classif, k=20000)),         \n",
        "      ('dense', FunctionTransformer(lambda x: x.toarray(), accept_sparse=True)),\n",
        "      ('clf', model)\n",
        "  ])\n",
        "\n",
        "  \n",
        "\n",
        "\n",
        "\n",
        "  temp = eval_and_print_metrics_df(pipeline, X_20, y_20, X_test, y_test, thresh = None, kbest = None)\n",
        "  df_mlp_ng = df_mlp_ng.append(temp, ignore_index=True)\n",
        "\n",
        "  # set the non-masked subset to be unlabeled\n",
        "  # set only 50% of data to be unlabeled in every iteration of training.\n",
        "  print(\"SelfTrainingClassifier on \"+str(n)+\"% of the training data (rest \"\n",
        "        \"is unlabeled):\")\n",
        "  for t in threshold:\n",
        "    print(\"---------------------------------Threshold = \", t,\"---------------------------------\")\n",
        "    tf.keras.backend.clear_session()\n",
        "  \n",
        "  # X_50, y_50 = map(list, zip(*((x, y)\n",
        "  #                 for x, y, m in zip(X_train, y_train, y_mask) if m)))\n",
        "    # SelfTraining Pipeline\n",
        "    \n",
        "    st_pipeline = Pipeline([\n",
        "        ('vect', CountVectorizer(**vectorizer_params)),\n",
        "        ('tfidf', TfidfTransformer()),\n",
        "        # ('kbest', MySelectKBest(f_classif, k=20000)),\n",
        "        ('dense', FunctionTransformer(lambda x: x.toarray(), accept_sparse=True)),\n",
        "        ('clf', SelfTrainingClassifier(model, criterion = 'threshold', threshold = t, verbose=True)),\n",
        "    ])\n",
        "\n",
        "    \n",
        "\n",
        "\n",
        "    temp = eval_and_print_metrics_df(st_pipeline, np.concatenate((X_20,X_u50)), np.concatenate((y_20, y_u50)), X_test, y_test, thresh = t, kbest = None)\n",
        "    df_mlp_ng = df_mlp_ng.append(temp, ignore_index=True)\n",
        "\n",
        "\n"
      ],
      "execution_count": null,
      "outputs": [
        {
          "output_type": "stream",
          "text": [
            "~~~~~~~~~~~~~~~~~~~~~~~~~~~~~~~~~NewsGroup DATA with percentage_labeled = 10~~~~~~~~~~~~~~~~~~~~~~~~~~~~~~~~~\n",
            "Supervised MLPClassifier on 10% of the training data:\n",
            "Number of training samples: 869\n",
            "Unlabeled samples in training set: 0\n"
          ],
          "name": "stdout"
        },
        {
          "output_type": "stream",
          "text": [
            "/usr/local/lib/python3.7/dist-packages/tensorflow/python/keras/engine/sequential.py:455: UserWarning: `model.predict_classes()` is deprecated and will be removed after 2021-01-01. Please use instead:* `np.argmax(model.predict(x), axis=-1)`,   if your model does multi-class classification   (e.g. if it uses a `softmax` last-layer activation).* `(model.predict(x) > 0.5).astype(\"int32\")`,   if your model does binary classification   (e.g. if it uses a `sigmoid` last-layer activation).\n",
            "  warnings.warn('`model.predict_classes()` is deprecated and '\n"
          ],
          "name": "stderr"
        },
        {
          "output_type": "stream",
          "text": [
            "Micro-averaged F1 score on test set: 0.711\n",
            "Accuracy Score:  0.7112053729232944\n",
            "----------\n",
            "\n",
            "SelfTrainingClassifier on 10% of the training data (rest is unlabeled):\n",
            "---------------------------------Threshold =  0.4 ---------------------------------\n",
            "Number of training samples: 5176\n",
            "Unlabeled samples in training set: 4307\n",
            "End of iteration 1, added 4160 new labels.\n",
            "End of iteration 2, added 145 new labels.\n",
            "End of iteration 3, added 1 new labels.\n",
            "WARNING:tensorflow:5 out of the last 143 calls to <function Model.make_predict_function.<locals>.predict_function at 0x7f544068c830> triggered tf.function retracing. Tracing is expensive and the excessive number of tracings could be due to (1) creating @tf.function repeatedly in a loop, (2) passing tensors with different shapes, (3) passing Python objects instead of tensors. For (1), please define your @tf.function outside of the loop. For (2), @tf.function has experimental_relax_shapes=True option that relaxes argument shapes that can avoid unnecessary retracing. For (3), please refer to https://www.tensorflow.org/guide/function#controlling_retracing and https://www.tensorflow.org/api_docs/python/tf/function for  more details.\n"
          ],
          "name": "stdout"
        },
        {
          "output_type": "stream",
          "text": [
            "/usr/local/lib/python3.7/dist-packages/tensorflow/python/keras/engine/sequential.py:455: UserWarning: `model.predict_classes()` is deprecated and will be removed after 2021-01-01. Please use instead:* `np.argmax(model.predict(x), axis=-1)`,   if your model does multi-class classification   (e.g. if it uses a `softmax` last-layer activation).* `(model.predict(x) > 0.5).astype(\"int32\")`,   if your model does binary classification   (e.g. if it uses a `sigmoid` last-layer activation).\n",
            "  warnings.warn('`model.predict_classes()` is deprecated and '\n"
          ],
          "name": "stderr"
        },
        {
          "output_type": "stream",
          "text": [
            "Micro-averaged F1 score on test set: 0.782\n",
            "Accuracy Score:  0.7815482502651113\n",
            "----------\n",
            "\n",
            "---------------------------------Threshold =  0.5 ---------------------------------\n",
            "Number of training samples: 5176\n",
            "Unlabeled samples in training set: 4307\n",
            "End of iteration 1, added 4250 new labels.\n",
            "End of iteration 2, added 55 new labels.\n",
            "End of iteration 3, added 1 new labels.\n",
            "WARNING:tensorflow:5 out of the last 140 calls to <function Model.make_predict_function.<locals>.predict_function at 0x7f543978c560> triggered tf.function retracing. Tracing is expensive and the excessive number of tracings could be due to (1) creating @tf.function repeatedly in a loop, (2) passing tensors with different shapes, (3) passing Python objects instead of tensors. For (1), please define your @tf.function outside of the loop. For (2), @tf.function has experimental_relax_shapes=True option that relaxes argument shapes that can avoid unnecessary retracing. For (3), please refer to https://www.tensorflow.org/guide/function#controlling_retracing and https://www.tensorflow.org/api_docs/python/tf/function for  more details.\n"
          ],
          "name": "stdout"
        },
        {
          "output_type": "stream",
          "text": [
            "/usr/local/lib/python3.7/dist-packages/tensorflow/python/keras/engine/sequential.py:455: UserWarning: `model.predict_classes()` is deprecated and will be removed after 2021-01-01. Please use instead:* `np.argmax(model.predict(x), axis=-1)`,   if your model does multi-class classification   (e.g. if it uses a `softmax` last-layer activation).* `(model.predict(x) > 0.5).astype(\"int32\")`,   if your model does binary classification   (e.g. if it uses a `sigmoid` last-layer activation).\n",
            "  warnings.warn('`model.predict_classes()` is deprecated and '\n"
          ],
          "name": "stderr"
        },
        {
          "output_type": "stream",
          "text": [
            "Micro-averaged F1 score on test set: 0.778\n",
            "Accuracy Score:  0.7776599505125487\n",
            "----------\n",
            "\n",
            "---------------------------------Threshold =  0.6 ---------------------------------\n",
            "Number of training samples: 5176\n",
            "Unlabeled samples in training set: 4307\n",
            "End of iteration 1, added 4035 new labels.\n",
            "End of iteration 2, added 267 new labels.\n",
            "End of iteration 3, added 1 new labels.\n"
          ],
          "name": "stdout"
        },
        {
          "output_type": "stream",
          "text": [
            "/usr/local/lib/python3.7/dist-packages/tensorflow/python/keras/engine/sequential.py:455: UserWarning: `model.predict_classes()` is deprecated and will be removed after 2021-01-01. Please use instead:* `np.argmax(model.predict(x), axis=-1)`,   if your model does multi-class classification   (e.g. if it uses a `softmax` last-layer activation).* `(model.predict(x) > 0.5).astype(\"int32\")`,   if your model does binary classification   (e.g. if it uses a `sigmoid` last-layer activation).\n",
            "  warnings.warn('`model.predict_classes()` is deprecated and '\n"
          ],
          "name": "stderr"
        },
        {
          "output_type": "stream",
          "text": [
            "Micro-averaged F1 score on test set: 0.780\n",
            "Accuracy Score:  0.7801343230823613\n",
            "----------\n",
            "\n",
            "---------------------------------Threshold =  0.7 ---------------------------------\n",
            "Number of training samples: 5176\n",
            "Unlabeled samples in training set: 4307\n",
            "End of iteration 1, added 4236 new labels.\n",
            "End of iteration 2, added 68 new labels.\n"
          ],
          "name": "stdout"
        },
        {
          "output_type": "stream",
          "text": [
            "/usr/local/lib/python3.7/dist-packages/tensorflow/python/keras/engine/sequential.py:455: UserWarning: `model.predict_classes()` is deprecated and will be removed after 2021-01-01. Please use instead:* `np.argmax(model.predict(x), axis=-1)`,   if your model does multi-class classification   (e.g. if it uses a `softmax` last-layer activation).* `(model.predict(x) > 0.5).astype(\"int32\")`,   if your model does binary classification   (e.g. if it uses a `sigmoid` last-layer activation).\n",
            "  warnings.warn('`model.predict_classes()` is deprecated and '\n"
          ],
          "name": "stderr"
        },
        {
          "output_type": "stream",
          "text": [
            "Micro-averaged F1 score on test set: 0.774\n",
            "Accuracy Score:  0.7744786143513609\n",
            "----------\n",
            "\n",
            "---------------------------------Threshold =  0.8 ---------------------------------\n",
            "Number of training samples: 5176\n",
            "Unlabeled samples in training set: 4307\n",
            "End of iteration 1, added 3911 new labels.\n",
            "End of iteration 2, added 364 new labels.\n",
            "End of iteration 3, added 26 new labels.\n"
          ],
          "name": "stdout"
        },
        {
          "output_type": "stream",
          "text": [
            "/usr/local/lib/python3.7/dist-packages/tensorflow/python/keras/engine/sequential.py:455: UserWarning: `model.predict_classes()` is deprecated and will be removed after 2021-01-01. Please use instead:* `np.argmax(model.predict(x), axis=-1)`,   if your model does multi-class classification   (e.g. if it uses a `softmax` last-layer activation).* `(model.predict(x) > 0.5).astype(\"int32\")`,   if your model does binary classification   (e.g. if it uses a `sigmoid` last-layer activation).\n",
            "  warnings.warn('`model.predict_classes()` is deprecated and '\n"
          ],
          "name": "stderr"
        },
        {
          "output_type": "stream",
          "text": [
            "Micro-averaged F1 score on test set: 0.780\n",
            "Accuracy Score:  0.7804878048780488\n",
            "----------\n",
            "\n",
            "~~~~~~~~~~~~~~~~~~~~~~~~~~~~~~~~~NewsGroup DATA with percentage_labeled = 20~~~~~~~~~~~~~~~~~~~~~~~~~~~~~~~~~\n",
            "Supervised MLPClassifier on 20% of the training data:\n",
            "Number of training samples: 1695\n",
            "Unlabeled samples in training set: 0\n"
          ],
          "name": "stdout"
        },
        {
          "output_type": "stream",
          "text": [
            "/usr/local/lib/python3.7/dist-packages/tensorflow/python/keras/engine/sequential.py:455: UserWarning: `model.predict_classes()` is deprecated and will be removed after 2021-01-01. Please use instead:* `np.argmax(model.predict(x), axis=-1)`,   if your model does multi-class classification   (e.g. if it uses a `softmax` last-layer activation).* `(model.predict(x) > 0.5).astype(\"int32\")`,   if your model does binary classification   (e.g. if it uses a `sigmoid` last-layer activation).\n",
            "  warnings.warn('`model.predict_classes()` is deprecated and '\n"
          ],
          "name": "stderr"
        },
        {
          "output_type": "stream",
          "text": [
            "Micro-averaged F1 score on test set: 0.796\n",
            "Accuracy Score:  0.7960410038882998\n",
            "----------\n",
            "\n",
            "SelfTrainingClassifier on 20% of the training data (rest is unlabeled):\n",
            "---------------------------------Threshold =  0.4 ---------------------------------\n",
            "Number of training samples: 6002\n",
            "Unlabeled samples in training set: 4307\n",
            "End of iteration 1, added 4307 new labels.\n"
          ],
          "name": "stdout"
        },
        {
          "output_type": "stream",
          "text": [
            "/usr/local/lib/python3.7/dist-packages/tensorflow/python/keras/engine/sequential.py:455: UserWarning: `model.predict_classes()` is deprecated and will be removed after 2021-01-01. Please use instead:* `np.argmax(model.predict(x), axis=-1)`,   if your model does multi-class classification   (e.g. if it uses a `softmax` last-layer activation).* `(model.predict(x) > 0.5).astype(\"int32\")`,   if your model does binary classification   (e.g. if it uses a `sigmoid` last-layer activation).\n",
            "  warnings.warn('`model.predict_classes()` is deprecated and '\n"
          ],
          "name": "stderr"
        },
        {
          "output_type": "stream",
          "text": [
            "Micro-averaged F1 score on test set: 0.840\n",
            "Accuracy Score:  0.839519264757865\n",
            "----------\n",
            "\n",
            "---------------------------------Threshold =  0.5 ---------------------------------\n",
            "Number of training samples: 6002\n",
            "Unlabeled samples in training set: 4307\n",
            "End of iteration 1, added 4304 new labels.\n",
            "End of iteration 2, added 2 new labels.\n",
            "End of iteration 3, added 1 new labels.\n"
          ],
          "name": "stdout"
        },
        {
          "output_type": "stream",
          "text": [
            "/usr/local/lib/python3.7/dist-packages/tensorflow/python/keras/engine/sequential.py:455: UserWarning: `model.predict_classes()` is deprecated and will be removed after 2021-01-01. Please use instead:* `np.argmax(model.predict(x), axis=-1)`,   if your model does multi-class classification   (e.g. if it uses a `softmax` last-layer activation).* `(model.predict(x) > 0.5).astype(\"int32\")`,   if your model does binary classification   (e.g. if it uses a `sigmoid` last-layer activation).\n",
            "  warnings.warn('`model.predict_classes()` is deprecated and '\n"
          ],
          "name": "stderr"
        },
        {
          "output_type": "stream",
          "text": [
            "Micro-averaged F1 score on test set: 0.831\n",
            "Accuracy Score:  0.8306822198656769\n",
            "----------\n",
            "\n",
            "---------------------------------Threshold =  0.6 ---------------------------------\n",
            "Number of training samples: 6002\n",
            "Unlabeled samples in training set: 4307\n",
            "End of iteration 1, added 4294 new labels.\n",
            "End of iteration 2, added 11 new labels.\n",
            "End of iteration 3, added 1 new labels.\n"
          ],
          "name": "stdout"
        },
        {
          "output_type": "stream",
          "text": [
            "/usr/local/lib/python3.7/dist-packages/tensorflow/python/keras/engine/sequential.py:455: UserWarning: `model.predict_classes()` is deprecated and will be removed after 2021-01-01. Please use instead:* `np.argmax(model.predict(x), axis=-1)`,   if your model does multi-class classification   (e.g. if it uses a `softmax` last-layer activation).* `(model.predict(x) > 0.5).astype(\"int32\")`,   if your model does binary classification   (e.g. if it uses a `sigmoid` last-layer activation).\n",
            "  warnings.warn('`model.predict_classes()` is deprecated and '\n"
          ],
          "name": "stderr"
        },
        {
          "output_type": "stream",
          "text": [
            "Micro-averaged F1 score on test set: 0.838\n",
            "Accuracy Score:  0.8377518557794273\n",
            "----------\n",
            "\n",
            "---------------------------------Threshold =  0.7 ---------------------------------\n",
            "Number of training samples: 6002\n",
            "Unlabeled samples in training set: 4307\n",
            "End of iteration 1, added 4259 new labels.\n",
            "End of iteration 2, added 41 new labels.\n",
            "End of iteration 3, added 5 new labels.\n"
          ],
          "name": "stdout"
        },
        {
          "output_type": "stream",
          "text": [
            "/usr/local/lib/python3.7/dist-packages/tensorflow/python/keras/engine/sequential.py:455: UserWarning: `model.predict_classes()` is deprecated and will be removed after 2021-01-01. Please use instead:* `np.argmax(model.predict(x), axis=-1)`,   if your model does multi-class classification   (e.g. if it uses a `softmax` last-layer activation).* `(model.predict(x) > 0.5).astype(\"int32\")`,   if your model does binary classification   (e.g. if it uses a `sigmoid` last-layer activation).\n",
            "  warnings.warn('`model.predict_classes()` is deprecated and '\n"
          ],
          "name": "stderr"
        },
        {
          "output_type": "stream",
          "text": [
            "Micro-averaged F1 score on test set: 0.833\n",
            "Accuracy Score:  0.8331565924354896\n",
            "----------\n",
            "\n",
            "---------------------------------Threshold =  0.8 ---------------------------------\n",
            "Number of training samples: 6002\n",
            "Unlabeled samples in training set: 4307\n",
            "End of iteration 1, added 4239 new labels.\n",
            "End of iteration 2, added 62 new labels.\n",
            "End of iteration 3, added 1 new labels.\n",
            "End of iteration 4, added 2 new labels.\n",
            "End of iteration 5, added 1 new labels.\n"
          ],
          "name": "stdout"
        },
        {
          "output_type": "stream",
          "text": [
            "/usr/local/lib/python3.7/dist-packages/tensorflow/python/keras/engine/sequential.py:455: UserWarning: `model.predict_classes()` is deprecated and will be removed after 2021-01-01. Please use instead:* `np.argmax(model.predict(x), axis=-1)`,   if your model does multi-class classification   (e.g. if it uses a `softmax` last-layer activation).* `(model.predict(x) > 0.5).astype(\"int32\")`,   if your model does binary classification   (e.g. if it uses a `sigmoid` last-layer activation).\n",
            "  warnings.warn('`model.predict_classes()` is deprecated and '\n"
          ],
          "name": "stderr"
        },
        {
          "output_type": "stream",
          "text": [
            "Micro-averaged F1 score on test set: 0.835\n",
            "Accuracy Score:  0.8352774832096147\n",
            "----------\n",
            "\n",
            "~~~~~~~~~~~~~~~~~~~~~~~~~~~~~~~~~NewsGroup DATA with percentage_labeled = 30~~~~~~~~~~~~~~~~~~~~~~~~~~~~~~~~~\n",
            "Supervised MLPClassifier on 30% of the training data:\n",
            "Number of training samples: 2541\n",
            "Unlabeled samples in training set: 0\n"
          ],
          "name": "stdout"
        },
        {
          "output_type": "stream",
          "text": [
            "/usr/local/lib/python3.7/dist-packages/tensorflow/python/keras/engine/sequential.py:455: UserWarning: `model.predict_classes()` is deprecated and will be removed after 2021-01-01. Please use instead:* `np.argmax(model.predict(x), axis=-1)`,   if your model does multi-class classification   (e.g. if it uses a `softmax` last-layer activation).* `(model.predict(x) > 0.5).astype(\"int32\")`,   if your model does binary classification   (e.g. if it uses a `sigmoid` last-layer activation).\n",
            "  warnings.warn('`model.predict_classes()` is deprecated and '\n"
          ],
          "name": "stderr"
        },
        {
          "output_type": "stream",
          "text": [
            "Micro-averaged F1 score on test set: 0.840\n",
            "Accuracy Score:  0.839519264757865\n",
            "----------\n",
            "\n",
            "SelfTrainingClassifier on 30% of the training data (rest is unlabeled):\n",
            "---------------------------------Threshold =  0.4 ---------------------------------\n",
            "Number of training samples: 6848\n",
            "Unlabeled samples in training set: 4307\n",
            "End of iteration 1, added 4307 new labels.\n"
          ],
          "name": "stdout"
        },
        {
          "output_type": "stream",
          "text": [
            "/usr/local/lib/python3.7/dist-packages/tensorflow/python/keras/engine/sequential.py:455: UserWarning: `model.predict_classes()` is deprecated and will be removed after 2021-01-01. Please use instead:* `np.argmax(model.predict(x), axis=-1)`,   if your model does multi-class classification   (e.g. if it uses a `softmax` last-layer activation).* `(model.predict(x) > 0.5).astype(\"int32\")`,   if your model does binary classification   (e.g. if it uses a `sigmoid` last-layer activation).\n",
            "  warnings.warn('`model.predict_classes()` is deprecated and '\n"
          ],
          "name": "stderr"
        },
        {
          "output_type": "stream",
          "text": [
            "Micro-averaged F1 score on test set: 0.857\n",
            "Accuracy Score:  0.8568398727465536\n",
            "----------\n",
            "\n",
            "---------------------------------Threshold =  0.5 ---------------------------------\n",
            "Number of training samples: 6848\n",
            "Unlabeled samples in training set: 4307\n",
            "End of iteration 1, added 4305 new labels.\n",
            "End of iteration 2, added 1 new labels.\n"
          ],
          "name": "stdout"
        },
        {
          "output_type": "stream",
          "text": [
            "/usr/local/lib/python3.7/dist-packages/tensorflow/python/keras/engine/sequential.py:455: UserWarning: `model.predict_classes()` is deprecated and will be removed after 2021-01-01. Please use instead:* `np.argmax(model.predict(x), axis=-1)`,   if your model does multi-class classification   (e.g. if it uses a `softmax` last-layer activation).* `(model.predict(x) > 0.5).astype(\"int32\")`,   if your model does binary classification   (e.g. if it uses a `sigmoid` last-layer activation).\n",
            "  warnings.warn('`model.predict_classes()` is deprecated and '\n"
          ],
          "name": "stderr"
        },
        {
          "output_type": "stream",
          "text": [
            "Micro-averaged F1 score on test set: 0.858\n",
            "Accuracy Score:  0.8575468363379286\n",
            "----------\n",
            "\n",
            "---------------------------------Threshold =  0.6 ---------------------------------\n",
            "Number of training samples: 6848\n",
            "Unlabeled samples in training set: 4307\n",
            "End of iteration 1, added 4304 new labels.\n",
            "End of iteration 2, added 2 new labels.\n",
            "End of iteration 3, added 1 new labels.\n"
          ],
          "name": "stdout"
        },
        {
          "output_type": "stream",
          "text": [
            "/usr/local/lib/python3.7/dist-packages/tensorflow/python/keras/engine/sequential.py:455: UserWarning: `model.predict_classes()` is deprecated and will be removed after 2021-01-01. Please use instead:* `np.argmax(model.predict(x), axis=-1)`,   if your model does multi-class classification   (e.g. if it uses a `softmax` last-layer activation).* `(model.predict(x) > 0.5).astype(\"int32\")`,   if your model does binary classification   (e.g. if it uses a `sigmoid` last-layer activation).\n",
            "  warnings.warn('`model.predict_classes()` is deprecated and '\n"
          ],
          "name": "stderr"
        },
        {
          "output_type": "stream",
          "text": [
            "Micro-averaged F1 score on test set: 0.857\n",
            "Accuracy Score:  0.8568398727465536\n",
            "----------\n",
            "\n",
            "---------------------------------Threshold =  0.7 ---------------------------------\n",
            "Number of training samples: 6848\n",
            "Unlabeled samples in training set: 4307\n",
            "End of iteration 1, added 4284 new labels.\n",
            "End of iteration 2, added 21 new labels.\n"
          ],
          "name": "stdout"
        },
        {
          "output_type": "stream",
          "text": [
            "/usr/local/lib/python3.7/dist-packages/tensorflow/python/keras/engine/sequential.py:455: UserWarning: `model.predict_classes()` is deprecated and will be removed after 2021-01-01. Please use instead:* `np.argmax(model.predict(x), axis=-1)`,   if your model does multi-class classification   (e.g. if it uses a `softmax` last-layer activation).* `(model.predict(x) > 0.5).astype(\"int32\")`,   if your model does binary classification   (e.g. if it uses a `sigmoid` last-layer activation).\n",
            "  warnings.warn('`model.predict_classes()` is deprecated and '\n"
          ],
          "name": "stderr"
        },
        {
          "output_type": "stream",
          "text": [
            "Micro-averaged F1 score on test set: 0.858\n",
            "Accuracy Score:  0.8575468363379286\n",
            "----------\n",
            "\n",
            "---------------------------------Threshold =  0.8 ---------------------------------\n",
            "Number of training samples: 6848\n",
            "Unlabeled samples in training set: 4307\n",
            "End of iteration 1, added 4278 new labels.\n",
            "End of iteration 2, added 23 new labels.\n"
          ],
          "name": "stdout"
        },
        {
          "output_type": "stream",
          "text": [
            "/usr/local/lib/python3.7/dist-packages/tensorflow/python/keras/engine/sequential.py:455: UserWarning: `model.predict_classes()` is deprecated and will be removed after 2021-01-01. Please use instead:* `np.argmax(model.predict(x), axis=-1)`,   if your model does multi-class classification   (e.g. if it uses a `softmax` last-layer activation).* `(model.predict(x) > 0.5).astype(\"int32\")`,   if your model does binary classification   (e.g. if it uses a `sigmoid` last-layer activation).\n",
            "  warnings.warn('`model.predict_classes()` is deprecated and '\n"
          ],
          "name": "stderr"
        },
        {
          "output_type": "stream",
          "text": [
            "Micro-averaged F1 score on test set: 0.858\n",
            "Accuracy Score:  0.8579003181336161\n",
            "----------\n",
            "\n",
            "~~~~~~~~~~~~~~~~~~~~~~~~~~~~~~~~~NewsGroup DATA with percentage_labeled = 40~~~~~~~~~~~~~~~~~~~~~~~~~~~~~~~~~\n",
            "Supervised MLPClassifier on 40% of the training data:\n",
            "Number of training samples: 3349\n",
            "Unlabeled samples in training set: 0\n"
          ],
          "name": "stdout"
        },
        {
          "output_type": "stream",
          "text": [
            "/usr/local/lib/python3.7/dist-packages/tensorflow/python/keras/engine/sequential.py:455: UserWarning: `model.predict_classes()` is deprecated and will be removed after 2021-01-01. Please use instead:* `np.argmax(model.predict(x), axis=-1)`,   if your model does multi-class classification   (e.g. if it uses a `softmax` last-layer activation).* `(model.predict(x) > 0.5).astype(\"int32\")`,   if your model does binary classification   (e.g. if it uses a `sigmoid` last-layer activation).\n",
            "  warnings.warn('`model.predict_classes()` is deprecated and '\n"
          ],
          "name": "stderr"
        },
        {
          "output_type": "stream",
          "text": [
            "Micro-averaged F1 score on test set: 0.860\n",
            "Accuracy Score:  0.8600212089077413\n",
            "----------\n",
            "\n",
            "SelfTrainingClassifier on 40% of the training data (rest is unlabeled):\n",
            "---------------------------------Threshold =  0.4 ---------------------------------\n",
            "Number of training samples: 7656\n",
            "Unlabeled samples in training set: 4307\n",
            "End of iteration 1, added 4305 new labels.\n",
            "End of iteration 2, added 2 new labels.\n"
          ],
          "name": "stdout"
        },
        {
          "output_type": "stream",
          "text": [
            "/usr/local/lib/python3.7/dist-packages/tensorflow/python/keras/engine/sequential.py:455: UserWarning: `model.predict_classes()` is deprecated and will be removed after 2021-01-01. Please use instead:* `np.argmax(model.predict(x), axis=-1)`,   if your model does multi-class classification   (e.g. if it uses a `softmax` last-layer activation).* `(model.predict(x) > 0.5).astype(\"int32\")`,   if your model does binary classification   (e.g. if it uses a `sigmoid` last-layer activation).\n",
            "  warnings.warn('`model.predict_classes()` is deprecated and '\n"
          ],
          "name": "stderr"
        },
        {
          "output_type": "stream",
          "text": [
            "Micro-averaged F1 score on test set: 0.887\n",
            "Accuracy Score:  0.8868858253799929\n",
            "----------\n",
            "\n",
            "---------------------------------Threshold =  0.5 ---------------------------------\n",
            "Number of training samples: 7656\n",
            "Unlabeled samples in training set: 4307\n",
            "End of iteration 1, added 4301 new labels.\n",
            "End of iteration 2, added 5 new labels.\n"
          ],
          "name": "stdout"
        },
        {
          "output_type": "stream",
          "text": [
            "/usr/local/lib/python3.7/dist-packages/tensorflow/python/keras/engine/sequential.py:455: UserWarning: `model.predict_classes()` is deprecated and will be removed after 2021-01-01. Please use instead:* `np.argmax(model.predict(x), axis=-1)`,   if your model does multi-class classification   (e.g. if it uses a `softmax` last-layer activation).* `(model.predict(x) > 0.5).astype(\"int32\")`,   if your model does binary classification   (e.g. if it uses a `sigmoid` last-layer activation).\n",
            "  warnings.warn('`model.predict_classes()` is deprecated and '\n"
          ],
          "name": "stderr"
        },
        {
          "output_type": "stream",
          "text": [
            "Micro-averaged F1 score on test set: 0.879\n",
            "Accuracy Score:  0.8791092258748674\n",
            "----------\n",
            "\n",
            "---------------------------------Threshold =  0.6 ---------------------------------\n",
            "Number of training samples: 7656\n",
            "Unlabeled samples in training set: 4307\n",
            "End of iteration 1, added 4296 new labels.\n",
            "End of iteration 2, added 8 new labels.\n",
            "End of iteration 3, added 2 new labels.\n"
          ],
          "name": "stdout"
        },
        {
          "output_type": "stream",
          "text": [
            "/usr/local/lib/python3.7/dist-packages/tensorflow/python/keras/engine/sequential.py:455: UserWarning: `model.predict_classes()` is deprecated and will be removed after 2021-01-01. Please use instead:* `np.argmax(model.predict(x), axis=-1)`,   if your model does multi-class classification   (e.g. if it uses a `softmax` last-layer activation).* `(model.predict(x) > 0.5).astype(\"int32\")`,   if your model does binary classification   (e.g. if it uses a `sigmoid` last-layer activation).\n",
            "  warnings.warn('`model.predict_classes()` is deprecated and '\n"
          ],
          "name": "stderr"
        },
        {
          "output_type": "stream",
          "text": [
            "Micro-averaged F1 score on test set: 0.880\n",
            "Accuracy Score:  0.88016967126193\n",
            "----------\n",
            "\n",
            "---------------------------------Threshold =  0.7 ---------------------------------\n",
            "Number of training samples: 7656\n",
            "Unlabeled samples in training set: 4307\n",
            "End of iteration 1, added 4297 new labels.\n",
            "End of iteration 2, added 6 new labels.\n",
            "End of iteration 3, added 2 new labels.\n"
          ],
          "name": "stdout"
        },
        {
          "output_type": "stream",
          "text": [
            "/usr/local/lib/python3.7/dist-packages/tensorflow/python/keras/engine/sequential.py:455: UserWarning: `model.predict_classes()` is deprecated and will be removed after 2021-01-01. Please use instead:* `np.argmax(model.predict(x), axis=-1)`,   if your model does multi-class classification   (e.g. if it uses a `softmax` last-layer activation).* `(model.predict(x) > 0.5).astype(\"int32\")`,   if your model does binary classification   (e.g. if it uses a `sigmoid` last-layer activation).\n",
            "  warnings.warn('`model.predict_classes()` is deprecated and '\n"
          ],
          "name": "stderr"
        },
        {
          "output_type": "stream",
          "text": [
            "Micro-averaged F1 score on test set: 0.879\n",
            "Accuracy Score:  0.8787557440791799\n",
            "----------\n",
            "\n",
            "---------------------------------Threshold =  0.8 ---------------------------------\n",
            "Number of training samples: 7656\n",
            "Unlabeled samples in training set: 4307\n",
            "End of iteration 1, added 4293 new labels.\n",
            "End of iteration 2, added 11 new labels.\n",
            "End of iteration 3, added 1 new labels.\n",
            "End of iteration 4, added 1 new labels.\n"
          ],
          "name": "stdout"
        },
        {
          "output_type": "stream",
          "text": [
            "/usr/local/lib/python3.7/dist-packages/tensorflow/python/keras/engine/sequential.py:455: UserWarning: `model.predict_classes()` is deprecated and will be removed after 2021-01-01. Please use instead:* `np.argmax(model.predict(x), axis=-1)`,   if your model does multi-class classification   (e.g. if it uses a `softmax` last-layer activation).* `(model.predict(x) > 0.5).astype(\"int32\")`,   if your model does binary classification   (e.g. if it uses a `sigmoid` last-layer activation).\n",
            "  warnings.warn('`model.predict_classes()` is deprecated and '\n"
          ],
          "name": "stderr"
        },
        {
          "output_type": "stream",
          "text": [
            "Micro-averaged F1 score on test set: 0.881\n",
            "Accuracy Score:  0.8805231530576175\n",
            "----------\n",
            "\n",
            "~~~~~~~~~~~~~~~~~~~~~~~~~~~~~~~~~NewsGroup DATA with percentage_labeled = 50~~~~~~~~~~~~~~~~~~~~~~~~~~~~~~~~~\n",
            "Supervised MLPClassifier on 50% of the training data:\n",
            "Number of training samples: 4178\n",
            "Unlabeled samples in training set: 0\n"
          ],
          "name": "stdout"
        },
        {
          "output_type": "stream",
          "text": [
            "/usr/local/lib/python3.7/dist-packages/tensorflow/python/keras/engine/sequential.py:455: UserWarning: `model.predict_classes()` is deprecated and will be removed after 2021-01-01. Please use instead:* `np.argmax(model.predict(x), axis=-1)`,   if your model does multi-class classification   (e.g. if it uses a `softmax` last-layer activation).* `(model.predict(x) > 0.5).astype(\"int32\")`,   if your model does binary classification   (e.g. if it uses a `sigmoid` last-layer activation).\n",
            "  warnings.warn('`model.predict_classes()` is deprecated and '\n"
          ],
          "name": "stderr"
        },
        {
          "output_type": "stream",
          "text": [
            "Micro-averaged F1 score on test set: 0.879\n",
            "Accuracy Score:  0.8787557440791799\n",
            "----------\n",
            "\n",
            "SelfTrainingClassifier on 50% of the training data (rest is unlabeled):\n",
            "---------------------------------Threshold =  0.4 ---------------------------------\n",
            "Number of training samples: 8485\n",
            "Unlabeled samples in training set: 4307\n",
            "End of iteration 1, added 4301 new labels.\n",
            "End of iteration 2, added 6 new labels.\n"
          ],
          "name": "stdout"
        },
        {
          "output_type": "stream",
          "text": [
            "/usr/local/lib/python3.7/dist-packages/tensorflow/python/keras/engine/sequential.py:455: UserWarning: `model.predict_classes()` is deprecated and will be removed after 2021-01-01. Please use instead:* `np.argmax(model.predict(x), axis=-1)`,   if your model does multi-class classification   (e.g. if it uses a `softmax` last-layer activation).* `(model.predict(x) > 0.5).astype(\"int32\")`,   if your model does binary classification   (e.g. if it uses a `sigmoid` last-layer activation).\n",
            "  warnings.warn('`model.predict_classes()` is deprecated and '\n"
          ],
          "name": "stderr"
        },
        {
          "output_type": "stream",
          "text": [
            "Micro-averaged F1 score on test set: 0.890\n",
            "Accuracy Score:  0.8897136797454931\n",
            "----------\n",
            "\n",
            "---------------------------------Threshold =  0.5 ---------------------------------\n",
            "Number of training samples: 8485\n",
            "Unlabeled samples in training set: 4307\n",
            "End of iteration 1, added 4303 new labels.\n",
            "End of iteration 2, added 2 new labels.\n"
          ],
          "name": "stdout"
        },
        {
          "output_type": "stream",
          "text": [
            "/usr/local/lib/python3.7/dist-packages/tensorflow/python/keras/engine/sequential.py:455: UserWarning: `model.predict_classes()` is deprecated and will be removed after 2021-01-01. Please use instead:* `np.argmax(model.predict(x), axis=-1)`,   if your model does multi-class classification   (e.g. if it uses a `softmax` last-layer activation).* `(model.predict(x) > 0.5).astype(\"int32\")`,   if your model does binary classification   (e.g. if it uses a `sigmoid` last-layer activation).\n",
            "  warnings.warn('`model.predict_classes()` is deprecated and '\n"
          ],
          "name": "stderr"
        },
        {
          "output_type": "stream",
          "text": [
            "Micro-averaged F1 score on test set: 0.896\n",
            "Accuracy Score:  0.8960763520678685\n",
            "----------\n",
            "\n",
            "---------------------------------Threshold =  0.6 ---------------------------------\n",
            "Number of training samples: 8485\n",
            "Unlabeled samples in training set: 4307\n",
            "End of iteration 1, added 4297 new labels.\n",
            "End of iteration 2, added 8 new labels.\n",
            "End of iteration 3, added 1 new labels.\n"
          ],
          "name": "stdout"
        },
        {
          "output_type": "stream",
          "text": [
            "/usr/local/lib/python3.7/dist-packages/tensorflow/python/keras/engine/sequential.py:455: UserWarning: `model.predict_classes()` is deprecated and will be removed after 2021-01-01. Please use instead:* `np.argmax(model.predict(x), axis=-1)`,   if your model does multi-class classification   (e.g. if it uses a `softmax` last-layer activation).* `(model.predict(x) > 0.5).astype(\"int32\")`,   if your model does binary classification   (e.g. if it uses a `sigmoid` last-layer activation).\n",
            "  warnings.warn('`model.predict_classes()` is deprecated and '\n"
          ],
          "name": "stderr"
        },
        {
          "output_type": "stream",
          "text": [
            "Micro-averaged F1 score on test set: 0.889\n",
            "Accuracy Score:  0.8893601979498056\n",
            "----------\n",
            "\n",
            "---------------------------------Threshold =  0.7 ---------------------------------\n",
            "Number of training samples: 8485\n",
            "Unlabeled samples in training set: 4307\n",
            "End of iteration 1, added 4292 new labels.\n",
            "End of iteration 2, added 9 new labels.\n",
            "End of iteration 3, added 1 new labels.\n"
          ],
          "name": "stdout"
        },
        {
          "output_type": "stream",
          "text": [
            "/usr/local/lib/python3.7/dist-packages/tensorflow/python/keras/engine/sequential.py:455: UserWarning: `model.predict_classes()` is deprecated and will be removed after 2021-01-01. Please use instead:* `np.argmax(model.predict(x), axis=-1)`,   if your model does multi-class classification   (e.g. if it uses a `softmax` last-layer activation).* `(model.predict(x) > 0.5).astype(\"int32\")`,   if your model does binary classification   (e.g. if it uses a `sigmoid` last-layer activation).\n",
            "  warnings.warn('`model.predict_classes()` is deprecated and '\n"
          ],
          "name": "stderr"
        },
        {
          "output_type": "stream",
          "text": [
            "Micro-averaged F1 score on test set: 0.892\n",
            "Accuracy Score:  0.8921880523153057\n",
            "----------\n",
            "\n",
            "---------------------------------Threshold =  0.8 ---------------------------------\n",
            "Number of training samples: 8485\n",
            "Unlabeled samples in training set: 4307\n",
            "End of iteration 1, added 4298 new labels.\n",
            "End of iteration 2, added 2 new labels.\n"
          ],
          "name": "stdout"
        },
        {
          "output_type": "stream",
          "text": [
            "/usr/local/lib/python3.7/dist-packages/tensorflow/python/keras/engine/sequential.py:455: UserWarning: `model.predict_classes()` is deprecated and will be removed after 2021-01-01. Please use instead:* `np.argmax(model.predict(x), axis=-1)`,   if your model does multi-class classification   (e.g. if it uses a `softmax` last-layer activation).* `(model.predict(x) > 0.5).astype(\"int32\")`,   if your model does binary classification   (e.g. if it uses a `sigmoid` last-layer activation).\n",
            "  warnings.warn('`model.predict_classes()` is deprecated and '\n"
          ],
          "name": "stderr"
        },
        {
          "output_type": "stream",
          "text": [
            "Micro-averaged F1 score on test set: 0.893\n",
            "Accuracy Score:  0.8928950159066809\n",
            "----------\n",
            "\n"
          ],
          "name": "stdout"
        }
      ]
    },
    {
      "cell_type": "code",
      "metadata": {
        "id": "xBxHOzCxtiV1",
        "colab": {
          "base_uri": "https://localhost:8080/",
          "height": 378
        },
        "outputId": "79930861-13a5-42d2-9e59-e49593c16a5c"
      },
      "source": [
        "df_mlp_ng.pivot(index=['Labeled', 'UnLabeled'], columns='Threshold')['Accuracy']"
      ],
      "execution_count": null,
      "outputs": [
        {
          "output_type": "execute_result",
          "data": {
            "text/html": [
              "<div>\n",
              "<style scoped>\n",
              "    .dataframe tbody tr th:only-of-type {\n",
              "        vertical-align: middle;\n",
              "    }\n",
              "\n",
              "    .dataframe tbody tr th {\n",
              "        vertical-align: top;\n",
              "    }\n",
              "\n",
              "    .dataframe thead th {\n",
              "        text-align: right;\n",
              "    }\n",
              "</style>\n",
              "<table border=\"1\" class=\"dataframe\">\n",
              "  <thead>\n",
              "    <tr style=\"text-align: right;\">\n",
              "      <th></th>\n",
              "      <th>Threshold</th>\n",
              "      <th>NaN</th>\n",
              "      <th>0.4</th>\n",
              "      <th>0.5</th>\n",
              "      <th>0.6</th>\n",
              "      <th>0.7</th>\n",
              "      <th>0.8</th>\n",
              "    </tr>\n",
              "    <tr>\n",
              "      <th>Labeled</th>\n",
              "      <th>UnLabeled</th>\n",
              "      <th></th>\n",
              "      <th></th>\n",
              "      <th></th>\n",
              "      <th></th>\n",
              "      <th></th>\n",
              "      <th></th>\n",
              "    </tr>\n",
              "  </thead>\n",
              "  <tbody>\n",
              "    <tr>\n",
              "      <th rowspan=\"2\" valign=\"top\">869.0</th>\n",
              "      <th>0.0</th>\n",
              "      <td>0.711205</td>\n",
              "      <td>NaN</td>\n",
              "      <td>NaN</td>\n",
              "      <td>NaN</td>\n",
              "      <td>NaN</td>\n",
              "      <td>NaN</td>\n",
              "    </tr>\n",
              "    <tr>\n",
              "      <th>4307.0</th>\n",
              "      <td>NaN</td>\n",
              "      <td>0.781548</td>\n",
              "      <td>0.777660</td>\n",
              "      <td>0.780134</td>\n",
              "      <td>0.774479</td>\n",
              "      <td>0.780488</td>\n",
              "    </tr>\n",
              "    <tr>\n",
              "      <th rowspan=\"2\" valign=\"top\">1695.0</th>\n",
              "      <th>0.0</th>\n",
              "      <td>0.796041</td>\n",
              "      <td>NaN</td>\n",
              "      <td>NaN</td>\n",
              "      <td>NaN</td>\n",
              "      <td>NaN</td>\n",
              "      <td>NaN</td>\n",
              "    </tr>\n",
              "    <tr>\n",
              "      <th>4307.0</th>\n",
              "      <td>NaN</td>\n",
              "      <td>0.839519</td>\n",
              "      <td>0.830682</td>\n",
              "      <td>0.837752</td>\n",
              "      <td>0.833157</td>\n",
              "      <td>0.835277</td>\n",
              "    </tr>\n",
              "    <tr>\n",
              "      <th rowspan=\"2\" valign=\"top\">2541.0</th>\n",
              "      <th>0.0</th>\n",
              "      <td>0.839519</td>\n",
              "      <td>NaN</td>\n",
              "      <td>NaN</td>\n",
              "      <td>NaN</td>\n",
              "      <td>NaN</td>\n",
              "      <td>NaN</td>\n",
              "    </tr>\n",
              "    <tr>\n",
              "      <th>4307.0</th>\n",
              "      <td>NaN</td>\n",
              "      <td>0.856840</td>\n",
              "      <td>0.857547</td>\n",
              "      <td>0.856840</td>\n",
              "      <td>0.857547</td>\n",
              "      <td>0.857900</td>\n",
              "    </tr>\n",
              "    <tr>\n",
              "      <th rowspan=\"2\" valign=\"top\">3349.0</th>\n",
              "      <th>0.0</th>\n",
              "      <td>0.860021</td>\n",
              "      <td>NaN</td>\n",
              "      <td>NaN</td>\n",
              "      <td>NaN</td>\n",
              "      <td>NaN</td>\n",
              "      <td>NaN</td>\n",
              "    </tr>\n",
              "    <tr>\n",
              "      <th>4307.0</th>\n",
              "      <td>NaN</td>\n",
              "      <td>0.886886</td>\n",
              "      <td>0.879109</td>\n",
              "      <td>0.880170</td>\n",
              "      <td>0.878756</td>\n",
              "      <td>0.880523</td>\n",
              "    </tr>\n",
              "    <tr>\n",
              "      <th rowspan=\"2\" valign=\"top\">4178.0</th>\n",
              "      <th>0.0</th>\n",
              "      <td>0.878756</td>\n",
              "      <td>NaN</td>\n",
              "      <td>NaN</td>\n",
              "      <td>NaN</td>\n",
              "      <td>NaN</td>\n",
              "      <td>NaN</td>\n",
              "    </tr>\n",
              "    <tr>\n",
              "      <th>4307.0</th>\n",
              "      <td>NaN</td>\n",
              "      <td>0.889714</td>\n",
              "      <td>0.896076</td>\n",
              "      <td>0.889360</td>\n",
              "      <td>0.892188</td>\n",
              "      <td>0.892895</td>\n",
              "    </tr>\n",
              "  </tbody>\n",
              "</table>\n",
              "</div>"
            ],
            "text/plain": [
              "Threshold               NaN       0.4       0.5       0.6       0.7       0.8\n",
              "Labeled UnLabeled                                                            \n",
              "869.0   0.0        0.711205       NaN       NaN       NaN       NaN       NaN\n",
              "        4307.0          NaN  0.781548  0.777660  0.780134  0.774479  0.780488\n",
              "1695.0  0.0        0.796041       NaN       NaN       NaN       NaN       NaN\n",
              "        4307.0          NaN  0.839519  0.830682  0.837752  0.833157  0.835277\n",
              "2541.0  0.0        0.839519       NaN       NaN       NaN       NaN       NaN\n",
              "        4307.0          NaN  0.856840  0.857547  0.856840  0.857547  0.857900\n",
              "3349.0  0.0        0.860021       NaN       NaN       NaN       NaN       NaN\n",
              "        4307.0          NaN  0.886886  0.879109  0.880170  0.878756  0.880523\n",
              "4178.0  0.0        0.878756       NaN       NaN       NaN       NaN       NaN\n",
              "        4307.0          NaN  0.889714  0.896076  0.889360  0.892188  0.892895"
            ]
          },
          "metadata": {
            "tags": []
          },
          "execution_count": 17
        }
      ]
    },
    {
      "cell_type": "code",
      "metadata": {
        "id": "rsh4Cw9jtiFh"
      },
      "source": [
        ""
      ],
      "execution_count": null,
      "outputs": []
    },
    {
      "cell_type": "code",
      "metadata": {
        "id": "7seg1TvztiBo"
      },
      "source": [
        ""
      ],
      "execution_count": null,
      "outputs": []
    },
    {
      "cell_type": "code",
      "metadata": {
        "id": "b75y3iSrth9q"
      },
      "source": [
        ""
      ],
      "execution_count": null,
      "outputs": []
    },
    {
      "cell_type": "code",
      "metadata": {
        "id": "XIJQjxP7th5l"
      },
      "source": [
        ""
      ],
      "execution_count": null,
      "outputs": []
    },
    {
      "cell_type": "code",
      "metadata": {
        "id": "EkTYOI_kth1W"
      },
      "source": [
        ""
      ],
      "execution_count": null,
      "outputs": []
    },
    {
      "cell_type": "code",
      "metadata": {
        "id": "5Cq0BfLFthxP"
      },
      "source": [
        ""
      ],
      "execution_count": null,
      "outputs": []
    },
    {
      "cell_type": "code",
      "metadata": {
        "id": "DVwt8PKSthtE"
      },
      "source": [
        ""
      ],
      "execution_count": null,
      "outputs": []
    },
    {
      "cell_type": "code",
      "metadata": {
        "id": "yExt9FUithoz"
      },
      "source": [
        ""
      ],
      "execution_count": null,
      "outputs": []
    },
    {
      "cell_type": "code",
      "metadata": {
        "id": "i5x5sAZ3thiM"
      },
      "source": [
        ""
      ],
      "execution_count": null,
      "outputs": []
    },
    {
      "cell_type": "code",
      "metadata": {
        "id": "mEN92k3etheS"
      },
      "source": [
        ""
      ],
      "execution_count": null,
      "outputs": []
    },
    {
      "cell_type": "code",
      "metadata": {
        "id": "GhBzPqdEfJ7e",
        "colab": {
          "base_uri": "https://localhost:8080/"
        },
        "outputId": "52177d65-91f6-496b-e346-f7484bc3b49e"
      },
      "source": [
        "%cd \"/content/drive/My Drive/Colab Notebooks/MixText-master\"\n",
        "!ls"
      ],
      "execution_count": null,
      "outputs": [
        {
          "output_type": "stream",
          "text": [
            "/content/drive/My Drive/Colab Notebooks/MixText-master\n",
            " code\t     LICENSE\t\t\t'Running MixText v5 ISIS Data.ipynb'\n",
            " data\t     README.md\t\t\t'Semi-Supervised sklearn v2.ipynb'\n",
            " data_temp  'Running MixText v3.ipynb'\t word2vec_model.bin\n"
          ],
          "name": "stdout"
        }
      ]
    },
    {
      "cell_type": "code",
      "metadata": {
        "id": "QMUWFZuielQN",
        "colab": {
          "base_uri": "https://localhost:8080/"
        },
        "outputId": "60eab7b6-2043-436f-f6bd-19d3deee59a8"
      },
      "source": [
        "from nltk.stem import WordNetLemmatizer\n",
        "from nltk.tokenize import word_tokenize\n",
        "import nltk\n",
        "nltk.download('punkt')\n",
        "\n",
        "# SENT_DETECTOR = nltk.data.load('tokenizers/punkt/english.pickle')\n",
        "def train_val_split(labels, n_labeled_per_class, unlabeled_per_class, n_labels, seed=0):\n",
        "    \"\"\"Split the original training set into labeled training set, unlabeled training set, development set\n",
        "\n",
        "    Arguments:\n",
        "        labels {list} -- List of labeles for original training set\n",
        "        n_labeled_per_class {int} -- Number of labeled data per class\n",
        "        unlabeled_per_class {int} -- Number of unlabeled data per class\n",
        "        n_labels {int} -- The number of classes\n",
        "\n",
        "    Keyword Arguments:\n",
        "        seed {int} -- [random seed of np.shuffle] (default: {0})\n",
        "\n",
        "    Returns:\n",
        "        [list] -- idx for labeled training set, unlabeled training set, development set\n",
        "    \"\"\"\n",
        "    np.random.seed(seed)\n",
        "    labels = np.array(labels)\n",
        "    train_labeled_idxs = []\n",
        "    train_unlabeled_idxs = []\n",
        "    val_idxs = []\n",
        "\n",
        "    for i in range(n_labels):\n",
        "        idxs = np.where(labels == i)[0]\n",
        "        np.random.shuffle(idxs)\n",
        "        if n_labels == 2:\n",
        "            # IMDB\n",
        "            \n",
        "            \n",
        "            \n",
        "            n_unlabeled_per_class = unlabeled_per_class   #10, 100, 500, 1000, 2500\n",
        "            train_pool = np.concatenate((idxs[:500], idxs[5500:-2000]))\n",
        "            train_labeled_idxs.extend(train_pool[:n_labeled_per_class])\n",
        "            train_unlabeled_idxs.extend(idxs[500: 500 + n_unlabeled_per_class])\n",
        "            val_idxs.extend(idxs[-2000:])\n",
        "        \n",
        "        \n",
        "        \n",
        "            # train_pool = np.concatenate((idxs[:500], idxs[5500:-2000]))\n",
        "            # train_labeled_idxs.extend(train_pool[:n_labeled_per_class])\n",
        "            # train_unlabeled_idxs.extend(\n",
        "            #     idxs[500: 500 + 5000])\n",
        "            # val_idxs.extend(idxs[-2000:])\n",
        "            \n",
        "\n",
        "    return train_labeled_idxs, train_unlabeled_idxs, val_idxs\n",
        "\n",
        "\n",
        "\n",
        "import re\n",
        "#Removes Punctuations\n",
        "def remove_punctuations(data):\n",
        "    punct_tag=re.compile(r'[^\\w\\s]')\n",
        "    data=punct_tag.sub(r'',data)\n",
        "    return data\n",
        "\n",
        "#Removes HTML syntaxes\n",
        "def remove_html(data):\n",
        "    html_tag=re.compile(r'<.*?>')\n",
        "    data=html_tag.sub(r'',data)\n",
        "    return data\n",
        "\n",
        "#Removes URL data\n",
        "def remove_url(data):\n",
        "    url_clean= re.compile(r\"https://\\S+|www\\.\\S+\")\n",
        "    data=url_clean.sub(r'',data)\n",
        "    return data\n",
        "\n",
        "\n",
        "\n",
        "def clean(train_df):\n",
        "    \n",
        "    train_df['review']=train_df['review'].apply(lambda z: remove_punctuations(z))\n",
        "    train_df['review']=train_df['review'].apply(lambda z: remove_html(z))\n",
        "    train_df['review']=train_df['review'].apply(lambda z: remove_url(z))\n",
        "    # train_df['review']=train_df['review'].apply(lambda z: remove_emoji(z))\n",
        "    \n",
        "    train_df['review']=train_df['review'].apply(lambda z: word_tokenize(z))\n",
        "    \n",
        "    # lemmatizer = WordNetLemmatizer()\n",
        "    # train_df['review']=train_df['review'].apply(lambda x: [lemmatizer.lemmatize(word) for word in x])\n",
        "    train_df['review']=train_df['review'].apply(lambda x: ' '.join(x))\n",
        "    \n",
        "    return train_df"
      ],
      "execution_count": null,
      "outputs": [
        {
          "output_type": "stream",
          "text": [
            "[nltk_data] Downloading package punkt to /root/nltk_data...\n",
            "[nltk_data]   Unzipping tokenizers/punkt.zip.\n"
          ],
          "name": "stdout"
        }
      ]
    },
    {
      "cell_type": "code",
      "metadata": {
        "id": "BJ8OCqGFirni"
      },
      "source": [
        "import os\n",
        "\n",
        "import numpy as np\n",
        "\n",
        "from sklearn.datasets import fetch_20newsgroups\n",
        "from sklearn.feature_extraction.text import CountVectorizer\n",
        "from sklearn.feature_extraction.text import TfidfTransformer\n",
        "from sklearn.preprocessing import FunctionTransformer\n",
        "from sklearn.linear_model import SGDClassifier\n",
        "from sklearn.model_selection import train_test_split\n",
        "from sklearn.pipeline import Pipeline\n",
        "from sklearn.semi_supervised import SelfTrainingClassifier\n",
        "from sklearn.semi_supervised import LabelSpreading\n",
        "from sklearn.metrics import f1_score\n",
        "from sklearn.metrics import accuracy_score\n",
        "from sklearn.svm import SVC\n",
        "from sklearn.metrics import classification_report\n",
        "\n",
        "\n",
        "\n",
        "# Parameters\n",
        "sdg_params = dict(alpha=1e-5, penalty='l2', loss='log', random_state=0)\n",
        "vectorizer_params = dict(ngram_range=(1, 2), min_df=5, max_df=0.8)\n",
        "\n",
        "# Supervised Pipeline\n",
        "pipeline = Pipeline([\n",
        "    ('vect', CountVectorizer(**vectorizer_params)),\n",
        "    ('tfidf', TfidfTransformer()),\n",
        "    ('clf', SGDClassifier(**sdg_params)),\n",
        "])\n",
        "\n",
        "# # Supervised Pipeline\n",
        "# pipeline = Pipeline([\n",
        "#     ('vect', CountVectorizer(**vectorizer_params)),\n",
        "#     ('tfidf', TfidfTransformer()),\n",
        "#     ('clf', SVC(probability=True, gamma=\"auto\")),\n",
        "# ])\n",
        "\n",
        "# SelfTraining Pipeline\n",
        "st_pipeline = Pipeline([\n",
        "    ('vect', CountVectorizer(**vectorizer_params)),\n",
        "    ('tfidf', TfidfTransformer()),\n",
        "    ('clf', SelfTrainingClassifier(SGDClassifier(**sdg_params), verbose=True)),\n",
        "])\n",
        "\n",
        "# # SelfTraining Pipeline\n",
        "# st_pipeline = Pipeline([\n",
        "#     ('vect', CountVectorizer(**vectorizer_params)),\n",
        "#     ('tfidf', TfidfTransformer()),\n",
        "#     ('clf', SelfTrainingClassifier(SVC(probability=True, gamma=\"auto\") )),\n",
        "# ])\n",
        "\n",
        "\n",
        "\n",
        "\n",
        "\n",
        "# LabelSpreading Pipeline\n",
        "ls_pipeline = Pipeline([\n",
        "    ('vect', CountVectorizer(**vectorizer_params)),\n",
        "    ('tfidf', TfidfTransformer()),\n",
        "    # LabelSpreading does not support dense matrices\n",
        "    ('todense', FunctionTransformer(lambda x: x.todense())),\n",
        "    ('clf', LabelSpreading()),\n",
        "])\n",
        "\n",
        "\n",
        "def eval_and_print_metrics(clf, X_train, y_train, X_test, y_test):\n",
        "    print(\"Number of training samples:\", len(X_train))\n",
        "    print(\"Unlabeled samples in training set:\",\n",
        "          sum(1 for x in y_train if x == -1))\n",
        "    clf.fit(X_train, y_train)\n",
        "    y_pred = clf.predict(X_test)\n",
        "\n",
        "    # if -1 in y_train:\n",
        "    #   print(\"Y-PRED-PROBA\", clf.predict_proba(X_train))\n",
        "\n",
        "    print(\"Micro-averaged F1 score on test set: \"\n",
        "          \"%0.3f\" % f1_score(y_test, y_pred, average='micro'))\n",
        "    print(\"Accuracy Score: \", accuracy_score(y_test, y_pred))\n",
        "    print(\"Classification Report: \\n\", classification_report(y_test, y_pred))\n",
        "    print(\"-\" * 10)\n",
        "    print()\n",
        "\n",
        "\n",
        "\n",
        "def eval_and_print_metrics_df(clf, X_train, y_train, X_test, y_test, thresh = None, kbest = None):\n",
        "\n",
        "    dict1 = {}\n",
        "\n",
        "\n",
        "    print(\"Number of training samples:\", len(X_train))\n",
        "    print(\"Unlabeled samples in training set:\",\n",
        "          sum(1 for x in y_train if x == -1))\n",
        "    \n",
        "    dict1['Labeled'] = len(X_train) - sum(1 for x in y_train if x == -1)\n",
        "    dict1['UnLabeled'] = sum(1 for x in y_train if x == -1)\n",
        "\n",
        "\n",
        "    \n",
        "    # if sum(1 for x in y_train if x == -1) == 0:\n",
        "    #     dict1['type'] = 'Supervised'\n",
        "    # else:\n",
        "    #     dict1['type'] = 'Semi-Supervised'\n",
        "\n",
        "    dict1['Threshold'] = thresh\n",
        "    dict1['K-Best'] = kbest\n",
        "\n",
        "    # print('y_train:', y_train)\n",
        "    with tf.device('/device:GPU:0'):\n",
        "      clf.fit(X_train, y_train)\n",
        "      y_pred = np.array(clf.predict(X_test))\n",
        "      \n",
        "    print(\"Micro-averaged F1 score on test set: \"\n",
        "          \"%0.3f\" % f1_score(y_test, y_pred, average='micro'))\n",
        "    print(\"Accuracy Score: \", accuracy_score(y_test, y_pred))\n",
        "\n",
        "    dict1['Accuracy'] = accuracy_score(y_test, y_pred)\n",
        "\n",
        "    print(\"-\" * 10)\n",
        "    print()\n",
        "\n",
        "    return dict1"
      ],
      "execution_count": null,
      "outputs": []
    },
    {
      "cell_type": "code",
      "metadata": {
        "id": "vJbPC72BjeZ4",
        "colab": {
          "base_uri": "https://localhost:8080/"
        },
        "outputId": "1fa19251-d0ef-4bc8-813d-8d185969250a"
      },
      "source": [
        "# MLP for IMDB\n",
        "from sklearn.ensemble import RandomForestClassifier\n",
        "\n",
        "# Parameters\n",
        "# mnb_params = \n",
        "mlp_params = dict(hidden_layer_sizes=(100,50), max_iter=50,activation = 'relu',solver='adam',random_state=1)\n",
        "vectorizer_params = dict(ngram_range=(1, 2), min_df=5, max_df=0.8, max_features=30000)\n",
        "\n",
        "\n",
        "if __name__ == \"__main__\":\n",
        "\n",
        "    df_mlp_imdb_2k = pd.DataFrame()\n",
        "\n",
        "    n_list = [10, 50, 200, 500, 1000]\n",
        "    kbest_list=[4, 5, 6, 7, 8]\n",
        "    threshold=[0.4, 0.5, 0.6, 0.7, 0.8]\n",
        "\n",
        "for n in n_list:\n",
        "      print(\"~~~~~~~~~~~~~~~~~~~~~~~~~~~~~~~~~IMDB DATA with n_labeled = \"+str(2*n)+\"~~~~~~~~~~~~~~~~~~~~~~~~~~~~~~~~~\")\n",
        "      tf.keras.backend.clear_session()\n",
        "\n",
        "      \n",
        "\n",
        "      n_labeled_per_class = n       #10, 200, 500, 1000, 2400\n",
        "      unlabeled_per_class = 1000\n",
        "\n",
        "      data_path = './data/imdb_data/'\n",
        "      train_df = pd.read_csv(data_path+'train.csv', header=None)\n",
        "      test_df = pd.read_csv(data_path+'test.csv', header=None)\n",
        "\n",
        "      train_labels = np.array([v for v in train_df[1]])\n",
        "      train_text = np.array([v for v in train_df[0]])\n",
        "      test_labels = np.array([u for u in test_df[1]])\n",
        "      test_text = np.array([v for v in test_df[0]])\n",
        "\n",
        "      n_labels = 2\n",
        "      # Split the labeled training set, unlabeled training set, development set\n",
        "      train_labeled_idxs, train_unlabeled_idxs, val_idxs = train_val_split(\n",
        "          train_labels, n_labeled_per_class, unlabeled_per_class, n_labels)\n",
        "\n",
        "      # print(\"#Labeled: {}, Unlabeled {}, Val {}, Test {}\".format(len(\n",
        "      #     train_labeled_idxs), len(train_unlabeled_idxs), len(val_idxs), len(test_labels)))\n",
        "\n",
        "      df_train = pd.DataFrame({'review':train_text[train_labeled_idxs], 'sentiment':train_labels[train_labeled_idxs]})\n",
        "      # print(df_train.shape)\n",
        "      # df_train.head()\n",
        "\n",
        "      df_test = pd.DataFrame({'review':test_text, 'sentiment':test_labels})\n",
        "      # print(df_test.shape)\n",
        "\n",
        "\n",
        "\n",
        "      df_unlabeled = pd.DataFrame({'review':train_text[train_unlabeled_idxs], 'sentiment':train_labels[train_unlabeled_idxs]})\n",
        "      # print(df_unlabeled.shape)\n",
        "      # df_unlabeled.head()\n",
        "\n",
        "      clean_train_df = clean(df_train)\n",
        "      clean_test_df = clean(df_test)\n",
        "      clean_unlabeled_df = clean(df_unlabeled)\n",
        "\n",
        "      texts = np.array((clean_train_df['review'].append(clean_unlabeled_df['review'], ignore_index=True)))\n",
        "\n",
        "\n",
        "      labels = np.array([i for i in list(df_train.sentiment)]+[-1 for i in list(df_unlabeled.sentiment)])\n",
        "\n",
        "      X_test = np.array(clean_test_df.review)\n",
        "      y_test = np.array(clean_test_df.sentiment)\n",
        "\n",
        "      X_train = texts\n",
        "      y_train = labels\n",
        "\n",
        "\n",
        "      # X, y = data.data, data.target\n",
        "      # X_train, X_test, y_train, y_test = train_test_split(X, y)\n",
        "\n",
        "      # print(\"Supervised SGDClassifier on 100% of the data:\")\n",
        "      # eval_and_print_metrics(pipeline, X_train, y_train, X_test, y_test)\n",
        "\n",
        "      np.random.seed(0)\n",
        "\n",
        "      # X_20 and y_20 are the subset of the train dataset indicated by the mask\n",
        "      X_20, y_20 = texts[:2*n], labels[:2*n]\n",
        "      print(\"Supervised MLPClassifier on \"+str(n)+\"% of the training data:\")\n",
        "\n",
        "      # Supervised Pipeline\n",
        "      pipeline = Pipeline([\n",
        "          ('vect', CountVectorizer(**vectorizer_params)),\n",
        "          ('tfidf', TfidfTransformer()), \n",
        "          # ('kbest', MySelectKBest(f_classif, k=20000)),         \n",
        "          ('dense', FunctionTransformer(lambda x: x.toarray(), accept_sparse=True)),\n",
        "          ('clf', model)\n",
        "      ])\n",
        "\n",
        "      \n",
        "      temp = eval_and_print_metrics_df(pipeline, X_20, y_20, X_test, y_test, thresh = None, kbest = None)\n",
        "      df_mlp_imdb_2k = df_mlp_imdb_2k.append(temp, ignore_index=True)\n",
        "\n",
        "      # set the non-masked subset to be unlabeled\n",
        "      # set only 50% of data to be unlabeled in every iteration of training.\n",
        "      print(\"SelfTrainingClassifier on \"+str(n)+\"% of the training data (rest \"\n",
        "            \"is unlabeled):\")\n",
        "      for t in threshold:\n",
        "        print(\"---------------------------------Threshold = \", t,\"---------------------------------\")\n",
        "        tf.keras.backend.clear_session()\n",
        "      \n",
        "      # X_50, y_50 = map(list, zip(*((x, y)\n",
        "      #                 for x, y, m in zip(X_train, y_train, y_mask) if m)))\n",
        "        # SelfTraining Pipeline\n",
        "        \n",
        "        st_pipeline = Pipeline([\n",
        "            ('vect', CountVectorizer(**vectorizer_params)),\n",
        "            ('tfidf', TfidfTransformer()),\n",
        "            # ('kbest', MySelectKBest(f_classif, k=20000)),\n",
        "            ('dense', FunctionTransformer(lambda x: x.toarray(), accept_sparse=True)),\n",
        "            ('clf', SelfTrainingClassifier(model, criterion = 'threshold', threshold = t, verbose=True)),\n",
        "        ])\n",
        "        temp = eval_and_print_metrics_df(st_pipeline, X_train, y_train, X_test, y_test, thresh = t, kbest = None)\n",
        "        df_mlp_imdb_2k = df_mlp_imdb_2k.append(temp, ignore_index=True)\n",
        "\n",
        "    \n"
      ],
      "execution_count": null,
      "outputs": [
        {
          "output_type": "stream",
          "text": [
            "~~~~~~~~~~~~~~~~~~~~~~~~~~~~~~~~~IMDB DATA with n_labeled = 20~~~~~~~~~~~~~~~~~~~~~~~~~~~~~~~~~\n",
            "Supervised MLPClassifier on 10% of the training data:\n",
            "Number of training samples: 20\n",
            "Unlabeled samples in training set: 0\n"
          ],
          "name": "stdout"
        },
        {
          "output_type": "stream",
          "text": [
            "/usr/local/lib/python3.7/dist-packages/tensorflow/python/keras/engine/sequential.py:455: UserWarning: `model.predict_classes()` is deprecated and will be removed after 2021-01-01. Please use instead:* `np.argmax(model.predict(x), axis=-1)`,   if your model does multi-class classification   (e.g. if it uses a `softmax` last-layer activation).* `(model.predict(x) > 0.5).astype(\"int32\")`,   if your model does binary classification   (e.g. if it uses a `sigmoid` last-layer activation).\n",
            "  warnings.warn('`model.predict_classes()` is deprecated and '\n"
          ],
          "name": "stderr"
        },
        {
          "output_type": "stream",
          "text": [
            "Micro-averaged F1 score on test set: 0.567\n",
            "Accuracy Score:  0.5672\n",
            "----------\n",
            "\n",
            "SelfTrainingClassifier on 10% of the training data (rest is unlabeled):\n",
            "---------------------------------Threshold =  0.4 ---------------------------------\n",
            "Number of training samples: 2020\n",
            "Unlabeled samples in training set: 2000\n",
            "End of iteration 1, added 1804 new labels.\n",
            "End of iteration 2, added 196 new labels.\n"
          ],
          "name": "stdout"
        },
        {
          "output_type": "stream",
          "text": [
            "/usr/local/lib/python3.7/dist-packages/tensorflow/python/keras/engine/sequential.py:455: UserWarning: `model.predict_classes()` is deprecated and will be removed after 2021-01-01. Please use instead:* `np.argmax(model.predict(x), axis=-1)`,   if your model does multi-class classification   (e.g. if it uses a `softmax` last-layer activation).* `(model.predict(x) > 0.5).astype(\"int32\")`,   if your model does binary classification   (e.g. if it uses a `sigmoid` last-layer activation).\n",
            "  warnings.warn('`model.predict_classes()` is deprecated and '\n"
          ],
          "name": "stderr"
        },
        {
          "output_type": "stream",
          "text": [
            "Micro-averaged F1 score on test set: 0.596\n",
            "Accuracy Score:  0.59568\n",
            "----------\n",
            "\n",
            "---------------------------------Threshold =  0.5 ---------------------------------\n",
            "Number of training samples: 2020\n",
            "Unlabeled samples in training set: 2000\n",
            "End of iteration 1, added 1314 new labels.\n",
            "End of iteration 2, added 686 new labels.\n"
          ],
          "name": "stdout"
        },
        {
          "output_type": "stream",
          "text": [
            "/usr/local/lib/python3.7/dist-packages/tensorflow/python/keras/engine/sequential.py:455: UserWarning: `model.predict_classes()` is deprecated and will be removed after 2021-01-01. Please use instead:* `np.argmax(model.predict(x), axis=-1)`,   if your model does multi-class classification   (e.g. if it uses a `softmax` last-layer activation).* `(model.predict(x) > 0.5).astype(\"int32\")`,   if your model does binary classification   (e.g. if it uses a `sigmoid` last-layer activation).\n",
            "  warnings.warn('`model.predict_classes()` is deprecated and '\n"
          ],
          "name": "stderr"
        },
        {
          "output_type": "stream",
          "text": [
            "Micro-averaged F1 score on test set: 0.494\n",
            "Accuracy Score:  0.49376\n",
            "----------\n",
            "\n",
            "---------------------------------Threshold =  0.6 ---------------------------------\n",
            "Number of training samples: 2020\n",
            "Unlabeled samples in training set: 2000\n",
            "End of iteration 1, added 488 new labels.\n",
            "End of iteration 2, added 1512 new labels.\n"
          ],
          "name": "stdout"
        },
        {
          "output_type": "stream",
          "text": [
            "/usr/local/lib/python3.7/dist-packages/tensorflow/python/keras/engine/sequential.py:455: UserWarning: `model.predict_classes()` is deprecated and will be removed after 2021-01-01. Please use instead:* `np.argmax(model.predict(x), axis=-1)`,   if your model does multi-class classification   (e.g. if it uses a `softmax` last-layer activation).* `(model.predict(x) > 0.5).astype(\"int32\")`,   if your model does binary classification   (e.g. if it uses a `sigmoid` last-layer activation).\n",
            "  warnings.warn('`model.predict_classes()` is deprecated and '\n"
          ],
          "name": "stderr"
        },
        {
          "output_type": "stream",
          "text": [
            "Micro-averaged F1 score on test set: 0.493\n",
            "Accuracy Score:  0.49264\n",
            "----------\n",
            "\n",
            "---------------------------------Threshold =  0.7 ---------------------------------\n",
            "Number of training samples: 2020\n",
            "Unlabeled samples in training set: 2000\n",
            "End of iteration 1, added 19 new labels.\n",
            "End of iteration 2, added 1978 new labels.\n",
            "End of iteration 3, added 3 new labels.\n"
          ],
          "name": "stdout"
        },
        {
          "output_type": "stream",
          "text": [
            "/usr/local/lib/python3.7/dist-packages/tensorflow/python/keras/engine/sequential.py:455: UserWarning: `model.predict_classes()` is deprecated and will be removed after 2021-01-01. Please use instead:* `np.argmax(model.predict(x), axis=-1)`,   if your model does multi-class classification   (e.g. if it uses a `softmax` last-layer activation).* `(model.predict(x) > 0.5).astype(\"int32\")`,   if your model does binary classification   (e.g. if it uses a `sigmoid` last-layer activation).\n",
            "  warnings.warn('`model.predict_classes()` is deprecated and '\n"
          ],
          "name": "stderr"
        },
        {
          "output_type": "stream",
          "text": [
            "Micro-averaged F1 score on test set: 0.493\n",
            "Accuracy Score:  0.49256\n",
            "----------\n",
            "\n",
            "---------------------------------Threshold =  0.8 ---------------------------------\n",
            "Number of training samples: 2020\n",
            "Unlabeled samples in training set: 2000\n",
            "End of iteration 1, added 30 new labels.\n",
            "End of iteration 2, added 1968 new labels.\n",
            "End of iteration 3, added 2 new labels.\n"
          ],
          "name": "stdout"
        },
        {
          "output_type": "stream",
          "text": [
            "/usr/local/lib/python3.7/dist-packages/tensorflow/python/keras/engine/sequential.py:455: UserWarning: `model.predict_classes()` is deprecated and will be removed after 2021-01-01. Please use instead:* `np.argmax(model.predict(x), axis=-1)`,   if your model does multi-class classification   (e.g. if it uses a `softmax` last-layer activation).* `(model.predict(x) > 0.5).astype(\"int32\")`,   if your model does binary classification   (e.g. if it uses a `sigmoid` last-layer activation).\n",
            "  warnings.warn('`model.predict_classes()` is deprecated and '\n"
          ],
          "name": "stderr"
        },
        {
          "output_type": "stream",
          "text": [
            "Micro-averaged F1 score on test set: 0.493\n",
            "Accuracy Score:  0.49256\n",
            "----------\n",
            "\n",
            "~~~~~~~~~~~~~~~~~~~~~~~~~~~~~~~~~IMDB DATA with n_labeled = 100~~~~~~~~~~~~~~~~~~~~~~~~~~~~~~~~~\n",
            "Supervised MLPClassifier on 50% of the training data:\n",
            "Number of training samples: 100\n",
            "Unlabeled samples in training set: 0\n"
          ],
          "name": "stdout"
        },
        {
          "output_type": "stream",
          "text": [
            "/usr/local/lib/python3.7/dist-packages/tensorflow/python/keras/engine/sequential.py:455: UserWarning: `model.predict_classes()` is deprecated and will be removed after 2021-01-01. Please use instead:* `np.argmax(model.predict(x), axis=-1)`,   if your model does multi-class classification   (e.g. if it uses a `softmax` last-layer activation).* `(model.predict(x) > 0.5).astype(\"int32\")`,   if your model does binary classification   (e.g. if it uses a `sigmoid` last-layer activation).\n",
            "  warnings.warn('`model.predict_classes()` is deprecated and '\n"
          ],
          "name": "stderr"
        },
        {
          "output_type": "stream",
          "text": [
            "Micro-averaged F1 score on test set: 0.685\n",
            "Accuracy Score:  0.68464\n",
            "----------\n",
            "\n",
            "SelfTrainingClassifier on 50% of the training data (rest is unlabeled):\n",
            "---------------------------------Threshold =  0.4 ---------------------------------\n",
            "Number of training samples: 2100\n",
            "Unlabeled samples in training set: 2000\n",
            "End of iteration 1, added 2000 new labels.\n"
          ],
          "name": "stdout"
        },
        {
          "output_type": "stream",
          "text": [
            "/usr/local/lib/python3.7/dist-packages/tensorflow/python/keras/engine/sequential.py:455: UserWarning: `model.predict_classes()` is deprecated and will be removed after 2021-01-01. Please use instead:* `np.argmax(model.predict(x), axis=-1)`,   if your model does multi-class classification   (e.g. if it uses a `softmax` last-layer activation).* `(model.predict(x) > 0.5).astype(\"int32\")`,   if your model does binary classification   (e.g. if it uses a `sigmoid` last-layer activation).\n",
            "  warnings.warn('`model.predict_classes()` is deprecated and '\n"
          ],
          "name": "stderr"
        },
        {
          "output_type": "stream",
          "text": [
            "Micro-averaged F1 score on test set: 0.701\n",
            "Accuracy Score:  0.70136\n",
            "----------\n",
            "\n",
            "---------------------------------Threshold =  0.5 ---------------------------------\n",
            "Number of training samples: 2100\n",
            "Unlabeled samples in training set: 2000\n",
            "End of iteration 1, added 2000 new labels.\n"
          ],
          "name": "stdout"
        },
        {
          "output_type": "stream",
          "text": [
            "/usr/local/lib/python3.7/dist-packages/tensorflow/python/keras/engine/sequential.py:455: UserWarning: `model.predict_classes()` is deprecated and will be removed after 2021-01-01. Please use instead:* `np.argmax(model.predict(x), axis=-1)`,   if your model does multi-class classification   (e.g. if it uses a `softmax` last-layer activation).* `(model.predict(x) > 0.5).astype(\"int32\")`,   if your model does binary classification   (e.g. if it uses a `sigmoid` last-layer activation).\n",
            "  warnings.warn('`model.predict_classes()` is deprecated and '\n"
          ],
          "name": "stderr"
        },
        {
          "output_type": "stream",
          "text": [
            "Micro-averaged F1 score on test set: 0.746\n",
            "Accuracy Score:  0.74576\n",
            "----------\n",
            "\n",
            "---------------------------------Threshold =  0.6 ---------------------------------\n",
            "Number of training samples: 2100\n",
            "Unlabeled samples in training set: 2000\n",
            "End of iteration 1, added 2000 new labels.\n"
          ],
          "name": "stdout"
        },
        {
          "output_type": "stream",
          "text": [
            "/usr/local/lib/python3.7/dist-packages/tensorflow/python/keras/engine/sequential.py:455: UserWarning: `model.predict_classes()` is deprecated and will be removed after 2021-01-01. Please use instead:* `np.argmax(model.predict(x), axis=-1)`,   if your model does multi-class classification   (e.g. if it uses a `softmax` last-layer activation).* `(model.predict(x) > 0.5).astype(\"int32\")`,   if your model does binary classification   (e.g. if it uses a `sigmoid` last-layer activation).\n",
            "  warnings.warn('`model.predict_classes()` is deprecated and '\n"
          ],
          "name": "stderr"
        },
        {
          "output_type": "stream",
          "text": [
            "Micro-averaged F1 score on test set: 0.687\n",
            "Accuracy Score:  0.68656\n",
            "----------\n",
            "\n",
            "---------------------------------Threshold =  0.7 ---------------------------------\n",
            "Number of training samples: 2100\n",
            "Unlabeled samples in training set: 2000\n",
            "End of iteration 1, added 2000 new labels.\n"
          ],
          "name": "stdout"
        },
        {
          "output_type": "stream",
          "text": [
            "/usr/local/lib/python3.7/dist-packages/tensorflow/python/keras/engine/sequential.py:455: UserWarning: `model.predict_classes()` is deprecated and will be removed after 2021-01-01. Please use instead:* `np.argmax(model.predict(x), axis=-1)`,   if your model does multi-class classification   (e.g. if it uses a `softmax` last-layer activation).* `(model.predict(x) > 0.5).astype(\"int32\")`,   if your model does binary classification   (e.g. if it uses a `sigmoid` last-layer activation).\n",
            "  warnings.warn('`model.predict_classes()` is deprecated and '\n"
          ],
          "name": "stderr"
        },
        {
          "output_type": "stream",
          "text": [
            "Micro-averaged F1 score on test set: 0.753\n",
            "Accuracy Score:  0.75296\n",
            "----------\n",
            "\n",
            "---------------------------------Threshold =  0.8 ---------------------------------\n",
            "Number of training samples: 2100\n",
            "Unlabeled samples in training set: 2000\n",
            "End of iteration 1, added 2000 new labels.\n"
          ],
          "name": "stdout"
        },
        {
          "output_type": "stream",
          "text": [
            "/usr/local/lib/python3.7/dist-packages/tensorflow/python/keras/engine/sequential.py:455: UserWarning: `model.predict_classes()` is deprecated and will be removed after 2021-01-01. Please use instead:* `np.argmax(model.predict(x), axis=-1)`,   if your model does multi-class classification   (e.g. if it uses a `softmax` last-layer activation).* `(model.predict(x) > 0.5).astype(\"int32\")`,   if your model does binary classification   (e.g. if it uses a `sigmoid` last-layer activation).\n",
            "  warnings.warn('`model.predict_classes()` is deprecated and '\n"
          ],
          "name": "stderr"
        },
        {
          "output_type": "stream",
          "text": [
            "Micro-averaged F1 score on test set: 0.749\n",
            "Accuracy Score:  0.74896\n",
            "----------\n",
            "\n",
            "~~~~~~~~~~~~~~~~~~~~~~~~~~~~~~~~~IMDB DATA with n_labeled = 400~~~~~~~~~~~~~~~~~~~~~~~~~~~~~~~~~\n",
            "Supervised MLPClassifier on 200% of the training data:\n",
            "Number of training samples: 400\n",
            "Unlabeled samples in training set: 0\n"
          ],
          "name": "stdout"
        },
        {
          "output_type": "stream",
          "text": [
            "/usr/local/lib/python3.7/dist-packages/tensorflow/python/keras/engine/sequential.py:455: UserWarning: `model.predict_classes()` is deprecated and will be removed after 2021-01-01. Please use instead:* `np.argmax(model.predict(x), axis=-1)`,   if your model does multi-class classification   (e.g. if it uses a `softmax` last-layer activation).* `(model.predict(x) > 0.5).astype(\"int32\")`,   if your model does binary classification   (e.g. if it uses a `sigmoid` last-layer activation).\n",
            "  warnings.warn('`model.predict_classes()` is deprecated and '\n"
          ],
          "name": "stderr"
        },
        {
          "output_type": "stream",
          "text": [
            "Micro-averaged F1 score on test set: 0.797\n",
            "Accuracy Score:  0.79672\n",
            "----------\n",
            "\n",
            "SelfTrainingClassifier on 200% of the training data (rest is unlabeled):\n",
            "---------------------------------Threshold =  0.4 ---------------------------------\n",
            "Number of training samples: 2400\n",
            "Unlabeled samples in training set: 2000\n",
            "End of iteration 1, added 2000 new labels.\n"
          ],
          "name": "stdout"
        },
        {
          "output_type": "stream",
          "text": [
            "/usr/local/lib/python3.7/dist-packages/tensorflow/python/keras/engine/sequential.py:455: UserWarning: `model.predict_classes()` is deprecated and will be removed after 2021-01-01. Please use instead:* `np.argmax(model.predict(x), axis=-1)`,   if your model does multi-class classification   (e.g. if it uses a `softmax` last-layer activation).* `(model.predict(x) > 0.5).astype(\"int32\")`,   if your model does binary classification   (e.g. if it uses a `sigmoid` last-layer activation).\n",
            "  warnings.warn('`model.predict_classes()` is deprecated and '\n"
          ],
          "name": "stderr"
        },
        {
          "output_type": "stream",
          "text": [
            "Micro-averaged F1 score on test set: 0.816\n",
            "Accuracy Score:  0.81576\n",
            "----------\n",
            "\n",
            "---------------------------------Threshold =  0.5 ---------------------------------\n",
            "Number of training samples: 2400\n",
            "Unlabeled samples in training set: 2000\n",
            "End of iteration 1, added 2000 new labels.\n"
          ],
          "name": "stdout"
        },
        {
          "output_type": "stream",
          "text": [
            "/usr/local/lib/python3.7/dist-packages/tensorflow/python/keras/engine/sequential.py:455: UserWarning: `model.predict_classes()` is deprecated and will be removed after 2021-01-01. Please use instead:* `np.argmax(model.predict(x), axis=-1)`,   if your model does multi-class classification   (e.g. if it uses a `softmax` last-layer activation).* `(model.predict(x) > 0.5).astype(\"int32\")`,   if your model does binary classification   (e.g. if it uses a `sigmoid` last-layer activation).\n",
            "  warnings.warn('`model.predict_classes()` is deprecated and '\n"
          ],
          "name": "stderr"
        },
        {
          "output_type": "stream",
          "text": [
            "Micro-averaged F1 score on test set: 0.813\n",
            "Accuracy Score:  0.81304\n",
            "----------\n",
            "\n",
            "---------------------------------Threshold =  0.6 ---------------------------------\n",
            "Number of training samples: 2400\n",
            "Unlabeled samples in training set: 2000\n",
            "End of iteration 1, added 2000 new labels.\n"
          ],
          "name": "stdout"
        },
        {
          "output_type": "stream",
          "text": [
            "/usr/local/lib/python3.7/dist-packages/tensorflow/python/keras/engine/sequential.py:455: UserWarning: `model.predict_classes()` is deprecated and will be removed after 2021-01-01. Please use instead:* `np.argmax(model.predict(x), axis=-1)`,   if your model does multi-class classification   (e.g. if it uses a `softmax` last-layer activation).* `(model.predict(x) > 0.5).astype(\"int32\")`,   if your model does binary classification   (e.g. if it uses a `sigmoid` last-layer activation).\n",
            "  warnings.warn('`model.predict_classes()` is deprecated and '\n"
          ],
          "name": "stderr"
        },
        {
          "output_type": "stream",
          "text": [
            "Micro-averaged F1 score on test set: 0.814\n",
            "Accuracy Score:  0.81408\n",
            "----------\n",
            "\n",
            "---------------------------------Threshold =  0.7 ---------------------------------\n",
            "Number of training samples: 2400\n",
            "Unlabeled samples in training set: 2000\n",
            "End of iteration 1, added 2000 new labels.\n"
          ],
          "name": "stdout"
        },
        {
          "output_type": "stream",
          "text": [
            "/usr/local/lib/python3.7/dist-packages/tensorflow/python/keras/engine/sequential.py:455: UserWarning: `model.predict_classes()` is deprecated and will be removed after 2021-01-01. Please use instead:* `np.argmax(model.predict(x), axis=-1)`,   if your model does multi-class classification   (e.g. if it uses a `softmax` last-layer activation).* `(model.predict(x) > 0.5).astype(\"int32\")`,   if your model does binary classification   (e.g. if it uses a `sigmoid` last-layer activation).\n",
            "  warnings.warn('`model.predict_classes()` is deprecated and '\n"
          ],
          "name": "stderr"
        },
        {
          "output_type": "stream",
          "text": [
            "Micro-averaged F1 score on test set: 0.813\n",
            "Accuracy Score:  0.81344\n",
            "----------\n",
            "\n",
            "---------------------------------Threshold =  0.8 ---------------------------------\n",
            "Number of training samples: 2400\n",
            "Unlabeled samples in training set: 2000\n",
            "End of iteration 1, added 2000 new labels.\n"
          ],
          "name": "stdout"
        },
        {
          "output_type": "stream",
          "text": [
            "/usr/local/lib/python3.7/dist-packages/tensorflow/python/keras/engine/sequential.py:455: UserWarning: `model.predict_classes()` is deprecated and will be removed after 2021-01-01. Please use instead:* `np.argmax(model.predict(x), axis=-1)`,   if your model does multi-class classification   (e.g. if it uses a `softmax` last-layer activation).* `(model.predict(x) > 0.5).astype(\"int32\")`,   if your model does binary classification   (e.g. if it uses a `sigmoid` last-layer activation).\n",
            "  warnings.warn('`model.predict_classes()` is deprecated and '\n"
          ],
          "name": "stderr"
        },
        {
          "output_type": "stream",
          "text": [
            "Micro-averaged F1 score on test set: 0.816\n",
            "Accuracy Score:  0.81568\n",
            "----------\n",
            "\n",
            "~~~~~~~~~~~~~~~~~~~~~~~~~~~~~~~~~IMDB DATA with n_labeled = 1000~~~~~~~~~~~~~~~~~~~~~~~~~~~~~~~~~\n",
            "Supervised MLPClassifier on 500% of the training data:\n",
            "Number of training samples: 1000\n",
            "Unlabeled samples in training set: 0\n"
          ],
          "name": "stdout"
        },
        {
          "output_type": "stream",
          "text": [
            "/usr/local/lib/python3.7/dist-packages/tensorflow/python/keras/engine/sequential.py:455: UserWarning: `model.predict_classes()` is deprecated and will be removed after 2021-01-01. Please use instead:* `np.argmax(model.predict(x), axis=-1)`,   if your model does multi-class classification   (e.g. if it uses a `softmax` last-layer activation).* `(model.predict(x) > 0.5).astype(\"int32\")`,   if your model does binary classification   (e.g. if it uses a `sigmoid` last-layer activation).\n",
            "  warnings.warn('`model.predict_classes()` is deprecated and '\n"
          ],
          "name": "stderr"
        },
        {
          "output_type": "stream",
          "text": [
            "Micro-averaged F1 score on test set: 0.840\n",
            "Accuracy Score:  0.84008\n",
            "----------\n",
            "\n",
            "SelfTrainingClassifier on 500% of the training data (rest is unlabeled):\n",
            "---------------------------------Threshold =  0.4 ---------------------------------\n",
            "Number of training samples: 3000\n",
            "Unlabeled samples in training set: 2000\n",
            "End of iteration 1, added 2000 new labels.\n"
          ],
          "name": "stdout"
        },
        {
          "output_type": "stream",
          "text": [
            "/usr/local/lib/python3.7/dist-packages/tensorflow/python/keras/engine/sequential.py:455: UserWarning: `model.predict_classes()` is deprecated and will be removed after 2021-01-01. Please use instead:* `np.argmax(model.predict(x), axis=-1)`,   if your model does multi-class classification   (e.g. if it uses a `softmax` last-layer activation).* `(model.predict(x) > 0.5).astype(\"int32\")`,   if your model does binary classification   (e.g. if it uses a `sigmoid` last-layer activation).\n",
            "  warnings.warn('`model.predict_classes()` is deprecated and '\n"
          ],
          "name": "stderr"
        },
        {
          "output_type": "stream",
          "text": [
            "Micro-averaged F1 score on test set: 0.850\n",
            "Accuracy Score:  0.85016\n",
            "----------\n",
            "\n",
            "---------------------------------Threshold =  0.5 ---------------------------------\n",
            "Number of training samples: 3000\n",
            "Unlabeled samples in training set: 2000\n",
            "End of iteration 1, added 2000 new labels.\n"
          ],
          "name": "stdout"
        },
        {
          "output_type": "stream",
          "text": [
            "/usr/local/lib/python3.7/dist-packages/tensorflow/python/keras/engine/sequential.py:455: UserWarning: `model.predict_classes()` is deprecated and will be removed after 2021-01-01. Please use instead:* `np.argmax(model.predict(x), axis=-1)`,   if your model does multi-class classification   (e.g. if it uses a `softmax` last-layer activation).* `(model.predict(x) > 0.5).astype(\"int32\")`,   if your model does binary classification   (e.g. if it uses a `sigmoid` last-layer activation).\n",
            "  warnings.warn('`model.predict_classes()` is deprecated and '\n"
          ],
          "name": "stderr"
        },
        {
          "output_type": "stream",
          "text": [
            "Micro-averaged F1 score on test set: 0.852\n",
            "Accuracy Score:  0.85248\n",
            "----------\n",
            "\n",
            "---------------------------------Threshold =  0.6 ---------------------------------\n",
            "Number of training samples: 3000\n",
            "Unlabeled samples in training set: 2000\n",
            "End of iteration 1, added 2000 new labels.\n"
          ],
          "name": "stdout"
        },
        {
          "output_type": "stream",
          "text": [
            "/usr/local/lib/python3.7/dist-packages/tensorflow/python/keras/engine/sequential.py:455: UserWarning: `model.predict_classes()` is deprecated and will be removed after 2021-01-01. Please use instead:* `np.argmax(model.predict(x), axis=-1)`,   if your model does multi-class classification   (e.g. if it uses a `softmax` last-layer activation).* `(model.predict(x) > 0.5).astype(\"int32\")`,   if your model does binary classification   (e.g. if it uses a `sigmoid` last-layer activation).\n",
            "  warnings.warn('`model.predict_classes()` is deprecated and '\n"
          ],
          "name": "stderr"
        },
        {
          "output_type": "stream",
          "text": [
            "Micro-averaged F1 score on test set: 0.850\n",
            "Accuracy Score:  0.84992\n",
            "----------\n",
            "\n",
            "---------------------------------Threshold =  0.7 ---------------------------------\n",
            "Number of training samples: 3000\n",
            "Unlabeled samples in training set: 2000\n",
            "End of iteration 1, added 2000 new labels.\n"
          ],
          "name": "stdout"
        },
        {
          "output_type": "stream",
          "text": [
            "/usr/local/lib/python3.7/dist-packages/tensorflow/python/keras/engine/sequential.py:455: UserWarning: `model.predict_classes()` is deprecated and will be removed after 2021-01-01. Please use instead:* `np.argmax(model.predict(x), axis=-1)`,   if your model does multi-class classification   (e.g. if it uses a `softmax` last-layer activation).* `(model.predict(x) > 0.5).astype(\"int32\")`,   if your model does binary classification   (e.g. if it uses a `sigmoid` last-layer activation).\n",
            "  warnings.warn('`model.predict_classes()` is deprecated and '\n"
          ],
          "name": "stderr"
        },
        {
          "output_type": "stream",
          "text": [
            "Micro-averaged F1 score on test set: 0.851\n",
            "Accuracy Score:  0.85144\n",
            "----------\n",
            "\n",
            "---------------------------------Threshold =  0.8 ---------------------------------\n",
            "Number of training samples: 3000\n",
            "Unlabeled samples in training set: 2000\n",
            "End of iteration 1, added 2000 new labels.\n"
          ],
          "name": "stdout"
        },
        {
          "output_type": "stream",
          "text": [
            "/usr/local/lib/python3.7/dist-packages/tensorflow/python/keras/engine/sequential.py:455: UserWarning: `model.predict_classes()` is deprecated and will be removed after 2021-01-01. Please use instead:* `np.argmax(model.predict(x), axis=-1)`,   if your model does multi-class classification   (e.g. if it uses a `softmax` last-layer activation).* `(model.predict(x) > 0.5).astype(\"int32\")`,   if your model does binary classification   (e.g. if it uses a `sigmoid` last-layer activation).\n",
            "  warnings.warn('`model.predict_classes()` is deprecated and '\n"
          ],
          "name": "stderr"
        },
        {
          "output_type": "stream",
          "text": [
            "Micro-averaged F1 score on test set: 0.852\n",
            "Accuracy Score:  0.85248\n",
            "----------\n",
            "\n",
            "~~~~~~~~~~~~~~~~~~~~~~~~~~~~~~~~~IMDB DATA with n_labeled = 2000~~~~~~~~~~~~~~~~~~~~~~~~~~~~~~~~~\n",
            "Supervised MLPClassifier on 1000% of the training data:\n",
            "Number of training samples: 2000\n",
            "Unlabeled samples in training set: 0\n"
          ],
          "name": "stdout"
        },
        {
          "output_type": "stream",
          "text": [
            "/usr/local/lib/python3.7/dist-packages/tensorflow/python/keras/engine/sequential.py:455: UserWarning: `model.predict_classes()` is deprecated and will be removed after 2021-01-01. Please use instead:* `np.argmax(model.predict(x), axis=-1)`,   if your model does multi-class classification   (e.g. if it uses a `softmax` last-layer activation).* `(model.predict(x) > 0.5).astype(\"int32\")`,   if your model does binary classification   (e.g. if it uses a `sigmoid` last-layer activation).\n",
            "  warnings.warn('`model.predict_classes()` is deprecated and '\n"
          ],
          "name": "stderr"
        },
        {
          "output_type": "stream",
          "text": [
            "Micro-averaged F1 score on test set: 0.860\n",
            "Accuracy Score:  0.85952\n",
            "----------\n",
            "\n",
            "SelfTrainingClassifier on 1000% of the training data (rest is unlabeled):\n",
            "---------------------------------Threshold =  0.4 ---------------------------------\n",
            "Number of training samples: 4000\n",
            "Unlabeled samples in training set: 2000\n",
            "End of iteration 1, added 2000 new labels.\n"
          ],
          "name": "stdout"
        },
        {
          "output_type": "stream",
          "text": [
            "/usr/local/lib/python3.7/dist-packages/tensorflow/python/keras/engine/sequential.py:455: UserWarning: `model.predict_classes()` is deprecated and will be removed after 2021-01-01. Please use instead:* `np.argmax(model.predict(x), axis=-1)`,   if your model does multi-class classification   (e.g. if it uses a `softmax` last-layer activation).* `(model.predict(x) > 0.5).astype(\"int32\")`,   if your model does binary classification   (e.g. if it uses a `sigmoid` last-layer activation).\n",
            "  warnings.warn('`model.predict_classes()` is deprecated and '\n"
          ],
          "name": "stderr"
        },
        {
          "output_type": "stream",
          "text": [
            "Micro-averaged F1 score on test set: 0.866\n",
            "Accuracy Score:  0.86616\n",
            "----------\n",
            "\n",
            "---------------------------------Threshold =  0.5 ---------------------------------\n",
            "Number of training samples: 4000\n",
            "Unlabeled samples in training set: 2000\n",
            "End of iteration 1, added 2000 new labels.\n"
          ],
          "name": "stdout"
        },
        {
          "output_type": "stream",
          "text": [
            "/usr/local/lib/python3.7/dist-packages/tensorflow/python/keras/engine/sequential.py:455: UserWarning: `model.predict_classes()` is deprecated and will be removed after 2021-01-01. Please use instead:* `np.argmax(model.predict(x), axis=-1)`,   if your model does multi-class classification   (e.g. if it uses a `softmax` last-layer activation).* `(model.predict(x) > 0.5).astype(\"int32\")`,   if your model does binary classification   (e.g. if it uses a `sigmoid` last-layer activation).\n",
            "  warnings.warn('`model.predict_classes()` is deprecated and '\n"
          ],
          "name": "stderr"
        },
        {
          "output_type": "stream",
          "text": [
            "Micro-averaged F1 score on test set: 0.867\n",
            "Accuracy Score:  0.86696\n",
            "----------\n",
            "\n",
            "---------------------------------Threshold =  0.6 ---------------------------------\n",
            "Number of training samples: 4000\n",
            "Unlabeled samples in training set: 2000\n",
            "End of iteration 1, added 2000 new labels.\n"
          ],
          "name": "stdout"
        },
        {
          "output_type": "stream",
          "text": [
            "/usr/local/lib/python3.7/dist-packages/tensorflow/python/keras/engine/sequential.py:455: UserWarning: `model.predict_classes()` is deprecated and will be removed after 2021-01-01. Please use instead:* `np.argmax(model.predict(x), axis=-1)`,   if your model does multi-class classification   (e.g. if it uses a `softmax` last-layer activation).* `(model.predict(x) > 0.5).astype(\"int32\")`,   if your model does binary classification   (e.g. if it uses a `sigmoid` last-layer activation).\n",
            "  warnings.warn('`model.predict_classes()` is deprecated and '\n"
          ],
          "name": "stderr"
        },
        {
          "output_type": "stream",
          "text": [
            "Micro-averaged F1 score on test set: 0.868\n",
            "Accuracy Score:  0.86752\n",
            "----------\n",
            "\n",
            "---------------------------------Threshold =  0.7 ---------------------------------\n",
            "Number of training samples: 4000\n",
            "Unlabeled samples in training set: 2000\n",
            "End of iteration 1, added 2000 new labels.\n"
          ],
          "name": "stdout"
        },
        {
          "output_type": "stream",
          "text": [
            "/usr/local/lib/python3.7/dist-packages/tensorflow/python/keras/engine/sequential.py:455: UserWarning: `model.predict_classes()` is deprecated and will be removed after 2021-01-01. Please use instead:* `np.argmax(model.predict(x), axis=-1)`,   if your model does multi-class classification   (e.g. if it uses a `softmax` last-layer activation).* `(model.predict(x) > 0.5).astype(\"int32\")`,   if your model does binary classification   (e.g. if it uses a `sigmoid` last-layer activation).\n",
            "  warnings.warn('`model.predict_classes()` is deprecated and '\n"
          ],
          "name": "stderr"
        },
        {
          "output_type": "stream",
          "text": [
            "Micro-averaged F1 score on test set: 0.867\n",
            "Accuracy Score:  0.86656\n",
            "----------\n",
            "\n",
            "---------------------------------Threshold =  0.8 ---------------------------------\n",
            "Number of training samples: 4000\n",
            "Unlabeled samples in training set: 2000\n",
            "End of iteration 1, added 2000 new labels.\n"
          ],
          "name": "stdout"
        },
        {
          "output_type": "stream",
          "text": [
            "/usr/local/lib/python3.7/dist-packages/tensorflow/python/keras/engine/sequential.py:455: UserWarning: `model.predict_classes()` is deprecated and will be removed after 2021-01-01. Please use instead:* `np.argmax(model.predict(x), axis=-1)`,   if your model does multi-class classification   (e.g. if it uses a `softmax` last-layer activation).* `(model.predict(x) > 0.5).astype(\"int32\")`,   if your model does binary classification   (e.g. if it uses a `sigmoid` last-layer activation).\n",
            "  warnings.warn('`model.predict_classes()` is deprecated and '\n"
          ],
          "name": "stderr"
        },
        {
          "output_type": "stream",
          "text": [
            "Micro-averaged F1 score on test set: 0.866\n",
            "Accuracy Score:  0.8664\n",
            "----------\n",
            "\n"
          ],
          "name": "stdout"
        }
      ]
    },
    {
      "cell_type": "code",
      "metadata": {
        "id": "03U0nK6QjeWW",
        "colab": {
          "base_uri": "https://localhost:8080/",
          "height": 378
        },
        "outputId": "14a96ef0-7167-48ec-8f42-7dcb47b4fa76"
      },
      "source": [
        "df_mlp_imdb_2k.pivot(index=['Labeled', 'UnLabeled'], columns='Threshold')['Accuracy']"
      ],
      "execution_count": null,
      "outputs": [
        {
          "output_type": "execute_result",
          "data": {
            "text/html": [
              "<div>\n",
              "<style scoped>\n",
              "    .dataframe tbody tr th:only-of-type {\n",
              "        vertical-align: middle;\n",
              "    }\n",
              "\n",
              "    .dataframe tbody tr th {\n",
              "        vertical-align: top;\n",
              "    }\n",
              "\n",
              "    .dataframe thead th {\n",
              "        text-align: right;\n",
              "    }\n",
              "</style>\n",
              "<table border=\"1\" class=\"dataframe\">\n",
              "  <thead>\n",
              "    <tr style=\"text-align: right;\">\n",
              "      <th></th>\n",
              "      <th>Threshold</th>\n",
              "      <th>NaN</th>\n",
              "      <th>0.4</th>\n",
              "      <th>0.5</th>\n",
              "      <th>0.6</th>\n",
              "      <th>0.7</th>\n",
              "      <th>0.8</th>\n",
              "    </tr>\n",
              "    <tr>\n",
              "      <th>Labeled</th>\n",
              "      <th>UnLabeled</th>\n",
              "      <th></th>\n",
              "      <th></th>\n",
              "      <th></th>\n",
              "      <th></th>\n",
              "      <th></th>\n",
              "      <th></th>\n",
              "    </tr>\n",
              "  </thead>\n",
              "  <tbody>\n",
              "    <tr>\n",
              "      <th rowspan=\"2\" valign=\"top\">20.0</th>\n",
              "      <th>0.0</th>\n",
              "      <td>0.56720</td>\n",
              "      <td>NaN</td>\n",
              "      <td>NaN</td>\n",
              "      <td>NaN</td>\n",
              "      <td>NaN</td>\n",
              "      <td>NaN</td>\n",
              "    </tr>\n",
              "    <tr>\n",
              "      <th>2000.0</th>\n",
              "      <td>NaN</td>\n",
              "      <td>0.59568</td>\n",
              "      <td>0.49376</td>\n",
              "      <td>0.49264</td>\n",
              "      <td>0.49256</td>\n",
              "      <td>0.49256</td>\n",
              "    </tr>\n",
              "    <tr>\n",
              "      <th rowspan=\"2\" valign=\"top\">100.0</th>\n",
              "      <th>0.0</th>\n",
              "      <td>0.68464</td>\n",
              "      <td>NaN</td>\n",
              "      <td>NaN</td>\n",
              "      <td>NaN</td>\n",
              "      <td>NaN</td>\n",
              "      <td>NaN</td>\n",
              "    </tr>\n",
              "    <tr>\n",
              "      <th>2000.0</th>\n",
              "      <td>NaN</td>\n",
              "      <td>0.70136</td>\n",
              "      <td>0.74576</td>\n",
              "      <td>0.68656</td>\n",
              "      <td>0.75296</td>\n",
              "      <td>0.74896</td>\n",
              "    </tr>\n",
              "    <tr>\n",
              "      <th rowspan=\"2\" valign=\"top\">400.0</th>\n",
              "      <th>0.0</th>\n",
              "      <td>0.79672</td>\n",
              "      <td>NaN</td>\n",
              "      <td>NaN</td>\n",
              "      <td>NaN</td>\n",
              "      <td>NaN</td>\n",
              "      <td>NaN</td>\n",
              "    </tr>\n",
              "    <tr>\n",
              "      <th>2000.0</th>\n",
              "      <td>NaN</td>\n",
              "      <td>0.81576</td>\n",
              "      <td>0.81304</td>\n",
              "      <td>0.81408</td>\n",
              "      <td>0.81344</td>\n",
              "      <td>0.81568</td>\n",
              "    </tr>\n",
              "    <tr>\n",
              "      <th rowspan=\"2\" valign=\"top\">1000.0</th>\n",
              "      <th>0.0</th>\n",
              "      <td>0.84008</td>\n",
              "      <td>NaN</td>\n",
              "      <td>NaN</td>\n",
              "      <td>NaN</td>\n",
              "      <td>NaN</td>\n",
              "      <td>NaN</td>\n",
              "    </tr>\n",
              "    <tr>\n",
              "      <th>2000.0</th>\n",
              "      <td>NaN</td>\n",
              "      <td>0.85016</td>\n",
              "      <td>0.85248</td>\n",
              "      <td>0.84992</td>\n",
              "      <td>0.85144</td>\n",
              "      <td>0.85248</td>\n",
              "    </tr>\n",
              "    <tr>\n",
              "      <th rowspan=\"2\" valign=\"top\">2000.0</th>\n",
              "      <th>0.0</th>\n",
              "      <td>0.85952</td>\n",
              "      <td>NaN</td>\n",
              "      <td>NaN</td>\n",
              "      <td>NaN</td>\n",
              "      <td>NaN</td>\n",
              "      <td>NaN</td>\n",
              "    </tr>\n",
              "    <tr>\n",
              "      <th>2000.0</th>\n",
              "      <td>NaN</td>\n",
              "      <td>0.86616</td>\n",
              "      <td>0.86696</td>\n",
              "      <td>0.86752</td>\n",
              "      <td>0.86656</td>\n",
              "      <td>0.86640</td>\n",
              "    </tr>\n",
              "  </tbody>\n",
              "</table>\n",
              "</div>"
            ],
            "text/plain": [
              "Threshold              NaN      0.4      0.5      0.6      0.7      0.8\n",
              "Labeled UnLabeled                                                      \n",
              "20.0    0.0        0.56720      NaN      NaN      NaN      NaN      NaN\n",
              "        2000.0         NaN  0.59568  0.49376  0.49264  0.49256  0.49256\n",
              "100.0   0.0        0.68464      NaN      NaN      NaN      NaN      NaN\n",
              "        2000.0         NaN  0.70136  0.74576  0.68656  0.75296  0.74896\n",
              "400.0   0.0        0.79672      NaN      NaN      NaN      NaN      NaN\n",
              "        2000.0         NaN  0.81576  0.81304  0.81408  0.81344  0.81568\n",
              "1000.0  0.0        0.84008      NaN      NaN      NaN      NaN      NaN\n",
              "        2000.0         NaN  0.85016  0.85248  0.84992  0.85144  0.85248\n",
              "2000.0  0.0        0.85952      NaN      NaN      NaN      NaN      NaN\n",
              "        2000.0         NaN  0.86616  0.86696  0.86752  0.86656  0.86640"
            ]
          },
          "metadata": {
            "tags": []
          },
          "execution_count": 23
        }
      ]
    },
    {
      "cell_type": "code",
      "metadata": {
        "id": "aIwaRO32m2CO"
      },
      "source": [
        ""
      ],
      "execution_count": null,
      "outputs": []
    }
  ]
}