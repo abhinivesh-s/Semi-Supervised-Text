{
  "nbformat": 4,
  "nbformat_minor": 0,
  "metadata": {
    "colab": {
      "name": "Semi-Supervised sklearn v2.ipynb",
      "provenance": [],
      "collapsed_sections": [],
      "machine_shape": "hm",
      "authorship_tag": "ABX9TyMzS+nc+znoZxWdjLZTFjpj",
      "include_colab_link": true
    },
    "kernelspec": {
      "name": "python3",
      "display_name": "Python 3"
    },
    "language_info": {
      "name": "python"
    }
  },
  "cells": [
    {
      "cell_type": "markdown",
      "metadata": {
        "id": "view-in-github",
        "colab_type": "text"
      },
      "source": [
        "<a href=\"https://colab.research.google.com/github/abhinivesh-s/Semi-Supervised-Text/blob/main/Semi_Supervised_sklearn_v2.ipynb\" target=\"_parent\"><img src=\"https://colab.research.google.com/assets/colab-badge.svg\" alt=\"Open In Colab\"/></a>"
      ]
    },
    {
      "cell_type": "code",
      "metadata": {
        "id": "C_pmDcpcfyaM"
      },
      "source": [
        "import numpy as np\n",
        "import pandas as pd\n",
        "import torch\n",
        "from torch.utils.data import Dataset\n",
        "import torch.utils.data as Data\n",
        "import pickle"
      ],
      "execution_count": null,
      "outputs": []
    },
    {
      "cell_type": "code",
      "metadata": {
        "colab": {
          "base_uri": "https://localhost:8080/"
        },
        "id": "Aa3rhWCfRR_v",
        "outputId": "75135d6e-0fe5-4447-ebff-c3b6d4a09741"
      },
      "source": [
        "print(np.__version__)\n",
        "import sklearn\n",
        "print(sklearn.__version__)"
      ],
      "execution_count": null,
      "outputs": [
        {
          "output_type": "stream",
          "text": [
            "1.16.2\n",
            "0.24.2\n"
          ],
          "name": "stdout"
        }
      ]
    },
    {
      "cell_type": "code",
      "metadata": {
        "colab": {
          "base_uri": "https://localhost:8080/"
        },
        "id": "_CINtLiQgPlK",
        "outputId": "efaa8e7d-691f-416a-dc3d-17e539fa55f8"
      },
      "source": [
        "from google.colab import drive\n",
        "drive.mount('/content/drive')"
      ],
      "execution_count": null,
      "outputs": [
        {
          "output_type": "stream",
          "text": [
            "Mounted at /content/drive\n"
          ],
          "name": "stdout"
        }
      ]
    },
    {
      "cell_type": "code",
      "metadata": {
        "colab": {
          "base_uri": "https://localhost:8080/",
          "height": 376
        },
        "id": "7epwVF9xRFok",
        "outputId": "2816da55-5408-4d9f-8157-527286c72b7a"
      },
      "source": [
        "!pip install numpy==1.16.2\n",
        "import numpy as np"
      ],
      "execution_count": null,
      "outputs": [
        {
          "output_type": "stream",
          "text": [
            "Collecting numpy==1.16.2\n",
            "\u001b[?25l  Downloading https://files.pythonhosted.org/packages/91/e7/6c780e612d245cca62bc3ba8e263038f7c144a96a54f877f3714a0e8427e/numpy-1.16.2-cp37-cp37m-manylinux1_x86_64.whl (17.3MB)\n",
            "\u001b[K     |████████████████████████████████| 17.3MB 318kB/s \n",
            "\u001b[31mERROR: xarray 0.18.0 has requirement numpy>=1.17, but you'll have numpy 1.16.2 which is incompatible.\u001b[0m\n",
            "\u001b[31mERROR: tensorflow 2.4.1 has requirement numpy~=1.19.2, but you'll have numpy 1.16.2 which is incompatible.\u001b[0m\n",
            "\u001b[31mERROR: pyarrow 3.0.0 has requirement numpy>=1.16.6, but you'll have numpy 1.16.2 which is incompatible.\u001b[0m\n",
            "\u001b[31mERROR: datascience 0.10.6 has requirement folium==0.2.1, but you'll have folium 0.8.3 which is incompatible.\u001b[0m\n",
            "\u001b[31mERROR: astropy 4.2.1 has requirement numpy>=1.17, but you'll have numpy 1.16.2 which is incompatible.\u001b[0m\n",
            "\u001b[31mERROR: albumentations 0.1.12 has requirement imgaug<0.2.7,>=0.2.5, but you'll have imgaug 0.2.9 which is incompatible.\u001b[0m\n",
            "\u001b[?25hInstalling collected packages: numpy\n",
            "  Found existing installation: numpy 1.19.5\n",
            "    Uninstalling numpy-1.19.5:\n",
            "      Successfully uninstalled numpy-1.19.5\n",
            "Successfully installed numpy-1.16.2\n"
          ],
          "name": "stdout"
        },
        {
          "output_type": "display_data",
          "data": {
            "application/vnd.colab-display-data+json": {
              "pip_warning": {
                "packages": [
                  "numpy"
                ]
              }
            }
          },
          "metadata": {
            "tags": []
          }
        }
      ]
    },
    {
      "cell_type": "code",
      "metadata": {
        "id": "ueImsZ8KKQKo",
        "colab": {
          "base_uri": "https://localhost:8080/"
        },
        "outputId": "4ca2cd2d-079c-4784-f86f-c8920197c94b"
      },
      "source": [
        "!pip install --upgrade scikit-learn  # Do this to use sklearn SelfTrainingClassifier"
      ],
      "execution_count": null,
      "outputs": [
        {
          "output_type": "stream",
          "text": [
            "Collecting scikit-learn\n",
            "\u001b[?25l  Downloading https://files.pythonhosted.org/packages/a8/eb/a48f25c967526b66d5f1fa7a984594f0bf0a5afafa94a8c4dbc317744620/scikit_learn-0.24.2-cp37-cp37m-manylinux2010_x86_64.whl (22.3MB)\n",
            "\u001b[K     |████████████████████████████████| 22.3MB 56.6MB/s \n",
            "\u001b[?25hRequirement already satisfied, skipping upgrade: numpy>=1.13.3 in /usr/local/lib/python3.7/dist-packages (from scikit-learn) (1.19.5)\n",
            "Requirement already satisfied, skipping upgrade: joblib>=0.11 in /usr/local/lib/python3.7/dist-packages (from scikit-learn) (1.0.1)\n",
            "Requirement already satisfied, skipping upgrade: scipy>=0.19.1 in /usr/local/lib/python3.7/dist-packages (from scikit-learn) (1.4.1)\n",
            "Collecting threadpoolctl>=2.0.0\n",
            "  Downloading https://files.pythonhosted.org/packages/f7/12/ec3f2e203afa394a149911729357aa48affc59c20e2c1c8297a60f33f133/threadpoolctl-2.1.0-py3-none-any.whl\n",
            "Installing collected packages: threadpoolctl, scikit-learn\n",
            "  Found existing installation: scikit-learn 0.22.2.post1\n",
            "    Uninstalling scikit-learn-0.22.2.post1:\n",
            "      Successfully uninstalled scikit-learn-0.22.2.post1\n",
            "Successfully installed scikit-learn-0.24.2 threadpoolctl-2.1.0\n"
          ],
          "name": "stdout"
        }
      ]
    },
    {
      "cell_type": "code",
      "metadata": {
        "colab": {
          "base_uri": "https://localhost:8080/"
        },
        "id": "feLsjKVQg-mk",
        "outputId": "ac92c68c-dd64-4aa8-81c2-8fd344aa7dcf"
      },
      "source": [
        "%cd \"/content/drive/My Drive/Colab Notebooks/MixText-master\"\n",
        "!ls"
      ],
      "execution_count": null,
      "outputs": [
        {
          "output_type": "stream",
          "text": [
            "/content/drive/My Drive/Colab Notebooks/MixText-master\n",
            " code\t     LICENSE\t\t\t'Running MixText v5 ISIS Data.ipynb'\n",
            " data\t     README.md\t\t\t'Semi-Supervised sklearn.ipynb'\n",
            " data_temp  'Running MixText v3.ipynb'\t word2vec_model.bin\n"
          ],
          "name": "stdout"
        }
      ]
    },
    {
      "cell_type": "code",
      "metadata": {
        "id": "A1GBsvghfYax"
      },
      "source": [
        "def train_val_split(labels, n_labeled_per_class, unlabeled_per_class, n_labels, seed=0):\n",
        "    \"\"\"Split the original training set into labeled training set, unlabeled training set, development set\n",
        "\n",
        "    Arguments:\n",
        "        labels {list} -- List of labeles for original training set\n",
        "        n_labeled_per_class {int} -- Number of labeled data per class\n",
        "        unlabeled_per_class {int} -- Number of unlabeled data per class\n",
        "        n_labels {int} -- The number of classes\n",
        "\n",
        "    Keyword Arguments:\n",
        "        seed {int} -- [random seed of np.shuffle] (default: {0})\n",
        "\n",
        "    Returns:\n",
        "        [list] -- idx for labeled training set, unlabeled training set, development set\n",
        "    \"\"\"\n",
        "    np.random.seed(seed)\n",
        "    labels = np.array(labels)\n",
        "    train_labeled_idxs = []\n",
        "    train_unlabeled_idxs = []\n",
        "    val_idxs = []\n",
        "\n",
        "    for i in range(n_labels):\n",
        "        idxs = np.where(labels == i)[0]\n",
        "        np.random.shuffle(idxs)\n",
        "        if n_labels == 2:\n",
        "            # IMDB\n",
        "            \n",
        "            \n",
        "            \n",
        "            n_unlabeled_per_class = 1000   #10, 100, 500, 1000, 2500\n",
        "            train_pool = np.concatenate((idxs[:500], idxs[5500:-2000]))\n",
        "            train_labeled_idxs.extend(train_pool[:n_labeled_per_class])\n",
        "            train_unlabeled_idxs.extend(idxs[500: 500 + n_unlabeled_per_class])\n",
        "            val_idxs.extend(idxs[-2000:])\n",
        "        \n",
        "        \n",
        "        \n",
        "            # train_pool = np.concatenate((idxs[:500], idxs[5500:-2000]))\n",
        "            # train_labeled_idxs.extend(train_pool[:n_labeled_per_class])\n",
        "            # train_unlabeled_idxs.extend(\n",
        "            #     idxs[500: 500 + 5000])\n",
        "            # val_idxs.extend(idxs[-2000:])\n",
        "            \n",
        "\n",
        "    return train_labeled_idxs, train_unlabeled_idxs, val_idxs\n",
        "\n",
        "\n",
        "class loader_labeled(Dataset):\n",
        "    # Data loader for labeled data\n",
        "    def __init__(self, dataset_text, dataset_label, tokenizer, max_seq_len, aug=False):\n",
        "        self.tokenizer = tokenizer\n",
        "        self.text = dataset_text\n",
        "        self.labels = dataset_label\n",
        "        self.max_seq_len = max_seq_len\n",
        "\n",
        "        self.aug = aug\n",
        "        self.trans_dist = {}\n",
        "\n",
        "        if aug:\n",
        "            print('Aug train data by back translation of German')\n",
        "            self.en2de = torch.hub.load(\n",
        "                'pytorch/fairseq', 'transformer.wmt19.en-de.single_model', tokenizer='moses', bpe='fastbpe')\n",
        "            self.de2en = torch.hub.load(\n",
        "                'pytorch/fairseq', 'transformer.wmt19.de-en.single_model', tokenizer='moses', bpe='fastbpe')\n",
        "\n",
        "    def __len__(self):\n",
        "        return len(self.labels)\n",
        "\n",
        "    def augment(self, text):\n",
        "        if text not in self.trans_dist:\n",
        "            self.trans_dist[text] = self.de2en.translate(self.en2de.translate(\n",
        "                text,  sampling=True, temperature=0.9),  sampling=True, temperature=0.9)\n",
        "        return self.trans_dist[text]\n",
        "\n",
        "    def get_tokenized(self, text):\n",
        "        tokens = self.tokenizer.tokenize(text)\n",
        "        if len(tokens) > self.max_seq_len:\n",
        "            tokens = tokens[:self.max_seq_len]\n",
        "        length = len(tokens)\n",
        "\n",
        "        encode_result = self.tokenizer.convert_tokens_to_ids(tokens)\n",
        "        padding = [0] * (self.max_seq_len - len(encode_result))\n",
        "        encode_result += padding\n",
        "\n",
        "        return encode_result, length\n",
        "\n",
        "    def __getitem__(self, idx):\n",
        "        if self.aug:\n",
        "            text = self.text[idx]\n",
        "            text_aug = self.augment(text)\n",
        "            text_result, text_length = self.get_tokenized(text)\n",
        "            text_result2, text_length2 = self.get_tokenized(text_aug)\n",
        "            return ((torch.tensor(text_result), torch.tensor(text_result2)), (self.labels[idx], self.labels[idx]), (text_length, text_length2))\n",
        "        else:\n",
        "            text = self.text[idx]\n",
        "            tokens = self.tokenizer.tokenize(text)\n",
        "            if len(tokens) > self.max_seq_len:\n",
        "                tokens = tokens[:self.max_seq_len]\n",
        "            length = len(tokens)\n",
        "            encode_result = self.tokenizer.convert_tokens_to_ids(tokens)\n",
        "            padding = [0] * (self.max_seq_len - len(encode_result))\n",
        "            encode_result += padding\n",
        "            return (torch.tensor(encode_result), self.labels[idx], length)\n",
        "\n",
        "\n",
        "class loader_unlabeled(Dataset):\n",
        "    # Data loader for unlabeled data\n",
        "    def __init__(self, dataset_text, unlabeled_idxs, tokenizer, max_seq_len, aug=None):\n",
        "        self.tokenizer = tokenizer\n",
        "        self.text = dataset_text\n",
        "        self.ids = unlabeled_idxs\n",
        "        self.aug = aug\n",
        "        self.max_seq_len = max_seq_len\n",
        "\n",
        "    def __len__(self):\n",
        "        return len(self.text)\n",
        "\n",
        "    def get_tokenized(self, text):\n",
        "        tokens = self.tokenizer.tokenize(text)\n",
        "        if len(tokens) > self.max_seq_len:\n",
        "            tokens = tokens[:self.max_seq_len]\n",
        "        length = len(tokens)\n",
        "        encode_result = self.tokenizer.convert_tokens_to_ids(tokens)\n",
        "        padding = [0] * (self.max_seq_len - len(encode_result))\n",
        "        encode_result += padding\n",
        "        return encode_result, length\n",
        "\n",
        "    def __getitem__(self, idx):\n",
        "        if self.aug is not None:\n",
        "            u, v, ori = self.aug(self.text[idx], self.ids[idx])\n",
        "            encode_result_u, length_u = self.get_tokenized(u)\n",
        "            encode_result_v, length_v = self.get_tokenized(v)\n",
        "            encode_result_ori, length_ori = self.get_tokenized(ori)\n",
        "            return ((torch.tensor(encode_result_u), torch.tensor(encode_result_v), torch.tensor(encode_result_ori)), (length_u, length_v, length_ori))\n",
        "        else:\n",
        "            text = self.text[idx]\n",
        "            encode_result, length = self.get_tokenized(text)\n",
        "            return (torch.tensor(encode_result), length)\n"
      ],
      "execution_count": null,
      "outputs": []
    },
    {
      "cell_type": "code",
      "metadata": {
        "colab": {
          "base_uri": "https://localhost:8080/"
        },
        "id": "V7w3zYcujTcM",
        "outputId": "89881225-fe71-4b78-8524-34537dfb23cf"
      },
      "source": [
        "%%time\n",
        "import re\n",
        "#Removes Punctuations\n",
        "def remove_punctuations(data):\n",
        "    punct_tag=re.compile(r'[^\\w\\s]')\n",
        "    data=punct_tag.sub(r'',data)\n",
        "    return data\n",
        "\n",
        "#Removes HTML syntaxes\n",
        "def remove_html(data):\n",
        "    html_tag=re.compile(r'<.*?>')\n",
        "    data=html_tag.sub(r'',data)\n",
        "    return data\n",
        "\n",
        "#Removes URL data\n",
        "def remove_url(data):\n",
        "    url_clean= re.compile(r\"https://\\S+|www\\.\\S+\")\n",
        "    data=url_clean.sub(r'',data)\n",
        "    return data\n",
        "\n",
        "#Removes Emojis\n",
        "def remove_emoji(data):\n",
        "    emoji_clean= re.compile(\"[\"\n",
        "                           u\"\\U0001F600-\\U0001F64F\"  # emoticons\n",
        "                           u\"\\U0001F300-\\U0001F5FF\"  # symbols & pictographs\n",
        "                           u\"\\U0001F680-\\U0001F6FF\"  # transport & map symbols\n",
        "                           u\"\\U0001F1E0-\\U0001F1FF\"  # flags (iOS)\n",
        "                           u\"\\U00002702-\\U000027B0\"\n",
        "                           u\"\\U000024C2-\\U0001F251\"\n",
        "                           \"]+\", flags=re.UNICODE)\n",
        "    data=emoji_clean.sub(r'',data)\n",
        "    url_clean= re.compile(r\"https://\\S+|www\\.\\S+\")\n",
        "    data=url_clean.sub(r'',data)\n",
        "    return data\n"
      ],
      "execution_count": null,
      "outputs": [
        {
          "output_type": "stream",
          "text": [
            "CPU times: user 10 µs, sys: 0 ns, total: 10 µs\n",
            "Wall time: 13.8 µs\n"
          ],
          "name": "stdout"
        }
      ]
    },
    {
      "cell_type": "code",
      "metadata": {
        "id": "Fjo6YhKpk5AN"
      },
      "source": [
        "def clean(train_df):\n",
        "    \n",
        "    train_df['review']=train_df['review'].apply(lambda z: remove_punctuations(z))\n",
        "    train_df['review']=train_df['review'].apply(lambda z: remove_html(z))\n",
        "    train_df['review']=train_df['review'].apply(lambda z: remove_url(z))\n",
        "    train_df['review']=train_df['review'].apply(lambda z: remove_emoji(z))\n",
        "    \n",
        "    train_df['review']=train_df['review'].apply(lambda z: word_tokenize(z))\n",
        "    \n",
        "    lemmatizer = WordNetLemmatizer()\n",
        "#     train_df['review']=train_df['review'].apply(lambda x: [lemmatizer.lemmatize(word) for word in x])\n",
        "    train_df['review']=train_df['review'].apply(lambda x: ' '.join(x))\n",
        "    \n",
        "    return train_df"
      ],
      "execution_count": null,
      "outputs": []
    },
    {
      "cell_type": "code",
      "metadata": {
        "id": "J-mWoJi6nvI-"
      },
      "source": [
        "def make_feature_vec(words, model, num_features):\n",
        "    \"\"\"\n",
        "    Average the word vectors for a set of words\n",
        "    \"\"\"\n",
        "    feature_vec = np.zeros((num_features,),dtype=\"float32\")  # pre-initialize (for speed)\n",
        "    nwords = 0.\n",
        "    index2word_set = set(model.wv.index2word)  # words known to the model\n",
        "\n",
        "    for word in words:\n",
        "        if word in index2word_set: \n",
        "            nwords = nwords + 1.\n",
        "            feature_vec = np.add(feature_vec,model[word])\n",
        "    \n",
        "    feature_vec = np.divide(feature_vec, nwords)\n",
        "    return feature_vec\n",
        "\n",
        "\n",
        "def get_avg_feature_vecs(reviews, model, num_features):\n",
        "    \"\"\"\n",
        "    Calculate average feature vectors for all reviews\n",
        "    \"\"\"\n",
        "    counter = 0\n",
        "    review_feature_vecs = np.zeros((len(reviews),num_features), dtype='float32')  # pre-initialize (for speed)\n",
        "    \n",
        "    for review in reviews:\n",
        "#         print(counter)\n",
        "        review_feature_vecs[counter] = make_feature_vec(review, model, num_features)\n",
        "        counter = counter + 1\n",
        "    return review_feature_vecs\n"
      ],
      "execution_count": null,
      "outputs": []
    },
    {
      "cell_type": "code",
      "metadata": {
        "colab": {
          "base_uri": "https://localhost:8080/"
        },
        "id": "A3ZTQV4tFEne",
        "outputId": "761811d0-5fad-40b5-c56f-1f7c3f95db8b"
      },
      "source": [
        "# Gensim\n",
        "import gensim\n",
        "import gensim.corpora as corpora\n",
        "from gensim.models import word2vec\n",
        "from gensim.models import KeyedVectors\n",
        "\n",
        "\n",
        "from sklearn.feature_extraction.text import CountVectorizer\n",
        "from sklearn.feature_extraction.text import TfidfVectorizer\n",
        "from sklearn.feature_selection import SelectKBest\n",
        "from sklearn.feature_selection import f_classif\n",
        "\n",
        "\n",
        "from nltk.stem import WordNetLemmatizer\n",
        "from nltk.tokenize import word_tokenize\n",
        "import nltk\n",
        "nltk.download('punkt')\n",
        "\n",
        "def get_data_tfidf(n, arg1=1):\n",
        "\n",
        "  n_labeled_per_class = n       #10, 200, 500, 1000, 2400\n",
        "  unlabeled_per_class = 1000\n",
        "\n",
        "\n",
        "  data_path = './data/imdb_data/'\n",
        "  train_df = pd.read_csv(data_path+'train.csv', header=None)\n",
        "  test_df = pd.read_csv(data_path+'test.csv', header=None)\n",
        "  print(\"Read data successful\", train_df.shape, test_df.shape, \"n_labeled = \", n_labeled_per_class*2)\n",
        "  print(train_df.head(5))\n",
        "\n",
        "\n",
        "  train_labels = np.array([v for v in train_df[1]])\n",
        "  train_text = np.array([v for v in train_df[0]])\n",
        "  print(train_labels[:3])\n",
        "  print(train_text[:3])\n",
        "\n",
        "  test_labels = np.array([u for u in test_df[1]])\n",
        "  test_text = np.array([v for v in test_df[0]])\n",
        "\n",
        "\n",
        "\n",
        "\n",
        "  n_labels = 2\n",
        "  # Split the labeled training set, unlabeled training set, development set\n",
        "  train_labeled_idxs, train_unlabeled_idxs, val_idxs = train_val_split(\n",
        "      train_labels, n_labeled_per_class, unlabeled_per_class, n_labels)\n",
        "\n",
        "  print(\"#Labeled: {}, Unlabeled {}, Val {}, Test {}\".format(len(\n",
        "      train_labeled_idxs), len(train_unlabeled_idxs), len(val_idxs), len(test_labels)))\n",
        "  \n",
        "\n",
        "\n",
        "  df_train = pd.DataFrame({'review':train_text[train_labeled_idxs], 'sentiment':train_labels[train_labeled_idxs]})\n",
        "  print(df_train.shape)\n",
        "  # df_train.head()\n",
        "\n",
        "  df_test = pd.DataFrame({'review':test_text, 'sentiment':test_labels})\n",
        "  print(df_test.shape)\n",
        "\n",
        "  if arg1!=1:\n",
        "    return df_test\n",
        "  # df_test.head()\n",
        "\n",
        "  df_unlabeled = pd.DataFrame({'review':train_text[train_unlabeled_idxs], 'sentiment':train_labels[train_unlabeled_idxs]})\n",
        "  print(df_unlabeled.shape)\n",
        "  # df_unlabeled.head()\n",
        "\n",
        "  clean_train_df = clean(df_train)\n",
        "  clean_test_df = clean(df_test)\n",
        "  clean_unlabeled_df = clean(df_unlabeled)\n",
        "\n",
        "  texts = np.array((clean_train_df['review'].append(clean_unlabeled_df['review'], ignore_index=True)))\n",
        "\n",
        "  # Create Corpus\n",
        "  # model = word2vec.Word2Vec(texts, min_count=1)\n",
        "\n",
        "  NGRAM_RANGE = (1, 2)\n",
        "  TOP_K = 20000\n",
        "  TOKEN_MODE = 'word'\n",
        "  MIN_DOC_FREQ = 2\n",
        "\n",
        "  kwargs = {\n",
        "      'ngram_range' : NGRAM_RANGE,\n",
        "      'dtype' : 'int32',\n",
        "      'strip_accents' : 'unicode',\n",
        "      'decode_error' : 'replace',\n",
        "      'analyzer' : TOKEN_MODE,\n",
        "      'min_df' : MIN_DOC_FREQ,\n",
        "  }\n",
        "\n",
        "  tfidf_vectorizer = TfidfVectorizer(**kwargs)\n",
        "\n",
        "\n",
        "  ##save the modeled words produced from Word2Vec\n",
        "  # model.save('word2vec_model.bin')\n",
        "\n",
        "\n",
        "  # loaded_model=KeyedVectors.load('word2vec_model.bin')\n",
        "  # print(\"Loaded word2vec model:\", loaded_model)\n",
        "\n",
        "  # num_features = 100 # See Word2Vec(vocab=213802, size=100, alpha=0.025) in above cell.\n",
        "  # feature_vec_train = get_avg_feature_vecs(clean_train_df['review'], loaded_model, num_features)\n",
        "  # feature_vec_test = get_avg_feature_vecs(clean_test_df['review'], loaded_model, num_features)\n",
        "  # feature_vec_unlabeled = get_avg_feature_vecs(clean_unlabeled_df['review'], loaded_model, num_features)\n",
        "\n",
        "  feature_vec_full_train = tfidf_vectorizer.fit_transform(texts)\n",
        "\n",
        "  feature_vec_train = tfidf_vectorizer.transform(clean_train_df['review'])\n",
        "  feature_vec_test = tfidf_vectorizer.transform(clean_test_df['review'])\n",
        "  feature_vec_unlabeled = tfidf_vectorizer.transform(clean_unlabeled_df['review'])\n",
        "\n",
        "\n",
        "  TOP_K = 20000\n",
        "  selector = SelectKBest(f_classif, k=min(TOP_K, feature_vec_train.shape[1]))\n",
        "\n",
        "  selector.fit(feature_vec_train, np.array([i for i in list(df_train.sentiment)]))\n",
        "\n",
        "  feature_vec_train = selector.transform(feature_vec_train).astype('float32').toarray()\n",
        "  feature_vec_test = selector.transform(feature_vec_test).astype('float32').toarray()\n",
        "  feature_vec_unlabeled = selector.transform(feature_vec_unlabeled).astype('float32').toarray()\n",
        "\n",
        "\n",
        "  print(\"TYPE\", type(feature_vec_train))\n",
        "  feature_vec_full_train = np.concatenate((feature_vec_train, feature_vec_unlabeled))\n",
        "  print(\"Shape of train data: \",feature_vec_full_train.shape)\n",
        "\n",
        "  labels = np.array([i for i in list(df_train.sentiment)]+[-1 for i in list(df_unlabeled.sentiment)])\n",
        "\n",
        "  return feature_vec_full_train, feature_vec_test, labels, test_labels, df_test"
      ],
      "execution_count": null,
      "outputs": [
        {
          "output_type": "stream",
          "text": [
            "[nltk_data] Downloading package punkt to /root/nltk_data...\n",
            "[nltk_data]   Package punkt is already up-to-date!\n"
          ],
          "name": "stdout"
        }
      ]
    },
    {
      "cell_type": "code",
      "metadata": {
        "colab": {
          "base_uri": "https://localhost:8080/"
        },
        "id": "W6Inu13xELz0",
        "outputId": "14a91ff9-27ec-4ffe-f664-c9e43b9a4f1e"
      },
      "source": [
        "!ls"
      ],
      "execution_count": null,
      "outputs": [
        {
          "output_type": "stream",
          "text": [
            " code\t     LICENSE\t\t\t'Running MixText v5 ISIS Data.ipynb'\n",
            " data\t     README.md\t\t\t'Semi-Supervised sklearn.ipynb'\n",
            " data_temp  'Running MixText v3.ipynb'\t word2vec_model.bin\n"
          ],
          "name": "stdout"
        }
      ]
    },
    {
      "cell_type": "code",
      "metadata": {
        "colab": {
          "base_uri": "https://localhost:8080/"
        },
        "id": "RNOdScrBIyQ3",
        "outputId": "1c3d6868-fbc9-462b-f259-ef2e91e5363e"
      },
      "source": [
        "# For tf-idf\n",
        "\n",
        "n_list = [10, 200, 500, 1000, 2400]\n",
        "# n_list=[10]\n",
        "\n",
        "for i in n_list:\n",
        "\n",
        "  train_vec, test_vec, labels, test_labels, df_test = get_data_tfidf(i)\n",
        "\n",
        "  print(\"TRAIN VEC: \", train_vec.shape)\n",
        "  np.save('data_temp/tf-idf/train_vec_'+str(i), train_vec)\n",
        "  np.save('data_temp/tf-idf/test_vec_'+str(i), test_vec)\n",
        "  np.save('data_temp/tf-idf/labels_'+str(i), labels)\n",
        "  np.save('data_temp/tf-idf/test_labels_'+str(i), test_labels)\n",
        "\n",
        "  print(i, 'SAVED!!')"
      ],
      "execution_count": null,
      "outputs": [
        {
          "output_type": "stream",
          "text": [
            "Read data successful (37500, 2) (12500, 2) n_labeled =  20\n",
            "                                                   0  1\n",
            "0  I figure this to be an \"alternate reality\" tee...  0\n",
            "1  This is the kind of movie that wants to be goo...  0\n",
            "2  This was by far the worst movie I've ever seen...  0\n",
            "3  Awful, awful, awful...<br /><br />I loved the ...  0\n",
            "4  Fragile Carne, just before his great period. A...  1\n",
            "[0 0 0]\n",
            "['I figure this to be an \"alternate reality\" teen flick...More precisely a Ferris Bueller type character as the leader of a cheat ring . Yeah, I know it\\'s not meant to compared to Ferris Bueller, at least not in a \"oranges-to-oranges\" way, but it will none-the-less.<br /><br />Bottom-line: It\\'s galaxies away from even being even a minor classic. It is watchable, though only if you\\'re not expecting very much. That said, the main character has some charm, but the premise wears thin because the writing just isn\\'t clever. The movie just did not deliver enough laughs, twists, or tension to keep my interest. <br /><br />To be honest I did continue watching...Watching with hopes to see if anything suddenly clicked. It didn\\'t. So, stylish as it is, I wouldn\\'t recommend this movie. BTW, it seems odd to see Mary Tyler Moore as the principal. She\\'s truly miscast, I hope the paycheck was inordinately big.'\n",
            " \"This is the kind of movie that wants to be good but sucks. First thing, what the hell are those punk trying to do with the school? I think the kids doesn't seem to realize the gravity of the situation. Deker guy say to the girl that they under his responsibility when she ask why he wants to go back for them but right after this he gives a gun to the wheel chair dude and wants him to go alone repair the phone line. Where is the responsibility there? I understand poor actors must pay their food but why not just give them the money that takes to make a stupid movie like that or give that money to a charity. Oh yea and none of them knows how to aim. The stupid punk guy shoots in the cafeteria nowhere like a crazy. They all want to look professional but they all suck. One more thing I don't believe that there's no emergency exit in the school the kids are trying several doors but they all locked. What happens if there's a fire and the dumass security guard is dead? It is illegal to not have an emergency exit in school. Anyway there's a lot more to say but it would be too long. I spent some time of my life to watch a crap.\"\n",
            " \"This was by far the worst movie I've ever seen. And thats compared to Alexander, Fortress 2 and The new world.<br /><br />I should go back to blockbuster and ask for my money back along with compensation as it was a truly traumatic experience. For the first ten minutes i was changing the zoom on my widescreen TV because the actors seemed to be out of screen. I didn't think it was possible to make such a bad film in this day and age, i was wrong. While typing this message, I've thought of a good reason to buy this movie. A joke present at Xmas. I'm blaming the Mrs for this one as she picked it, thanks babe.<br /><br />Be warned.......A true shocker all round!!!!!!\"]\n",
            "#Labeled: 20, Unlabeled 2000, Val 4000, Test 12500\n",
            "(20, 2)\n",
            "(12500, 2)\n",
            "(2000, 2)\n"
          ],
          "name": "stdout"
        },
        {
          "output_type": "stream",
          "text": [
            "/usr/local/lib/python3.7/dist-packages/sklearn/feature_extraction/text.py:1804: UserWarning: Only (<class 'numpy.float64'>, <class 'numpy.float32'>, <class 'numpy.float16'>) 'dtype' should be used. int32 'dtype' will be converted to np.float64.\n",
            "  UserWarning)\n",
            "/usr/local/lib/python3.7/dist-packages/sklearn/feature_selection/_univariate_selection.py:115: UserWarning: Features [0 0 0 ... 0 0 0] are constant.\n",
            "  UserWarning)\n",
            "/usr/local/lib/python3.7/dist-packages/sklearn/feature_selection/_univariate_selection.py:116: RuntimeWarning: invalid value encountered in true_divide\n",
            "  f = msb / msw\n"
          ],
          "name": "stderr"
        },
        {
          "output_type": "stream",
          "text": [
            "TYPE <class 'numpy.ndarray'>\n",
            "Shape of train data:  (2020, 20000)\n",
            "TRAIN VEC:  (2020, 20000)\n",
            "10 SAVED!!\n",
            "Read data successful (37500, 2) (12500, 2) n_labeled =  400\n",
            "                                                   0  1\n",
            "0  I figure this to be an \"alternate reality\" tee...  0\n",
            "1  This is the kind of movie that wants to be goo...  0\n",
            "2  This was by far the worst movie I've ever seen...  0\n",
            "3  Awful, awful, awful...<br /><br />I loved the ...  0\n",
            "4  Fragile Carne, just before his great period. A...  1\n",
            "[0 0 0]\n",
            "['I figure this to be an \"alternate reality\" teen flick...More precisely a Ferris Bueller type character as the leader of a cheat ring . Yeah, I know it\\'s not meant to compared to Ferris Bueller, at least not in a \"oranges-to-oranges\" way, but it will none-the-less.<br /><br />Bottom-line: It\\'s galaxies away from even being even a minor classic. It is watchable, though only if you\\'re not expecting very much. That said, the main character has some charm, but the premise wears thin because the writing just isn\\'t clever. The movie just did not deliver enough laughs, twists, or tension to keep my interest. <br /><br />To be honest I did continue watching...Watching with hopes to see if anything suddenly clicked. It didn\\'t. So, stylish as it is, I wouldn\\'t recommend this movie. BTW, it seems odd to see Mary Tyler Moore as the principal. She\\'s truly miscast, I hope the paycheck was inordinately big.'\n",
            " \"This is the kind of movie that wants to be good but sucks. First thing, what the hell are those punk trying to do with the school? I think the kids doesn't seem to realize the gravity of the situation. Deker guy say to the girl that they under his responsibility when she ask why he wants to go back for them but right after this he gives a gun to the wheel chair dude and wants him to go alone repair the phone line. Where is the responsibility there? I understand poor actors must pay their food but why not just give them the money that takes to make a stupid movie like that or give that money to a charity. Oh yea and none of them knows how to aim. The stupid punk guy shoots in the cafeteria nowhere like a crazy. They all want to look professional but they all suck. One more thing I don't believe that there's no emergency exit in the school the kids are trying several doors but they all locked. What happens if there's a fire and the dumass security guard is dead? It is illegal to not have an emergency exit in school. Anyway there's a lot more to say but it would be too long. I spent some time of my life to watch a crap.\"\n",
            " \"This was by far the worst movie I've ever seen. And thats compared to Alexander, Fortress 2 and The new world.<br /><br />I should go back to blockbuster and ask for my money back along with compensation as it was a truly traumatic experience. For the first ten minutes i was changing the zoom on my widescreen TV because the actors seemed to be out of screen. I didn't think it was possible to make such a bad film in this day and age, i was wrong. While typing this message, I've thought of a good reason to buy this movie. A joke present at Xmas. I'm blaming the Mrs for this one as she picked it, thanks babe.<br /><br />Be warned.......A true shocker all round!!!!!!\"]\n",
            "#Labeled: 400, Unlabeled 2000, Val 4000, Test 12500\n",
            "(400, 2)\n",
            "(12500, 2)\n",
            "(2000, 2)\n"
          ],
          "name": "stdout"
        },
        {
          "output_type": "stream",
          "text": [
            "/usr/local/lib/python3.7/dist-packages/sklearn/feature_extraction/text.py:1804: UserWarning: Only (<class 'numpy.float64'>, <class 'numpy.float32'>, <class 'numpy.float16'>) 'dtype' should be used. int32 'dtype' will be converted to np.float64.\n",
            "  UserWarning)\n",
            "/usr/local/lib/python3.7/dist-packages/sklearn/feature_selection/_univariate_selection.py:115: UserWarning: Features [0 0 0 ... 0 0 0] are constant.\n",
            "  UserWarning)\n",
            "/usr/local/lib/python3.7/dist-packages/sklearn/feature_selection/_univariate_selection.py:116: RuntimeWarning: invalid value encountered in true_divide\n",
            "  f = msb / msw\n"
          ],
          "name": "stderr"
        },
        {
          "output_type": "stream",
          "text": [
            "TYPE <class 'numpy.ndarray'>\n",
            "Shape of train data:  (2400, 20000)\n",
            "TRAIN VEC:  (2400, 20000)\n",
            "200 SAVED!!\n",
            "Read data successful (37500, 2) (12500, 2) n_labeled =  1000\n",
            "                                                   0  1\n",
            "0  I figure this to be an \"alternate reality\" tee...  0\n",
            "1  This is the kind of movie that wants to be goo...  0\n",
            "2  This was by far the worst movie I've ever seen...  0\n",
            "3  Awful, awful, awful...<br /><br />I loved the ...  0\n",
            "4  Fragile Carne, just before his great period. A...  1\n",
            "[0 0 0]\n",
            "['I figure this to be an \"alternate reality\" teen flick...More precisely a Ferris Bueller type character as the leader of a cheat ring . Yeah, I know it\\'s not meant to compared to Ferris Bueller, at least not in a \"oranges-to-oranges\" way, but it will none-the-less.<br /><br />Bottom-line: It\\'s galaxies away from even being even a minor classic. It is watchable, though only if you\\'re not expecting very much. That said, the main character has some charm, but the premise wears thin because the writing just isn\\'t clever. The movie just did not deliver enough laughs, twists, or tension to keep my interest. <br /><br />To be honest I did continue watching...Watching with hopes to see if anything suddenly clicked. It didn\\'t. So, stylish as it is, I wouldn\\'t recommend this movie. BTW, it seems odd to see Mary Tyler Moore as the principal. She\\'s truly miscast, I hope the paycheck was inordinately big.'\n",
            " \"This is the kind of movie that wants to be good but sucks. First thing, what the hell are those punk trying to do with the school? I think the kids doesn't seem to realize the gravity of the situation. Deker guy say to the girl that they under his responsibility when she ask why he wants to go back for them but right after this he gives a gun to the wheel chair dude and wants him to go alone repair the phone line. Where is the responsibility there? I understand poor actors must pay their food but why not just give them the money that takes to make a stupid movie like that or give that money to a charity. Oh yea and none of them knows how to aim. The stupid punk guy shoots in the cafeteria nowhere like a crazy. They all want to look professional but they all suck. One more thing I don't believe that there's no emergency exit in the school the kids are trying several doors but they all locked. What happens if there's a fire and the dumass security guard is dead? It is illegal to not have an emergency exit in school. Anyway there's a lot more to say but it would be too long. I spent some time of my life to watch a crap.\"\n",
            " \"This was by far the worst movie I've ever seen. And thats compared to Alexander, Fortress 2 and The new world.<br /><br />I should go back to blockbuster and ask for my money back along with compensation as it was a truly traumatic experience. For the first ten minutes i was changing the zoom on my widescreen TV because the actors seemed to be out of screen. I didn't think it was possible to make such a bad film in this day and age, i was wrong. While typing this message, I've thought of a good reason to buy this movie. A joke present at Xmas. I'm blaming the Mrs for this one as she picked it, thanks babe.<br /><br />Be warned.......A true shocker all round!!!!!!\"]\n",
            "#Labeled: 1000, Unlabeled 2000, Val 4000, Test 12500\n",
            "(1000, 2)\n",
            "(12500, 2)\n",
            "(2000, 2)\n"
          ],
          "name": "stdout"
        },
        {
          "output_type": "stream",
          "text": [
            "/usr/local/lib/python3.7/dist-packages/sklearn/feature_extraction/text.py:1804: UserWarning: Only (<class 'numpy.float64'>, <class 'numpy.float32'>, <class 'numpy.float16'>) 'dtype' should be used. int32 'dtype' will be converted to np.float64.\n",
            "  UserWarning)\n",
            "/usr/local/lib/python3.7/dist-packages/sklearn/feature_selection/_univariate_selection.py:115: UserWarning: Features [0 0 0 ... 0 0 0] are constant.\n",
            "  UserWarning)\n",
            "/usr/local/lib/python3.7/dist-packages/sklearn/feature_selection/_univariate_selection.py:116: RuntimeWarning: invalid value encountered in true_divide\n",
            "  f = msb / msw\n"
          ],
          "name": "stderr"
        },
        {
          "output_type": "stream",
          "text": [
            "TYPE <class 'numpy.ndarray'>\n",
            "Shape of train data:  (3000, 20000)\n",
            "TRAIN VEC:  (3000, 20000)\n",
            "500 SAVED!!\n",
            "Read data successful (37500, 2) (12500, 2) n_labeled =  2000\n",
            "                                                   0  1\n",
            "0  I figure this to be an \"alternate reality\" tee...  0\n",
            "1  This is the kind of movie that wants to be goo...  0\n",
            "2  This was by far the worst movie I've ever seen...  0\n",
            "3  Awful, awful, awful...<br /><br />I loved the ...  0\n",
            "4  Fragile Carne, just before his great period. A...  1\n",
            "[0 0 0]\n",
            "['I figure this to be an \"alternate reality\" teen flick...More precisely a Ferris Bueller type character as the leader of a cheat ring . Yeah, I know it\\'s not meant to compared to Ferris Bueller, at least not in a \"oranges-to-oranges\" way, but it will none-the-less.<br /><br />Bottom-line: It\\'s galaxies away from even being even a minor classic. It is watchable, though only if you\\'re not expecting very much. That said, the main character has some charm, but the premise wears thin because the writing just isn\\'t clever. The movie just did not deliver enough laughs, twists, or tension to keep my interest. <br /><br />To be honest I did continue watching...Watching with hopes to see if anything suddenly clicked. It didn\\'t. So, stylish as it is, I wouldn\\'t recommend this movie. BTW, it seems odd to see Mary Tyler Moore as the principal. She\\'s truly miscast, I hope the paycheck was inordinately big.'\n",
            " \"This is the kind of movie that wants to be good but sucks. First thing, what the hell are those punk trying to do with the school? I think the kids doesn't seem to realize the gravity of the situation. Deker guy say to the girl that they under his responsibility when she ask why he wants to go back for them but right after this he gives a gun to the wheel chair dude and wants him to go alone repair the phone line. Where is the responsibility there? I understand poor actors must pay their food but why not just give them the money that takes to make a stupid movie like that or give that money to a charity. Oh yea and none of them knows how to aim. The stupid punk guy shoots in the cafeteria nowhere like a crazy. They all want to look professional but they all suck. One more thing I don't believe that there's no emergency exit in the school the kids are trying several doors but they all locked. What happens if there's a fire and the dumass security guard is dead? It is illegal to not have an emergency exit in school. Anyway there's a lot more to say but it would be too long. I spent some time of my life to watch a crap.\"\n",
            " \"This was by far the worst movie I've ever seen. And thats compared to Alexander, Fortress 2 and The new world.<br /><br />I should go back to blockbuster and ask for my money back along with compensation as it was a truly traumatic experience. For the first ten minutes i was changing the zoom on my widescreen TV because the actors seemed to be out of screen. I didn't think it was possible to make such a bad film in this day and age, i was wrong. While typing this message, I've thought of a good reason to buy this movie. A joke present at Xmas. I'm blaming the Mrs for this one as she picked it, thanks babe.<br /><br />Be warned.......A true shocker all round!!!!!!\"]\n",
            "#Labeled: 2000, Unlabeled 2000, Val 4000, Test 12500\n",
            "(2000, 2)\n",
            "(12500, 2)\n",
            "(2000, 2)\n"
          ],
          "name": "stdout"
        },
        {
          "output_type": "stream",
          "text": [
            "/usr/local/lib/python3.7/dist-packages/sklearn/feature_extraction/text.py:1804: UserWarning: Only (<class 'numpy.float64'>, <class 'numpy.float32'>, <class 'numpy.float16'>) 'dtype' should be used. int32 'dtype' will be converted to np.float64.\n",
            "  UserWarning)\n",
            "/usr/local/lib/python3.7/dist-packages/sklearn/feature_selection/_univariate_selection.py:115: UserWarning: Features [0 0 0 ... 0 0 0] are constant.\n",
            "  UserWarning)\n",
            "/usr/local/lib/python3.7/dist-packages/sklearn/feature_selection/_univariate_selection.py:116: RuntimeWarning: invalid value encountered in true_divide\n",
            "  f = msb / msw\n"
          ],
          "name": "stderr"
        },
        {
          "output_type": "stream",
          "text": [
            "TYPE <class 'numpy.ndarray'>\n",
            "Shape of train data:  (4000, 20000)\n",
            "TRAIN VEC:  (4000, 20000)\n",
            "1000 SAVED!!\n",
            "Read data successful (37500, 2) (12500, 2) n_labeled =  4800\n",
            "                                                   0  1\n",
            "0  I figure this to be an \"alternate reality\" tee...  0\n",
            "1  This is the kind of movie that wants to be goo...  0\n",
            "2  This was by far the worst movie I've ever seen...  0\n",
            "3  Awful, awful, awful...<br /><br />I loved the ...  0\n",
            "4  Fragile Carne, just before his great period. A...  1\n",
            "[0 0 0]\n",
            "['I figure this to be an \"alternate reality\" teen flick...More precisely a Ferris Bueller type character as the leader of a cheat ring . Yeah, I know it\\'s not meant to compared to Ferris Bueller, at least not in a \"oranges-to-oranges\" way, but it will none-the-less.<br /><br />Bottom-line: It\\'s galaxies away from even being even a minor classic. It is watchable, though only if you\\'re not expecting very much. That said, the main character has some charm, but the premise wears thin because the writing just isn\\'t clever. The movie just did not deliver enough laughs, twists, or tension to keep my interest. <br /><br />To be honest I did continue watching...Watching with hopes to see if anything suddenly clicked. It didn\\'t. So, stylish as it is, I wouldn\\'t recommend this movie. BTW, it seems odd to see Mary Tyler Moore as the principal. She\\'s truly miscast, I hope the paycheck was inordinately big.'\n",
            " \"This is the kind of movie that wants to be good but sucks. First thing, what the hell are those punk trying to do with the school? I think the kids doesn't seem to realize the gravity of the situation. Deker guy say to the girl that they under his responsibility when she ask why he wants to go back for them but right after this he gives a gun to the wheel chair dude and wants him to go alone repair the phone line. Where is the responsibility there? I understand poor actors must pay their food but why not just give them the money that takes to make a stupid movie like that or give that money to a charity. Oh yea and none of them knows how to aim. The stupid punk guy shoots in the cafeteria nowhere like a crazy. They all want to look professional but they all suck. One more thing I don't believe that there's no emergency exit in the school the kids are trying several doors but they all locked. What happens if there's a fire and the dumass security guard is dead? It is illegal to not have an emergency exit in school. Anyway there's a lot more to say but it would be too long. I spent some time of my life to watch a crap.\"\n",
            " \"This was by far the worst movie I've ever seen. And thats compared to Alexander, Fortress 2 and The new world.<br /><br />I should go back to blockbuster and ask for my money back along with compensation as it was a truly traumatic experience. For the first ten minutes i was changing the zoom on my widescreen TV because the actors seemed to be out of screen. I didn't think it was possible to make such a bad film in this day and age, i was wrong. While typing this message, I've thought of a good reason to buy this movie. A joke present at Xmas. I'm blaming the Mrs for this one as she picked it, thanks babe.<br /><br />Be warned.......A true shocker all round!!!!!!\"]\n",
            "#Labeled: 4800, Unlabeled 2000, Val 4000, Test 12500\n",
            "(4800, 2)\n",
            "(12500, 2)\n",
            "(2000, 2)\n"
          ],
          "name": "stdout"
        },
        {
          "output_type": "stream",
          "text": [
            "/usr/local/lib/python3.7/dist-packages/sklearn/feature_extraction/text.py:1804: UserWarning: Only (<class 'numpy.float64'>, <class 'numpy.float32'>, <class 'numpy.float16'>) 'dtype' should be used. int32 'dtype' will be converted to np.float64.\n",
            "  UserWarning)\n",
            "/usr/local/lib/python3.7/dist-packages/sklearn/feature_selection/_univariate_selection.py:115: UserWarning: Features [0 0 0 ... 0 0 0] are constant.\n",
            "  UserWarning)\n",
            "/usr/local/lib/python3.7/dist-packages/sklearn/feature_selection/_univariate_selection.py:116: RuntimeWarning: invalid value encountered in true_divide\n",
            "  f = msb / msw\n"
          ],
          "name": "stderr"
        },
        {
          "output_type": "stream",
          "text": [
            "TYPE <class 'numpy.ndarray'>\n",
            "Shape of train data:  (6800, 20000)\n",
            "TRAIN VEC:  (6800, 20000)\n",
            "2400 SAVED!!\n"
          ],
          "name": "stdout"
        }
      ]
    },
    {
      "cell_type": "code",
      "metadata": {
        "colab": {
          "base_uri": "https://localhost:8080/"
        },
        "id": "92XsyvGLO55s",
        "outputId": "91d9c046-48b3-49cf-d5c3-34cfc4e1836e"
      },
      "source": [
        "from sklearn.semi_supervised import LabelSpreading\n",
        "from sklearn.metrics import accuracy_score\n",
        "\n",
        "n_list = [10, 200, 500, 1000, 2400]\n",
        "\n",
        "acc_list = {}\n",
        "\n",
        "for i in n_list:\n",
        "\n",
        "  df_test = get_data_tfidf(i, 10)\n",
        "\n",
        "  train_vec = np.load('data_temp/tf-idf/train_vec_'+str(i)+'.npy')\n",
        "  test_vec = np.load('data_temp/tf-idf/test_vec_'+str(i)+'.npy')\n",
        "  labels = np.load('data_temp/tf-idf/labels_'+str(i)+'.npy')\n",
        "  # test_labels = np.load('data_temp/test_labels_'+str(i)+'.npy')\n",
        "\n",
        "  print(\"HELLO!\", train_vec.shape)\n",
        "\n",
        "  label_prop_model = LabelSpreading()\n",
        "  label_prop_model.fit(train_vec, labels)\n",
        "\n",
        "  test_labels = np.array([i for i in list(df_test.sentiment)])\n",
        "  y_hat = label_prop_model.predict(test_vec)\n",
        "  score = accuracy_score(test_labels, y_hat)\n",
        "\n",
        "  acc_list[i] = score*100\n",
        "  print('Accuracy for ', i*2,  ' labeled data is: %.3f' % (score*100))"
      ],
      "execution_count": null,
      "outputs": [
        {
          "output_type": "stream",
          "text": [
            "Read data successful (37500, 2) (12500, 2) n_labeled =  20\n",
            "                                                   0  1\n",
            "0  I figure this to be an \"alternate reality\" tee...  0\n",
            "1  This is the kind of movie that wants to be goo...  0\n",
            "2  This was by far the worst movie I've ever seen...  0\n",
            "3  Awful, awful, awful...<br /><br />I loved the ...  0\n",
            "4  Fragile Carne, just before his great period. A...  1\n",
            "[0 0 0]\n",
            "['I figure this to be an \"alternate reality\" teen flick...More precisely a Ferris Bueller type character as the leader of a cheat ring . Yeah, I know it\\'s not meant to compared to Ferris Bueller, at least not in a \"oranges-to-oranges\" way, but it will none-the-less.<br /><br />Bottom-line: It\\'s galaxies away from even being even a minor classic. It is watchable, though only if you\\'re not expecting very much. That said, the main character has some charm, but the premise wears thin because the writing just isn\\'t clever. The movie just did not deliver enough laughs, twists, or tension to keep my interest. <br /><br />To be honest I did continue watching...Watching with hopes to see if anything suddenly clicked. It didn\\'t. So, stylish as it is, I wouldn\\'t recommend this movie. BTW, it seems odd to see Mary Tyler Moore as the principal. She\\'s truly miscast, I hope the paycheck was inordinately big.'\n",
            " \"This is the kind of movie that wants to be good but sucks. First thing, what the hell are those punk trying to do with the school? I think the kids doesn't seem to realize the gravity of the situation. Deker guy say to the girl that they under his responsibility when she ask why he wants to go back for them but right after this he gives a gun to the wheel chair dude and wants him to go alone repair the phone line. Where is the responsibility there? I understand poor actors must pay their food but why not just give them the money that takes to make a stupid movie like that or give that money to a charity. Oh yea and none of them knows how to aim. The stupid punk guy shoots in the cafeteria nowhere like a crazy. They all want to look professional but they all suck. One more thing I don't believe that there's no emergency exit in the school the kids are trying several doors but they all locked. What happens if there's a fire and the dumass security guard is dead? It is illegal to not have an emergency exit in school. Anyway there's a lot more to say but it would be too long. I spent some time of my life to watch a crap.\"\n",
            " \"This was by far the worst movie I've ever seen. And thats compared to Alexander, Fortress 2 and The new world.<br /><br />I should go back to blockbuster and ask for my money back along with compensation as it was a truly traumatic experience. For the first ten minutes i was changing the zoom on my widescreen TV because the actors seemed to be out of screen. I didn't think it was possible to make such a bad film in this day and age, i was wrong. While typing this message, I've thought of a good reason to buy this movie. A joke present at Xmas. I'm blaming the Mrs for this one as she picked it, thanks babe.<br /><br />Be warned.......A true shocker all round!!!!!!\"]\n",
            "#Labeled: 20, Unlabeled 2000, Val 4000, Test 12500\n",
            "(20, 2)\n",
            "(12500, 2)\n",
            "HELLO! (2020, 20000)\n",
            "Accuracy for  20  labeled data is: 54.040\n",
            "Read data successful (37500, 2) (12500, 2) n_labeled =  400\n",
            "                                                   0  1\n",
            "0  I figure this to be an \"alternate reality\" tee...  0\n",
            "1  This is the kind of movie that wants to be goo...  0\n",
            "2  This was by far the worst movie I've ever seen...  0\n",
            "3  Awful, awful, awful...<br /><br />I loved the ...  0\n",
            "4  Fragile Carne, just before his great period. A...  1\n",
            "[0 0 0]\n",
            "['I figure this to be an \"alternate reality\" teen flick...More precisely a Ferris Bueller type character as the leader of a cheat ring . Yeah, I know it\\'s not meant to compared to Ferris Bueller, at least not in a \"oranges-to-oranges\" way, but it will none-the-less.<br /><br />Bottom-line: It\\'s galaxies away from even being even a minor classic. It is watchable, though only if you\\'re not expecting very much. That said, the main character has some charm, but the premise wears thin because the writing just isn\\'t clever. The movie just did not deliver enough laughs, twists, or tension to keep my interest. <br /><br />To be honest I did continue watching...Watching with hopes to see if anything suddenly clicked. It didn\\'t. So, stylish as it is, I wouldn\\'t recommend this movie. BTW, it seems odd to see Mary Tyler Moore as the principal. She\\'s truly miscast, I hope the paycheck was inordinately big.'\n",
            " \"This is the kind of movie that wants to be good but sucks. First thing, what the hell are those punk trying to do with the school? I think the kids doesn't seem to realize the gravity of the situation. Deker guy say to the girl that they under his responsibility when she ask why he wants to go back for them but right after this he gives a gun to the wheel chair dude and wants him to go alone repair the phone line. Where is the responsibility there? I understand poor actors must pay their food but why not just give them the money that takes to make a stupid movie like that or give that money to a charity. Oh yea and none of them knows how to aim. The stupid punk guy shoots in the cafeteria nowhere like a crazy. They all want to look professional but they all suck. One more thing I don't believe that there's no emergency exit in the school the kids are trying several doors but they all locked. What happens if there's a fire and the dumass security guard is dead? It is illegal to not have an emergency exit in school. Anyway there's a lot more to say but it would be too long. I spent some time of my life to watch a crap.\"\n",
            " \"This was by far the worst movie I've ever seen. And thats compared to Alexander, Fortress 2 and The new world.<br /><br />I should go back to blockbuster and ask for my money back along with compensation as it was a truly traumatic experience. For the first ten minutes i was changing the zoom on my widescreen TV because the actors seemed to be out of screen. I didn't think it was possible to make such a bad film in this day and age, i was wrong. While typing this message, I've thought of a good reason to buy this movie. A joke present at Xmas. I'm blaming the Mrs for this one as she picked it, thanks babe.<br /><br />Be warned.......A true shocker all round!!!!!!\"]\n",
            "#Labeled: 400, Unlabeled 2000, Val 4000, Test 12500\n",
            "(400, 2)\n",
            "(12500, 2)\n",
            "HELLO! (2400, 20000)\n",
            "Accuracy for  400  labeled data is: 67.456\n",
            "Read data successful (37500, 2) (12500, 2) n_labeled =  1000\n",
            "                                                   0  1\n",
            "0  I figure this to be an \"alternate reality\" tee...  0\n",
            "1  This is the kind of movie that wants to be goo...  0\n",
            "2  This was by far the worst movie I've ever seen...  0\n",
            "3  Awful, awful, awful...<br /><br />I loved the ...  0\n",
            "4  Fragile Carne, just before his great period. A...  1\n",
            "[0 0 0]\n",
            "['I figure this to be an \"alternate reality\" teen flick...More precisely a Ferris Bueller type character as the leader of a cheat ring . Yeah, I know it\\'s not meant to compared to Ferris Bueller, at least not in a \"oranges-to-oranges\" way, but it will none-the-less.<br /><br />Bottom-line: It\\'s galaxies away from even being even a minor classic. It is watchable, though only if you\\'re not expecting very much. That said, the main character has some charm, but the premise wears thin because the writing just isn\\'t clever. The movie just did not deliver enough laughs, twists, or tension to keep my interest. <br /><br />To be honest I did continue watching...Watching with hopes to see if anything suddenly clicked. It didn\\'t. So, stylish as it is, I wouldn\\'t recommend this movie. BTW, it seems odd to see Mary Tyler Moore as the principal. She\\'s truly miscast, I hope the paycheck was inordinately big.'\n",
            " \"This is the kind of movie that wants to be good but sucks. First thing, what the hell are those punk trying to do with the school? I think the kids doesn't seem to realize the gravity of the situation. Deker guy say to the girl that they under his responsibility when she ask why he wants to go back for them but right after this he gives a gun to the wheel chair dude and wants him to go alone repair the phone line. Where is the responsibility there? I understand poor actors must pay their food but why not just give them the money that takes to make a stupid movie like that or give that money to a charity. Oh yea and none of them knows how to aim. The stupid punk guy shoots in the cafeteria nowhere like a crazy. They all want to look professional but they all suck. One more thing I don't believe that there's no emergency exit in the school the kids are trying several doors but they all locked. What happens if there's a fire and the dumass security guard is dead? It is illegal to not have an emergency exit in school. Anyway there's a lot more to say but it would be too long. I spent some time of my life to watch a crap.\"\n",
            " \"This was by far the worst movie I've ever seen. And thats compared to Alexander, Fortress 2 and The new world.<br /><br />I should go back to blockbuster and ask for my money back along with compensation as it was a truly traumatic experience. For the first ten minutes i was changing the zoom on my widescreen TV because the actors seemed to be out of screen. I didn't think it was possible to make such a bad film in this day and age, i was wrong. While typing this message, I've thought of a good reason to buy this movie. A joke present at Xmas. I'm blaming the Mrs for this one as she picked it, thanks babe.<br /><br />Be warned.......A true shocker all round!!!!!!\"]\n",
            "#Labeled: 1000, Unlabeled 2000, Val 4000, Test 12500\n",
            "(1000, 2)\n",
            "(12500, 2)\n",
            "HELLO! (3000, 20000)\n",
            "Accuracy for  1000  labeled data is: 68.272\n",
            "Read data successful (37500, 2) (12500, 2) n_labeled =  2000\n",
            "                                                   0  1\n",
            "0  I figure this to be an \"alternate reality\" tee...  0\n",
            "1  This is the kind of movie that wants to be goo...  0\n",
            "2  This was by far the worst movie I've ever seen...  0\n",
            "3  Awful, awful, awful...<br /><br />I loved the ...  0\n",
            "4  Fragile Carne, just before his great period. A...  1\n",
            "[0 0 0]\n",
            "['I figure this to be an \"alternate reality\" teen flick...More precisely a Ferris Bueller type character as the leader of a cheat ring . Yeah, I know it\\'s not meant to compared to Ferris Bueller, at least not in a \"oranges-to-oranges\" way, but it will none-the-less.<br /><br />Bottom-line: It\\'s galaxies away from even being even a minor classic. It is watchable, though only if you\\'re not expecting very much. That said, the main character has some charm, but the premise wears thin because the writing just isn\\'t clever. The movie just did not deliver enough laughs, twists, or tension to keep my interest. <br /><br />To be honest I did continue watching...Watching with hopes to see if anything suddenly clicked. It didn\\'t. So, stylish as it is, I wouldn\\'t recommend this movie. BTW, it seems odd to see Mary Tyler Moore as the principal. She\\'s truly miscast, I hope the paycheck was inordinately big.'\n",
            " \"This is the kind of movie that wants to be good but sucks. First thing, what the hell are those punk trying to do with the school? I think the kids doesn't seem to realize the gravity of the situation. Deker guy say to the girl that they under his responsibility when she ask why he wants to go back for them but right after this he gives a gun to the wheel chair dude and wants him to go alone repair the phone line. Where is the responsibility there? I understand poor actors must pay their food but why not just give them the money that takes to make a stupid movie like that or give that money to a charity. Oh yea and none of them knows how to aim. The stupid punk guy shoots in the cafeteria nowhere like a crazy. They all want to look professional but they all suck. One more thing I don't believe that there's no emergency exit in the school the kids are trying several doors but they all locked. What happens if there's a fire and the dumass security guard is dead? It is illegal to not have an emergency exit in school. Anyway there's a lot more to say but it would be too long. I spent some time of my life to watch a crap.\"\n",
            " \"This was by far the worst movie I've ever seen. And thats compared to Alexander, Fortress 2 and The new world.<br /><br />I should go back to blockbuster and ask for my money back along with compensation as it was a truly traumatic experience. For the first ten minutes i was changing the zoom on my widescreen TV because the actors seemed to be out of screen. I didn't think it was possible to make such a bad film in this day and age, i was wrong. While typing this message, I've thought of a good reason to buy this movie. A joke present at Xmas. I'm blaming the Mrs for this one as she picked it, thanks babe.<br /><br />Be warned.......A true shocker all round!!!!!!\"]\n",
            "#Labeled: 2000, Unlabeled 2000, Val 4000, Test 12500\n",
            "(2000, 2)\n",
            "(12500, 2)\n",
            "HELLO! (4000, 20000)\n",
            "Accuracy for  2000  labeled data is: 52.896\n",
            "Read data successful (37500, 2) (12500, 2) n_labeled =  4800\n",
            "                                                   0  1\n",
            "0  I figure this to be an \"alternate reality\" tee...  0\n",
            "1  This is the kind of movie that wants to be goo...  0\n",
            "2  This was by far the worst movie I've ever seen...  0\n",
            "3  Awful, awful, awful...<br /><br />I loved the ...  0\n",
            "4  Fragile Carne, just before his great period. A...  1\n",
            "[0 0 0]\n",
            "['I figure this to be an \"alternate reality\" teen flick...More precisely a Ferris Bueller type character as the leader of a cheat ring . Yeah, I know it\\'s not meant to compared to Ferris Bueller, at least not in a \"oranges-to-oranges\" way, but it will none-the-less.<br /><br />Bottom-line: It\\'s galaxies away from even being even a minor classic. It is watchable, though only if you\\'re not expecting very much. That said, the main character has some charm, but the premise wears thin because the writing just isn\\'t clever. The movie just did not deliver enough laughs, twists, or tension to keep my interest. <br /><br />To be honest I did continue watching...Watching with hopes to see if anything suddenly clicked. It didn\\'t. So, stylish as it is, I wouldn\\'t recommend this movie. BTW, it seems odd to see Mary Tyler Moore as the principal. She\\'s truly miscast, I hope the paycheck was inordinately big.'\n",
            " \"This is the kind of movie that wants to be good but sucks. First thing, what the hell are those punk trying to do with the school? I think the kids doesn't seem to realize the gravity of the situation. Deker guy say to the girl that they under his responsibility when she ask why he wants to go back for them but right after this he gives a gun to the wheel chair dude and wants him to go alone repair the phone line. Where is the responsibility there? I understand poor actors must pay their food but why not just give them the money that takes to make a stupid movie like that or give that money to a charity. Oh yea and none of them knows how to aim. The stupid punk guy shoots in the cafeteria nowhere like a crazy. They all want to look professional but they all suck. One more thing I don't believe that there's no emergency exit in the school the kids are trying several doors but they all locked. What happens if there's a fire and the dumass security guard is dead? It is illegal to not have an emergency exit in school. Anyway there's a lot more to say but it would be too long. I spent some time of my life to watch a crap.\"\n",
            " \"This was by far the worst movie I've ever seen. And thats compared to Alexander, Fortress 2 and The new world.<br /><br />I should go back to blockbuster and ask for my money back along with compensation as it was a truly traumatic experience. For the first ten minutes i was changing the zoom on my widescreen TV because the actors seemed to be out of screen. I didn't think it was possible to make such a bad film in this day and age, i was wrong. While typing this message, I've thought of a good reason to buy this movie. A joke present at Xmas. I'm blaming the Mrs for this one as she picked it, thanks babe.<br /><br />Be warned.......A true shocker all round!!!!!!\"]\n",
            "#Labeled: 4800, Unlabeled 2000, Val 4000, Test 12500\n",
            "(4800, 2)\n",
            "(12500, 2)\n",
            "HELLO! (6800, 20000)\n",
            "Accuracy for  4800  labeled data is: 51.088\n"
          ],
          "name": "stdout"
        }
      ]
    },
    {
      "cell_type": "code",
      "metadata": {
        "colab": {
          "base_uri": "https://localhost:8080/"
        },
        "id": "tOwQR-52QZFX",
        "outputId": "db47194a-909d-43a0-892c-6e627d4ff35a"
      },
      "source": [
        "train_vec = np.load('data_temp/tf-idf/train_vec_'+str(10)+'.npy')\n",
        "train_vec"
      ],
      "execution_count": null,
      "outputs": [
        {
          "output_type": "execute_result",
          "data": {
            "text/plain": [
              "array([[0.04196495, 0.07739466, 0.        , ..., 0.        , 0.        ,\n",
              "        0.        ],\n",
              "       [0.        , 0.        , 0.        , ..., 0.        , 0.        ,\n",
              "        0.        ],\n",
              "       [0.02940054, 0.        , 0.05313623, ..., 0.        , 0.        ,\n",
              "        0.        ],\n",
              "       ...,\n",
              "       [0.        , 0.        , 0.        , ..., 0.        , 0.        ,\n",
              "        0.        ],\n",
              "       [0.        , 0.        , 0.        , ..., 0.        , 0.        ,\n",
              "        0.        ],\n",
              "       [0.        , 0.        , 0.        , ..., 0.        , 0.        ,\n",
              "        0.        ]], dtype=float32)"
            ]
          },
          "metadata": {
            "tags": []
          },
          "execution_count": 29
        }
      ]
    },
    {
      "cell_type": "code",
      "metadata": {
        "colab": {
          "base_uri": "https://localhost:8080/"
        },
        "id": "Id0QPBz6O56B",
        "outputId": "e0326327-dec8-47b7-a5fd-7d8bb0ff3eb6"
      },
      "source": [
        "print('---------Label Spreading---------')\n",
        "for i in n_list:\n",
        "  print('Accuracy for ', i*2,  ' labeled data is: %.3f' % acc_list[i])"
      ],
      "execution_count": null,
      "outputs": [
        {
          "output_type": "stream",
          "text": [
            "---------Label Spreading---------\n",
            "Accuracy for  20  labeled data is: 54.040\n",
            "Accuracy for  400  labeled data is: 67.456\n",
            "Accuracy for  1000  labeled data is: 68.272\n",
            "Accuracy for  2000  labeled data is: 52.896\n",
            "Accuracy for  4800  labeled data is: 51.088\n"
          ],
          "name": "stdout"
        }
      ]
    },
    {
      "cell_type": "code",
      "metadata": {
        "colab": {
          "base_uri": "https://localhost:8080/"
        },
        "id": "VOBK02YSO56D",
        "outputId": "c6dba665-7fb6-41ad-9793-d11b28f08789"
      },
      "source": [
        "from sklearn.semi_supervised import LabelPropagation\n",
        "from sklearn.metrics import accuracy_score\n",
        "\n",
        "n_list = [10, 200, 500, 1000, 2400]\n",
        "\n",
        "acc_list = {}\n",
        "\n",
        "for i in n_list:\n",
        "\n",
        "  df_test = get_data_tfidf(i, 10)\n",
        "\n",
        "  train_vec = np.load('data_temp/tf-idf/train_vec_'+str(i)+'.npy')\n",
        "  test_vec = np.load('data_temp/tf-idf/test_vec_'+str(i)+'.npy')\n",
        "  labels = np.load('data_temp/tf-idf/labels_'+str(i)+'.npy')\n",
        "  # test_labels = np.load('data_temp/test_labels_'+str(i)+'.npy')\n",
        "\n",
        "\n",
        "  label_prop_model = LabelPropagation()\n",
        "  label_prop_model.fit(train_vec, labels)\n",
        "\n",
        "  test_labels = np.array([i for i in list(df_test.sentiment)])\n",
        "  y_hat = label_prop_model.predict(test_vec)\n",
        "  score = accuracy_score(test_labels, y_hat)\n",
        "\n",
        "  acc_list[i] = score*100\n",
        "  print('Accuracy for ', i*2,  ' labeled data is: %.3f' % (score*100))"
      ],
      "execution_count": null,
      "outputs": [
        {
          "output_type": "stream",
          "text": [
            "Read data successful (37500, 2) (12500, 2) n_labeled =  20\n",
            "                                                   0  1\n",
            "0  I figure this to be an \"alternate reality\" tee...  0\n",
            "1  This is the kind of movie that wants to be goo...  0\n",
            "2  This was by far the worst movie I've ever seen...  0\n",
            "3  Awful, awful, awful...<br /><br />I loved the ...  0\n",
            "4  Fragile Carne, just before his great period. A...  1\n",
            "[0 0 0]\n",
            "['I figure this to be an \"alternate reality\" teen flick...More precisely a Ferris Bueller type character as the leader of a cheat ring . Yeah, I know it\\'s not meant to compared to Ferris Bueller, at least not in a \"oranges-to-oranges\" way, but it will none-the-less.<br /><br />Bottom-line: It\\'s galaxies away from even being even a minor classic. It is watchable, though only if you\\'re not expecting very much. That said, the main character has some charm, but the premise wears thin because the writing just isn\\'t clever. The movie just did not deliver enough laughs, twists, or tension to keep my interest. <br /><br />To be honest I did continue watching...Watching with hopes to see if anything suddenly clicked. It didn\\'t. So, stylish as it is, I wouldn\\'t recommend this movie. BTW, it seems odd to see Mary Tyler Moore as the principal. She\\'s truly miscast, I hope the paycheck was inordinately big.'\n",
            " \"This is the kind of movie that wants to be good but sucks. First thing, what the hell are those punk trying to do with the school? I think the kids doesn't seem to realize the gravity of the situation. Deker guy say to the girl that they under his responsibility when she ask why he wants to go back for them but right after this he gives a gun to the wheel chair dude and wants him to go alone repair the phone line. Where is the responsibility there? I understand poor actors must pay their food but why not just give them the money that takes to make a stupid movie like that or give that money to a charity. Oh yea and none of them knows how to aim. The stupid punk guy shoots in the cafeteria nowhere like a crazy. They all want to look professional but they all suck. One more thing I don't believe that there's no emergency exit in the school the kids are trying several doors but they all locked. What happens if there's a fire and the dumass security guard is dead? It is illegal to not have an emergency exit in school. Anyway there's a lot more to say but it would be too long. I spent some time of my life to watch a crap.\"\n",
            " \"This was by far the worst movie I've ever seen. And thats compared to Alexander, Fortress 2 and The new world.<br /><br />I should go back to blockbuster and ask for my money back along with compensation as it was a truly traumatic experience. For the first ten minutes i was changing the zoom on my widescreen TV because the actors seemed to be out of screen. I didn't think it was possible to make such a bad film in this day and age, i was wrong. While typing this message, I've thought of a good reason to buy this movie. A joke present at Xmas. I'm blaming the Mrs for this one as she picked it, thanks babe.<br /><br />Be warned.......A true shocker all round!!!!!!\"]\n",
            "#Labeled: 20, Unlabeled 2000, Val 4000, Test 12500\n",
            "(20, 2)\n",
            "(12500, 2)\n"
          ],
          "name": "stdout"
        },
        {
          "output_type": "stream",
          "text": [
            "/usr/local/lib/python3.7/dist-packages/sklearn/semi_supervised/_label_propagation.py:292: ConvergenceWarning: max_iter=1000 was reached without convergence.\n",
            "  category=ConvergenceWarning\n"
          ],
          "name": "stderr"
        },
        {
          "output_type": "stream",
          "text": [
            "Accuracy for  20  labeled data is: 50.824\n",
            "Read data successful (37500, 2) (12500, 2) n_labeled =  400\n",
            "                                                   0  1\n",
            "0  I figure this to be an \"alternate reality\" tee...  0\n",
            "1  This is the kind of movie that wants to be goo...  0\n",
            "2  This was by far the worst movie I've ever seen...  0\n",
            "3  Awful, awful, awful...<br /><br />I loved the ...  0\n",
            "4  Fragile Carne, just before his great period. A...  1\n",
            "[0 0 0]\n",
            "['I figure this to be an \"alternate reality\" teen flick...More precisely a Ferris Bueller type character as the leader of a cheat ring . Yeah, I know it\\'s not meant to compared to Ferris Bueller, at least not in a \"oranges-to-oranges\" way, but it will none-the-less.<br /><br />Bottom-line: It\\'s galaxies away from even being even a minor classic. It is watchable, though only if you\\'re not expecting very much. That said, the main character has some charm, but the premise wears thin because the writing just isn\\'t clever. The movie just did not deliver enough laughs, twists, or tension to keep my interest. <br /><br />To be honest I did continue watching...Watching with hopes to see if anything suddenly clicked. It didn\\'t. So, stylish as it is, I wouldn\\'t recommend this movie. BTW, it seems odd to see Mary Tyler Moore as the principal. She\\'s truly miscast, I hope the paycheck was inordinately big.'\n",
            " \"This is the kind of movie that wants to be good but sucks. First thing, what the hell are those punk trying to do with the school? I think the kids doesn't seem to realize the gravity of the situation. Deker guy say to the girl that they under his responsibility when she ask why he wants to go back for them but right after this he gives a gun to the wheel chair dude and wants him to go alone repair the phone line. Where is the responsibility there? I understand poor actors must pay their food but why not just give them the money that takes to make a stupid movie like that or give that money to a charity. Oh yea and none of them knows how to aim. The stupid punk guy shoots in the cafeteria nowhere like a crazy. They all want to look professional but they all suck. One more thing I don't believe that there's no emergency exit in the school the kids are trying several doors but they all locked. What happens if there's a fire and the dumass security guard is dead? It is illegal to not have an emergency exit in school. Anyway there's a lot more to say but it would be too long. I spent some time of my life to watch a crap.\"\n",
            " \"This was by far the worst movie I've ever seen. And thats compared to Alexander, Fortress 2 and The new world.<br /><br />I should go back to blockbuster and ask for my money back along with compensation as it was a truly traumatic experience. For the first ten minutes i was changing the zoom on my widescreen TV because the actors seemed to be out of screen. I didn't think it was possible to make such a bad film in this day and age, i was wrong. While typing this message, I've thought of a good reason to buy this movie. A joke present at Xmas. I'm blaming the Mrs for this one as she picked it, thanks babe.<br /><br />Be warned.......A true shocker all round!!!!!!\"]\n",
            "#Labeled: 400, Unlabeled 2000, Val 4000, Test 12500\n",
            "(400, 2)\n",
            "(12500, 2)\n"
          ],
          "name": "stdout"
        },
        {
          "output_type": "stream",
          "text": [
            "/usr/local/lib/python3.7/dist-packages/sklearn/semi_supervised/_label_propagation.py:292: ConvergenceWarning: max_iter=1000 was reached without convergence.\n",
            "  category=ConvergenceWarning\n"
          ],
          "name": "stderr"
        },
        {
          "output_type": "stream",
          "text": [
            "Accuracy for  400  labeled data is: 49.272\n",
            "Read data successful (37500, 2) (12500, 2) n_labeled =  1000\n",
            "                                                   0  1\n",
            "0  I figure this to be an \"alternate reality\" tee...  0\n",
            "1  This is the kind of movie that wants to be goo...  0\n",
            "2  This was by far the worst movie I've ever seen...  0\n",
            "3  Awful, awful, awful...<br /><br />I loved the ...  0\n",
            "4  Fragile Carne, just before his great period. A...  1\n",
            "[0 0 0]\n",
            "['I figure this to be an \"alternate reality\" teen flick...More precisely a Ferris Bueller type character as the leader of a cheat ring . Yeah, I know it\\'s not meant to compared to Ferris Bueller, at least not in a \"oranges-to-oranges\" way, but it will none-the-less.<br /><br />Bottom-line: It\\'s galaxies away from even being even a minor classic. It is watchable, though only if you\\'re not expecting very much. That said, the main character has some charm, but the premise wears thin because the writing just isn\\'t clever. The movie just did not deliver enough laughs, twists, or tension to keep my interest. <br /><br />To be honest I did continue watching...Watching with hopes to see if anything suddenly clicked. It didn\\'t. So, stylish as it is, I wouldn\\'t recommend this movie. BTW, it seems odd to see Mary Tyler Moore as the principal. She\\'s truly miscast, I hope the paycheck was inordinately big.'\n",
            " \"This is the kind of movie that wants to be good but sucks. First thing, what the hell are those punk trying to do with the school? I think the kids doesn't seem to realize the gravity of the situation. Deker guy say to the girl that they under his responsibility when she ask why he wants to go back for them but right after this he gives a gun to the wheel chair dude and wants him to go alone repair the phone line. Where is the responsibility there? I understand poor actors must pay their food but why not just give them the money that takes to make a stupid movie like that or give that money to a charity. Oh yea and none of them knows how to aim. The stupid punk guy shoots in the cafeteria nowhere like a crazy. They all want to look professional but they all suck. One more thing I don't believe that there's no emergency exit in the school the kids are trying several doors but they all locked. What happens if there's a fire and the dumass security guard is dead? It is illegal to not have an emergency exit in school. Anyway there's a lot more to say but it would be too long. I spent some time of my life to watch a crap.\"\n",
            " \"This was by far the worst movie I've ever seen. And thats compared to Alexander, Fortress 2 and The new world.<br /><br />I should go back to blockbuster and ask for my money back along with compensation as it was a truly traumatic experience. For the first ten minutes i was changing the zoom on my widescreen TV because the actors seemed to be out of screen. I didn't think it was possible to make such a bad film in this day and age, i was wrong. While typing this message, I've thought of a good reason to buy this movie. A joke present at Xmas. I'm blaming the Mrs for this one as she picked it, thanks babe.<br /><br />Be warned.......A true shocker all round!!!!!!\"]\n",
            "#Labeled: 1000, Unlabeled 2000, Val 4000, Test 12500\n",
            "(1000, 2)\n",
            "(12500, 2)\n"
          ],
          "name": "stdout"
        },
        {
          "output_type": "stream",
          "text": [
            "/usr/local/lib/python3.7/dist-packages/sklearn/semi_supervised/_label_propagation.py:292: ConvergenceWarning: max_iter=1000 was reached without convergence.\n",
            "  category=ConvergenceWarning\n"
          ],
          "name": "stderr"
        },
        {
          "output_type": "stream",
          "text": [
            "Accuracy for  1000  labeled data is: 49.592\n",
            "Read data successful (37500, 2) (12500, 2) n_labeled =  2000\n",
            "                                                   0  1\n",
            "0  I figure this to be an \"alternate reality\" tee...  0\n",
            "1  This is the kind of movie that wants to be goo...  0\n",
            "2  This was by far the worst movie I've ever seen...  0\n",
            "3  Awful, awful, awful...<br /><br />I loved the ...  0\n",
            "4  Fragile Carne, just before his great period. A...  1\n",
            "[0 0 0]\n",
            "['I figure this to be an \"alternate reality\" teen flick...More precisely a Ferris Bueller type character as the leader of a cheat ring . Yeah, I know it\\'s not meant to compared to Ferris Bueller, at least not in a \"oranges-to-oranges\" way, but it will none-the-less.<br /><br />Bottom-line: It\\'s galaxies away from even being even a minor classic. It is watchable, though only if you\\'re not expecting very much. That said, the main character has some charm, but the premise wears thin because the writing just isn\\'t clever. The movie just did not deliver enough laughs, twists, or tension to keep my interest. <br /><br />To be honest I did continue watching...Watching with hopes to see if anything suddenly clicked. It didn\\'t. So, stylish as it is, I wouldn\\'t recommend this movie. BTW, it seems odd to see Mary Tyler Moore as the principal. She\\'s truly miscast, I hope the paycheck was inordinately big.'\n",
            " \"This is the kind of movie that wants to be good but sucks. First thing, what the hell are those punk trying to do with the school? I think the kids doesn't seem to realize the gravity of the situation. Deker guy say to the girl that they under his responsibility when she ask why he wants to go back for them but right after this he gives a gun to the wheel chair dude and wants him to go alone repair the phone line. Where is the responsibility there? I understand poor actors must pay their food but why not just give them the money that takes to make a stupid movie like that or give that money to a charity. Oh yea and none of them knows how to aim. The stupid punk guy shoots in the cafeteria nowhere like a crazy. They all want to look professional but they all suck. One more thing I don't believe that there's no emergency exit in the school the kids are trying several doors but they all locked. What happens if there's a fire and the dumass security guard is dead? It is illegal to not have an emergency exit in school. Anyway there's a lot more to say but it would be too long. I spent some time of my life to watch a crap.\"\n",
            " \"This was by far the worst movie I've ever seen. And thats compared to Alexander, Fortress 2 and The new world.<br /><br />I should go back to blockbuster and ask for my money back along with compensation as it was a truly traumatic experience. For the first ten minutes i was changing the zoom on my widescreen TV because the actors seemed to be out of screen. I didn't think it was possible to make such a bad film in this day and age, i was wrong. While typing this message, I've thought of a good reason to buy this movie. A joke present at Xmas. I'm blaming the Mrs for this one as she picked it, thanks babe.<br /><br />Be warned.......A true shocker all round!!!!!!\"]\n",
            "#Labeled: 2000, Unlabeled 2000, Val 4000, Test 12500\n",
            "(2000, 2)\n",
            "(12500, 2)\n",
            "Accuracy for  2000  labeled data is: 78.264\n",
            "Read data successful (37500, 2) (12500, 2) n_labeled =  4800\n",
            "                                                   0  1\n",
            "0  I figure this to be an \"alternate reality\" tee...  0\n",
            "1  This is the kind of movie that wants to be goo...  0\n",
            "2  This was by far the worst movie I've ever seen...  0\n",
            "3  Awful, awful, awful...<br /><br />I loved the ...  0\n",
            "4  Fragile Carne, just before his great period. A...  1\n",
            "[0 0 0]\n",
            "['I figure this to be an \"alternate reality\" teen flick...More precisely a Ferris Bueller type character as the leader of a cheat ring . Yeah, I know it\\'s not meant to compared to Ferris Bueller, at least not in a \"oranges-to-oranges\" way, but it will none-the-less.<br /><br />Bottom-line: It\\'s galaxies away from even being even a minor classic. It is watchable, though only if you\\'re not expecting very much. That said, the main character has some charm, but the premise wears thin because the writing just isn\\'t clever. The movie just did not deliver enough laughs, twists, or tension to keep my interest. <br /><br />To be honest I did continue watching...Watching with hopes to see if anything suddenly clicked. It didn\\'t. So, stylish as it is, I wouldn\\'t recommend this movie. BTW, it seems odd to see Mary Tyler Moore as the principal. She\\'s truly miscast, I hope the paycheck was inordinately big.'\n",
            " \"This is the kind of movie that wants to be good but sucks. First thing, what the hell are those punk trying to do with the school? I think the kids doesn't seem to realize the gravity of the situation. Deker guy say to the girl that they under his responsibility when she ask why he wants to go back for them but right after this he gives a gun to the wheel chair dude and wants him to go alone repair the phone line. Where is the responsibility there? I understand poor actors must pay their food but why not just give them the money that takes to make a stupid movie like that or give that money to a charity. Oh yea and none of them knows how to aim. The stupid punk guy shoots in the cafeteria nowhere like a crazy. They all want to look professional but they all suck. One more thing I don't believe that there's no emergency exit in the school the kids are trying several doors but they all locked. What happens if there's a fire and the dumass security guard is dead? It is illegal to not have an emergency exit in school. Anyway there's a lot more to say but it would be too long. I spent some time of my life to watch a crap.\"\n",
            " \"This was by far the worst movie I've ever seen. And thats compared to Alexander, Fortress 2 and The new world.<br /><br />I should go back to blockbuster and ask for my money back along with compensation as it was a truly traumatic experience. For the first ten minutes i was changing the zoom on my widescreen TV because the actors seemed to be out of screen. I didn't think it was possible to make such a bad film in this day and age, i was wrong. While typing this message, I've thought of a good reason to buy this movie. A joke present at Xmas. I'm blaming the Mrs for this one as she picked it, thanks babe.<br /><br />Be warned.......A true shocker all round!!!!!!\"]\n",
            "#Labeled: 4800, Unlabeled 2000, Val 4000, Test 12500\n",
            "(4800, 2)\n",
            "(12500, 2)\n",
            "Accuracy for  4800  labeled data is: 52.776\n"
          ],
          "name": "stdout"
        }
      ]
    },
    {
      "cell_type": "code",
      "metadata": {
        "colab": {
          "base_uri": "https://localhost:8080/"
        },
        "id": "0EisfYWxO56D",
        "outputId": "0601095a-91dd-4e84-9961-c0b342e05670"
      },
      "source": [
        "print('---------Label Propagation---------')\n",
        "for i in n_list:\n",
        "  print('Accuracy for ', i*2,  ' labeled data is: %.3f' % acc_list[i])"
      ],
      "execution_count": null,
      "outputs": [
        {
          "output_type": "stream",
          "text": [
            "---------Label Propagation---------\n",
            "Accuracy for  20  labeled data is: 50.824\n",
            "Accuracy for  400  labeled data is: 49.272\n",
            "Accuracy for  1000  labeled data is: 49.592\n",
            "Accuracy for  2000  labeled data is: 78.264\n",
            "Accuracy for  4800  labeled data is: 52.776\n"
          ],
          "name": "stdout"
        }
      ]
    },
    {
      "cell_type": "code",
      "metadata": {
        "colab": {
          "base_uri": "https://localhost:8080/"
        },
        "id": "1aoZrVHEO56E",
        "outputId": "66716847-b6ae-4eb5-b463-82673e33bc8f"
      },
      "source": [
        "from sklearn.semi_supervised import SelfTrainingClassifier\n",
        "from sklearn.svm import SVC\n",
        "from sklearn.metrics import accuracy_score\n",
        "\n",
        "n_list = [10, 200, 500, 1000, 2400]\n",
        "\n",
        "acc_list = {}\n",
        "\n",
        "for i in n_list:\n",
        "\n",
        "  df_test = get_data_tfidf(i, 10)\n",
        "\n",
        "  train_vec = np.load('data_temp/tf-idf/train_vec_'+str(i)+'.npy')\n",
        "  test_vec = np.load('data_temp/tf-idf/test_vec_'+str(i)+'.npy')\n",
        "  labels = np.load('data_temp/tf-idf/labels_'+str(i)+'.npy')\n",
        "  # test_labels = np.load('data_temp/test_labels_'+str(i)+'.npy')\n",
        "\n",
        "  \n",
        "  svc = SVC(probability=True, gamma=\"auto\") \n",
        "\n",
        "\n",
        "  label_prop_model = SelfTrainingClassifier(svc)\n",
        "  label_prop_model.fit(train_vec, labels)\n",
        "\n",
        "  test_labels = np.array([i for i in list(df_test.sentiment)])\n",
        "  y_hat = label_prop_model.predict(test_vec)\n",
        "  score = accuracy_score(test_labels, y_hat)\n",
        "\n",
        "  acc_list[i] = score*100\n",
        "  print('Accuracy for ', i*2,  ' labeled data is: %.3f' % (score*100))"
      ],
      "execution_count": null,
      "outputs": [
        {
          "output_type": "stream",
          "text": [
            "Read data successful (37500, 2) (12500, 2) n_labeled =  20\n",
            "                                                   0  1\n",
            "0  I figure this to be an \"alternate reality\" tee...  0\n",
            "1  This is the kind of movie that wants to be goo...  0\n",
            "2  This was by far the worst movie I've ever seen...  0\n",
            "3  Awful, awful, awful...<br /><br />I loved the ...  0\n",
            "4  Fragile Carne, just before his great period. A...  1\n",
            "[0 0 0]\n",
            "['I figure this to be an \"alternate reality\" teen flick...More precisely a Ferris Bueller type character as the leader of a cheat ring . Yeah, I know it\\'s not meant to compared to Ferris Bueller, at least not in a \"oranges-to-oranges\" way, but it will none-the-less.<br /><br />Bottom-line: It\\'s galaxies away from even being even a minor classic. It is watchable, though only if you\\'re not expecting very much. That said, the main character has some charm, but the premise wears thin because the writing just isn\\'t clever. The movie just did not deliver enough laughs, twists, or tension to keep my interest. <br /><br />To be honest I did continue watching...Watching with hopes to see if anything suddenly clicked. It didn\\'t. So, stylish as it is, I wouldn\\'t recommend this movie. BTW, it seems odd to see Mary Tyler Moore as the principal. She\\'s truly miscast, I hope the paycheck was inordinately big.'\n",
            " \"This is the kind of movie that wants to be good but sucks. First thing, what the hell are those punk trying to do with the school? I think the kids doesn't seem to realize the gravity of the situation. Deker guy say to the girl that they under his responsibility when she ask why he wants to go back for them but right after this he gives a gun to the wheel chair dude and wants him to go alone repair the phone line. Where is the responsibility there? I understand poor actors must pay their food but why not just give them the money that takes to make a stupid movie like that or give that money to a charity. Oh yea and none of them knows how to aim. The stupid punk guy shoots in the cafeteria nowhere like a crazy. They all want to look professional but they all suck. One more thing I don't believe that there's no emergency exit in the school the kids are trying several doors but they all locked. What happens if there's a fire and the dumass security guard is dead? It is illegal to not have an emergency exit in school. Anyway there's a lot more to say but it would be too long. I spent some time of my life to watch a crap.\"\n",
            " \"This was by far the worst movie I've ever seen. And thats compared to Alexander, Fortress 2 and The new world.<br /><br />I should go back to blockbuster and ask for my money back along with compensation as it was a truly traumatic experience. For the first ten minutes i was changing the zoom on my widescreen TV because the actors seemed to be out of screen. I didn't think it was possible to make such a bad film in this day and age, i was wrong. While typing this message, I've thought of a good reason to buy this movie. A joke present at Xmas. I'm blaming the Mrs for this one as she picked it, thanks babe.<br /><br />Be warned.......A true shocker all round!!!!!!\"]\n",
            "#Labeled: 20, Unlabeled 2000, Val 4000, Test 12500\n",
            "(20, 2)\n",
            "(12500, 2)\n",
            "Accuracy for  20  labeled data is: 63.672\n",
            "Read data successful (37500, 2) (12500, 2) n_labeled =  400\n",
            "                                                   0  1\n",
            "0  I figure this to be an \"alternate reality\" tee...  0\n",
            "1  This is the kind of movie that wants to be goo...  0\n",
            "2  This was by far the worst movie I've ever seen...  0\n",
            "3  Awful, awful, awful...<br /><br />I loved the ...  0\n",
            "4  Fragile Carne, just before his great period. A...  1\n",
            "[0 0 0]\n",
            "['I figure this to be an \"alternate reality\" teen flick...More precisely a Ferris Bueller type character as the leader of a cheat ring . Yeah, I know it\\'s not meant to compared to Ferris Bueller, at least not in a \"oranges-to-oranges\" way, but it will none-the-less.<br /><br />Bottom-line: It\\'s galaxies away from even being even a minor classic. It is watchable, though only if you\\'re not expecting very much. That said, the main character has some charm, but the premise wears thin because the writing just isn\\'t clever. The movie just did not deliver enough laughs, twists, or tension to keep my interest. <br /><br />To be honest I did continue watching...Watching with hopes to see if anything suddenly clicked. It didn\\'t. So, stylish as it is, I wouldn\\'t recommend this movie. BTW, it seems odd to see Mary Tyler Moore as the principal. She\\'s truly miscast, I hope the paycheck was inordinately big.'\n",
            " \"This is the kind of movie that wants to be good but sucks. First thing, what the hell are those punk trying to do with the school? I think the kids doesn't seem to realize the gravity of the situation. Deker guy say to the girl that they under his responsibility when she ask why he wants to go back for them but right after this he gives a gun to the wheel chair dude and wants him to go alone repair the phone line. Where is the responsibility there? I understand poor actors must pay their food but why not just give them the money that takes to make a stupid movie like that or give that money to a charity. Oh yea and none of them knows how to aim. The stupid punk guy shoots in the cafeteria nowhere like a crazy. They all want to look professional but they all suck. One more thing I don't believe that there's no emergency exit in the school the kids are trying several doors but they all locked. What happens if there's a fire and the dumass security guard is dead? It is illegal to not have an emergency exit in school. Anyway there's a lot more to say but it would be too long. I spent some time of my life to watch a crap.\"\n",
            " \"This was by far the worst movie I've ever seen. And thats compared to Alexander, Fortress 2 and The new world.<br /><br />I should go back to blockbuster and ask for my money back along with compensation as it was a truly traumatic experience. For the first ten minutes i was changing the zoom on my widescreen TV because the actors seemed to be out of screen. I didn't think it was possible to make such a bad film in this day and age, i was wrong. While typing this message, I've thought of a good reason to buy this movie. A joke present at Xmas. I'm blaming the Mrs for this one as she picked it, thanks babe.<br /><br />Be warned.......A true shocker all round!!!!!!\"]\n",
            "#Labeled: 400, Unlabeled 2000, Val 4000, Test 12500\n",
            "(400, 2)\n",
            "(12500, 2)\n",
            "Accuracy for  400  labeled data is: 76.496\n",
            "Read data successful (37500, 2) (12500, 2) n_labeled =  1000\n",
            "                                                   0  1\n",
            "0  I figure this to be an \"alternate reality\" tee...  0\n",
            "1  This is the kind of movie that wants to be goo...  0\n",
            "2  This was by far the worst movie I've ever seen...  0\n",
            "3  Awful, awful, awful...<br /><br />I loved the ...  0\n",
            "4  Fragile Carne, just before his great period. A...  1\n",
            "[0 0 0]\n",
            "['I figure this to be an \"alternate reality\" teen flick...More precisely a Ferris Bueller type character as the leader of a cheat ring . Yeah, I know it\\'s not meant to compared to Ferris Bueller, at least not in a \"oranges-to-oranges\" way, but it will none-the-less.<br /><br />Bottom-line: It\\'s galaxies away from even being even a minor classic. It is watchable, though only if you\\'re not expecting very much. That said, the main character has some charm, but the premise wears thin because the writing just isn\\'t clever. The movie just did not deliver enough laughs, twists, or tension to keep my interest. <br /><br />To be honest I did continue watching...Watching with hopes to see if anything suddenly clicked. It didn\\'t. So, stylish as it is, I wouldn\\'t recommend this movie. BTW, it seems odd to see Mary Tyler Moore as the principal. She\\'s truly miscast, I hope the paycheck was inordinately big.'\n",
            " \"This is the kind of movie that wants to be good but sucks. First thing, what the hell are those punk trying to do with the school? I think the kids doesn't seem to realize the gravity of the situation. Deker guy say to the girl that they under his responsibility when she ask why he wants to go back for them but right after this he gives a gun to the wheel chair dude and wants him to go alone repair the phone line. Where is the responsibility there? I understand poor actors must pay their food but why not just give them the money that takes to make a stupid movie like that or give that money to a charity. Oh yea and none of them knows how to aim. The stupid punk guy shoots in the cafeteria nowhere like a crazy. They all want to look professional but they all suck. One more thing I don't believe that there's no emergency exit in the school the kids are trying several doors but they all locked. What happens if there's a fire and the dumass security guard is dead? It is illegal to not have an emergency exit in school. Anyway there's a lot more to say but it would be too long. I spent some time of my life to watch a crap.\"\n",
            " \"This was by far the worst movie I've ever seen. And thats compared to Alexander, Fortress 2 and The new world.<br /><br />I should go back to blockbuster and ask for my money back along with compensation as it was a truly traumatic experience. For the first ten minutes i was changing the zoom on my widescreen TV because the actors seemed to be out of screen. I didn't think it was possible to make such a bad film in this day and age, i was wrong. While typing this message, I've thought of a good reason to buy this movie. A joke present at Xmas. I'm blaming the Mrs for this one as she picked it, thanks babe.<br /><br />Be warned.......A true shocker all round!!!!!!\"]\n",
            "#Labeled: 1000, Unlabeled 2000, Val 4000, Test 12500\n",
            "(1000, 2)\n",
            "(12500, 2)\n",
            "Accuracy for  1000  labeled data is: 76.712\n",
            "Read data successful (37500, 2) (12500, 2) n_labeled =  2000\n",
            "                                                   0  1\n",
            "0  I figure this to be an \"alternate reality\" tee...  0\n",
            "1  This is the kind of movie that wants to be goo...  0\n",
            "2  This was by far the worst movie I've ever seen...  0\n",
            "3  Awful, awful, awful...<br /><br />I loved the ...  0\n",
            "4  Fragile Carne, just before his great period. A...  1\n",
            "[0 0 0]\n",
            "['I figure this to be an \"alternate reality\" teen flick...More precisely a Ferris Bueller type character as the leader of a cheat ring . Yeah, I know it\\'s not meant to compared to Ferris Bueller, at least not in a \"oranges-to-oranges\" way, but it will none-the-less.<br /><br />Bottom-line: It\\'s galaxies away from even being even a minor classic. It is watchable, though only if you\\'re not expecting very much. That said, the main character has some charm, but the premise wears thin because the writing just isn\\'t clever. The movie just did not deliver enough laughs, twists, or tension to keep my interest. <br /><br />To be honest I did continue watching...Watching with hopes to see if anything suddenly clicked. It didn\\'t. So, stylish as it is, I wouldn\\'t recommend this movie. BTW, it seems odd to see Mary Tyler Moore as the principal. She\\'s truly miscast, I hope the paycheck was inordinately big.'\n",
            " \"This is the kind of movie that wants to be good but sucks. First thing, what the hell are those punk trying to do with the school? I think the kids doesn't seem to realize the gravity of the situation. Deker guy say to the girl that they under his responsibility when she ask why he wants to go back for them but right after this he gives a gun to the wheel chair dude and wants him to go alone repair the phone line. Where is the responsibility there? I understand poor actors must pay their food but why not just give them the money that takes to make a stupid movie like that or give that money to a charity. Oh yea and none of them knows how to aim. The stupid punk guy shoots in the cafeteria nowhere like a crazy. They all want to look professional but they all suck. One more thing I don't believe that there's no emergency exit in the school the kids are trying several doors but they all locked. What happens if there's a fire and the dumass security guard is dead? It is illegal to not have an emergency exit in school. Anyway there's a lot more to say but it would be too long. I spent some time of my life to watch a crap.\"\n",
            " \"This was by far the worst movie I've ever seen. And thats compared to Alexander, Fortress 2 and The new world.<br /><br />I should go back to blockbuster and ask for my money back along with compensation as it was a truly traumatic experience. For the first ten minutes i was changing the zoom on my widescreen TV because the actors seemed to be out of screen. I didn't think it was possible to make such a bad film in this day and age, i was wrong. While typing this message, I've thought of a good reason to buy this movie. A joke present at Xmas. I'm blaming the Mrs for this one as she picked it, thanks babe.<br /><br />Be warned.......A true shocker all round!!!!!!\"]\n",
            "#Labeled: 2000, Unlabeled 2000, Val 4000, Test 12500\n",
            "(2000, 2)\n",
            "(12500, 2)\n",
            "Accuracy for  2000  labeled data is: 80.968\n",
            "Read data successful (37500, 2) (12500, 2) n_labeled =  4800\n",
            "                                                   0  1\n",
            "0  I figure this to be an \"alternate reality\" tee...  0\n",
            "1  This is the kind of movie that wants to be goo...  0\n",
            "2  This was by far the worst movie I've ever seen...  0\n",
            "3  Awful, awful, awful...<br /><br />I loved the ...  0\n",
            "4  Fragile Carne, just before his great period. A...  1\n",
            "[0 0 0]\n",
            "['I figure this to be an \"alternate reality\" teen flick...More precisely a Ferris Bueller type character as the leader of a cheat ring . Yeah, I know it\\'s not meant to compared to Ferris Bueller, at least not in a \"oranges-to-oranges\" way, but it will none-the-less.<br /><br />Bottom-line: It\\'s galaxies away from even being even a minor classic. It is watchable, though only if you\\'re not expecting very much. That said, the main character has some charm, but the premise wears thin because the writing just isn\\'t clever. The movie just did not deliver enough laughs, twists, or tension to keep my interest. <br /><br />To be honest I did continue watching...Watching with hopes to see if anything suddenly clicked. It didn\\'t. So, stylish as it is, I wouldn\\'t recommend this movie. BTW, it seems odd to see Mary Tyler Moore as the principal. She\\'s truly miscast, I hope the paycheck was inordinately big.'\n",
            " \"This is the kind of movie that wants to be good but sucks. First thing, what the hell are those punk trying to do with the school? I think the kids doesn't seem to realize the gravity of the situation. Deker guy say to the girl that they under his responsibility when she ask why he wants to go back for them but right after this he gives a gun to the wheel chair dude and wants him to go alone repair the phone line. Where is the responsibility there? I understand poor actors must pay their food but why not just give them the money that takes to make a stupid movie like that or give that money to a charity. Oh yea and none of them knows how to aim. The stupid punk guy shoots in the cafeteria nowhere like a crazy. They all want to look professional but they all suck. One more thing I don't believe that there's no emergency exit in the school the kids are trying several doors but they all locked. What happens if there's a fire and the dumass security guard is dead? It is illegal to not have an emergency exit in school. Anyway there's a lot more to say but it would be too long. I spent some time of my life to watch a crap.\"\n",
            " \"This was by far the worst movie I've ever seen. And thats compared to Alexander, Fortress 2 and The new world.<br /><br />I should go back to blockbuster and ask for my money back along with compensation as it was a truly traumatic experience. For the first ten minutes i was changing the zoom on my widescreen TV because the actors seemed to be out of screen. I didn't think it was possible to make such a bad film in this day and age, i was wrong. While typing this message, I've thought of a good reason to buy this movie. A joke present at Xmas. I'm blaming the Mrs for this one as she picked it, thanks babe.<br /><br />Be warned.......A true shocker all round!!!!!!\"]\n",
            "#Labeled: 4800, Unlabeled 2000, Val 4000, Test 12500\n",
            "(4800, 2)\n",
            "(12500, 2)\n",
            "Accuracy for  4800  labeled data is: 79.168\n"
          ],
          "name": "stdout"
        }
      ]
    },
    {
      "cell_type": "code",
      "metadata": {
        "colab": {
          "base_uri": "https://localhost:8080/"
        },
        "id": "eOUdPIalO56F",
        "outputId": "02d346fe-1681-4aca-8bb2-eb6a69686131"
      },
      "source": [
        "print('---------Self Training Classifier with SVM---------')\n",
        "for i in n_list:\n",
        "  print('Accuracy for ', i*2,  ' labeled data is: %.3f' % acc_list[i])"
      ],
      "execution_count": null,
      "outputs": [
        {
          "output_type": "stream",
          "text": [
            "---------Self Training Classifier with SVM---------\n",
            "Accuracy for  20  labeled data is: 63.672\n",
            "Accuracy for  400  labeled data is: 76.496\n",
            "Accuracy for  1000  labeled data is: 76.712\n",
            "Accuracy for  2000  labeled data is: 80.968\n",
            "Accuracy for  4800  labeled data is: 79.168\n"
          ],
          "name": "stdout"
        }
      ]
    },
    {
      "cell_type": "code",
      "metadata": {
        "id": "QC3hIAr0Nymo"
      },
      "source": [
        ""
      ],
      "execution_count": null,
      "outputs": []
    },
    {
      "cell_type": "code",
      "metadata": {
        "id": "7xmedDtuNztH"
      },
      "source": [
        ""
      ],
      "execution_count": null,
      "outputs": []
    },
    {
      "cell_type": "code",
      "metadata": {
        "id": "U8KmItXINzj8"
      },
      "source": [
        ""
      ],
      "execution_count": null,
      "outputs": []
    },
    {
      "cell_type": "code",
      "metadata": {
        "colab": {
          "base_uri": "https://localhost:8080/"
        },
        "id": "lO4leU_WNzaj",
        "outputId": "fb33e700-9e33-4c43-8c71-5520de6475cc"
      },
      "source": [
        "from sklearn.semi_supervised import SelfTrainingClassifier\n",
        "from sklearn.svm import SVC\n",
        "from sklearn.metrics import accuracy_score\n",
        "\n",
        "#Without Unlabeled Data\n",
        "\n",
        "n_list = [10, 200, 500, 1000, 2400]\n",
        "n_list = [10, 200, 500, 1000]\n",
        "acc_list_2 = {}\n",
        "\n",
        "for i in n_list:\n",
        "\n",
        "  df_test = get_data_tfidf(i, 10)\n",
        "\n",
        "  train_vec = np.load('data_temp/tf-idf/train_vec_'+str(i)+'.npy')\n",
        "  test_vec = np.load('data_temp/tf-idf/test_vec_'+str(i)+'.npy')\n",
        "  labels = np.load('data_temp/tf-idf/labels_'+str(i)+'.npy')\n",
        "  # test_labels = np.load('data_temp/test_labels_'+str(i)+'.npy')\n",
        "\n",
        "  \n",
        "  svc = SVC(probability=True, gamma=\"auto\") \n",
        "\n",
        "  print(\"SHAPE: \", train_vec.shape, \"SIZE: \", labels.shape)\n",
        "  print(\"New SHAPE: \", train_vec[:2*i].shape, \"New SIZE: \", labels[:2*i].shape, np.unique(labels), np.unique(labels[:2*i]))\n",
        "\n",
        "  svc.fit(train_vec[:2*i], labels[:2*i])\n",
        "\n",
        "  test_labels = np.array([i for i in list(df_test.sentiment)])\n",
        "  y_hat = svc.predict(test_vec)\n",
        "  score = accuracy_score(test_labels, y_hat)\n",
        "\n",
        "  acc_list_2[i] = score*100\n",
        "  print('Accuracy for ', i*2,  ' labeled data is: %.3f' % (score*100))"
      ],
      "execution_count": null,
      "outputs": [
        {
          "output_type": "stream",
          "text": [
            "Read data successful (37500, 2) (12500, 2) n_labeled =  20\n",
            "                                                   0  1\n",
            "0  I figure this to be an \"alternate reality\" tee...  0\n",
            "1  This is the kind of movie that wants to be goo...  0\n",
            "2  This was by far the worst movie I've ever seen...  0\n",
            "3  Awful, awful, awful...<br /><br />I loved the ...  0\n",
            "4  Fragile Carne, just before his great period. A...  1\n",
            "[0 0 0]\n",
            "['I figure this to be an \"alternate reality\" teen flick...More precisely a Ferris Bueller type character as the leader of a cheat ring . Yeah, I know it\\'s not meant to compared to Ferris Bueller, at least not in a \"oranges-to-oranges\" way, but it will none-the-less.<br /><br />Bottom-line: It\\'s galaxies away from even being even a minor classic. It is watchable, though only if you\\'re not expecting very much. That said, the main character has some charm, but the premise wears thin because the writing just isn\\'t clever. The movie just did not deliver enough laughs, twists, or tension to keep my interest. <br /><br />To be honest I did continue watching...Watching with hopes to see if anything suddenly clicked. It didn\\'t. So, stylish as it is, I wouldn\\'t recommend this movie. BTW, it seems odd to see Mary Tyler Moore as the principal. She\\'s truly miscast, I hope the paycheck was inordinately big.'\n",
            " \"This is the kind of movie that wants to be good but sucks. First thing, what the hell are those punk trying to do with the school? I think the kids doesn't seem to realize the gravity of the situation. Deker guy say to the girl that they under his responsibility when she ask why he wants to go back for them but right after this he gives a gun to the wheel chair dude and wants him to go alone repair the phone line. Where is the responsibility there? I understand poor actors must pay their food but why not just give them the money that takes to make a stupid movie like that or give that money to a charity. Oh yea and none of them knows how to aim. The stupid punk guy shoots in the cafeteria nowhere like a crazy. They all want to look professional but they all suck. One more thing I don't believe that there's no emergency exit in the school the kids are trying several doors but they all locked. What happens if there's a fire and the dumass security guard is dead? It is illegal to not have an emergency exit in school. Anyway there's a lot more to say but it would be too long. I spent some time of my life to watch a crap.\"\n",
            " \"This was by far the worst movie I've ever seen. And thats compared to Alexander, Fortress 2 and The new world.<br /><br />I should go back to blockbuster and ask for my money back along with compensation as it was a truly traumatic experience. For the first ten minutes i was changing the zoom on my widescreen TV because the actors seemed to be out of screen. I didn't think it was possible to make such a bad film in this day and age, i was wrong. While typing this message, I've thought of a good reason to buy this movie. A joke present at Xmas. I'm blaming the Mrs for this one as she picked it, thanks babe.<br /><br />Be warned.......A true shocker all round!!!!!!\"]\n",
            "#Labeled: 20, Unlabeled 2000, Val 4000, Test 12500\n",
            "(20, 2)\n",
            "(12500, 2)\n",
            "SHAPE:  (2020, 20000) SIZE:  (2020,)\n",
            "New SHAPE:  (20, 20000) New SIZE:  (20,) [-1  0  1] [0 1]\n",
            "Accuracy for  20  labeled data is: 63.672\n",
            "Read data successful (37500, 2) (12500, 2) n_labeled =  400\n",
            "                                                   0  1\n",
            "0  I figure this to be an \"alternate reality\" tee...  0\n",
            "1  This is the kind of movie that wants to be goo...  0\n",
            "2  This was by far the worst movie I've ever seen...  0\n",
            "3  Awful, awful, awful...<br /><br />I loved the ...  0\n",
            "4  Fragile Carne, just before his great period. A...  1\n",
            "[0 0 0]\n",
            "['I figure this to be an \"alternate reality\" teen flick...More precisely a Ferris Bueller type character as the leader of a cheat ring . Yeah, I know it\\'s not meant to compared to Ferris Bueller, at least not in a \"oranges-to-oranges\" way, but it will none-the-less.<br /><br />Bottom-line: It\\'s galaxies away from even being even a minor classic. It is watchable, though only if you\\'re not expecting very much. That said, the main character has some charm, but the premise wears thin because the writing just isn\\'t clever. The movie just did not deliver enough laughs, twists, or tension to keep my interest. <br /><br />To be honest I did continue watching...Watching with hopes to see if anything suddenly clicked. It didn\\'t. So, stylish as it is, I wouldn\\'t recommend this movie. BTW, it seems odd to see Mary Tyler Moore as the principal. She\\'s truly miscast, I hope the paycheck was inordinately big.'\n",
            " \"This is the kind of movie that wants to be good but sucks. First thing, what the hell are those punk trying to do with the school? I think the kids doesn't seem to realize the gravity of the situation. Deker guy say to the girl that they under his responsibility when she ask why he wants to go back for them but right after this he gives a gun to the wheel chair dude and wants him to go alone repair the phone line. Where is the responsibility there? I understand poor actors must pay their food but why not just give them the money that takes to make a stupid movie like that or give that money to a charity. Oh yea and none of them knows how to aim. The stupid punk guy shoots in the cafeteria nowhere like a crazy. They all want to look professional but they all suck. One more thing I don't believe that there's no emergency exit in the school the kids are trying several doors but they all locked. What happens if there's a fire and the dumass security guard is dead? It is illegal to not have an emergency exit in school. Anyway there's a lot more to say but it would be too long. I spent some time of my life to watch a crap.\"\n",
            " \"This was by far the worst movie I've ever seen. And thats compared to Alexander, Fortress 2 and The new world.<br /><br />I should go back to blockbuster and ask for my money back along with compensation as it was a truly traumatic experience. For the first ten minutes i was changing the zoom on my widescreen TV because the actors seemed to be out of screen. I didn't think it was possible to make such a bad film in this day and age, i was wrong. While typing this message, I've thought of a good reason to buy this movie. A joke present at Xmas. I'm blaming the Mrs for this one as she picked it, thanks babe.<br /><br />Be warned.......A true shocker all round!!!!!!\"]\n",
            "#Labeled: 400, Unlabeled 2000, Val 4000, Test 12500\n",
            "(400, 2)\n",
            "(12500, 2)\n",
            "SHAPE:  (2400, 20000) SIZE:  (2400,)\n",
            "New SHAPE:  (400, 20000) New SIZE:  (400,) [-1  0  1] [0 1]\n",
            "Accuracy for  400  labeled data is: 76.496\n",
            "Read data successful (37500, 2) (12500, 2) n_labeled =  1000\n",
            "                                                   0  1\n",
            "0  I figure this to be an \"alternate reality\" tee...  0\n",
            "1  This is the kind of movie that wants to be goo...  0\n",
            "2  This was by far the worst movie I've ever seen...  0\n",
            "3  Awful, awful, awful...<br /><br />I loved the ...  0\n",
            "4  Fragile Carne, just before his great period. A...  1\n",
            "[0 0 0]\n",
            "['I figure this to be an \"alternate reality\" teen flick...More precisely a Ferris Bueller type character as the leader of a cheat ring . Yeah, I know it\\'s not meant to compared to Ferris Bueller, at least not in a \"oranges-to-oranges\" way, but it will none-the-less.<br /><br />Bottom-line: It\\'s galaxies away from even being even a minor classic. It is watchable, though only if you\\'re not expecting very much. That said, the main character has some charm, but the premise wears thin because the writing just isn\\'t clever. The movie just did not deliver enough laughs, twists, or tension to keep my interest. <br /><br />To be honest I did continue watching...Watching with hopes to see if anything suddenly clicked. It didn\\'t. So, stylish as it is, I wouldn\\'t recommend this movie. BTW, it seems odd to see Mary Tyler Moore as the principal. She\\'s truly miscast, I hope the paycheck was inordinately big.'\n",
            " \"This is the kind of movie that wants to be good but sucks. First thing, what the hell are those punk trying to do with the school? I think the kids doesn't seem to realize the gravity of the situation. Deker guy say to the girl that they under his responsibility when she ask why he wants to go back for them but right after this he gives a gun to the wheel chair dude and wants him to go alone repair the phone line. Where is the responsibility there? I understand poor actors must pay their food but why not just give them the money that takes to make a stupid movie like that or give that money to a charity. Oh yea and none of them knows how to aim. The stupid punk guy shoots in the cafeteria nowhere like a crazy. They all want to look professional but they all suck. One more thing I don't believe that there's no emergency exit in the school the kids are trying several doors but they all locked. What happens if there's a fire and the dumass security guard is dead? It is illegal to not have an emergency exit in school. Anyway there's a lot more to say but it would be too long. I spent some time of my life to watch a crap.\"\n",
            " \"This was by far the worst movie I've ever seen. And thats compared to Alexander, Fortress 2 and The new world.<br /><br />I should go back to blockbuster and ask for my money back along with compensation as it was a truly traumatic experience. For the first ten minutes i was changing the zoom on my widescreen TV because the actors seemed to be out of screen. I didn't think it was possible to make such a bad film in this day and age, i was wrong. While typing this message, I've thought of a good reason to buy this movie. A joke present at Xmas. I'm blaming the Mrs for this one as she picked it, thanks babe.<br /><br />Be warned.......A true shocker all round!!!!!!\"]\n",
            "#Labeled: 1000, Unlabeled 2000, Val 4000, Test 12500\n",
            "(1000, 2)\n",
            "(12500, 2)\n",
            "SHAPE:  (3000, 20000) SIZE:  (3000,)\n",
            "New SHAPE:  (1000, 20000) New SIZE:  (1000,) [-1  0  1] [0 1]\n",
            "Accuracy for  1000  labeled data is: 76.712\n",
            "Read data successful (37500, 2) (12500, 2) n_labeled =  2000\n",
            "                                                   0  1\n",
            "0  I figure this to be an \"alternate reality\" tee...  0\n",
            "1  This is the kind of movie that wants to be goo...  0\n",
            "2  This was by far the worst movie I've ever seen...  0\n",
            "3  Awful, awful, awful...<br /><br />I loved the ...  0\n",
            "4  Fragile Carne, just before his great period. A...  1\n",
            "[0 0 0]\n",
            "['I figure this to be an \"alternate reality\" teen flick...More precisely a Ferris Bueller type character as the leader of a cheat ring . Yeah, I know it\\'s not meant to compared to Ferris Bueller, at least not in a \"oranges-to-oranges\" way, but it will none-the-less.<br /><br />Bottom-line: It\\'s galaxies away from even being even a minor classic. It is watchable, though only if you\\'re not expecting very much. That said, the main character has some charm, but the premise wears thin because the writing just isn\\'t clever. The movie just did not deliver enough laughs, twists, or tension to keep my interest. <br /><br />To be honest I did continue watching...Watching with hopes to see if anything suddenly clicked. It didn\\'t. So, stylish as it is, I wouldn\\'t recommend this movie. BTW, it seems odd to see Mary Tyler Moore as the principal. She\\'s truly miscast, I hope the paycheck was inordinately big.'\n",
            " \"This is the kind of movie that wants to be good but sucks. First thing, what the hell are those punk trying to do with the school? I think the kids doesn't seem to realize the gravity of the situation. Deker guy say to the girl that they under his responsibility when she ask why he wants to go back for them but right after this he gives a gun to the wheel chair dude and wants him to go alone repair the phone line. Where is the responsibility there? I understand poor actors must pay their food but why not just give them the money that takes to make a stupid movie like that or give that money to a charity. Oh yea and none of them knows how to aim. The stupid punk guy shoots in the cafeteria nowhere like a crazy. They all want to look professional but they all suck. One more thing I don't believe that there's no emergency exit in the school the kids are trying several doors but they all locked. What happens if there's a fire and the dumass security guard is dead? It is illegal to not have an emergency exit in school. Anyway there's a lot more to say but it would be too long. I spent some time of my life to watch a crap.\"\n",
            " \"This was by far the worst movie I've ever seen. And thats compared to Alexander, Fortress 2 and The new world.<br /><br />I should go back to blockbuster and ask for my money back along with compensation as it was a truly traumatic experience. For the first ten minutes i was changing the zoom on my widescreen TV because the actors seemed to be out of screen. I didn't think it was possible to make such a bad film in this day and age, i was wrong. While typing this message, I've thought of a good reason to buy this movie. A joke present at Xmas. I'm blaming the Mrs for this one as she picked it, thanks babe.<br /><br />Be warned.......A true shocker all round!!!!!!\"]\n",
            "#Labeled: 2000, Unlabeled 2000, Val 4000, Test 12500\n",
            "(2000, 2)\n",
            "(12500, 2)\n",
            "SHAPE:  (4000, 20000) SIZE:  (4000,)\n",
            "New SHAPE:  (2000, 20000) New SIZE:  (2000,) [-1  0  1] [0 1]\n",
            "Accuracy for  2000  labeled data is: 80.968\n"
          ],
          "name": "stdout"
        }
      ]
    },
    {
      "cell_type": "code",
      "metadata": {
        "colab": {
          "base_uri": "https://localhost:8080/"
        },
        "id": "vqSmXx-oNzO2",
        "outputId": "f45aa101-b9ab-4760-d08c-1b4139dbe84a"
      },
      "source": [
        "print('---------Label Spreading---------')\n",
        "for i in n_list:\n",
        "  print('Accuracy for ', i*2,  ' labeled data is: %.3f' % acc_list_2[i])"
      ],
      "execution_count": null,
      "outputs": [
        {
          "output_type": "stream",
          "text": [
            "---------Label Spreading---------\n",
            "Accuracy for  20  labeled data is: 63.672\n",
            "Accuracy for  400  labeled data is: 76.496\n",
            "Accuracy for  1000  labeled data is: 76.712\n",
            "Accuracy for  2000  labeled data is: 80.968\n"
          ],
          "name": "stdout"
        }
      ]
    },
    {
      "cell_type": "code",
      "metadata": {
        "id": "vwK3q6lgztTl"
      },
      "source": [
        ""
      ],
      "execution_count": null,
      "outputs": []
    },
    {
      "cell_type": "code",
      "metadata": {
        "id": "3IwjQeJDztFB"
      },
      "source": [
        ""
      ],
      "execution_count": null,
      "outputs": []
    },
    {
      "cell_type": "code",
      "metadata": {
        "id": "6WRjVlZSNzBj"
      },
      "source": [
        ""
      ],
      "execution_count": null,
      "outputs": []
    },
    {
      "cell_type": "code",
      "metadata": {
        "colab": {
          "base_uri": "https://localhost:8080/"
        },
        "id": "qLi7DnF4oUN2",
        "outputId": "5c92617e-9471-41d5-8921-891cd88b5c12"
      },
      "source": [
        "# Gensim\n",
        "import gensim\n",
        "import gensim.corpora as corpora\n",
        "from gensim.models import word2vec\n",
        "from gensim.models import KeyedVectors\n",
        "\n",
        "from nltk.stem import WordNetLemmatizer\n",
        "from nltk.tokenize import word_tokenize\n",
        "import nltk\n",
        "nltk.download('punkt')\n",
        "\n",
        "def get_data(n, arg1=1):\n",
        "\n",
        "  n_labeled_per_class = n       #10, 200, 500, 1000, 2400\n",
        "  unlabeled_per_class = 1000\n",
        "\n",
        "\n",
        "  data_path = './data/imdb_data/'\n",
        "  train_df = pd.read_csv(data_path+'train.csv', header=None)\n",
        "  test_df = pd.read_csv(data_path+'test.csv', header=None)\n",
        "  print(\"Read data successful\", train_df.shape, test_df.shape, \"n_labeled = \", n_labeled_per_class*2)\n",
        "  print(train_df.head(5))\n",
        "\n",
        "\n",
        "  train_labels = np.array([v for v in train_df[1]])\n",
        "  train_text = np.array([v for v in train_df[0]])\n",
        "  print(train_labels[:3])\n",
        "  print(train_text[:3])\n",
        "\n",
        "  test_labels = np.array([u for u in test_df[1]])\n",
        "  test_text = np.array([v for v in test_df[0]])\n",
        "\n",
        "\n",
        "\n",
        "\n",
        "  n_labels = 2\n",
        "  # Split the labeled training set, unlabeled training set, development set\n",
        "  train_labeled_idxs, train_unlabeled_idxs, val_idxs = train_val_split(\n",
        "      train_labels, n_labeled_per_class, unlabeled_per_class, n_labels)\n",
        "\n",
        "  print(\"#Labeled: {}, Unlabeled {}, Val {}, Test {}\".format(len(\n",
        "      train_labeled_idxs), len(train_unlabeled_idxs), len(val_idxs), len(test_labels)))\n",
        "  \n",
        "\n",
        "\n",
        "  df_train = pd.DataFrame({'review':train_text[train_labeled_idxs], 'sentiment':train_labels[train_labeled_idxs]})\n",
        "  print(df_train.shape)\n",
        "  # df_train.head()\n",
        "\n",
        "  df_test = pd.DataFrame({'review':test_text, 'sentiment':test_labels})\n",
        "  print(df_test.shape)\n",
        "\n",
        "  if arg1!=1:\n",
        "    return df_test\n",
        "  # df_test.head()\n",
        "\n",
        "  df_unlabeled = pd.DataFrame({'review':train_text[train_unlabeled_idxs], 'sentiment':train_labels[train_unlabeled_idxs]})\n",
        "  print(df_unlabeled.shape)\n",
        "  # df_unlabeled.head()\n",
        "\n",
        "  clean_train_df = clean(df_train)\n",
        "  clean_test_df = clean(df_test)\n",
        "  clean_unlabeled_df = clean(df_unlabeled)\n",
        "\n",
        "  texts = (clean_train_df['review'].append(clean_unlabeled_df['review'], ignore_index=True)).apply(lambda x:x.split())\n",
        "\n",
        "  # Create Corpus\n",
        "  embedding_vector_size = 300\n",
        "  model = word2vec.Word2Vec(sentences = texts, size = embedding_vector_size, min_count=3, window=5, workers=4)\n",
        "\n",
        "  ##save the modeled words produced from Word2Vec\n",
        "  model.save('word2vec_model.bin')\n",
        "\n",
        "\n",
        "  loaded_model=KeyedVectors.load('word2vec_model.bin')\n",
        "  print(\"Loaded word2vec model:\", loaded_model)\n",
        "\n",
        "  num_features = 300 # See Word2Vec(vocab=213802, size=100, alpha=0.025) in above cell.\n",
        "  feature_vec_train = get_avg_feature_vecs(clean_train_df['review'], loaded_model, num_features)\n",
        "  feature_vec_test = get_avg_feature_vecs(clean_test_df['review'], loaded_model, num_features)\n",
        "  feature_vec_unlabeled = get_avg_feature_vecs(clean_unlabeled_df['review'], loaded_model, num_features)\n",
        "\n",
        "\n",
        "\n",
        "  feature_vec_full_train = np.concatenate((feature_vec_train, feature_vec_unlabeled))\n",
        "  print(\"Shape of train data: \",feature_vec_full_train.shape)\n",
        "\n",
        "  labels = np.array([i for i in list(df_train.sentiment)]+[-1 for i in list(df_unlabeled.sentiment)])\n",
        "\n",
        "  return feature_vec_full_train, feature_vec_test, labels, test_labels, df_test\n"
      ],
      "execution_count": null,
      "outputs": [
        {
          "output_type": "stream",
          "text": [
            "[nltk_data] Downloading package punkt to /root/nltk_data...\n",
            "[nltk_data]   Package punkt is already up-to-date!\n"
          ],
          "name": "stdout"
        }
      ]
    },
    {
      "cell_type": "code",
      "metadata": {
        "id": "lp4at3iLBlJK",
        "colab": {
          "base_uri": "https://localhost:8080/",
          "height": 134
        },
        "outputId": "56963360-814d-455d-c1da-3070e8d1c83b"
      },
      "source": [
        "# For word2vec\n",
        "\n",
        "n_list = [10, 200, 500, 1000, 2400]\n",
        "\n",
        "for i in n_list:\n",
        "\n",
        "  train_vec, test_vec, labels, test_labels, df_test = get_data(i)\n",
        "\n",
        "  np.save('data_temp/train_vec_'+str(i), train_vec)\n",
        "  np.save('data_temp/test_vec_'+str(i), test_vec)\n",
        "  np.save('data_temp/labels_'+str(i), labels)\n",
        "  np.save('data_temp/test_labels_'+str(i), test_labels)\n",
        "\n",
        "  print(i, 'SAVED!!')"
      ],
      "execution_count": null,
      "outputs": [
        {
          "output_type": "error",
          "ename": "SyntaxError",
          "evalue": "ignored",
          "traceback": [
            "\u001b[0;36m  File \u001b[0;32m\"<ipython-input-36-d1bec0f8001e>\"\u001b[0;36m, line \u001b[0;32m1\u001b[0m\n\u001b[0;31m    For word2vec\u001b[0m\n\u001b[0m               ^\u001b[0m\n\u001b[0;31mSyntaxError\u001b[0m\u001b[0;31m:\u001b[0m invalid syntax\n"
          ]
        }
      ]
    },
    {
      "cell_type": "code",
      "metadata": {
        "id": "-F55rEyMDjS9"
      },
      "source": [
        ""
      ],
      "execution_count": null,
      "outputs": []
    },
    {
      "cell_type": "code",
      "metadata": {
        "id": "OLx-p9QG6Qep"
      },
      "source": [
        "from sklearn.semi_supervised import LabelSpreading\n",
        "from sklearn.metrics import accuracy_score\n",
        "\n",
        "n_list = [10, 200, 500, 1000, 2400]\n",
        "\n",
        "acc_list = {}\n",
        "\n",
        "for i in n_list:\n",
        "\n",
        "  df_test = get_data(i, 10)\n",
        "\n",
        "  train_vec = np.load('data_temp/train_vec_'+str(i)+'.npy')\n",
        "  test_vec = np.load('data_temp/test_vec_'+str(i)+'.npy')\n",
        "  labels = np.load('data_temp/labels_'+str(i)+'.npy')\n",
        "  # test_labels = np.load('data_temp/test_labels_'+str(i)+'.npy')\n",
        "\n",
        "\n",
        "  label_prop_model = LabelSpreading()\n",
        "  label_prop_model.fit(train_vec, labels)\n",
        "\n",
        "  test_labels = np.array([i for i in list(df_test.sentiment)])\n",
        "  y_hat = label_prop_model.predict(test_vec)\n",
        "  score = accuracy_score(test_labels, y_hat)\n",
        "\n",
        "  acc_list[i] = score*100\n",
        "  print('Accuracy for ', i*2,  ' labeled data is: %.3f' % (score*100))"
      ],
      "execution_count": null,
      "outputs": []
    },
    {
      "cell_type": "code",
      "metadata": {
        "colab": {
          "base_uri": "https://localhost:8080/"
        },
        "id": "WV0n6QSr6S6I",
        "outputId": "5e4e86fc-2bfa-4f46-995f-b21c3089d7f7"
      },
      "source": [
        "print('---------Label Spreading---------')\n",
        "for i in n_list:\n",
        "  print('Accuracy for ', i*2,  ' labeled data is: %.3f' % acc_list[i])"
      ],
      "execution_count": null,
      "outputs": [
        {
          "output_type": "stream",
          "text": [
            "---------Label Spreading---------\n",
            "Accuracy for  20  labeled data is: 49.584\n",
            "Accuracy for  400  labeled data is: 53.720\n",
            "Accuracy for  1000  labeled data is: 54.448\n",
            "Accuracy for  2000  labeled data is: 54.480\n",
            "Accuracy for  4800  labeled data is: 54.536\n"
          ],
          "name": "stdout"
        }
      ]
    },
    {
      "cell_type": "code",
      "metadata": {
        "id": "IPzaKWo_6S0V"
      },
      "source": [
        "from sklearn.semi_supervised import LabelPropagation\n",
        "from sklearn.metrics import accuracy_score\n",
        "\n",
        "n_list = [10, 200, 500, 1000, 2400]\n",
        "\n",
        "acc_list = {}\n",
        "\n",
        "for i in n_list:\n",
        "\n",
        "  df_test = get_data(i, 10)\n",
        "\n",
        "  train_vec = np.load('data_temp/train_vec_'+str(i)+'.npy')\n",
        "  test_vec = np.load('data_temp/test_vec_'+str(i)+'.npy')\n",
        "  labels = np.load('data_temp/labels_'+str(i)+'.npy')\n",
        "  # test_labels = np.load('data_temp/test_labels_'+str(i)+'.npy')\n",
        "\n",
        "\n",
        "  label_prop_model = LabelPropagation()\n",
        "  label_prop_model.fit(train_vec, labels)\n",
        "\n",
        "  test_labels = np.array([i for i in list(df_test.sentiment)])\n",
        "  y_hat = label_prop_model.predict(test_vec)\n",
        "  score = accuracy_score(test_labels, y_hat)\n",
        "\n",
        "  acc_list[i] = score*100\n",
        "  print('Accuracy for ', i*2,  ' labeled data is: %.3f' % (score*100))"
      ],
      "execution_count": null,
      "outputs": []
    },
    {
      "cell_type": "code",
      "metadata": {
        "colab": {
          "base_uri": "https://localhost:8080/"
        },
        "id": "WJ5gbBgM6Sxu",
        "outputId": "629f416e-e4b1-448f-9549-77c1609371b3"
      },
      "source": [
        "print('---------Label Propagation---------')\n",
        "for i in n_list:\n",
        "  print('Accuracy for ', i*2,  ' labeled data is: %.3f' % acc_list[i])"
      ],
      "execution_count": null,
      "outputs": [
        {
          "output_type": "stream",
          "text": [
            "---------Label Propagation---------\n",
            "Accuracy for  20  labeled data is: 49.256\n",
            "Accuracy for  400  labeled data is: 51.400\n",
            "Accuracy for  1000  labeled data is: 54.152\n",
            "Accuracy for  2000  labeled data is: 54.272\n",
            "Accuracy for  4800  labeled data is: 54.400\n"
          ],
          "name": "stdout"
        }
      ]
    },
    {
      "cell_type": "code",
      "metadata": {
        "id": "eZ151v0C6SuQ"
      },
      "source": [
        "from sklearn.semi_supervised import SelfTrainingClassifier\n",
        "from sklearn.svm import SVC\n",
        "from sklearn.metrics import accuracy_score\n",
        "\n",
        "n_list = [10, 200, 500, 1000, 2400]\n",
        "\n",
        "acc_list = {}\n",
        "\n",
        "for i in n_list:\n",
        "\n",
        "  df_test = get_data(i, 10)\n",
        "\n",
        "  train_vec = np.load('data_temp/train_vec_'+str(i)+'.npy')\n",
        "  test_vec = np.load('data_temp/test_vec_'+str(i)+'.npy')\n",
        "  labels = np.load('data_temp/labels_'+str(i)+'.npy')\n",
        "  # test_labels = np.load('data_temp/test_labels_'+str(i)+'.npy')\n",
        "\n",
        "  \n",
        "  svc = SVC(probability=True, gamma=\"auto\") \n",
        "\n",
        "\n",
        "  label_prop_model = SelfTrainingClassifier(svc)\n",
        "  label_prop_model.fit(train_vec, labels)\n",
        "\n",
        "  test_labels = np.array([i for i in list(df_test.sentiment)])\n",
        "  y_hat = label_prop_model.predict(test_vec)\n",
        "  score = accuracy_score(test_labels, y_hat)\n",
        "\n",
        "  acc_list[i] = score*100\n",
        "  print('Accuracy for ', i*2,  ' labeled data is: %.3f' % (score*100))"
      ],
      "execution_count": null,
      "outputs": []
    },
    {
      "cell_type": "code",
      "metadata": {
        "colab": {
          "base_uri": "https://localhost:8080/"
        },
        "id": "ECPpdjBKAnPG",
        "outputId": "a0d5df93-e3b8-46c2-ea24-4226077dee06"
      },
      "source": [
        "print('---------Self Training Classifier with SVM---------')\n",
        "for i in n_list:\n",
        "  print('Accuracy for ', i*2,  ' labeled data is: %.3f' % acc_list[i])"
      ],
      "execution_count": null,
      "outputs": [
        {
          "output_type": "stream",
          "text": [
            "---------Self Training Classifier with SVM---------\n",
            "Accuracy for  20  labeled data is: 52.928\n",
            "Accuracy for  400  labeled data is: 53.400\n",
            "Accuracy for  1000  labeled data is: 54.120\n",
            "Accuracy for  2000  labeled data is: 54.944\n",
            "Accuracy for  4800  labeled data is: 55.224\n"
          ],
          "name": "stdout"
        }
      ]
    },
    {
      "cell_type": "code",
      "metadata": {
        "colab": {
          "base_uri": "https://localhost:8080/"
        },
        "id": "Cf62S88CAnL0",
        "outputId": "ab19e4d2-11b8-43e7-eff7-1bd06209ba12"
      },
      "source": [
        "import sklearn\n",
        "sklearn.show_versions()"
      ],
      "execution_count": null,
      "outputs": [
        {
          "output_type": "stream",
          "text": [
            "\n",
            "System:\n",
            "    python: 3.7.10 (default, May  3 2021, 02:48:31)  [GCC 7.5.0]\n",
            "executable: /usr/bin/python3\n",
            "   machine: Linux-5.4.109+-x86_64-with-Ubuntu-18.04-bionic\n",
            "\n",
            "Python dependencies:\n",
            "          pip: 19.3.1\n",
            "   setuptools: 56.1.0\n",
            "      sklearn: 0.24.2\n",
            "        numpy: 1.19.5\n",
            "        scipy: 1.4.1\n",
            "       Cython: 0.29.23\n",
            "       pandas: 1.1.5\n",
            "   matplotlib: 3.2.2\n",
            "       joblib: 1.0.1\n",
            "threadpoolctl: 2.1.0\n",
            "\n",
            "Built with OpenMP: True\n"
          ],
          "name": "stdout"
        }
      ]
    },
    {
      "cell_type": "code",
      "metadata": {
        "id": "VbiiO_mjAnDK"
      },
      "source": [
        ""
      ],
      "execution_count": null,
      "outputs": []
    },
    {
      "cell_type": "code",
      "metadata": {
        "id": "AKwojdH5AnAn"
      },
      "source": [
        ""
      ],
      "execution_count": null,
      "outputs": []
    },
    {
      "cell_type": "code",
      "metadata": {
        "id": "hqVeK_8MAm9X"
      },
      "source": [
        ""
      ],
      "execution_count": null,
      "outputs": []
    },
    {
      "cell_type": "code",
      "metadata": {
        "id": "DHBsuQ9w6Sru"
      },
      "source": [
        ""
      ],
      "execution_count": null,
      "outputs": []
    },
    {
      "cell_type": "code",
      "metadata": {
        "id": "oTd4DuHg6Sfv"
      },
      "source": [
        ""
      ],
      "execution_count": null,
      "outputs": []
    },
    {
      "cell_type": "code",
      "metadata": {
        "id": "LADiZQhdhZ7s"
      },
      "source": [
        "n_labeled_per_class = 200       #10, 200, 500, 1000, 2400\n",
        "unlabeled_per_class = 1000"
      ],
      "execution_count": null,
      "outputs": []
    },
    {
      "cell_type": "code",
      "metadata": {
        "colab": {
          "base_uri": "https://localhost:8080/"
        },
        "id": "rvL1TsRSgHtZ",
        "outputId": "a6dc4268-85d7-44b1-8d11-19faaf8890d1"
      },
      "source": [
        "data_path = './data/imdb_data/'\n",
        "train_df = pd.read_csv(data_path+'train.csv', header=None)\n",
        "test_df = pd.read_csv(data_path+'test.csv', header=None)\n",
        "print(\"Read data successful\", train_df.shape, test_df.shape, \"n_labeled = \", n_labeled_per_class)\n",
        "print(train_df.head(5))"
      ],
      "execution_count": null,
      "outputs": [
        {
          "output_type": "stream",
          "text": [
            "Read data successful (37500, 2) (12500, 2) n_labeled =  200\n",
            "                                                   0  1\n",
            "0  I figure this to be an \"alternate reality\" tee...  0\n",
            "1  This is the kind of movie that wants to be goo...  0\n",
            "2  This was by far the worst movie I've ever seen...  0\n",
            "3  Awful, awful, awful...<br /><br />I loved the ...  0\n",
            "4  Fragile Carne, just before his great period. A...  1\n"
          ],
          "name": "stdout"
        }
      ]
    },
    {
      "cell_type": "code",
      "metadata": {
        "colab": {
          "base_uri": "https://localhost:8080/"
        },
        "id": "Qd--NF6UhLiW",
        "outputId": "a641ef90-9ddd-4b41-e863-754166bff6bf"
      },
      "source": [
        "train_labels = np.array([v for v in train_df[1]])\n",
        "train_text = np.array([v for v in train_df[0]])\n",
        "print(train_labels[:3])\n",
        "print(train_text[:3])\n",
        "\n",
        "test_labels = np.array([u for u in test_df[1]])\n",
        "test_text = np.array([v for v in test_df[0]])"
      ],
      "execution_count": null,
      "outputs": [
        {
          "output_type": "stream",
          "text": [
            "[0 0 0]\n",
            "['I figure this to be an \"alternate reality\" teen flick...More precisely a Ferris Bueller type character as the leader of a cheat ring . Yeah, I know it\\'s not meant to compared to Ferris Bueller, at least not in a \"oranges-to-oranges\" way, but it will none-the-less.<br /><br />Bottom-line: It\\'s galaxies away from even being even a minor classic. It is watchable, though only if you\\'re not expecting very much. That said, the main character has some charm, but the premise wears thin because the writing just isn\\'t clever. The movie just did not deliver enough laughs, twists, or tension to keep my interest. <br /><br />To be honest I did continue watching...Watching with hopes to see if anything suddenly clicked. It didn\\'t. So, stylish as it is, I wouldn\\'t recommend this movie. BTW, it seems odd to see Mary Tyler Moore as the principal. She\\'s truly miscast, I hope the paycheck was inordinately big.'\n",
            " \"This is the kind of movie that wants to be good but sucks. First thing, what the hell are those punk trying to do with the school? I think the kids doesn't seem to realize the gravity of the situation. Deker guy say to the girl that they under his responsibility when she ask why he wants to go back for them but right after this he gives a gun to the wheel chair dude and wants him to go alone repair the phone line. Where is the responsibility there? I understand poor actors must pay their food but why not just give them the money that takes to make a stupid movie like that or give that money to a charity. Oh yea and none of them knows how to aim. The stupid punk guy shoots in the cafeteria nowhere like a crazy. They all want to look professional but they all suck. One more thing I don't believe that there's no emergency exit in the school the kids are trying several doors but they all locked. What happens if there's a fire and the dumass security guard is dead? It is illegal to not have an emergency exit in school. Anyway there's a lot more to say but it would be too long. I spent some time of my life to watch a crap.\"\n",
            " \"This was by far the worst movie I've ever seen. And thats compared to Alexander, Fortress 2 and The new world.<br /><br />I should go back to blockbuster and ask for my money back along with compensation as it was a truly traumatic experience. For the first ten minutes i was changing the zoom on my widescreen TV because the actors seemed to be out of screen. I didn't think it was possible to make such a bad film in this day and age, i was wrong. While typing this message, I've thought of a good reason to buy this movie. A joke present at Xmas. I'm blaming the Mrs for this one as she picked it, thanks babe.<br /><br />Be warned.......A true shocker all round!!!!!!\"]\n"
          ],
          "name": "stdout"
        }
      ]
    },
    {
      "cell_type": "code",
      "metadata": {
        "colab": {
          "base_uri": "https://localhost:8080/"
        },
        "id": "ad1fPvp9hpHc",
        "outputId": "48e59edb-455c-487d-bd15-c6b14de298a8"
      },
      "source": [
        "n_labels = 2\n",
        "# Split the labeled training set, unlabeled training set, development set\n",
        "train_labeled_idxs, train_unlabeled_idxs, val_idxs = train_val_split(\n",
        "    train_labels, n_labeled_per_class, unlabeled_per_class, n_labels)\n",
        "\n",
        "# Build the dataset class for each set\n",
        "# train_labeled_dataset = loader_labeled(\n",
        "#     train_text[train_labeled_idxs], train_labels[train_labeled_idxs], tokenizer, max_seq_len, train_aug)\n",
        "# train_unlabeled_dataset = loader_unlabeled(\n",
        "#     train_text[train_unlabeled_idxs], train_unlabeled_idxs, tokenizer, max_seq_len, Translator(data_path))\n",
        "# val_dataset = loader_labeled(\n",
        "#     train_text[val_idxs], train_labels[val_idxs], tokenizer, max_seq_len)\n",
        "# test_dataset = loader_labeled(\n",
        "#     test_text, test_labels, tokenizer, max_seq_len)\n",
        "\n",
        "print(\"#Labeled: {}, Unlabeled {}, Val {}, Test {}\".format(len(\n",
        "    train_labeled_idxs), len(train_unlabeled_idxs), len(val_idxs), len(test_labels)))"
      ],
      "execution_count": null,
      "outputs": [
        {
          "output_type": "stream",
          "text": [
            "#Labeled: 400, Unlabeled 2000, Val 4000, Test 12500\n"
          ],
          "name": "stdout"
        }
      ]
    },
    {
      "cell_type": "code",
      "metadata": {
        "colab": {
          "base_uri": "https://localhost:8080/",
          "height": 215
        },
        "id": "dzvzyVJMh69Q",
        "outputId": "dc1dda1e-c73b-4039-93c0-eed61fa584e7"
      },
      "source": [
        "df_train = pd.DataFrame({'review':train_text[train_labeled_idxs], 'sentiment':train_labels[train_labeled_idxs]})\n",
        "print(df_train.shape)\n",
        "df_train.head()"
      ],
      "execution_count": null,
      "outputs": [
        {
          "output_type": "stream",
          "text": [
            "(400, 2)\n"
          ],
          "name": "stdout"
        },
        {
          "output_type": "execute_result",
          "data": {
            "text/html": [
              "<div>\n",
              "<style scoped>\n",
              "    .dataframe tbody tr th:only-of-type {\n",
              "        vertical-align: middle;\n",
              "    }\n",
              "\n",
              "    .dataframe tbody tr th {\n",
              "        vertical-align: top;\n",
              "    }\n",
              "\n",
              "    .dataframe thead th {\n",
              "        text-align: right;\n",
              "    }\n",
              "</style>\n",
              "<table border=\"1\" class=\"dataframe\">\n",
              "  <thead>\n",
              "    <tr style=\"text-align: right;\">\n",
              "      <th></th>\n",
              "      <th>review</th>\n",
              "      <th>sentiment</th>\n",
              "    </tr>\n",
              "  </thead>\n",
              "  <tbody>\n",
              "    <tr>\n",
              "      <th>0</th>\n",
              "      <td>okay, let's cut to the chase - there's no way ...</td>\n",
              "      <td>0</td>\n",
              "    </tr>\n",
              "    <tr>\n",
              "      <th>1</th>\n",
              "      <td>I saw Hurlyburly on Broadway and liked it a gr...</td>\n",
              "      <td>0</td>\n",
              "    </tr>\n",
              "    <tr>\n",
              "      <th>2</th>\n",
              "      <td>First of all, I'd like to tell you that I'm in...</td>\n",
              "      <td>0</td>\n",
              "    </tr>\n",
              "    <tr>\n",
              "      <th>3</th>\n",
              "      <td>Harlan Knowles (Lance Henriksen) brings a grou...</td>\n",
              "      <td>0</td>\n",
              "    </tr>\n",
              "    <tr>\n",
              "      <th>4</th>\n",
              "      <td>Ugh. Pretty awful.&lt;br /&gt;&lt;br /&gt;Linnea Quigley g...</td>\n",
              "      <td>0</td>\n",
              "    </tr>\n",
              "  </tbody>\n",
              "</table>\n",
              "</div>"
            ],
            "text/plain": [
              "                                              review  sentiment\n",
              "0  okay, let's cut to the chase - there's no way ...          0\n",
              "1  I saw Hurlyburly on Broadway and liked it a gr...          0\n",
              "2  First of all, I'd like to tell you that I'm in...          0\n",
              "3  Harlan Knowles (Lance Henriksen) brings a grou...          0\n",
              "4  Ugh. Pretty awful.<br /><br />Linnea Quigley g...          0"
            ]
          },
          "metadata": {
            "tags": []
          },
          "execution_count": 42
        }
      ]
    },
    {
      "cell_type": "code",
      "metadata": {
        "colab": {
          "base_uri": "https://localhost:8080/",
          "height": 215
        },
        "id": "IqGkHDuRhvBz",
        "outputId": "8c8c3421-121b-4de3-b211-94645e8d46dc"
      },
      "source": [
        "df_test = pd.DataFrame({'review':test_text, 'sentiment':test_labels})\n",
        "print(df_test.shape)\n",
        "df_test.head()"
      ],
      "execution_count": null,
      "outputs": [
        {
          "output_type": "stream",
          "text": [
            "(12500, 2)\n"
          ],
          "name": "stdout"
        },
        {
          "output_type": "execute_result",
          "data": {
            "text/html": [
              "<div>\n",
              "<style scoped>\n",
              "    .dataframe tbody tr th:only-of-type {\n",
              "        vertical-align: middle;\n",
              "    }\n",
              "\n",
              "    .dataframe tbody tr th {\n",
              "        vertical-align: top;\n",
              "    }\n",
              "\n",
              "    .dataframe thead th {\n",
              "        text-align: right;\n",
              "    }\n",
              "</style>\n",
              "<table border=\"1\" class=\"dataframe\">\n",
              "  <thead>\n",
              "    <tr style=\"text-align: right;\">\n",
              "      <th></th>\n",
              "      <th>review</th>\n",
              "      <th>sentiment</th>\n",
              "    </tr>\n",
              "  </thead>\n",
              "  <tbody>\n",
              "    <tr>\n",
              "      <th>0</th>\n",
              "      <td>I really liked this Summerslam due to the look...</td>\n",
              "      <td>1</td>\n",
              "    </tr>\n",
              "    <tr>\n",
              "      <th>1</th>\n",
              "      <td>Not many television shows appeal to quite as m...</td>\n",
              "      <td>1</td>\n",
              "    </tr>\n",
              "    <tr>\n",
              "      <th>2</th>\n",
              "      <td>The film quickly gets to a major chase scene w...</td>\n",
              "      <td>0</td>\n",
              "    </tr>\n",
              "    <tr>\n",
              "      <th>3</th>\n",
              "      <td>Jane Austen would definitely approve of this o...</td>\n",
              "      <td>1</td>\n",
              "    </tr>\n",
              "    <tr>\n",
              "      <th>4</th>\n",
              "      <td>Expectations were somewhat high for me when I ...</td>\n",
              "      <td>0</td>\n",
              "    </tr>\n",
              "  </tbody>\n",
              "</table>\n",
              "</div>"
            ],
            "text/plain": [
              "                                              review  sentiment\n",
              "0  I really liked this Summerslam due to the look...          1\n",
              "1  Not many television shows appeal to quite as m...          1\n",
              "2  The film quickly gets to a major chase scene w...          0\n",
              "3  Jane Austen would definitely approve of this o...          1\n",
              "4  Expectations were somewhat high for me when I ...          0"
            ]
          },
          "metadata": {
            "tags": []
          },
          "execution_count": 43
        }
      ]
    },
    {
      "cell_type": "code",
      "metadata": {
        "colab": {
          "base_uri": "https://localhost:8080/",
          "height": 215
        },
        "id": "MWJ5ye9LpPsl",
        "outputId": "f316306f-54b9-4d7a-df55-78c40c35dfb8"
      },
      "source": [
        "df_unlabeled = pd.DataFrame({'review':train_text[train_unlabeled_idxs], 'sentiment':train_labels[train_unlabeled_idxs]})\n",
        "print(df_unlabeled.shape)\n",
        "df_unlabeled.head()"
      ],
      "execution_count": null,
      "outputs": [
        {
          "output_type": "stream",
          "text": [
            "(2000, 2)\n"
          ],
          "name": "stdout"
        },
        {
          "output_type": "execute_result",
          "data": {
            "text/html": [
              "<div>\n",
              "<style scoped>\n",
              "    .dataframe tbody tr th:only-of-type {\n",
              "        vertical-align: middle;\n",
              "    }\n",
              "\n",
              "    .dataframe tbody tr th {\n",
              "        vertical-align: top;\n",
              "    }\n",
              "\n",
              "    .dataframe thead th {\n",
              "        text-align: right;\n",
              "    }\n",
              "</style>\n",
              "<table border=\"1\" class=\"dataframe\">\n",
              "  <thead>\n",
              "    <tr style=\"text-align: right;\">\n",
              "      <th></th>\n",
              "      <th>review</th>\n",
              "      <th>sentiment</th>\n",
              "    </tr>\n",
              "  </thead>\n",
              "  <tbody>\n",
              "    <tr>\n",
              "      <th>0</th>\n",
              "      <td>This is the epitome of bad 80's film-making, u...</td>\n",
              "      <td>0</td>\n",
              "    </tr>\n",
              "    <tr>\n",
              "      <th>1</th>\n",
              "      <td>(Only minor spoilers except as noted).&lt;br /&gt;&lt;b...</td>\n",
              "      <td>0</td>\n",
              "    </tr>\n",
              "    <tr>\n",
              "      <th>2</th>\n",
              "      <td>'Dead Letter Office' is a low-budget film abou...</td>\n",
              "      <td>0</td>\n",
              "    </tr>\n",
              "    <tr>\n",
              "      <th>3</th>\n",
              "      <td>Anyone who visited drive-ins in the 1950s, 60s...</td>\n",
              "      <td>0</td>\n",
              "    </tr>\n",
              "    <tr>\n",
              "      <th>4</th>\n",
              "      <td>Feature of early 21 century cinema of lets pit...</td>\n",
              "      <td>0</td>\n",
              "    </tr>\n",
              "  </tbody>\n",
              "</table>\n",
              "</div>"
            ],
            "text/plain": [
              "                                              review  sentiment\n",
              "0  This is the epitome of bad 80's film-making, u...          0\n",
              "1  (Only minor spoilers except as noted).<br /><b...          0\n",
              "2  'Dead Letter Office' is a low-budget film abou...          0\n",
              "3  Anyone who visited drive-ins in the 1950s, 60s...          0\n",
              "4  Feature of early 21 century cinema of lets pit...          0"
            ]
          },
          "metadata": {
            "tags": []
          },
          "execution_count": 44
        }
      ]
    },
    {
      "cell_type": "code",
      "metadata": {
        "id": "H5pOwJL7k2oE"
      },
      "source": [
        "#Lemmatize the dataset\n",
        "from nltk.stem import WordNetLemmatizer\n",
        "from nltk.tokenize import word_tokenize\n",
        "import nltk\n",
        "nltk.download('punkt')"
      ],
      "execution_count": null,
      "outputs": []
    },
    {
      "cell_type": "code",
      "metadata": {
        "colab": {
          "base_uri": "https://localhost:8080/"
        },
        "id": "0KC8EnsslnU2",
        "outputId": "9f26021e-7eee-43d6-ea14-fa7a5d2cfd59"
      },
      "source": [
        ""
      ],
      "execution_count": null,
      "outputs": [
        {
          "output_type": "stream",
          "text": [
            "[nltk_data] Downloading package punkt to /root/nltk_data...\n",
            "[nltk_data]   Package punkt is already up-to-date!\n"
          ],
          "name": "stdout"
        },
        {
          "output_type": "execute_result",
          "data": {
            "text/plain": [
              "True"
            ]
          },
          "metadata": {
            "tags": []
          },
          "execution_count": 48
        }
      ]
    },
    {
      "cell_type": "code",
      "metadata": {
        "colab": {
          "base_uri": "https://localhost:8080/"
        },
        "id": "jk2T6XVbk8Q0",
        "outputId": "0644b4d4-6d65-4e9d-d773-2177da0852fc"
      },
      "source": [
        "%%time\n",
        "clean_train_df = clean(df_train)\n",
        "clean_test_df = clean(df_test)\n",
        "clean_unlabeled_df = clean(df_unlabeled)"
      ],
      "execution_count": null,
      "outputs": [
        {
          "output_type": "stream",
          "text": [
            "CPU times: user 13.2 s, sys: 221 ms, total: 13.4 s\n",
            "Wall time: 13.3 s\n"
          ],
          "name": "stdout"
        }
      ]
    },
    {
      "cell_type": "code",
      "metadata": {
        "id": "y8V-vCBSmgNM"
      },
      "source": [
        "# texts = (df_train['review'].append(df_test['review'], ignore_index=True)).apply(lambda x:x.split())\n",
        "texts = (clean_train_df['review'].append(clean_unlabeled_df['review'], ignore_index=True)).apply(lambda x:x.split())"
      ],
      "execution_count": null,
      "outputs": []
    },
    {
      "cell_type": "code",
      "metadata": {
        "colab": {
          "base_uri": "https://localhost:8080/"
        },
        "id": "MI3wRK-jllcP",
        "outputId": "017f4c6c-4f6b-4f19-b858-5d7d17e24e21"
      },
      "source": [
        "%%time\n",
        "# Gensim\n",
        "import gensim\n",
        "import gensim.corpora as corpora\n",
        "from gensim.models import word2vec\n",
        "# Create Corpus\n",
        "model = word2vec.Word2Vec(texts, min_count=1)"
      ],
      "execution_count": null,
      "outputs": [
        {
          "output_type": "stream",
          "text": [
            "CPU times: user 15.6 s, sys: 199 ms, total: 15.8 s\n",
            "Wall time: 10.8 s\n"
          ],
          "name": "stdout"
        }
      ]
    },
    {
      "cell_type": "code",
      "metadata": {
        "colab": {
          "base_uri": "https://localhost:8080/"
        },
        "id": "km6-cTYMmeGs",
        "outputId": "efbdc037-1713-4e70-a285-a527a3d53876"
      },
      "source": [
        "word_li=list(model.wv.vocab)\n",
        "print(word_li[:5])"
      ],
      "execution_count": null,
      "outputs": [
        {
          "output_type": "stream",
          "text": [
            "['okay', 'lets', 'cut', 'to', 'the']\n"
          ],
          "name": "stdout"
        }
      ]
    },
    {
      "cell_type": "code",
      "metadata": {
        "id": "25Zdcw55np1X"
      },
      "source": [
        "##save the modeled words produced from Word2Vec\n",
        "model.save('word2vec_model.bin')"
      ],
      "execution_count": null,
      "outputs": []
    },
    {
      "cell_type": "code",
      "metadata": {
        "colab": {
          "base_uri": "https://localhost:8080/"
        },
        "id": "eDDI7NWgntHt",
        "outputId": "819bc702-d3f5-48bf-e98f-0d7c3f14ef14"
      },
      "source": [
        "from gensim.models import KeyedVectors\n",
        "loaded_model=KeyedVectors.load('word2vec_model.bin')\n",
        "print(loaded_model)"
      ],
      "execution_count": null,
      "outputs": [
        {
          "output_type": "stream",
          "text": [
            "Word2Vec(vocab=39344, size=100, alpha=0.025)\n"
          ],
          "name": "stdout"
        }
      ]
    },
    {
      "cell_type": "code",
      "metadata": {
        "colab": {
          "base_uri": "https://localhost:8080/"
        },
        "id": "6lmF6Kxkn0jw",
        "outputId": "2650a46d-aef9-412e-b435-6f7adbd77076"
      },
      "source": [
        "%%time\n",
        "num_features = 100 # See Word2Vec(vocab=213802, size=100, alpha=0.025) in above cell.\n",
        "feature_vec_train = get_avg_feature_vecs(clean_train_df['review'], loaded_model, num_features)\n",
        "feature_vec_test = get_avg_feature_vecs(clean_test_df['review'], loaded_model, num_features)\n",
        "feature_vec_unlabeled = get_avg_feature_vecs(clean_unlabeled_df['review'], loaded_model, num_features)"
      ],
      "execution_count": null,
      "outputs": [
        {
          "output_type": "stream",
          "text": [
            "/usr/local/lib/python3.7/dist-packages/ipykernel_launcher.py:12: DeprecationWarning: Call to deprecated `__getitem__` (Method will be removed in 4.0.0, use self.wv.__getitem__() instead).\n",
            "  if sys.path[0] == '':\n"
          ],
          "name": "stderr"
        },
        {
          "output_type": "stream",
          "text": [
            "CPU times: user 2min 7s, sys: 1.51 s, total: 2min 9s\n",
            "Wall time: 2min 8s\n"
          ],
          "name": "stdout"
        }
      ]
    },
    {
      "cell_type": "code",
      "metadata": {
        "colab": {
          "base_uri": "https://localhost:8080/"
        },
        "id": "yQU3xbJKn6-w",
        "outputId": "3f3dfc93-dda4-4659-b3d8-543af2f33c69"
      },
      "source": [
        "print(feature_vec_train.shape, feature_vec_test.shape, feature_vec_unlabeled.shape)"
      ],
      "execution_count": null,
      "outputs": [
        {
          "output_type": "stream",
          "text": [
            "(400, 100) (12500, 100) (2000, 100)\n"
          ],
          "name": "stdout"
        }
      ]
    },
    {
      "cell_type": "code",
      "metadata": {
        "colab": {
          "base_uri": "https://localhost:8080/"
        },
        "id": "9oLS0n34Ywuq",
        "outputId": "d9a368f7-a6d1-4ca9-d12f-b9025500c539"
      },
      "source": [
        "print(type(feature_vec_train), type(feature_vec_test), type(feature_vec_unlabeled))"
      ],
      "execution_count": null,
      "outputs": [
        {
          "output_type": "stream",
          "text": [
            "<class 'numpy.ndarray'> <class 'numpy.ndarray'> <class 'numpy.ndarray'>\n"
          ],
          "name": "stdout"
        }
      ]
    },
    {
      "cell_type": "code",
      "metadata": {
        "colab": {
          "base_uri": "https://localhost:8080/"
        },
        "id": "npqGvc1LxkFF",
        "outputId": "439f01c1-7229-4057-ec13-0fbf99f32dd3"
      },
      "source": [
        "feature_vec_full_train = np.concatenate((feature_vec_train, feature_vec_unlabeled))\n",
        "feature_vec_full_train.shape"
      ],
      "execution_count": null,
      "outputs": [
        {
          "output_type": "execute_result",
          "data": {
            "text/plain": [
              "(2400, 100)"
            ]
          },
          "metadata": {
            "tags": []
          },
          "execution_count": 59
        }
      ]
    },
    {
      "cell_type": "code",
      "metadata": {
        "colab": {
          "base_uri": "https://localhost:8080/"
        },
        "id": "PCxBTB1tn9SV",
        "outputId": "89dd801a-806c-48f3-e0c9-ec3572e3f517"
      },
      "source": [
        "labels = np.array([i for i in list(df_train.sentiment)]+[-1 for i in list(df_unlabeled.sentiment)])\n",
        "print(labels)\n",
        "len(labels)"
      ],
      "execution_count": null,
      "outputs": [
        {
          "output_type": "stream",
          "text": [
            "[ 0  0  0 ... -1 -1 -1]\n"
          ],
          "name": "stdout"
        },
        {
          "output_type": "execute_result",
          "data": {
            "text/plain": [
              "2400"
            ]
          },
          "metadata": {
            "tags": []
          },
          "execution_count": 60
        }
      ]
    },
    {
      "cell_type": "code",
      "metadata": {
        "colab": {
          "base_uri": "https://localhost:8080/"
        },
        "id": "wvRaIpSUyE-B",
        "outputId": "be9bd31c-21ec-4e66-9327-cebbc5afc1f8"
      },
      "source": [
        "#n_labeled=20\n",
        "%%time\n",
        "from sklearn.semi_supervised import LabelSpreading\n",
        "label_prop_model = LabelSpreading()\n",
        "label_prop_model.fit(feature_vec_full_train, labels)\n",
        "\n",
        "from sklearn.metrics import accuracy_score\n",
        "test_labels = np.array([i for i in list(df_test.sentiment)])\n",
        "y_hat = label_prop_model.predict(feature_vec_test)\n",
        "score = accuracy_score(test_labels, y_hat)\n",
        "print('Accuracy: %.3f' % (score*100))"
      ],
      "execution_count": null,
      "outputs": [
        {
          "output_type": "stream",
          "text": [
            "Accuracy: 49.592\n"
          ],
          "name": "stdout"
        }
      ]
    },
    {
      "cell_type": "code",
      "metadata": {
        "colab": {
          "base_uri": "https://localhost:8080/"
        },
        "id": "zAwtBoQ6zBNA",
        "outputId": "6cfa8802-94a5-409e-d258-c81b01dee49d"
      },
      "source": [
        "#n_labeled=400\n",
        "%%time\n",
        "from sklearn.semi_supervised import LabelSpreading\n",
        "label_prop_model = LabelSpreading()\n",
        "label_prop_model.fit(feature_vec_full_train, labels)\n",
        "\n",
        "from sklearn.metrics import accuracy_score\n",
        "test_labels = np.array([i for i in list(df_test.sentiment)])\n",
        "y_hat = label_prop_model.predict(feature_vec_test)\n",
        "score = accuracy_score(test_labels, y_hat)\n",
        "print('Accuracy: %.3f' % (score*100))"
      ],
      "execution_count": null,
      "outputs": [
        {
          "output_type": "stream",
          "text": [
            "Accuracy: 53.744\n",
            "CPU times: user 3.31 s, sys: 1.82 s, total: 5.14 s\n",
            "Wall time: 2.74 s\n"
          ],
          "name": "stdout"
        }
      ]
    },
    {
      "cell_type": "code",
      "metadata": {
        "id": "l6csbRILzgid"
      },
      "source": [
        "#n_labeled=1000\n",
        "%%time\n",
        "from sklearn.semi_supervised import LabelSpreading\n",
        "label_prop_model = LabelSpreading()\n",
        "label_prop_model.fit(feature_vec_full_train, labels)\n",
        "\n",
        "from sklearn.metrics import accuracy_score\n",
        "test_labels = np.array([i for i in list(df_test.sentiment)])\n",
        "y_hat = label_prop_model.predict(feature_vec_test)\n",
        "score = accuracy_score(test_labels, y_hat)\n",
        "print('Accuracy: %.3f' % (score*100))"
      ],
      "execution_count": null,
      "outputs": []
    },
    {
      "cell_type": "code",
      "metadata": {
        "id": "X8D4LSQQ0GVR"
      },
      "source": [
        "#n_labeled=2000\n",
        "%%time\n",
        "from sklearn.semi_supervised import LabelSpreading\n",
        "label_prop_model = LabelSpreading()\n",
        "label_prop_model.fit(feature_vec_full_train, labels)\n",
        "\n",
        "from sklearn.metrics import accuracy_score\n",
        "test_labels = np.array([i for i in list(df_test.sentiment)])\n",
        "y_hat = label_prop_model.predict(feature_vec_test)\n",
        "score = accuracy_score(test_labels, y_hat)\n",
        "print('Accuracy: %.3f' % (score*100))"
      ],
      "execution_count": null,
      "outputs": []
    },
    {
      "cell_type": "code",
      "metadata": {
        "id": "hrUaqSlPznGO"
      },
      "source": [
        "#n_labeled=4800\n",
        "%%time\n",
        "from sklearn.semi_supervised import LabelSpreading\n",
        "label_prop_model = LabelSpreading()\n",
        "label_prop_model.fit(feature_vec_full_train, labels)\n",
        "\n",
        "from sklearn.metrics import accuracy_score\n",
        "test_labels = np.array([i for i in list(df_test.sentiment)])\n",
        "y_hat = label_prop_model.predict(feature_vec_test)\n",
        "score = accuracy_score(test_labels, y_hat)\n",
        "print('Accuracy: %.3f' % (score*100))"
      ],
      "execution_count": null,
      "outputs": []
    }
  ]
}